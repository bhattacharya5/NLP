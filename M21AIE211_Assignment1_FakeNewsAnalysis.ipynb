{
  "cells": [
    {
      "cell_type": "markdown",
      "source": [
        "#<font color='brown'>**Fake News Analysis**</font>\n",
        "\n",
        "\n",
        "<html><head><meta content=\"text/html; charset=UTF-8\" http-equiv=\"content-type\"><style type=\"text/css\">@import url('https://themes.googleusercontent.com/fonts/css?kit=fpjTOVmNbO4Lz34iLyptLUXza5VhXqVC6o75Eld_V98');ol.lst-kix_9a6ry7a1ii44-1.start{counter-reset:lst-ctn-kix_9a6ry7a1ii44-1 0}ol.lst-kix_jjdsisnnaeo4-7{list-style-type:none}ol.lst-kix_jjdsisnnaeo4-8{list-style-type:none}.lst-kix_mlr37z1jswq9-7>li{counter-increment:lst-ctn-kix_mlr37z1jswq9-7}ol.lst-kix_7rsp6vwkllwp-2.start{counter-reset:lst-ctn-kix_7rsp6vwkllwp-2 0}ol.lst-kix_jjdsisnnaeo4-5{list-style-type:none}ol.lst-kix_jjdsisnnaeo4-6{list-style-type:none}.lst-kix_dj1d9x2iyizn-7>li{counter-increment:lst-ctn-kix_dj1d9x2iyizn-7}ol.lst-kix_en7m7wfchoau-3.start{counter-reset:lst-ctn-kix_en7m7wfchoau-3 0}ol.lst-kix_bikt0ydiqedt-1.start{counter-reset:lst-ctn-kix_bikt0ydiqedt-1 0}.lst-kix_vjqinyiydwww-1>li{counter-increment:lst-ctn-kix_vjqinyiydwww-1}ol.lst-kix_jjdsisnnaeo4-3.start{counter-reset:lst-ctn-kix_jjdsisnnaeo4-3 0}ol.lst-kix_dj1d9x2iyizn-2.start{counter-reset:lst-ctn-kix_dj1d9x2iyizn-2 0}ol.lst-kix_7rsp6vwkllwp-7{list-style-type:none}ol.lst-kix_7rsp6vwkllwp-6{list-style-type:none}ol.lst-kix_7rsp6vwkllwp-8.start{counter-reset:lst-ctn-kix_7rsp6vwkllwp-8 0}.lst-kix_en7m7wfchoau-7>li{counter-increment:lst-ctn-kix_en7m7wfchoau-7}ol.lst-kix_f1g35hczp9ms-4.start{counter-reset:lst-ctn-kix_f1g35hczp9ms-4 0}ol.lst-kix_7rsp6vwkllwp-8{list-style-type:none}ol.lst-kix_7rsp6vwkllwp-3{list-style-type:none}ol.lst-kix_7rsp6vwkllwp-2{list-style-type:none}.lst-kix_f1g35hczp9ms-0>li{counter-increment:lst-ctn-kix_f1g35hczp9ms-0}ol.lst-kix_7rsp6vwkllwp-5{list-style-type:none}ol.lst-kix_vjqinyiydwww-5.start{counter-reset:lst-ctn-kix_vjqinyiydwww-5 0}ol.lst-kix_7rsp6vwkllwp-4{list-style-type:none}ol.lst-kix_dj1d9x2iyizn-2{list-style-type:none}ol.lst-kix_dj1d9x2iyizn-3{list-style-type:none}ol.lst-kix_dj1d9x2iyizn-0{list-style-type:none}ol.lst-kix_jlmg7gykri7u-7.start{counter-reset:lst-ctn-kix_jlmg7gykri7u-7 0}ol.lst-kix_dj1d9x2iyizn-1{list-style-type:none}ol.lst-kix_mlr37z1jswq9-3.start{counter-reset:lst-ctn-kix_mlr37z1jswq9-3 0}ol.lst-kix_jjdsisnnaeo4-0{list-style-type:none}ol.lst-kix_jjdsisnnaeo4-3{list-style-type:none}ol.lst-kix_jjdsisnnaeo4-4{list-style-type:none}ol.lst-kix_jjdsisnnaeo4-1{list-style-type:none}ol.lst-kix_jjdsisnnaeo4-2{list-style-type:none}.lst-kix_jlmg7gykri7u-5>li{counter-increment:lst-ctn-kix_jlmg7gykri7u-5}ol.lst-kix_dj1d9x2iyizn-6{list-style-type:none}ol.lst-kix_dj1d9x2iyizn-7{list-style-type:none}.lst-kix_bikt0ydiqedt-0>li{counter-increment:lst-ctn-kix_bikt0ydiqedt-0}ol.lst-kix_jlmg7gykri7u-1.start{counter-reset:lst-ctn-kix_jlmg7gykri7u-1 0}ol.lst-kix_dj1d9x2iyizn-4{list-style-type:none}ol.lst-kix_dj1d9x2iyizn-5{list-style-type:none}.lst-kix_7rsp6vwkllwp-4>li{counter-increment:lst-ctn-kix_7rsp6vwkllwp-4}ol.lst-kix_bikt0ydiqedt-7.start{counter-reset:lst-ctn-kix_bikt0ydiqedt-7 0}ol.lst-kix_dj1d9x2iyizn-8{list-style-type:none}.lst-kix_9a6ry7a1ii44-1>li{counter-increment:lst-ctn-kix_9a6ry7a1ii44-1}.lst-kix_jlmg7gykri7u-1>li{counter-increment:lst-ctn-kix_jlmg7gykri7u-1}ol.lst-kix_7rsp6vwkllwp-7.start{counter-reset:lst-ctn-kix_7rsp6vwkllwp-7 0}.lst-kix_9a6ry7a1ii44-3>li{counter-increment:lst-ctn-kix_9a6ry7a1ii44-3}ol.lst-kix_jjdsisnnaeo4-2.start{counter-reset:lst-ctn-kix_jjdsisnnaeo4-2 0}.lst-kix_vjqinyiydwww-3>li{counter-increment:lst-ctn-kix_vjqinyiydwww-3}.lst-kix_7rsp6vwkllwp-2>li{counter-increment:lst-ctn-kix_7rsp6vwkllwp-2}ol.lst-kix_bikt0ydiqedt-0.start{counter-reset:lst-ctn-kix_bikt0ydiqedt-0 0}ol.lst-kix_dj1d9x2iyizn-7.start{counter-reset:lst-ctn-kix_dj1d9x2iyizn-7 0}ol.lst-kix_bikt0ydiqedt-6.start{counter-reset:lst-ctn-kix_bikt0ydiqedt-6 0}ol.lst-kix_vjqinyiydwww-0.start{counter-reset:lst-ctn-kix_vjqinyiydwww-0 0}ol.lst-kix_jlmg7gykri7u-0.start{counter-reset:lst-ctn-kix_jlmg7gykri7u-0 0}ol.lst-kix_jjdsisnnaeo4-8.start{counter-reset:lst-ctn-kix_jjdsisnnaeo4-8 0}.lst-kix_jlmg7gykri7u-7>li{counter-increment:lst-ctn-kix_jlmg7gykri7u-7}.lst-kix_bikt0ydiqedt-2>li{counter-increment:lst-ctn-kix_bikt0ydiqedt-2}.lst-kix_dj1d9x2iyizn-3>li{counter-increment:lst-ctn-kix_dj1d9x2iyizn-3}.lst-kix_bikt0ydiqedt-5>li{counter-increment:lst-ctn-kix_bikt0ydiqedt-5}.lst-kix_f1g35hczp9ms-2>li{counter-increment:lst-ctn-kix_f1g35hczp9ms-2}ol.lst-kix_en7m7wfchoau-4.start{counter-reset:lst-ctn-kix_en7m7wfchoau-4 0}.lst-kix_dj1d9x2iyizn-0>li{counter-increment:lst-ctn-kix_dj1d9x2iyizn-0}.lst-kix_7rsp6vwkllwp-8>li{counter-increment:lst-ctn-kix_7rsp6vwkllwp-8}ol.lst-kix_dj1d9x2iyizn-1.start{counter-reset:lst-ctn-kix_dj1d9x2iyizn-1 0}ol.lst-kix_dj1d9x2iyizn-8.start{counter-reset:lst-ctn-kix_dj1d9x2iyizn-8 0}ol.lst-kix_f1g35hczp9ms-3.start{counter-reset:lst-ctn-kix_f1g35hczp9ms-3 0}.lst-kix_jjdsisnnaeo4-7>li{counter-increment:lst-ctn-kix_jjdsisnnaeo4-7}ol.lst-kix_bikt0ydiqedt-5{list-style-type:none}ol.lst-kix_bikt0ydiqedt-6{list-style-type:none}ol.lst-kix_bikt0ydiqedt-7{list-style-type:none}.lst-kix_mlr37z1jswq9-5>li{counter-increment:lst-ctn-kix_mlr37z1jswq9-5}ol.lst-kix_bikt0ydiqedt-8{list-style-type:none}ol.lst-kix_jlmg7gykri7u-6.start{counter-reset:lst-ctn-kix_jlmg7gykri7u-6 0}ol.lst-kix_bikt0ydiqedt-0{list-style-type:none}ol.lst-kix_bikt0ydiqedt-1{list-style-type:none}ol.lst-kix_mlr37z1jswq9-4.start{counter-reset:lst-ctn-kix_mlr37z1jswq9-4 0}.lst-kix_en7m7wfchoau-1>li{counter-increment:lst-ctn-kix_en7m7wfchoau-1}ol.lst-kix_bikt0ydiqedt-2{list-style-type:none}.lst-kix_7rsp6vwkllwp-8>li:before{content:\"\" counter(lst-ctn-kix_7rsp6vwkllwp-8,lower-roman) \". \"}ol.lst-kix_bikt0ydiqedt-3{list-style-type:none}ol.lst-kix_bikt0ydiqedt-4{list-style-type:none}.lst-kix_7rsp6vwkllwp-6>li:before{content:\"\" counter(lst-ctn-kix_7rsp6vwkllwp-6,decimal) \". \"}.lst-kix_jjdsisnnaeo4-2>li{counter-increment:lst-ctn-kix_jjdsisnnaeo4-2}ol.lst-kix_bikt0ydiqedt-5.start{counter-reset:lst-ctn-kix_bikt0ydiqedt-5 0}.lst-kix_dj1d9x2iyizn-2>li{counter-increment:lst-ctn-kix_dj1d9x2iyizn-2}ol.lst-kix_jlmg7gykri7u-5.start{counter-reset:lst-ctn-kix_jlmg7gykri7u-5 0}.lst-kix_7rsp6vwkllwp-2>li:before{content:\"\" counter(lst-ctn-kix_7rsp6vwkllwp-2,lower-roman) \". \"}.lst-kix_vjqinyiydwww-7>li{counter-increment:lst-ctn-kix_vjqinyiydwww-7}.lst-kix_bikt0ydiqedt-4>li{counter-increment:lst-ctn-kix_bikt0ydiqedt-4}.lst-kix_dj1d9x2iyizn-1>li{counter-increment:lst-ctn-kix_dj1d9x2iyizn-1}.lst-kix_7rsp6vwkllwp-0>li:before{content:\"\" counter(lst-ctn-kix_7rsp6vwkllwp-0,decimal) \". \"}.lst-kix_7rsp6vwkllwp-4>li:before{content:\"\" counter(lst-ctn-kix_7rsp6vwkllwp-4,lower-latin) \". \"}ol.lst-kix_9a6ry7a1ii44-0.start{counter-reset:lst-ctn-kix_9a6ry7a1ii44-0 0}ol.lst-kix_en7m7wfchoau-0{list-style-type:none}ol.lst-kix_en7m7wfchoau-1{list-style-type:none}.lst-kix_bikt0ydiqedt-4>li:before{content:\"\" counter(lst-ctn-kix_bikt0ydiqedt-4,lower-latin) \". \"}.lst-kix_bikt0ydiqedt-6>li:before{content:\"\" counter(lst-ctn-kix_bikt0ydiqedt-6,decimal) \". \"}ol.lst-kix_en7m7wfchoau-2{list-style-type:none}.lst-kix_dj1d9x2iyizn-8>li:before{content:\"\" counter(lst-ctn-kix_dj1d9x2iyizn-8,lower-roman) \". \"}ol.lst-kix_en7m7wfchoau-3{list-style-type:none}ol.lst-kix_en7m7wfchoau-4{list-style-type:none}ol.lst-kix_jjdsisnnaeo4-1.start{counter-reset:lst-ctn-kix_jjdsisnnaeo4-1 0}ol.lst-kix_en7m7wfchoau-5{list-style-type:none}ol.lst-kix_en7m7wfchoau-6{list-style-type:none}.lst-kix_jjdsisnnaeo4-3>li{counter-increment:lst-ctn-kix_jjdsisnnaeo4-3}ol.lst-kix_en7m7wfchoau-7{list-style-type:none}ol.lst-kix_en7m7wfchoau-8{list-style-type:none}.lst-kix_jlmg7gykri7u-8>li{counter-increment:lst-ctn-kix_jlmg7gykri7u-8}ol.lst-kix_9a6ry7a1ii44-2.start{counter-reset:lst-ctn-kix_9a6ry7a1ii44-2 0}.lst-kix_dj1d9x2iyizn-6>li:before{content:\"\" counter(lst-ctn-kix_dj1d9x2iyizn-6,decimal) \". \"}ol.lst-kix_7rsp6vwkllwp-1.start{counter-reset:lst-ctn-kix_7rsp6vwkllwp-1 0}ol.lst-kix_dj1d9x2iyizn-6.start{counter-reset:lst-ctn-kix_dj1d9x2iyizn-6 0}.lst-kix_en7m7wfchoau-3>li{counter-increment:lst-ctn-kix_en7m7wfchoau-3}ol.lst-kix_f1g35hczp9ms-8.start{counter-reset:lst-ctn-kix_f1g35hczp9ms-8 0}.lst-kix_mlr37z1jswq9-1>li{counter-increment:lst-ctn-kix_mlr37z1jswq9-1}ol.lst-kix_vjqinyiydwww-6.start{counter-reset:lst-ctn-kix_vjqinyiydwww-6 0}.lst-kix_9a6ry7a1ii44-7>li{counter-increment:lst-ctn-kix_9a6ry7a1ii44-7}.lst-kix_bikt0ydiqedt-3>li{counter-increment:lst-ctn-kix_bikt0ydiqedt-3}ol.lst-kix_dj1d9x2iyizn-3.start{counter-reset:lst-ctn-kix_dj1d9x2iyizn-3 0}.lst-kix_bikt0ydiqedt-0>li:before{content:\"\" counter(lst-ctn-kix_bikt0ydiqedt-0,decimal) \". \"}.lst-kix_bikt0ydiqedt-2>li:before{content:\"\" counter(lst-ctn-kix_bikt0ydiqedt-2,lower-roman) \". \"}ol.lst-kix_7rsp6vwkllwp-4.start{counter-reset:lst-ctn-kix_7rsp6vwkllwp-4 0}.lst-kix_7rsp6vwkllwp-1>li{counter-increment:lst-ctn-kix_7rsp6vwkllwp-1}ol.lst-kix_f1g35hczp9ms-5.start{counter-reset:lst-ctn-kix_f1g35hczp9ms-5 0}ol.lst-kix_jlmg7gykri7u-3.start{counter-reset:lst-ctn-kix_jlmg7gykri7u-3 0}ol.lst-kix_en7m7wfchoau-8.start{counter-reset:lst-ctn-kix_en7m7wfchoau-8 0}.lst-kix_jlmg7gykri7u-4>li:before{content:\"\" counter(lst-ctn-kix_jlmg7gykri7u-4,lower-roman) \". \"}.lst-kix_jlmg7gykri7u-8>li:before{content:\"\" counter(lst-ctn-kix_jlmg7gykri7u-8,decimal) \". \"}.lst-kix_mlr37z1jswq9-1>li:before{content:\"\" counter(lst-ctn-kix_mlr37z1jswq9-1,lower-latin) \". \"}ol.lst-kix_mlr37z1jswq9-2.start{counter-reset:lst-ctn-kix_mlr37z1jswq9-2 0}.lst-kix_7rsp6vwkllwp-7>li{counter-increment:lst-ctn-kix_7rsp6vwkllwp-7}.lst-kix_vjqinyiydwww-4>li:before{content:\"\" counter(lst-ctn-kix_vjqinyiydwww-4,lower-latin) \". \"}.lst-kix_vjqinyiydwww-8>li:before{content:\"\" counter(lst-ctn-kix_vjqinyiydwww-8,lower-roman) \". \"}ol.lst-kix_vjqinyiydwww-3.start{counter-reset:lst-ctn-kix_vjqinyiydwww-3 0}.lst-kix_jlmg7gykri7u-6>li:before{content:\"\" counter(lst-ctn-kix_jlmg7gykri7u-6,lower-latin) \". \"}.lst-kix_vjqinyiydwww-2>li:before{content:\"\" counter(lst-ctn-kix_vjqinyiydwww-2,lower-roman) \". \"}.lst-kix_f1g35hczp9ms-4>li{counter-increment:lst-ctn-kix_f1g35hczp9ms-4}ol.lst-kix_7rsp6vwkllwp-3.start{counter-reset:lst-ctn-kix_7rsp6vwkllwp-3 0}.lst-kix_dj1d9x2iyizn-0>li:before{content:\"\" counter(lst-ctn-kix_dj1d9x2iyizn-0,decimal) \". \"}.lst-kix_dj1d9x2iyizn-2>li:before{content:\"\" counter(lst-ctn-kix_dj1d9x2iyizn-2,lower-roman) \". \"}.lst-kix_f1g35hczp9ms-3>li{counter-increment:lst-ctn-kix_f1g35hczp9ms-3}.lst-kix_7rsp6vwkllwp-6>li{counter-increment:lst-ctn-kix_7rsp6vwkllwp-6}.lst-kix_bikt0ydiqedt-8>li:before{content:\"\" counter(lst-ctn-kix_bikt0ydiqedt-8,lower-roman) \". \"}.lst-kix_dj1d9x2iyizn-4>li:before{content:\"\" counter(lst-ctn-kix_dj1d9x2iyizn-4,lower-latin) \". \"}ol.lst-kix_bikt0ydiqedt-3.start{counter-reset:lst-ctn-kix_bikt0ydiqedt-3 0}.lst-kix_vjqinyiydwww-6>li:before{content:\"\" counter(lst-ctn-kix_vjqinyiydwww-6,decimal) \". \"}.lst-kix_mlr37z1jswq9-0>li{counter-increment:lst-ctn-kix_mlr37z1jswq9-0}ol.lst-kix_7rsp6vwkllwp-1{list-style-type:none}ol.lst-kix_jlmg7gykri7u-2.start{counter-reset:lst-ctn-kix_jlmg7gykri7u-2 0}ol.lst-kix_7rsp6vwkllwp-0{list-style-type:none}ol.lst-kix_dj1d9x2iyizn-4.start{counter-reset:lst-ctn-kix_dj1d9x2iyizn-4 0}ol.lst-kix_vjqinyiydwww-4.start{counter-reset:lst-ctn-kix_vjqinyiydwww-4 0}ol.lst-kix_en7m7wfchoau-7.start{counter-reset:lst-ctn-kix_en7m7wfchoau-7 0}.lst-kix_vjqinyiydwww-8>li{counter-increment:lst-ctn-kix_vjqinyiydwww-8}ol.lst-kix_f1g35hczp9ms-6.start{counter-reset:lst-ctn-kix_f1g35hczp9ms-6 0}.lst-kix_9a6ry7a1ii44-2>li{counter-increment:lst-ctn-kix_9a6ry7a1ii44-2}.lst-kix_jlmg7gykri7u-3>li{counter-increment:lst-ctn-kix_jlmg7gykri7u-3}.lst-kix_7rsp6vwkllwp-0>li{counter-increment:lst-ctn-kix_7rsp6vwkllwp-0}.lst-kix_en7m7wfchoau-8>li{counter-increment:lst-ctn-kix_en7m7wfchoau-8}.lst-kix_mlr37z1jswq9-7>li:before{content:\"\" counter(lst-ctn-kix_mlr37z1jswq9-7,lower-latin) \". \"}.lst-kix_9a6ry7a1ii44-8>li{counter-increment:lst-ctn-kix_9a6ry7a1ii44-8}.lst-kix_mlr37z1jswq9-5>li:before{content:\"\" counter(lst-ctn-kix_mlr37z1jswq9-5,lower-roman) \". \"}.lst-kix_vjqinyiydwww-0>li:before{content:\"\" counter(lst-ctn-kix_vjqinyiydwww-0,decimal) \". \"}ol.lst-kix_bikt0ydiqedt-2.start{counter-reset:lst-ctn-kix_bikt0ydiqedt-2 0}.lst-kix_en7m7wfchoau-2>li{counter-increment:lst-ctn-kix_en7m7wfchoau-2}.lst-kix_vjqinyiydwww-2>li{counter-increment:lst-ctn-kix_vjqinyiydwww-2}ol.lst-kix_mlr37z1jswq9-1.start{counter-reset:lst-ctn-kix_mlr37z1jswq9-1 0}.lst-kix_mlr37z1jswq9-3>li:before{content:\"\" counter(lst-ctn-kix_mlr37z1jswq9-3,decimal) \". \"}ol.lst-kix_9a6ry7a1ii44-5{list-style-type:none}ol.lst-kix_jjdsisnnaeo4-0.start{counter-reset:lst-ctn-kix_jjdsisnnaeo4-0 0}ol.lst-kix_9a6ry7a1ii44-6{list-style-type:none}ol.lst-kix_9a6ry7a1ii44-7{list-style-type:none}ol.lst-kix_dj1d9x2iyizn-5.start{counter-reset:lst-ctn-kix_dj1d9x2iyizn-5 0}.lst-kix_9a6ry7a1ii44-0>li{counter-increment:lst-ctn-kix_9a6ry7a1ii44-0}ol.lst-kix_9a6ry7a1ii44-8{list-style-type:none}.lst-kix_f1g35hczp9ms-1>li{counter-increment:lst-ctn-kix_f1g35hczp9ms-1}.lst-kix_jlmg7gykri7u-4>li{counter-increment:lst-ctn-kix_jlmg7gykri7u-4}ol.lst-kix_7rsp6vwkllwp-5.start{counter-reset:lst-ctn-kix_7rsp6vwkllwp-5 0}.lst-kix_9a6ry7a1ii44-6>li:before{content:\"\" counter(lst-ctn-kix_9a6ry7a1ii44-6,decimal) \". \"}.lst-kix_vjqinyiydwww-0>li{counter-increment:lst-ctn-kix_vjqinyiydwww-0}ol.lst-kix_f1g35hczp9ms-7.start{counter-reset:lst-ctn-kix_f1g35hczp9ms-7 0}.lst-kix_9a6ry7a1ii44-7>li:before{content:\"\" counter(lst-ctn-kix_9a6ry7a1ii44-7,lower-latin) \". \"}ol.lst-kix_vjqinyiydwww-8.start{counter-reset:lst-ctn-kix_vjqinyiydwww-8 0}ol.lst-kix_f1g35hczp9ms-8{list-style-type:none}.lst-kix_9a6ry7a1ii44-8>li:before{content:\"\" counter(lst-ctn-kix_9a6ry7a1ii44-8,lower-roman) \". \"}ol.lst-kix_f1g35hczp9ms-7{list-style-type:none}ol.lst-kix_f1g35hczp9ms-4{list-style-type:none}ol.lst-kix_mlr37z1jswq9-0.start{counter-reset:lst-ctn-kix_mlr37z1jswq9-0 0}ol.lst-kix_f1g35hczp9ms-3{list-style-type:none}ol.lst-kix_f1g35hczp9ms-6{list-style-type:none}ol.lst-kix_en7m7wfchoau-0.start{counter-reset:lst-ctn-kix_en7m7wfchoau-0 0}ol.lst-kix_f1g35hczp9ms-5{list-style-type:none}ol.lst-kix_f1g35hczp9ms-0{list-style-type:none}ol.lst-kix_vjqinyiydwww-8{list-style-type:none}ol.lst-kix_vjqinyiydwww-7{list-style-type:none}ol.lst-kix_f1g35hczp9ms-2{list-style-type:none}.lst-kix_dj1d9x2iyizn-8>li{counter-increment:lst-ctn-kix_dj1d9x2iyizn-8}ol.lst-kix_vjqinyiydwww-2.start{counter-reset:lst-ctn-kix_vjqinyiydwww-2 0}ol.lst-kix_vjqinyiydwww-6{list-style-type:none}ol.lst-kix_f1g35hczp9ms-1{list-style-type:none}ol.lst-kix_vjqinyiydwww-5{list-style-type:none}ol.lst-kix_vjqinyiydwww-4{list-style-type:none}ol.lst-kix_vjqinyiydwww-3{list-style-type:none}ol.lst-kix_vjqinyiydwww-2{list-style-type:none}.lst-kix_bikt0ydiqedt-8>li{counter-increment:lst-ctn-kix_bikt0ydiqedt-8}ol.lst-kix_9a6ry7a1ii44-0{list-style-type:none}ol.lst-kix_vjqinyiydwww-1{list-style-type:none}ol.lst-kix_9a6ry7a1ii44-1{list-style-type:none}ol.lst-kix_vjqinyiydwww-0{list-style-type:none}ol.lst-kix_9a6ry7a1ii44-2{list-style-type:none}ol.lst-kix_9a6ry7a1ii44-3{list-style-type:none}ol.lst-kix_9a6ry7a1ii44-4{list-style-type:none}.lst-kix_mlr37z1jswq9-6>li{counter-increment:lst-ctn-kix_mlr37z1jswq9-6}.lst-kix_jjdsisnnaeo4-6>li{counter-increment:lst-ctn-kix_jjdsisnnaeo4-6}.lst-kix_f1g35hczp9ms-0>li:before{content:\"\" counter(lst-ctn-kix_f1g35hczp9ms-0,decimal) \". \"}.lst-kix_f1g35hczp9ms-1>li:before{content:\"\" counter(lst-ctn-kix_f1g35hczp9ms-1,lower-latin) \". \"}ol.lst-kix_bikt0ydiqedt-4.start{counter-reset:lst-ctn-kix_bikt0ydiqedt-4 0}.lst-kix_f1g35hczp9ms-3>li:before{content:\"\" counter(lst-ctn-kix_f1g35hczp9ms-3,decimal) \". \"}ol.lst-kix_jlmg7gykri7u-4.start{counter-reset:lst-ctn-kix_jlmg7gykri7u-4 0}.lst-kix_f1g35hczp9ms-2>li:before{content:\"\" counter(lst-ctn-kix_f1g35hczp9ms-2,lower-roman) \". \"}.lst-kix_f1g35hczp9ms-4>li:before{content:\"\" counter(lst-ctn-kix_f1g35hczp9ms-4,lower-latin) \". \"}.lst-kix_9a6ry7a1ii44-0>li:before{content:\"\" counter(lst-ctn-kix_9a6ry7a1ii44-0,decimal) \". \"}ol.lst-kix_f1g35hczp9ms-2.start{counter-reset:lst-ctn-kix_f1g35hczp9ms-2 0}.lst-kix_9a6ry7a1ii44-2>li:before{content:\"\" counter(lst-ctn-kix_9a6ry7a1ii44-2,lower-roman) \". \"}ol.lst-kix_mlr37z1jswq9-6.start{counter-reset:lst-ctn-kix_mlr37z1jswq9-6 0}.lst-kix_en7m7wfchoau-6>li{counter-increment:lst-ctn-kix_en7m7wfchoau-6}.lst-kix_9a6ry7a1ii44-1>li:before{content:\"\" counter(lst-ctn-kix_9a6ry7a1ii44-1,lower-latin) \". \"}.lst-kix_9a6ry7a1ii44-3>li:before{content:\"\" counter(lst-ctn-kix_9a6ry7a1ii44-3,decimal) \". \"}.lst-kix_f1g35hczp9ms-6>li:before{content:\"\" counter(lst-ctn-kix_f1g35hczp9ms-6,decimal) \". \"}.lst-kix_f1g35hczp9ms-8>li:before{content:\"\" counter(lst-ctn-kix_f1g35hczp9ms-8,lower-roman) \". \"}.lst-kix_jjdsisnnaeo4-8>li{counter-increment:lst-ctn-kix_jjdsisnnaeo4-8}.lst-kix_jlmg7gykri7u-0>li:before{content:\"\" counter(lst-ctn-kix_jlmg7gykri7u-0,lower-latin) \". \"}ol.lst-kix_en7m7wfchoau-6.start{counter-reset:lst-ctn-kix_en7m7wfchoau-6 0}.lst-kix_f1g35hczp9ms-5>li:before{content:\"\" counter(lst-ctn-kix_f1g35hczp9ms-5,lower-roman) \". \"}.lst-kix_jlmg7gykri7u-3>li:before{content:\"\" counter(lst-ctn-kix_jlmg7gykri7u-3,lower-latin) \". \"}.lst-kix_9a6ry7a1ii44-5>li:before{content:\"\" counter(lst-ctn-kix_9a6ry7a1ii44-5,lower-roman) \". \"}.lst-kix_jlmg7gykri7u-1>li:before{content:\"\" counter(lst-ctn-kix_jlmg7gykri7u-1,lower-roman) \". \"}.lst-kix_9a6ry7a1ii44-4>li:before{content:\"\" counter(lst-ctn-kix_9a6ry7a1ii44-4,lower-latin) \". \"}.lst-kix_jlmg7gykri7u-2>li:before{content:\"\" counter(lst-ctn-kix_jlmg7gykri7u-2,decimal) \". \"}.lst-kix_jlmg7gykri7u-2>li{counter-increment:lst-ctn-kix_jlmg7gykri7u-2}.lst-kix_f1g35hczp9ms-7>li:before{content:\"\" counter(lst-ctn-kix_f1g35hczp9ms-7,lower-latin) \". \"}ol.lst-kix_7rsp6vwkllwp-0.start{counter-reset:lst-ctn-kix_7rsp6vwkllwp-0 0}ol.lst-kix_dj1d9x2iyizn-0.start{counter-reset:lst-ctn-kix_dj1d9x2iyizn-0 0}ol.lst-kix_9a6ry7a1ii44-3.start{counter-reset:lst-ctn-kix_9a6ry7a1ii44-3 0}.lst-kix_vjqinyiydwww-4>li{counter-increment:lst-ctn-kix_vjqinyiydwww-4}ol.lst-kix_vjqinyiydwww-7.start{counter-reset:lst-ctn-kix_vjqinyiydwww-7 0}ol.lst-kix_mlr37z1jswq9-0{list-style-type:none}ol.lst-kix_mlr37z1jswq9-1{list-style-type:none}ol.lst-kix_mlr37z1jswq9-2{list-style-type:none}ol.lst-kix_mlr37z1jswq9-3{list-style-type:none}ol.lst-kix_mlr37z1jswq9-4{list-style-type:none}ol.lst-kix_mlr37z1jswq9-5{list-style-type:none}ol.lst-kix_mlr37z1jswq9-6{list-style-type:none}.lst-kix_en7m7wfchoau-1>li:before{content:\"\" counter(lst-ctn-kix_en7m7wfchoau-1,lower-latin) \". \"}ol.lst-kix_mlr37z1jswq9-7{list-style-type:none}ol.lst-kix_mlr37z1jswq9-8{list-style-type:none}.lst-kix_en7m7wfchoau-4>li{counter-increment:lst-ctn-kix_en7m7wfchoau-4}.lst-kix_jjdsisnnaeo4-8>li:before{content:\"\" counter(lst-ctn-kix_jjdsisnnaeo4-8,lower-roman) \". \"}.lst-kix_en7m7wfchoau-0>li:before{content:\"\" counter(lst-ctn-kix_en7m7wfchoau-0,decimal) \". \"}ol.lst-kix_mlr37z1jswq9-5.start{counter-reset:lst-ctn-kix_mlr37z1jswq9-5 0}ol.lst-kix_en7m7wfchoau-5.start{counter-reset:lst-ctn-kix_en7m7wfchoau-5 0}.lst-kix_jjdsisnnaeo4-4>li:before{content:\"\" counter(lst-ctn-kix_jjdsisnnaeo4-4,lower-latin) \". \"}.lst-kix_jjdsisnnaeo4-6>li:before{content:\"\" counter(lst-ctn-kix_jjdsisnnaeo4-6,decimal) \". \"}.lst-kix_en7m7wfchoau-4>li:before{content:\"\" counter(lst-ctn-kix_en7m7wfchoau-4,lower-latin) \". \"}.lst-kix_en7m7wfchoau-6>li:before{content:\"\" counter(lst-ctn-kix_en7m7wfchoau-6,decimal) \". \"}.lst-kix_jjdsisnnaeo4-3>li:before{content:\"\" counter(lst-ctn-kix_jjdsisnnaeo4-3,decimal) \". \"}.lst-kix_jjdsisnnaeo4-7>li:before{content:\"\" counter(lst-ctn-kix_jjdsisnnaeo4-7,lower-latin) \". \"}.lst-kix_en7m7wfchoau-5>li:before{content:\"\" counter(lst-ctn-kix_en7m7wfchoau-5,lower-roman) \". \"}.lst-kix_en7m7wfchoau-2>li:before{content:\"\" counter(lst-ctn-kix_en7m7wfchoau-2,lower-roman) \". \"}.lst-kix_7rsp6vwkllwp-5>li{counter-increment:lst-ctn-kix_7rsp6vwkllwp-5}ol.lst-kix_7rsp6vwkllwp-6.start{counter-reset:lst-ctn-kix_7rsp6vwkllwp-6 0}.lst-kix_jjdsisnnaeo4-5>li:before{content:\"\" counter(lst-ctn-kix_jjdsisnnaeo4-5,lower-roman) \". \"}.lst-kix_en7m7wfchoau-3>li:before{content:\"\" counter(lst-ctn-kix_en7m7wfchoau-3,decimal) \". \"}ol.lst-kix_vjqinyiydwww-1.start{counter-reset:lst-ctn-kix_vjqinyiydwww-1 0}.lst-kix_mlr37z1jswq9-2>li{counter-increment:lst-ctn-kix_mlr37z1jswq9-2}.lst-kix_f1g35hczp9ms-5>li{counter-increment:lst-ctn-kix_f1g35hczp9ms-5}ol.lst-kix_9a6ry7a1ii44-4.start{counter-reset:lst-ctn-kix_9a6ry7a1ii44-4 0}.lst-kix_jjdsisnnaeo4-0>li:before{content:\"\" counter(lst-ctn-kix_jjdsisnnaeo4-0,decimal) \". \"}.lst-kix_jjdsisnnaeo4-2>li:before{content:\"\" counter(lst-ctn-kix_jjdsisnnaeo4-2,lower-roman) \". \"}.lst-kix_jjdsisnnaeo4-4>li{counter-increment:lst-ctn-kix_jjdsisnnaeo4-4}.lst-kix_en7m7wfchoau-8>li:before{content:\"\" counter(lst-ctn-kix_en7m7wfchoau-8,lower-roman) \". \"}.lst-kix_mlr37z1jswq9-8>li{counter-increment:lst-ctn-kix_mlr37z1jswq9-8}.lst-kix_f1g35hczp9ms-8>li{counter-increment:lst-ctn-kix_f1g35hczp9ms-8}.lst-kix_jjdsisnnaeo4-1>li:before{content:\"\" counter(lst-ctn-kix_jjdsisnnaeo4-1,lower-latin) \". \"}.lst-kix_jjdsisnnaeo4-1>li{counter-increment:lst-ctn-kix_jjdsisnnaeo4-1}.lst-kix_en7m7wfchoau-7>li:before{content:\"\" counter(lst-ctn-kix_en7m7wfchoau-7,lower-latin) \". \"}.lst-kix_dj1d9x2iyizn-6>li{counter-increment:lst-ctn-kix_dj1d9x2iyizn-6}.lst-kix_9a6ry7a1ii44-6>li{counter-increment:lst-ctn-kix_9a6ry7a1ii44-6}.lst-kix_7rsp6vwkllwp-7>li:before{content:\"\" counter(lst-ctn-kix_7rsp6vwkllwp-7,lower-latin) \". \"}.lst-kix_f1g35hczp9ms-7>li{counter-increment:lst-ctn-kix_f1g35hczp9ms-7}ol.lst-kix_mlr37z1jswq9-7.start{counter-reset:lst-ctn-kix_mlr37z1jswq9-7 0}ol.lst-kix_jjdsisnnaeo4-7.start{counter-reset:lst-ctn-kix_jjdsisnnaeo4-7 0}.lst-kix_vjqinyiydwww-6>li{counter-increment:lst-ctn-kix_vjqinyiydwww-6}ol.lst-kix_jlmg7gykri7u-8.start{counter-reset:lst-ctn-kix_jlmg7gykri7u-8 0}.lst-kix_7rsp6vwkllwp-3>li:before{content:\"\" counter(lst-ctn-kix_7rsp6vwkllwp-3,decimal) \". \"}.lst-kix_en7m7wfchoau-0>li{counter-increment:lst-ctn-kix_en7m7wfchoau-0}.lst-kix_7rsp6vwkllwp-1>li:before{content:\"\" counter(lst-ctn-kix_7rsp6vwkllwp-1,lower-latin) \". \"}.lst-kix_7rsp6vwkllwp-5>li:before{content:\"\" counter(lst-ctn-kix_7rsp6vwkllwp-5,lower-roman) \". \"}ol.lst-kix_9a6ry7a1ii44-8.start{counter-reset:lst-ctn-kix_9a6ry7a1ii44-8 0}.lst-kix_f1g35hczp9ms-6>li{counter-increment:lst-ctn-kix_f1g35hczp9ms-6}ol.lst-kix_bikt0ydiqedt-8.start{counter-reset:lst-ctn-kix_bikt0ydiqedt-8 0}ol.lst-kix_9a6ry7a1ii44-5.start{counter-reset:lst-ctn-kix_9a6ry7a1ii44-5 0}.lst-kix_bikt0ydiqedt-5>li:before{content:\"\" counter(lst-ctn-kix_bikt0ydiqedt-5,lower-roman) \". \"}.lst-kix_mlr37z1jswq9-3>li{counter-increment:lst-ctn-kix_mlr37z1jswq9-3}.lst-kix_jjdsisnnaeo4-0>li{counter-increment:lst-ctn-kix_jjdsisnnaeo4-0}.lst-kix_bikt0ydiqedt-3>li:before{content:\"\" counter(lst-ctn-kix_bikt0ydiqedt-3,decimal) \". \"}.lst-kix_bikt0ydiqedt-7>li:before{content:\"\" counter(lst-ctn-kix_bikt0ydiqedt-7,lower-latin) \". \"}ol.lst-kix_en7m7wfchoau-2.start{counter-reset:lst-ctn-kix_en7m7wfchoau-2 0}ol.lst-kix_jlmg7gykri7u-1{list-style-type:none}.lst-kix_dj1d9x2iyizn-5>li:before{content:\"\" counter(lst-ctn-kix_dj1d9x2iyizn-5,lower-roman) \". \"}ol.lst-kix_jlmg7gykri7u-0{list-style-type:none}ol.lst-kix_jlmg7gykri7u-3{list-style-type:none}ol.lst-kix_jlmg7gykri7u-2{list-style-type:none}.lst-kix_dj1d9x2iyizn-7>li:before{content:\"\" counter(lst-ctn-kix_dj1d9x2iyizn-7,lower-latin) \". \"}ol.lst-kix_jlmg7gykri7u-8{list-style-type:none}ol.lst-kix_jlmg7gykri7u-5{list-style-type:none}ol.lst-kix_jlmg7gykri7u-4{list-style-type:none}ol.lst-kix_jlmg7gykri7u-7{list-style-type:none}ol.lst-kix_jlmg7gykri7u-6{list-style-type:none}.lst-kix_bikt0ydiqedt-1>li:before{content:\"\" counter(lst-ctn-kix_bikt0ydiqedt-1,lower-latin) \". \"}.lst-kix_bikt0ydiqedt-6>li{counter-increment:lst-ctn-kix_bikt0ydiqedt-6}.lst-kix_9a6ry7a1ii44-4>li{counter-increment:lst-ctn-kix_9a6ry7a1ii44-4}ol.lst-kix_jjdsisnnaeo4-4.start{counter-reset:lst-ctn-kix_jjdsisnnaeo4-4 0}.lst-kix_jlmg7gykri7u-7>li:before{content:\"\" counter(lst-ctn-kix_jlmg7gykri7u-7,lower-roman) \". \"}.lst-kix_vjqinyiydwww-7>li:before{content:\"\" counter(lst-ctn-kix_vjqinyiydwww-7,lower-latin) \". \"}ol.lst-kix_9a6ry7a1ii44-6.start{counter-reset:lst-ctn-kix_9a6ry7a1ii44-6 0}.lst-kix_mlr37z1jswq9-0>li:before{content:\"\" counter(lst-ctn-kix_mlr37z1jswq9-0,decimal) \". \"}.lst-kix_vjqinyiydwww-5>li:before{content:\"\" counter(lst-ctn-kix_vjqinyiydwww-5,lower-roman) \". \"}.lst-kix_vjqinyiydwww-3>li:before{content:\"\" counter(lst-ctn-kix_vjqinyiydwww-3,decimal) \". \"}.lst-kix_dj1d9x2iyizn-5>li{counter-increment:lst-ctn-kix_dj1d9x2iyizn-5}.lst-kix_jlmg7gykri7u-5>li:before{content:\"\" counter(lst-ctn-kix_jlmg7gykri7u-5,decimal) \". \"}.lst-kix_mlr37z1jswq9-4>li{counter-increment:lst-ctn-kix_mlr37z1jswq9-4}.lst-kix_jjdsisnnaeo4-5>li{counter-increment:lst-ctn-kix_jjdsisnnaeo4-5}.lst-kix_bikt0ydiqedt-7>li{counter-increment:lst-ctn-kix_bikt0ydiqedt-7}.lst-kix_dj1d9x2iyizn-1>li:before{content:\"\" counter(lst-ctn-kix_dj1d9x2iyizn-1,lower-latin) \". \"}.lst-kix_bikt0ydiqedt-1>li{counter-increment:lst-ctn-kix_bikt0ydiqedt-1}.lst-kix_mlr37z1jswq9-8>li:before{content:\"\" counter(lst-ctn-kix_mlr37z1jswq9-8,lower-roman) \". \"}ol.lst-kix_f1g35hczp9ms-1.start{counter-reset:lst-ctn-kix_f1g35hczp9ms-1 0}.lst-kix_jlmg7gykri7u-0>li{counter-increment:lst-ctn-kix_jlmg7gykri7u-0}.lst-kix_dj1d9x2iyizn-4>li{counter-increment:lst-ctn-kix_dj1d9x2iyizn-4}ol.lst-kix_jjdsisnnaeo4-5.start{counter-reset:lst-ctn-kix_jjdsisnnaeo4-5 0}.lst-kix_dj1d9x2iyizn-3>li:before{content:\"\" counter(lst-ctn-kix_dj1d9x2iyizn-3,decimal) \". \"}ol.lst-kix_jjdsisnnaeo4-6.start{counter-reset:lst-ctn-kix_jjdsisnnaeo4-6 0}.lst-kix_en7m7wfchoau-5>li{counter-increment:lst-ctn-kix_en7m7wfchoau-5}.lst-kix_7rsp6vwkllwp-3>li{counter-increment:lst-ctn-kix_7rsp6vwkllwp-3}ol.lst-kix_mlr37z1jswq9-8.start{counter-reset:lst-ctn-kix_mlr37z1jswq9-8 0}ol.lst-kix_9a6ry7a1ii44-7.start{counter-reset:lst-ctn-kix_9a6ry7a1ii44-7 0}.lst-kix_jlmg7gykri7u-6>li{counter-increment:lst-ctn-kix_jlmg7gykri7u-6}li.li-bullet-0:before{margin-left:-18pt;white-space:nowrap;display:inline-block;min-width:18pt}.lst-kix_9a6ry7a1ii44-5>li{counter-increment:lst-ctn-kix_9a6ry7a1ii44-5}.lst-kix_mlr37z1jswq9-6>li:before{content:\"\" counter(lst-ctn-kix_mlr37z1jswq9-6,decimal) \". \"}.lst-kix_mlr37z1jswq9-4>li:before{content:\"\" counter(lst-ctn-kix_mlr37z1jswq9-4,lower-latin) \". \"}.lst-kix_vjqinyiydwww-1>li:before{content:\"\" counter(lst-ctn-kix_vjqinyiydwww-1,lower-latin) \". \"}.lst-kix_mlr37z1jswq9-2>li:before{content:\"\" counter(lst-ctn-kix_mlr37z1jswq9-2,lower-roman) \". \"}ol.lst-kix_en7m7wfchoau-1.start{counter-reset:lst-ctn-kix_en7m7wfchoau-1 0}.lst-kix_vjqinyiydwww-5>li{counter-increment:lst-ctn-kix_vjqinyiydwww-5}ol.lst-kix_f1g35hczp9ms-0.start{counter-reset:lst-ctn-kix_f1g35hczp9ms-0 0}ol{margin:0;padding:0}table td,table th{padding:0}.c4{-webkit-text-decoration-skip:none;color:#000000;font-weight:700;text-decoration:underline;vertical-align:baseline;text-decoration-skip-ink:none;font-size:12pt;font-family:\"Calibri\";font-style:normal}.c6{margin-left:72pt;padding-top:0pt;padding-left:0pt;padding-bottom:0pt;line-height:1.15;orphans:2;widows:2;text-align:justify}.c5{margin-left:36pt;padding-top:0pt;padding-left:0pt;padding-bottom:0pt;line-height:1.15;orphans:2;widows:2;text-align:justify}.c0{margin-left:36pt;padding-top:0pt;padding-left:0pt;padding-bottom:0pt;line-height:1.15;orphans:2;widows:2;text-align:left}.c9{color:#000000;font-weight:700;text-decoration:none;vertical-align:baseline;font-size:20pt;font-family:\"Calibri\";font-style:normal}.c1{color:#000000;font-weight:700;text-decoration:none;vertical-align:baseline;font-size:12pt;font-family:\"Calibri\";font-style:normal}.c2{color:#000000;font-weight:400;text-decoration:none;vertical-align:baseline;font-size:13pt;font-family:\"Calibri\";font-style:normal}.c23{color:#000000;font-weight:400;text-decoration:none;vertical-align:baseline;font-size:11pt;font-family:\"Calibri\";font-style:normal}.c13{color:#000000;font-weight:700;text-decoration:none;vertical-align:baseline;font-size:13pt;font-family:\"Calibri\";font-style:normal}.c16{color:#000000;font-weight:700;text-decoration:none;vertical-align:baseline;font-size:16pt;font-family:\"Calibri\";font-style:normal}.c3{color:#000000;font-weight:400;text-decoration:none;vertical-align:baseline;font-size:12pt;font-family:\"Calibri\";font-style:normal}.c18{-webkit-text-decoration-skip:none;font-weight:700;text-decoration:underline;text-decoration-skip-ink:none;font-size:12pt;font-family:\"Calibri\"}.c7{padding-top:0pt;padding-bottom:0pt;line-height:1.15;orphans:2;widows:2;text-align:justify}.c21{-webkit-text-decoration-skip:none;color:#000000;text-decoration:underline;vertical-align:baseline;text-decoration-skip-ink:none;font-style:normal}.c24{padding-top:0pt;padding-bottom:0pt;line-height:1.15;orphans:2;widows:2;text-align:center}.c11{background-color:#ffffff;font-size:12pt;font-family:\"Calibri\";color:#222222;font-weight:400}.c25{-webkit-text-decoration-skip:none;text-decoration:underline;text-decoration-skip-ink:none}.c15{font-size:12pt;font-family:\"Calibri\";font-weight:400}.c22{font-size:12pt;font-family:\"Calibri\";font-weight:700}.c10{background-color:#ffffff;max-width:468pt;padding:72pt 72pt 72pt 72pt}.c19{font-size:13pt;font-family:\"Calibri\";font-weight:700}.c8{font-size:13pt;font-family:\"Calibri\";font-weight:400}.c12{padding:0;margin:0}.c26{font-weight:400;font-family:\"Calibri\"}.c17{margin-left:108pt;padding-left:0pt}.c14{color:inherit;text-decoration:inherit}.c28{margin-left:36pt}.c20{height:11pt}.c27{color:#1155cc}.title{padding-top:0pt;color:#000000;font-size:26pt;padding-bottom:3pt;font-family:\"Arial\";line-height:1.15;page-break-after:avoid;orphans:2;widows:2;text-align:left}.subtitle{padding-top:0pt;color:#666666;font-size:15pt;padding-bottom:16pt;font-family:\"Arial\";line-height:1.15;page-break-after:avoid;orphans:2;widows:2;text-align:left}li{color:#000000;font-size:11pt;font-family:\"Arial\"}p{margin:0;color:#000000;font-size:11pt;font-family:\"Arial\"}h1{padding-top:20pt;color:#000000;font-size:20pt;padding-bottom:6pt;font-family:\"Arial\";line-height:1.15;page-break-after:avoid;orphans:2;widows:2;text-align:left}h2{padding-top:18pt;color:#000000;font-size:16pt;padding-bottom:6pt;font-family:\"Arial\";line-height:1.15;page-break-after:avoid;orphans:2;widows:2;text-align:left}h3{padding-top:16pt;color:#434343;font-size:14pt;padding-bottom:4pt;font-family:\"Arial\";line-height:1.15;page-break-after:avoid;orphans:2;widows:2;text-align:left}h4{padding-top:14pt;color:#666666;font-size:12pt;padding-bottom:4pt;font-family:\"Arial\";line-height:1.15;page-break-after:avoid;orphans:2;widows:2;text-align:left}h5{padding-top:12pt;color:#666666;font-size:11pt;padding-bottom:4pt;font-family:\"Arial\";line-height:1.15;page-break-after:avoid;orphans:2;widows:2;text-align:left}h6{padding-top:12pt;color:#666666;font-size:11pt;padding-bottom:4pt;font-family:\"Arial\";line-height:1.15;page-break-after:avoid;font-style:italic;orphans:2;widows:2;text-align:left}</style></head><body class=\"c10 doc-content\"><p class=\"c24\"><span class=\"c9\">Programming Assignment - 1 [13/02/2023]</span></p><p class=\"c24\"><span class=\"c9\">CSL7640</span></p><p class=\"c24\"><span class=\"c23\">&nbsp;&nbsp;&nbsp;&nbsp;&nbsp;&nbsp;&nbsp;&nbsp;</span></p><p class=\"c7\"><span class=\"c16\">Instructions:</span></p><ol class=\"c12 lst-kix_vjqinyiydwww-0 start\" start=\"1\"><li class=\"c0 li-bullet-0\"><span class=\"c1\">Total marks - 10 &nbsp; </span></li><li class=\"c0 li-bullet-0\"><span class=\"c1\">Deadline:- 01-03-2023 05:00 PM</span></li><li class=\"c0 li-bullet-0\"><span class=\"c3\">Separate submission links will be created accordingly.</span></li><li class=\"c0 li-bullet-0\"><span class=\"c4\">ANY ONE MEMBER OF THE GROUP CAN SUBMIT. No need for other people to submit.</span></li><li class=\"c0 li-bullet-0\"><span class=\"c18\">All libraries and tools are allowed. &nbsp;</span></li><li class=\"c5 li-bullet-0\"><span class=\"c15\">Submit a </span><span class=\"c22\">.zip</span><span class=\"c15\">&nbsp;file containing all the working codes (.py files and .pdf files). The zip file should be named in the format &lt;</span><span class=\"c26\">RollNo1_RollNo2_RollNo3_NLU_A1</span><span class=\"c3\">&gt;.zip. </span></li></ol><p class=\"c7 c28\"><span class=\"c19 c25\">[Do not include model weights and data in the zip file]</span></p><ol class=\"c12 lst-kix_vjqinyiydwww-0\" start=\"7\"><li class=\"c5 li-bullet-0\"><span class=\"c15\">Submit a </span><span class=\"c22\">.pdf </span><span class=\"c3\">report which should contain the following:</span></li></ol><ol class=\"c12 lst-kix_vjqinyiydwww-1 start\" start=\"1\"><li class=\"c6 li-bullet-0\"><span class=\"c3\">A detailed description of what you have done,</span></li><li class=\"c6 li-bullet-0\"><span class=\"c15\">A description of what else could be done to improve results - c</span><span class=\"c11\">hallenges</span><span class=\"c15\">&nbsp;faced</span></li><li class=\"c6 li-bullet-0\"><span class=\"c3\">Links to the Google-Colab files (if any),</span></li><li class=\"c6 li-bullet-0\"><span class=\"c3\">Clearly mention the contribution of each group member.</span></li></ol><ol class=\"c12 lst-kix_vjqinyiydwww-0\" start=\"8\"><li class=\"c5 li-bullet-0\"><span class=\"c4\">Copying from the Internet and/or your classmates is strictly prohibited. Any team found guilty will be awarded a suitable penalty as per IIT rules.</span></li></ol><p class=\"c7 c20\"><span class=\"c4\"></span></p><p class=\"c7\"><span class=\"c18\">Dataset:</span><span class=\"c1\">&nbsp;</span></p><ol class=\"c12 lst-kix_bikt0ydiqedt-0 start\" start=\"1\"><li class=\"c5 li-bullet-0\"><span class=\"c22\">Choose any one text dataset from </span><span class=\"c18 c27\"><a class=\"c14\" href=\"https://www.google.com/url?q=https://drive.google.com/file/d/1l32CBYni0ySAWY0vn_jjQRShpBsKUt0z/view?usp%3Dshare_link&amp;sa=D&amp;source=editors&amp;ust=1677610229295048&amp;usg=AOvVaw086QsNIFUZuAW4dI73YWRI\">here</a></span><span class=\"c1\">. </span></li><li class=\"c5 li-bullet-0\"><span class=\"c1\">Use accuracy, confusion matrix (class-wise) as a metric for multi-class classification.</span></li><li class=\"c5 li-bullet-0\"><span class=\"c1\">Use accuracy, Precision, Recall, F1 score and confusion matrix as a metric for binary classification.</span></li><li class=\"c5 li-bullet-0\"><span class=\"c1\">Report hyperparameters for all deep models, like learning rate, optimiser, number of epochs, and scheduler.</span></li><li class=\"c5 li-bullet-0\"><span class=\"c1\">Show train/val loss and accuracy plots for deep neural networks.</span></li><li class=\"c5 li-bullet-0\"><span class=\"c1\">Show some error examples where a wrong class is predicted by the best model in 4. </span></li></ol><p class=\"c7 c20\"><span class=\"c16\"></span></p><p class=\"c7\"><span class=\"c16\">Tasks:</span></p><p class=\"c7 c20\"><span class=\"c2\"></span></p><ol class=\"c12 lst-kix_dj1d9x2iyizn-0 start\" start=\"1\"><li class=\"c5 li-bullet-0\"><span class=\"c2\">Define your own train-val-test split. [Report the split chosen.]</span></li><li class=\"c5 li-bullet-0\"><span class=\"c2\">Define a text preprocessing pipeline, i.e., stopword removal, lower casing, punctuation removal etc. [Report your text preprocessing pipeline in the report.]</span></li><li class=\"c5 li-bullet-0\"><span class=\"c2\">Developing ML methods:</span></li></ol><ol class=\"c12 lst-kix_dj1d9x2iyizn-1 start\" start=\"1\"><li class=\"c6 li-bullet-0\"><span class=\"c8\">Model a </span><span class=\"c19\">Naive Bayes classifier</span><span class=\"c2\">.</span></li></ol><ol class=\"c12 lst-kix_dj1d9x2iyizn-2 start\" start=\"1\"><li class=\"c7 c17 li-bullet-0\"><span class=\"c2\">Count vectorizer features.</span></li><li class=\"c7 c17 li-bullet-0\"><span class=\"c2\">TF-IDF features.</span></li></ol><ol class=\"c12 lst-kix_dj1d9x2iyizn-1\" start=\"2\"><li class=\"c6 li-bullet-0\"><span class=\"c8\">Model a </span><span class=\"c19\">decision tree</span><span class=\"c2\">&nbsp;with TF-IDF features. [Compare with 3.a.ii]</span></li></ol><ol class=\"c12 lst-kix_dj1d9x2iyizn-0\" start=\"4\"><li class=\"c5 li-bullet-0\"><span class=\"c2\">Developing Deep neural networks:</span></li></ol><ol class=\"c12 lst-kix_dj1d9x2iyizn-1 start\" start=\"1\"><li class=\"c6 li-bullet-0\"><span class=\"c13\">RNN model.</span></li></ol><ol class=\"c12 lst-kix_dj1d9x2iyizn-2 start\" start=\"1\"><li class=\"c7 c17 li-bullet-0\"><span class=\"c2\">64 hidden-vector dimension.</span></li><li class=\"c7 c17 li-bullet-0\"><span class=\"c2\">256 hidden-vector dimension.</span></li></ol><ol class=\"c12 lst-kix_dj1d9x2iyizn-1\" start=\"2\"><li class=\"c6 li-bullet-0\"><span class=\"c19\">1-layer LSTM model.</span><span class=\"c2\">&nbsp;[choose 64 or 256 as hidden-vector representation based on the results from 4.a. Report the choice and its justification.]</span></li><li class=\"c6 li-bullet-0\"><span class=\"c19\">2-layer LSTM model.</span><span class=\"c2\">&nbsp;[use the same hidden-vector representation as 4.b.]</span></li><li class=\"c6 li-bullet-0\"><span class=\"c19\">1-layer Bi-LSTM model.</span><span class=\"c2\">&nbsp;[use same hidden-vector representation as 4.b. Report 4.b vs 4.d model performance.] </span></li><li class=\"c6 li-bullet-0\"><span class=\"c2\">Use Google word2vec embeddings as input embedding to model in 4.d. [Compare the performance 4.e vs 4.d]</span></li><li class=\"c6 li-bullet-0\"><span class=\"c2\">Use Glove embeddings as input embedding to model in 4.d. [Compare the performance 4.f vs 4.d]</span></li><li class=\"c6 li-bullet-0\"><span class=\"c8\">Compare 4.e vs 4.f</span></li></ol></body></html>\n",
        "\n"
      ],
      "metadata": {
        "id": "Aevvme52WZSz"
      }
    },
    {
      "cell_type": "code",
      "execution_count": 1,
      "metadata": {
        "colab": {
          "base_uri": "https://localhost:8080/"
        },
        "id": "exh8XglX806e",
        "outputId": "b8c1abec-004f-477d-c958-28c462a29365"
      },
      "outputs": [
        {
          "output_type": "stream",
          "name": "stdout",
          "text": [
            "Mounted at /content/gdrive\n"
          ]
        }
      ],
      "source": [
        "from google.colab import drive\n",
        "drive.mount('/content/gdrive')"
      ]
    },
    {
      "cell_type": "code",
      "execution_count": 2,
      "metadata": {
        "colab": {
          "base_uri": "https://localhost:8080/"
        },
        "id": "z_g3JX_W8v3w",
        "outputId": "4ddec84d-2523-4f6f-fdfb-3391c10e4d57"
      },
      "outputs": [
        {
          "output_type": "stream",
          "name": "stdout",
          "text": [
            "/content/gdrive/My Drive/Colab Notebooks/semester3/NLP\n"
          ]
        }
      ],
      "source": [
        "%cd \"/content/gdrive/My Drive/Colab Notebooks/semester3/NLP\""
      ]
    },
    {
      "cell_type": "code",
      "source": [
        "# Install sumy\n",
        "!pip install sumy"
      ],
      "metadata": {
        "id": "6smv4ePZH4Gr",
        "outputId": "8a57d447-cb97-4a48-a786-1285eeeb1c4b",
        "colab": {
          "base_uri": "https://localhost:8080/"
        }
      },
      "execution_count": 3,
      "outputs": [
        {
          "output_type": "stream",
          "name": "stdout",
          "text": [
            "Looking in indexes: https://pypi.org/simple, https://us-python.pkg.dev/colab-wheels/public/simple/\n",
            "Collecting sumy\n",
            "  Downloading sumy-0.11.0-py2.py3-none-any.whl (97 kB)\n",
            "\u001b[2K     \u001b[90m━━━━━━━━━━━━━━━━━━━━━━━━━━━━━━━━━━━━━━━━\u001b[0m \u001b[32m97.3/97.3 KB\u001b[0m \u001b[31m3.8 MB/s\u001b[0m eta \u001b[36m0:00:00\u001b[0m\n",
            "\u001b[?25hRequirement already satisfied: nltk>=3.0.2 in /usr/local/lib/python3.8/dist-packages (from sumy) (3.7)\n",
            "Collecting pycountry>=18.2.23\n",
            "  Downloading pycountry-22.3.5.tar.gz (10.1 MB)\n",
            "\u001b[2K     \u001b[90m━━━━━━━━━━━━━━━━━━━━━━━━━━━━━━━━━━━━━━━━\u001b[0m \u001b[32m10.1/10.1 MB\u001b[0m \u001b[31m66.2 MB/s\u001b[0m eta \u001b[36m0:00:00\u001b[0m\n",
            "\u001b[?25h  Installing build dependencies ... \u001b[?25l\u001b[?25hdone\n",
            "  Getting requirements to build wheel ... \u001b[?25l\u001b[?25hdone\n",
            "  Preparing metadata (pyproject.toml) ... \u001b[?25l\u001b[?25hdone\n",
            "Collecting docopt<0.7,>=0.6.1\n",
            "  Downloading docopt-0.6.2.tar.gz (25 kB)\n",
            "  Preparing metadata (setup.py) ... \u001b[?25l\u001b[?25hdone\n",
            "Requirement already satisfied: requests>=2.7.0 in /usr/local/lib/python3.8/dist-packages (from sumy) (2.25.1)\n",
            "Collecting breadability>=0.1.20\n",
            "  Downloading breadability-0.1.20.tar.gz (32 kB)\n",
            "  Preparing metadata (setup.py) ... \u001b[?25l\u001b[?25hdone\n",
            "Requirement already satisfied: chardet in /usr/local/lib/python3.8/dist-packages (from breadability>=0.1.20->sumy) (4.0.0)\n",
            "Requirement already satisfied: lxml>=2.0 in /usr/local/lib/python3.8/dist-packages (from breadability>=0.1.20->sumy) (4.9.2)\n",
            "Requirement already satisfied: regex>=2021.8.3 in /usr/local/lib/python3.8/dist-packages (from nltk>=3.0.2->sumy) (2022.6.2)\n",
            "Requirement already satisfied: click in /usr/local/lib/python3.8/dist-packages (from nltk>=3.0.2->sumy) (8.1.3)\n",
            "Requirement already satisfied: tqdm in /usr/local/lib/python3.8/dist-packages (from nltk>=3.0.2->sumy) (4.64.1)\n",
            "Requirement already satisfied: joblib in /usr/local/lib/python3.8/dist-packages (from nltk>=3.0.2->sumy) (1.2.0)\n",
            "Requirement already satisfied: setuptools in /usr/local/lib/python3.8/dist-packages (from pycountry>=18.2.23->sumy) (57.4.0)\n",
            "Requirement already satisfied: urllib3<1.27,>=1.21.1 in /usr/local/lib/python3.8/dist-packages (from requests>=2.7.0->sumy) (1.26.14)\n",
            "Requirement already satisfied: certifi>=2017.4.17 in /usr/local/lib/python3.8/dist-packages (from requests>=2.7.0->sumy) (2022.12.7)\n",
            "Requirement already satisfied: idna<3,>=2.5 in /usr/local/lib/python3.8/dist-packages (from requests>=2.7.0->sumy) (2.10)\n",
            "Building wheels for collected packages: breadability, docopt, pycountry\n",
            "  Building wheel for breadability (setup.py) ... \u001b[?25l\u001b[?25hdone\n",
            "  Created wheel for breadability: filename=breadability-0.1.20-py2.py3-none-any.whl size=21714 sha256=6730068ec144357d9985d26e921f9845b58375bc08f19ddab5fc7b57083f3714\n",
            "  Stored in directory: /root/.cache/pip/wheels/5f/0d/0c/2062d8c1758b4b1a2e42b4a63e6660d9ec2ba9463cfee9eeab\n",
            "  Building wheel for docopt (setup.py) ... \u001b[?25l\u001b[?25hdone\n",
            "  Created wheel for docopt: filename=docopt-0.6.2-py2.py3-none-any.whl size=13723 sha256=b61c054bbec4ba452ce09b122b1b9b9e7bc239c32db5e120a717e6bf538b23ec\n",
            "  Stored in directory: /root/.cache/pip/wheels/56/ea/58/ead137b087d9e326852a851351d1debf4ada529b6ac0ec4e8c\n",
            "  Building wheel for pycountry (pyproject.toml) ... \u001b[?25l\u001b[?25hdone\n",
            "  Created wheel for pycountry: filename=pycountry-22.3.5-py2.py3-none-any.whl size=10681845 sha256=77cb272fc68890bb31cbd69874b536c5082e053a5fceaa44e53a997dc29f6ecc\n",
            "  Stored in directory: /root/.cache/pip/wheels/e2/aa/0f/c224e473b464387170b83ca7c66947b4a7e33e8d903a679748\n",
            "Successfully built breadability docopt pycountry\n",
            "Installing collected packages: docopt, pycountry, breadability, sumy\n",
            "Successfully installed breadability-0.1.20 docopt-0.6.2 pycountry-22.3.5 sumy-0.11.0\n"
          ]
        }
      ]
    },
    {
      "cell_type": "code",
      "execution_count": 60,
      "metadata": {
        "colab": {
          "base_uri": "https://localhost:8080/"
        },
        "id": "unNzVY72Bvtq",
        "outputId": "0780937b-e0d6-430b-8019-897c2912ea3d"
      },
      "outputs": [
        {
          "output_type": "stream",
          "name": "stderr",
          "text": [
            "[nltk_data] Downloading package stopwords to /root/nltk_data...\n",
            "[nltk_data]   Package stopwords is already up-to-date!\n"
          ]
        },
        {
          "output_type": "execute_result",
          "data": {
            "text/plain": [
              "True"
            ]
          },
          "metadata": {},
          "execution_count": 60
        },
        {
          "output_type": "stream",
          "name": "stderr",
          "text": [
            "[nltk_data] Downloading package wordnet to /root/nltk_data...\n",
            "[nltk_data]   Package wordnet is already up-to-date!\n"
          ]
        },
        {
          "output_type": "execute_result",
          "data": {
            "text/plain": [
              "True"
            ]
          },
          "metadata": {},
          "execution_count": 60
        },
        {
          "output_type": "stream",
          "name": "stderr",
          "text": [
            "[nltk_data] Downloading package omw-1.4 to /root/nltk_data...\n",
            "[nltk_data]   Package omw-1.4 is already up-to-date!\n"
          ]
        },
        {
          "output_type": "execute_result",
          "data": {
            "text/plain": [
              "True"
            ]
          },
          "metadata": {},
          "execution_count": 60
        },
        {
          "output_type": "stream",
          "name": "stderr",
          "text": [
            "[nltk_data] Downloading package punkt to /root/nltk_data...\n",
            "[nltk_data]   Package punkt is already up-to-date!\n"
          ]
        },
        {
          "output_type": "execute_result",
          "data": {
            "text/plain": [
              "True"
            ]
          },
          "metadata": {},
          "execution_count": 60
        },
        {
          "output_type": "stream",
          "name": "stdout",
          "text": [
            "Version:  2.11.0\n",
            "Eager mode:  True\n",
            "Hub version:  0.12.0\n",
            "GPU is NOT AVAILABLE\n"
          ]
        }
      ],
      "source": [
        "import numpy as np\n",
        "import pandas as pd\n",
        "import string\n",
        "import re\n",
        "import sklearn\n",
        "from tqdm import tqdm\n",
        "\n",
        "#nltk\n",
        "import nltk\n",
        "from textblob import Word \n",
        "from nltk.corpus import stopwords\n",
        "from nltk.stem import WordNetLemmatizer\n",
        "\n",
        "nltk.download('stopwords')\n",
        "nltk.download('wordnet')\n",
        "nltk.download('omw-1.4')\n",
        "nltk.download('punkt')\n",
        "\n",
        "#Keras\n",
        "from keras.preprocessing.text import Tokenizer\n",
        "#from keras.preprocessing.sequence import pad_sequences\n",
        "from keras.utils import to_categorical\n",
        "from keras.models import Sequential\n",
        "from keras.layers import Dense,Embedding, SimpleRNN\n",
        "from keras.models import Sequential\n",
        "from keras.layers import LSTM, Dropout, Flatten, BatchNormalization\n",
        "from keras.layers import Bidirectional, GlobalMaxPool1D, Conv1D\n",
        "\n",
        "#Tensorflow\n",
        "import tensorflow as tf\n",
        "import tensorflow_hub as hub\n",
        "import tensorflow_datasets as tfds\n",
        "\n",
        "import matplotlib.pyplot as plt\n",
        "\n",
        "#sklearn\n",
        "from sklearn.feature_extraction.text import CountVectorizer, TfidfVectorizer\n",
        "import sklearn.feature_extraction.text as text\n",
        "from sklearn import model_selection, preprocessing, linear_model, naive_bayes, metrics\n",
        "\n",
        "print(\"Version: \", tf.__version__)\n",
        "print(\"Eager mode: \", tf.executing_eagerly())\n",
        "print(\"Hub version: \", hub.__version__)\n",
        "print(\"GPU is\", \"available\" if tf.config.list_physical_devices('GPU') else \"NOT AVAILABLE\")\n",
        "\n",
        "from IPython.core.interactiveshell import InteractiveShell\n",
        "InteractiveShell.ast_node_interactivity = \"all\""
      ]
    },
    {
      "cell_type": "markdown",
      "source": [
        "#<font color='blue'><b>Data Pre-Procesing</b></font>"
      ],
      "metadata": {
        "id": "sevfrXiyWRM5"
      }
    },
    {
      "cell_type": "code",
      "execution_count": 5,
      "metadata": {
        "colab": {
          "base_uri": "https://localhost:8080/",
          "height": 206
        },
        "id": "s-XnKW3I8YFS",
        "outputId": "9840b0de-1a41-4eef-b9fa-9cce6cfd3c46"
      },
      "outputs": [
        {
          "output_type": "execute_result",
          "data": {
            "text/plain": [
              "                                               title  \\\n",
              "0   Donald Trump Sends Out Embarrassing New Year’...   \n",
              "1   Drunk Bragging Trump Staffer Started Russian ...   \n",
              "2   Sheriff David Clarke Becomes An Internet Joke...   \n",
              "3   Trump Is So Obsessed He Even Has Obama’s Name...   \n",
              "4   Pope Francis Just Called Out Donald Trump Dur...   \n",
              "\n",
              "                                                text subject  \\\n",
              "0  Donald Trump just couldn t wish all Americans ...    News   \n",
              "1  House Intelligence Committee Chairman Devin Nu...    News   \n",
              "2  On Friday, it was revealed that former Milwauk...    News   \n",
              "3  On Christmas day, Donald Trump announced that ...    News   \n",
              "4  Pope Francis used his annual Christmas Day mes...    News   \n",
              "\n",
              "                date  \n",
              "0  December 31, 2017  \n",
              "1  December 31, 2017  \n",
              "2  December 30, 2017  \n",
              "3  December 29, 2017  \n",
              "4  December 25, 2017  "
            ],
            "text/html": [
              "\n",
              "  <div id=\"df-790564b7-c022-4384-aea7-3fdafebd963f\">\n",
              "    <div class=\"colab-df-container\">\n",
              "      <div>\n",
              "<style scoped>\n",
              "    .dataframe tbody tr th:only-of-type {\n",
              "        vertical-align: middle;\n",
              "    }\n",
              "\n",
              "    .dataframe tbody tr th {\n",
              "        vertical-align: top;\n",
              "    }\n",
              "\n",
              "    .dataframe thead th {\n",
              "        text-align: right;\n",
              "    }\n",
              "</style>\n",
              "<table border=\"1\" class=\"dataframe\">\n",
              "  <thead>\n",
              "    <tr style=\"text-align: right;\">\n",
              "      <th></th>\n",
              "      <th>title</th>\n",
              "      <th>text</th>\n",
              "      <th>subject</th>\n",
              "      <th>date</th>\n",
              "    </tr>\n",
              "  </thead>\n",
              "  <tbody>\n",
              "    <tr>\n",
              "      <th>0</th>\n",
              "      <td>Donald Trump Sends Out Embarrassing New Year’...</td>\n",
              "      <td>Donald Trump just couldn t wish all Americans ...</td>\n",
              "      <td>News</td>\n",
              "      <td>December 31, 2017</td>\n",
              "    </tr>\n",
              "    <tr>\n",
              "      <th>1</th>\n",
              "      <td>Drunk Bragging Trump Staffer Started Russian ...</td>\n",
              "      <td>House Intelligence Committee Chairman Devin Nu...</td>\n",
              "      <td>News</td>\n",
              "      <td>December 31, 2017</td>\n",
              "    </tr>\n",
              "    <tr>\n",
              "      <th>2</th>\n",
              "      <td>Sheriff David Clarke Becomes An Internet Joke...</td>\n",
              "      <td>On Friday, it was revealed that former Milwauk...</td>\n",
              "      <td>News</td>\n",
              "      <td>December 30, 2017</td>\n",
              "    </tr>\n",
              "    <tr>\n",
              "      <th>3</th>\n",
              "      <td>Trump Is So Obsessed He Even Has Obama’s Name...</td>\n",
              "      <td>On Christmas day, Donald Trump announced that ...</td>\n",
              "      <td>News</td>\n",
              "      <td>December 29, 2017</td>\n",
              "    </tr>\n",
              "    <tr>\n",
              "      <th>4</th>\n",
              "      <td>Pope Francis Just Called Out Donald Trump Dur...</td>\n",
              "      <td>Pope Francis used his annual Christmas Day mes...</td>\n",
              "      <td>News</td>\n",
              "      <td>December 25, 2017</td>\n",
              "    </tr>\n",
              "  </tbody>\n",
              "</table>\n",
              "</div>\n",
              "      <button class=\"colab-df-convert\" onclick=\"convertToInteractive('df-790564b7-c022-4384-aea7-3fdafebd963f')\"\n",
              "              title=\"Convert this dataframe to an interactive table.\"\n",
              "              style=\"display:none;\">\n",
              "        \n",
              "  <svg xmlns=\"http://www.w3.org/2000/svg\" height=\"24px\"viewBox=\"0 0 24 24\"\n",
              "       width=\"24px\">\n",
              "    <path d=\"M0 0h24v24H0V0z\" fill=\"none\"/>\n",
              "    <path d=\"M18.56 5.44l.94 2.06.94-2.06 2.06-.94-2.06-.94-.94-2.06-.94 2.06-2.06.94zm-11 1L8.5 8.5l.94-2.06 2.06-.94-2.06-.94L8.5 2.5l-.94 2.06-2.06.94zm10 10l.94 2.06.94-2.06 2.06-.94-2.06-.94-.94-2.06-.94 2.06-2.06.94z\"/><path d=\"M17.41 7.96l-1.37-1.37c-.4-.4-.92-.59-1.43-.59-.52 0-1.04.2-1.43.59L10.3 9.45l-7.72 7.72c-.78.78-.78 2.05 0 2.83L4 21.41c.39.39.9.59 1.41.59.51 0 1.02-.2 1.41-.59l7.78-7.78 2.81-2.81c.8-.78.8-2.07 0-2.86zM5.41 20L4 18.59l7.72-7.72 1.47 1.35L5.41 20z\"/>\n",
              "  </svg>\n",
              "      </button>\n",
              "      \n",
              "  <style>\n",
              "    .colab-df-container {\n",
              "      display:flex;\n",
              "      flex-wrap:wrap;\n",
              "      gap: 12px;\n",
              "    }\n",
              "\n",
              "    .colab-df-convert {\n",
              "      background-color: #E8F0FE;\n",
              "      border: none;\n",
              "      border-radius: 50%;\n",
              "      cursor: pointer;\n",
              "      display: none;\n",
              "      fill: #1967D2;\n",
              "      height: 32px;\n",
              "      padding: 0 0 0 0;\n",
              "      width: 32px;\n",
              "    }\n",
              "\n",
              "    .colab-df-convert:hover {\n",
              "      background-color: #E2EBFA;\n",
              "      box-shadow: 0px 1px 2px rgba(60, 64, 67, 0.3), 0px 1px 3px 1px rgba(60, 64, 67, 0.15);\n",
              "      fill: #174EA6;\n",
              "    }\n",
              "\n",
              "    [theme=dark] .colab-df-convert {\n",
              "      background-color: #3B4455;\n",
              "      fill: #D2E3FC;\n",
              "    }\n",
              "\n",
              "    [theme=dark] .colab-df-convert:hover {\n",
              "      background-color: #434B5C;\n",
              "      box-shadow: 0px 1px 3px 1px rgba(0, 0, 0, 0.15);\n",
              "      filter: drop-shadow(0px 1px 2px rgba(0, 0, 0, 0.3));\n",
              "      fill: #FFFFFF;\n",
              "    }\n",
              "  </style>\n",
              "\n",
              "      <script>\n",
              "        const buttonEl =\n",
              "          document.querySelector('#df-790564b7-c022-4384-aea7-3fdafebd963f button.colab-df-convert');\n",
              "        buttonEl.style.display =\n",
              "          google.colab.kernel.accessAllowed ? 'block' : 'none';\n",
              "\n",
              "        async function convertToInteractive(key) {\n",
              "          const element = document.querySelector('#df-790564b7-c022-4384-aea7-3fdafebd963f');\n",
              "          const dataTable =\n",
              "            await google.colab.kernel.invokeFunction('convertToInteractive',\n",
              "                                                     [key], {});\n",
              "          if (!dataTable) return;\n",
              "\n",
              "          const docLinkHtml = 'Like what you see? Visit the ' +\n",
              "            '<a target=\"_blank\" href=https://colab.research.google.com/notebooks/data_table.ipynb>data table notebook</a>'\n",
              "            + ' to learn more about interactive tables.';\n",
              "          element.innerHTML = '';\n",
              "          dataTable['output_type'] = 'display_data';\n",
              "          await google.colab.output.renderOutput(dataTable, element);\n",
              "          const docLink = document.createElement('div');\n",
              "          docLink.innerHTML = docLinkHtml;\n",
              "          element.appendChild(docLink);\n",
              "        }\n",
              "      </script>\n",
              "    </div>\n",
              "  </div>\n",
              "  "
            ]
          },
          "metadata": {},
          "execution_count": 5
        }
      ],
      "source": [
        "df_fake = pd.read_csv('/content/gdrive/My Drive/Colab Notebooks/semester3/NLP/News/Fake.csv')\n",
        "#df_fake = pd.read_csv('Fake.csv')\n",
        "df_fake.head(5)"
      ]
    },
    {
      "cell_type": "code",
      "execution_count": 6,
      "metadata": {
        "colab": {
          "base_uri": "https://localhost:8080/",
          "height": 206
        },
        "id": "IgdTj_8T8sBS",
        "outputId": "e698ee63-b3d3-4bb3-97fa-3c1dc4b19e40"
      },
      "outputs": [
        {
          "output_type": "execute_result",
          "data": {
            "text/plain": [
              "                                               title  \\\n",
              "0  As U.S. budget fight looms, Republicans flip t...   \n",
              "1  U.S. military to accept transgender recruits o...   \n",
              "2  Senior U.S. Republican senator: 'Let Mr. Muell...   \n",
              "3  FBI Russia probe helped by Australian diplomat...   \n",
              "4  Trump wants Postal Service to charge 'much mor...   \n",
              "\n",
              "                                                text       subject  \\\n",
              "0  WASHINGTON (Reuters) - The head of a conservat...  politicsNews   \n",
              "1  WASHINGTON (Reuters) - Transgender people will...  politicsNews   \n",
              "2  WASHINGTON (Reuters) - The special counsel inv...  politicsNews   \n",
              "3  WASHINGTON (Reuters) - Trump campaign adviser ...  politicsNews   \n",
              "4  SEATTLE/WASHINGTON (Reuters) - President Donal...  politicsNews   \n",
              "\n",
              "                 date  \n",
              "0  December 31, 2017   \n",
              "1  December 29, 2017   \n",
              "2  December 31, 2017   \n",
              "3  December 30, 2017   \n",
              "4  December 29, 2017   "
            ],
            "text/html": [
              "\n",
              "  <div id=\"df-2e353109-befa-465b-b49b-16cd6b3391b5\">\n",
              "    <div class=\"colab-df-container\">\n",
              "      <div>\n",
              "<style scoped>\n",
              "    .dataframe tbody tr th:only-of-type {\n",
              "        vertical-align: middle;\n",
              "    }\n",
              "\n",
              "    .dataframe tbody tr th {\n",
              "        vertical-align: top;\n",
              "    }\n",
              "\n",
              "    .dataframe thead th {\n",
              "        text-align: right;\n",
              "    }\n",
              "</style>\n",
              "<table border=\"1\" class=\"dataframe\">\n",
              "  <thead>\n",
              "    <tr style=\"text-align: right;\">\n",
              "      <th></th>\n",
              "      <th>title</th>\n",
              "      <th>text</th>\n",
              "      <th>subject</th>\n",
              "      <th>date</th>\n",
              "    </tr>\n",
              "  </thead>\n",
              "  <tbody>\n",
              "    <tr>\n",
              "      <th>0</th>\n",
              "      <td>As U.S. budget fight looms, Republicans flip t...</td>\n",
              "      <td>WASHINGTON (Reuters) - The head of a conservat...</td>\n",
              "      <td>politicsNews</td>\n",
              "      <td>December 31, 2017</td>\n",
              "    </tr>\n",
              "    <tr>\n",
              "      <th>1</th>\n",
              "      <td>U.S. military to accept transgender recruits o...</td>\n",
              "      <td>WASHINGTON (Reuters) - Transgender people will...</td>\n",
              "      <td>politicsNews</td>\n",
              "      <td>December 29, 2017</td>\n",
              "    </tr>\n",
              "    <tr>\n",
              "      <th>2</th>\n",
              "      <td>Senior U.S. Republican senator: 'Let Mr. Muell...</td>\n",
              "      <td>WASHINGTON (Reuters) - The special counsel inv...</td>\n",
              "      <td>politicsNews</td>\n",
              "      <td>December 31, 2017</td>\n",
              "    </tr>\n",
              "    <tr>\n",
              "      <th>3</th>\n",
              "      <td>FBI Russia probe helped by Australian diplomat...</td>\n",
              "      <td>WASHINGTON (Reuters) - Trump campaign adviser ...</td>\n",
              "      <td>politicsNews</td>\n",
              "      <td>December 30, 2017</td>\n",
              "    </tr>\n",
              "    <tr>\n",
              "      <th>4</th>\n",
              "      <td>Trump wants Postal Service to charge 'much mor...</td>\n",
              "      <td>SEATTLE/WASHINGTON (Reuters) - President Donal...</td>\n",
              "      <td>politicsNews</td>\n",
              "      <td>December 29, 2017</td>\n",
              "    </tr>\n",
              "  </tbody>\n",
              "</table>\n",
              "</div>\n",
              "      <button class=\"colab-df-convert\" onclick=\"convertToInteractive('df-2e353109-befa-465b-b49b-16cd6b3391b5')\"\n",
              "              title=\"Convert this dataframe to an interactive table.\"\n",
              "              style=\"display:none;\">\n",
              "        \n",
              "  <svg xmlns=\"http://www.w3.org/2000/svg\" height=\"24px\"viewBox=\"0 0 24 24\"\n",
              "       width=\"24px\">\n",
              "    <path d=\"M0 0h24v24H0V0z\" fill=\"none\"/>\n",
              "    <path d=\"M18.56 5.44l.94 2.06.94-2.06 2.06-.94-2.06-.94-.94-2.06-.94 2.06-2.06.94zm-11 1L8.5 8.5l.94-2.06 2.06-.94-2.06-.94L8.5 2.5l-.94 2.06-2.06.94zm10 10l.94 2.06.94-2.06 2.06-.94-2.06-.94-.94-2.06-.94 2.06-2.06.94z\"/><path d=\"M17.41 7.96l-1.37-1.37c-.4-.4-.92-.59-1.43-.59-.52 0-1.04.2-1.43.59L10.3 9.45l-7.72 7.72c-.78.78-.78 2.05 0 2.83L4 21.41c.39.39.9.59 1.41.59.51 0 1.02-.2 1.41-.59l7.78-7.78 2.81-2.81c.8-.78.8-2.07 0-2.86zM5.41 20L4 18.59l7.72-7.72 1.47 1.35L5.41 20z\"/>\n",
              "  </svg>\n",
              "      </button>\n",
              "      \n",
              "  <style>\n",
              "    .colab-df-container {\n",
              "      display:flex;\n",
              "      flex-wrap:wrap;\n",
              "      gap: 12px;\n",
              "    }\n",
              "\n",
              "    .colab-df-convert {\n",
              "      background-color: #E8F0FE;\n",
              "      border: none;\n",
              "      border-radius: 50%;\n",
              "      cursor: pointer;\n",
              "      display: none;\n",
              "      fill: #1967D2;\n",
              "      height: 32px;\n",
              "      padding: 0 0 0 0;\n",
              "      width: 32px;\n",
              "    }\n",
              "\n",
              "    .colab-df-convert:hover {\n",
              "      background-color: #E2EBFA;\n",
              "      box-shadow: 0px 1px 2px rgba(60, 64, 67, 0.3), 0px 1px 3px 1px rgba(60, 64, 67, 0.15);\n",
              "      fill: #174EA6;\n",
              "    }\n",
              "\n",
              "    [theme=dark] .colab-df-convert {\n",
              "      background-color: #3B4455;\n",
              "      fill: #D2E3FC;\n",
              "    }\n",
              "\n",
              "    [theme=dark] .colab-df-convert:hover {\n",
              "      background-color: #434B5C;\n",
              "      box-shadow: 0px 1px 3px 1px rgba(0, 0, 0, 0.15);\n",
              "      filter: drop-shadow(0px 1px 2px rgba(0, 0, 0, 0.3));\n",
              "      fill: #FFFFFF;\n",
              "    }\n",
              "  </style>\n",
              "\n",
              "      <script>\n",
              "        const buttonEl =\n",
              "          document.querySelector('#df-2e353109-befa-465b-b49b-16cd6b3391b5 button.colab-df-convert');\n",
              "        buttonEl.style.display =\n",
              "          google.colab.kernel.accessAllowed ? 'block' : 'none';\n",
              "\n",
              "        async function convertToInteractive(key) {\n",
              "          const element = document.querySelector('#df-2e353109-befa-465b-b49b-16cd6b3391b5');\n",
              "          const dataTable =\n",
              "            await google.colab.kernel.invokeFunction('convertToInteractive',\n",
              "                                                     [key], {});\n",
              "          if (!dataTable) return;\n",
              "\n",
              "          const docLinkHtml = 'Like what you see? Visit the ' +\n",
              "            '<a target=\"_blank\" href=https://colab.research.google.com/notebooks/data_table.ipynb>data table notebook</a>'\n",
              "            + ' to learn more about interactive tables.';\n",
              "          element.innerHTML = '';\n",
              "          dataTable['output_type'] = 'display_data';\n",
              "          await google.colab.output.renderOutput(dataTable, element);\n",
              "          const docLink = document.createElement('div');\n",
              "          docLink.innerHTML = docLinkHtml;\n",
              "          element.appendChild(docLink);\n",
              "        }\n",
              "      </script>\n",
              "    </div>\n",
              "  </div>\n",
              "  "
            ]
          },
          "metadata": {},
          "execution_count": 6
        }
      ],
      "source": [
        "df_true = pd.read_csv('/content/gdrive/My Drive/Colab Notebooks/semester3/NLP/News/True.csv')\n",
        "#df_true = pd.read_csv('True.csv')\n",
        "df_true.head(5)"
      ]
    },
    {
      "cell_type": "code",
      "execution_count": 7,
      "metadata": {
        "colab": {
          "base_uri": "https://localhost:8080/",
          "height": 206
        },
        "id": "OS_MPVPD9A0U",
        "outputId": "243b5397-35ef-4ce3-f949-5eb62541acb3"
      },
      "outputs": [
        {
          "output_type": "execute_result",
          "data": {
            "text/plain": [
              "                                                   title  \\\n",
              "23476  McPain: John McCain Furious That Iran Treated ...   \n",
              "23477  JUSTICE? Yahoo Settles E-mail Privacy Class-ac...   \n",
              "23478  Sunnistan: US and Allied ‘Safe Zone’ Plan to T...   \n",
              "23479  How to Blow $700 Million: Al Jazeera America F...   \n",
              "23480  10 U.S. Navy Sailors Held by Iranian Military ...   \n",
              "\n",
              "                                                    text      subject  \\\n",
              "23476  21st Century Wire says As 21WIRE reported earl...  Middle-east   \n",
              "23477  21st Century Wire says It s a familiar theme. ...  Middle-east   \n",
              "23478  Patrick Henningsen  21st Century WireRemember ...  Middle-east   \n",
              "23479  21st Century Wire says Al Jazeera America will...  Middle-east   \n",
              "23480  21st Century Wire says As 21WIRE predicted in ...  Middle-east   \n",
              "\n",
              "                   date  class  \n",
              "23476  January 16, 2016      1  \n",
              "23477  January 16, 2016      1  \n",
              "23478  January 15, 2016      1  \n",
              "23479  January 14, 2016      1  \n",
              "23480  January 12, 2016      1  "
            ],
            "text/html": [
              "\n",
              "  <div id=\"df-308d3818-d24b-44ea-850c-6f393bf854a2\">\n",
              "    <div class=\"colab-df-container\">\n",
              "      <div>\n",
              "<style scoped>\n",
              "    .dataframe tbody tr th:only-of-type {\n",
              "        vertical-align: middle;\n",
              "    }\n",
              "\n",
              "    .dataframe tbody tr th {\n",
              "        vertical-align: top;\n",
              "    }\n",
              "\n",
              "    .dataframe thead th {\n",
              "        text-align: right;\n",
              "    }\n",
              "</style>\n",
              "<table border=\"1\" class=\"dataframe\">\n",
              "  <thead>\n",
              "    <tr style=\"text-align: right;\">\n",
              "      <th></th>\n",
              "      <th>title</th>\n",
              "      <th>text</th>\n",
              "      <th>subject</th>\n",
              "      <th>date</th>\n",
              "      <th>class</th>\n",
              "    </tr>\n",
              "  </thead>\n",
              "  <tbody>\n",
              "    <tr>\n",
              "      <th>23476</th>\n",
              "      <td>McPain: John McCain Furious That Iran Treated ...</td>\n",
              "      <td>21st Century Wire says As 21WIRE reported earl...</td>\n",
              "      <td>Middle-east</td>\n",
              "      <td>January 16, 2016</td>\n",
              "      <td>1</td>\n",
              "    </tr>\n",
              "    <tr>\n",
              "      <th>23477</th>\n",
              "      <td>JUSTICE? Yahoo Settles E-mail Privacy Class-ac...</td>\n",
              "      <td>21st Century Wire says It s a familiar theme. ...</td>\n",
              "      <td>Middle-east</td>\n",
              "      <td>January 16, 2016</td>\n",
              "      <td>1</td>\n",
              "    </tr>\n",
              "    <tr>\n",
              "      <th>23478</th>\n",
              "      <td>Sunnistan: US and Allied ‘Safe Zone’ Plan to T...</td>\n",
              "      <td>Patrick Henningsen  21st Century WireRemember ...</td>\n",
              "      <td>Middle-east</td>\n",
              "      <td>January 15, 2016</td>\n",
              "      <td>1</td>\n",
              "    </tr>\n",
              "    <tr>\n",
              "      <th>23479</th>\n",
              "      <td>How to Blow $700 Million: Al Jazeera America F...</td>\n",
              "      <td>21st Century Wire says Al Jazeera America will...</td>\n",
              "      <td>Middle-east</td>\n",
              "      <td>January 14, 2016</td>\n",
              "      <td>1</td>\n",
              "    </tr>\n",
              "    <tr>\n",
              "      <th>23480</th>\n",
              "      <td>10 U.S. Navy Sailors Held by Iranian Military ...</td>\n",
              "      <td>21st Century Wire says As 21WIRE predicted in ...</td>\n",
              "      <td>Middle-east</td>\n",
              "      <td>January 12, 2016</td>\n",
              "      <td>1</td>\n",
              "    </tr>\n",
              "  </tbody>\n",
              "</table>\n",
              "</div>\n",
              "      <button class=\"colab-df-convert\" onclick=\"convertToInteractive('df-308d3818-d24b-44ea-850c-6f393bf854a2')\"\n",
              "              title=\"Convert this dataframe to an interactive table.\"\n",
              "              style=\"display:none;\">\n",
              "        \n",
              "  <svg xmlns=\"http://www.w3.org/2000/svg\" height=\"24px\"viewBox=\"0 0 24 24\"\n",
              "       width=\"24px\">\n",
              "    <path d=\"M0 0h24v24H0V0z\" fill=\"none\"/>\n",
              "    <path d=\"M18.56 5.44l.94 2.06.94-2.06 2.06-.94-2.06-.94-.94-2.06-.94 2.06-2.06.94zm-11 1L8.5 8.5l.94-2.06 2.06-.94-2.06-.94L8.5 2.5l-.94 2.06-2.06.94zm10 10l.94 2.06.94-2.06 2.06-.94-2.06-.94-.94-2.06-.94 2.06-2.06.94z\"/><path d=\"M17.41 7.96l-1.37-1.37c-.4-.4-.92-.59-1.43-.59-.52 0-1.04.2-1.43.59L10.3 9.45l-7.72 7.72c-.78.78-.78 2.05 0 2.83L4 21.41c.39.39.9.59 1.41.59.51 0 1.02-.2 1.41-.59l7.78-7.78 2.81-2.81c.8-.78.8-2.07 0-2.86zM5.41 20L4 18.59l7.72-7.72 1.47 1.35L5.41 20z\"/>\n",
              "  </svg>\n",
              "      </button>\n",
              "      \n",
              "  <style>\n",
              "    .colab-df-container {\n",
              "      display:flex;\n",
              "      flex-wrap:wrap;\n",
              "      gap: 12px;\n",
              "    }\n",
              "\n",
              "    .colab-df-convert {\n",
              "      background-color: #E8F0FE;\n",
              "      border: none;\n",
              "      border-radius: 50%;\n",
              "      cursor: pointer;\n",
              "      display: none;\n",
              "      fill: #1967D2;\n",
              "      height: 32px;\n",
              "      padding: 0 0 0 0;\n",
              "      width: 32px;\n",
              "    }\n",
              "\n",
              "    .colab-df-convert:hover {\n",
              "      background-color: #E2EBFA;\n",
              "      box-shadow: 0px 1px 2px rgba(60, 64, 67, 0.3), 0px 1px 3px 1px rgba(60, 64, 67, 0.15);\n",
              "      fill: #174EA6;\n",
              "    }\n",
              "\n",
              "    [theme=dark] .colab-df-convert {\n",
              "      background-color: #3B4455;\n",
              "      fill: #D2E3FC;\n",
              "    }\n",
              "\n",
              "    [theme=dark] .colab-df-convert:hover {\n",
              "      background-color: #434B5C;\n",
              "      box-shadow: 0px 1px 3px 1px rgba(0, 0, 0, 0.15);\n",
              "      filter: drop-shadow(0px 1px 2px rgba(0, 0, 0, 0.3));\n",
              "      fill: #FFFFFF;\n",
              "    }\n",
              "  </style>\n",
              "\n",
              "      <script>\n",
              "        const buttonEl =\n",
              "          document.querySelector('#df-308d3818-d24b-44ea-850c-6f393bf854a2 button.colab-df-convert');\n",
              "        buttonEl.style.display =\n",
              "          google.colab.kernel.accessAllowed ? 'block' : 'none';\n",
              "\n",
              "        async function convertToInteractive(key) {\n",
              "          const element = document.querySelector('#df-308d3818-d24b-44ea-850c-6f393bf854a2');\n",
              "          const dataTable =\n",
              "            await google.colab.kernel.invokeFunction('convertToInteractive',\n",
              "                                                     [key], {});\n",
              "          if (!dataTable) return;\n",
              "\n",
              "          const docLinkHtml = 'Like what you see? Visit the ' +\n",
              "            '<a target=\"_blank\" href=https://colab.research.google.com/notebooks/data_table.ipynb>data table notebook</a>'\n",
              "            + ' to learn more about interactive tables.';\n",
              "          element.innerHTML = '';\n",
              "          dataTable['output_type'] = 'display_data';\n",
              "          await google.colab.output.renderOutput(dataTable, element);\n",
              "          const docLink = document.createElement('div');\n",
              "          docLink.innerHTML = docLinkHtml;\n",
              "          element.appendChild(docLink);\n",
              "        }\n",
              "      </script>\n",
              "    </div>\n",
              "  </div>\n",
              "  "
            ]
          },
          "metadata": {},
          "execution_count": 7
        }
      ],
      "source": [
        "df_fake['class'] = 1\n",
        "df_fake.tail(5)"
      ]
    },
    {
      "cell_type": "code",
      "execution_count": 8,
      "metadata": {
        "colab": {
          "base_uri": "https://localhost:8080/",
          "height": 206
        },
        "id": "11TUfJ3H9Vpd",
        "outputId": "c6c4e135-cc54-4ae5-8aa5-fd534245f17e"
      },
      "outputs": [
        {
          "output_type": "execute_result",
          "data": {
            "text/plain": [
              "                                                   title  \\\n",
              "21412  'Fully committed' NATO backs new U.S. approach...   \n",
              "21413  LexisNexis withdrew two products from Chinese ...   \n",
              "21414  Minsk cultural hub becomes haven from authorities   \n",
              "21415  Vatican upbeat on possibility of Pope Francis ...   \n",
              "21416  Indonesia to buy $1.14 billion worth of Russia...   \n",
              "\n",
              "                                                    text    subject  \\\n",
              "21412  BRUSSELS (Reuters) - NATO allies on Tuesday we...  worldnews   \n",
              "21413  LONDON (Reuters) - LexisNexis, a provider of l...  worldnews   \n",
              "21414  MINSK (Reuters) - In the shadow of disused Sov...  worldnews   \n",
              "21415  MOSCOW (Reuters) - Vatican Secretary of State ...  worldnews   \n",
              "21416  JAKARTA (Reuters) - Indonesia will buy 11 Sukh...  worldnews   \n",
              "\n",
              "                   date  class  \n",
              "21412  August 22, 2017       0  \n",
              "21413  August 22, 2017       0  \n",
              "21414  August 22, 2017       0  \n",
              "21415  August 22, 2017       0  \n",
              "21416  August 22, 2017       0  "
            ],
            "text/html": [
              "\n",
              "  <div id=\"df-5f192d37-ed85-4083-82f3-96198c282493\">\n",
              "    <div class=\"colab-df-container\">\n",
              "      <div>\n",
              "<style scoped>\n",
              "    .dataframe tbody tr th:only-of-type {\n",
              "        vertical-align: middle;\n",
              "    }\n",
              "\n",
              "    .dataframe tbody tr th {\n",
              "        vertical-align: top;\n",
              "    }\n",
              "\n",
              "    .dataframe thead th {\n",
              "        text-align: right;\n",
              "    }\n",
              "</style>\n",
              "<table border=\"1\" class=\"dataframe\">\n",
              "  <thead>\n",
              "    <tr style=\"text-align: right;\">\n",
              "      <th></th>\n",
              "      <th>title</th>\n",
              "      <th>text</th>\n",
              "      <th>subject</th>\n",
              "      <th>date</th>\n",
              "      <th>class</th>\n",
              "    </tr>\n",
              "  </thead>\n",
              "  <tbody>\n",
              "    <tr>\n",
              "      <th>21412</th>\n",
              "      <td>'Fully committed' NATO backs new U.S. approach...</td>\n",
              "      <td>BRUSSELS (Reuters) - NATO allies on Tuesday we...</td>\n",
              "      <td>worldnews</td>\n",
              "      <td>August 22, 2017</td>\n",
              "      <td>0</td>\n",
              "    </tr>\n",
              "    <tr>\n",
              "      <th>21413</th>\n",
              "      <td>LexisNexis withdrew two products from Chinese ...</td>\n",
              "      <td>LONDON (Reuters) - LexisNexis, a provider of l...</td>\n",
              "      <td>worldnews</td>\n",
              "      <td>August 22, 2017</td>\n",
              "      <td>0</td>\n",
              "    </tr>\n",
              "    <tr>\n",
              "      <th>21414</th>\n",
              "      <td>Minsk cultural hub becomes haven from authorities</td>\n",
              "      <td>MINSK (Reuters) - In the shadow of disused Sov...</td>\n",
              "      <td>worldnews</td>\n",
              "      <td>August 22, 2017</td>\n",
              "      <td>0</td>\n",
              "    </tr>\n",
              "    <tr>\n",
              "      <th>21415</th>\n",
              "      <td>Vatican upbeat on possibility of Pope Francis ...</td>\n",
              "      <td>MOSCOW (Reuters) - Vatican Secretary of State ...</td>\n",
              "      <td>worldnews</td>\n",
              "      <td>August 22, 2017</td>\n",
              "      <td>0</td>\n",
              "    </tr>\n",
              "    <tr>\n",
              "      <th>21416</th>\n",
              "      <td>Indonesia to buy $1.14 billion worth of Russia...</td>\n",
              "      <td>JAKARTA (Reuters) - Indonesia will buy 11 Sukh...</td>\n",
              "      <td>worldnews</td>\n",
              "      <td>August 22, 2017</td>\n",
              "      <td>0</td>\n",
              "    </tr>\n",
              "  </tbody>\n",
              "</table>\n",
              "</div>\n",
              "      <button class=\"colab-df-convert\" onclick=\"convertToInteractive('df-5f192d37-ed85-4083-82f3-96198c282493')\"\n",
              "              title=\"Convert this dataframe to an interactive table.\"\n",
              "              style=\"display:none;\">\n",
              "        \n",
              "  <svg xmlns=\"http://www.w3.org/2000/svg\" height=\"24px\"viewBox=\"0 0 24 24\"\n",
              "       width=\"24px\">\n",
              "    <path d=\"M0 0h24v24H0V0z\" fill=\"none\"/>\n",
              "    <path d=\"M18.56 5.44l.94 2.06.94-2.06 2.06-.94-2.06-.94-.94-2.06-.94 2.06-2.06.94zm-11 1L8.5 8.5l.94-2.06 2.06-.94-2.06-.94L8.5 2.5l-.94 2.06-2.06.94zm10 10l.94 2.06.94-2.06 2.06-.94-2.06-.94-.94-2.06-.94 2.06-2.06.94z\"/><path d=\"M17.41 7.96l-1.37-1.37c-.4-.4-.92-.59-1.43-.59-.52 0-1.04.2-1.43.59L10.3 9.45l-7.72 7.72c-.78.78-.78 2.05 0 2.83L4 21.41c.39.39.9.59 1.41.59.51 0 1.02-.2 1.41-.59l7.78-7.78 2.81-2.81c.8-.78.8-2.07 0-2.86zM5.41 20L4 18.59l7.72-7.72 1.47 1.35L5.41 20z\"/>\n",
              "  </svg>\n",
              "      </button>\n",
              "      \n",
              "  <style>\n",
              "    .colab-df-container {\n",
              "      display:flex;\n",
              "      flex-wrap:wrap;\n",
              "      gap: 12px;\n",
              "    }\n",
              "\n",
              "    .colab-df-convert {\n",
              "      background-color: #E8F0FE;\n",
              "      border: none;\n",
              "      border-radius: 50%;\n",
              "      cursor: pointer;\n",
              "      display: none;\n",
              "      fill: #1967D2;\n",
              "      height: 32px;\n",
              "      padding: 0 0 0 0;\n",
              "      width: 32px;\n",
              "    }\n",
              "\n",
              "    .colab-df-convert:hover {\n",
              "      background-color: #E2EBFA;\n",
              "      box-shadow: 0px 1px 2px rgba(60, 64, 67, 0.3), 0px 1px 3px 1px rgba(60, 64, 67, 0.15);\n",
              "      fill: #174EA6;\n",
              "    }\n",
              "\n",
              "    [theme=dark] .colab-df-convert {\n",
              "      background-color: #3B4455;\n",
              "      fill: #D2E3FC;\n",
              "    }\n",
              "\n",
              "    [theme=dark] .colab-df-convert:hover {\n",
              "      background-color: #434B5C;\n",
              "      box-shadow: 0px 1px 3px 1px rgba(0, 0, 0, 0.15);\n",
              "      filter: drop-shadow(0px 1px 2px rgba(0, 0, 0, 0.3));\n",
              "      fill: #FFFFFF;\n",
              "    }\n",
              "  </style>\n",
              "\n",
              "      <script>\n",
              "        const buttonEl =\n",
              "          document.querySelector('#df-5f192d37-ed85-4083-82f3-96198c282493 button.colab-df-convert');\n",
              "        buttonEl.style.display =\n",
              "          google.colab.kernel.accessAllowed ? 'block' : 'none';\n",
              "\n",
              "        async function convertToInteractive(key) {\n",
              "          const element = document.querySelector('#df-5f192d37-ed85-4083-82f3-96198c282493');\n",
              "          const dataTable =\n",
              "            await google.colab.kernel.invokeFunction('convertToInteractive',\n",
              "                                                     [key], {});\n",
              "          if (!dataTable) return;\n",
              "\n",
              "          const docLinkHtml = 'Like what you see? Visit the ' +\n",
              "            '<a target=\"_blank\" href=https://colab.research.google.com/notebooks/data_table.ipynb>data table notebook</a>'\n",
              "            + ' to learn more about interactive tables.';\n",
              "          element.innerHTML = '';\n",
              "          dataTable['output_type'] = 'display_data';\n",
              "          await google.colab.output.renderOutput(dataTable, element);\n",
              "          const docLink = document.createElement('div');\n",
              "          docLink.innerHTML = docLinkHtml;\n",
              "          element.appendChild(docLink);\n",
              "        }\n",
              "      </script>\n",
              "    </div>\n",
              "  </div>\n",
              "  "
            ]
          },
          "metadata": {},
          "execution_count": 8
        }
      ],
      "source": [
        "df_true['class'] = 0\n",
        "df_true.tail(5)"
      ]
    },
    {
      "cell_type": "code",
      "execution_count": 9,
      "metadata": {
        "colab": {
          "base_uri": "https://localhost:8080/",
          "height": 206
        },
        "id": "aw7AGxtE9Y-L",
        "outputId": "ceb44cec-8df7-43cb-bc8e-22fbfaac4a31"
      },
      "outputs": [
        {
          "output_type": "execute_result",
          "data": {
            "text/plain": [
              "                                               title  \\\n",
              "0   Donald Trump Sends Out Embarrassing New Year’...   \n",
              "1   Drunk Bragging Trump Staffer Started Russian ...   \n",
              "2   Sheriff David Clarke Becomes An Internet Joke...   \n",
              "3   Trump Is So Obsessed He Even Has Obama’s Name...   \n",
              "4   Pope Francis Just Called Out Donald Trump Dur...   \n",
              "\n",
              "                                                text subject  \\\n",
              "0  Donald Trump just couldn t wish all Americans ...    News   \n",
              "1  House Intelligence Committee Chairman Devin Nu...    News   \n",
              "2  On Friday, it was revealed that former Milwauk...    News   \n",
              "3  On Christmas day, Donald Trump announced that ...    News   \n",
              "4  Pope Francis used his annual Christmas Day mes...    News   \n",
              "\n",
              "                date  class  \n",
              "0  December 31, 2017      1  \n",
              "1  December 31, 2017      1  \n",
              "2  December 30, 2017      1  \n",
              "3  December 29, 2017      1  \n",
              "4  December 25, 2017      1  "
            ],
            "text/html": [
              "\n",
              "  <div id=\"df-6be73362-4007-4d67-a232-7a230e18050e\">\n",
              "    <div class=\"colab-df-container\">\n",
              "      <div>\n",
              "<style scoped>\n",
              "    .dataframe tbody tr th:only-of-type {\n",
              "        vertical-align: middle;\n",
              "    }\n",
              "\n",
              "    .dataframe tbody tr th {\n",
              "        vertical-align: top;\n",
              "    }\n",
              "\n",
              "    .dataframe thead th {\n",
              "        text-align: right;\n",
              "    }\n",
              "</style>\n",
              "<table border=\"1\" class=\"dataframe\">\n",
              "  <thead>\n",
              "    <tr style=\"text-align: right;\">\n",
              "      <th></th>\n",
              "      <th>title</th>\n",
              "      <th>text</th>\n",
              "      <th>subject</th>\n",
              "      <th>date</th>\n",
              "      <th>class</th>\n",
              "    </tr>\n",
              "  </thead>\n",
              "  <tbody>\n",
              "    <tr>\n",
              "      <th>0</th>\n",
              "      <td>Donald Trump Sends Out Embarrassing New Year’...</td>\n",
              "      <td>Donald Trump just couldn t wish all Americans ...</td>\n",
              "      <td>News</td>\n",
              "      <td>December 31, 2017</td>\n",
              "      <td>1</td>\n",
              "    </tr>\n",
              "    <tr>\n",
              "      <th>1</th>\n",
              "      <td>Drunk Bragging Trump Staffer Started Russian ...</td>\n",
              "      <td>House Intelligence Committee Chairman Devin Nu...</td>\n",
              "      <td>News</td>\n",
              "      <td>December 31, 2017</td>\n",
              "      <td>1</td>\n",
              "    </tr>\n",
              "    <tr>\n",
              "      <th>2</th>\n",
              "      <td>Sheriff David Clarke Becomes An Internet Joke...</td>\n",
              "      <td>On Friday, it was revealed that former Milwauk...</td>\n",
              "      <td>News</td>\n",
              "      <td>December 30, 2017</td>\n",
              "      <td>1</td>\n",
              "    </tr>\n",
              "    <tr>\n",
              "      <th>3</th>\n",
              "      <td>Trump Is So Obsessed He Even Has Obama’s Name...</td>\n",
              "      <td>On Christmas day, Donald Trump announced that ...</td>\n",
              "      <td>News</td>\n",
              "      <td>December 29, 2017</td>\n",
              "      <td>1</td>\n",
              "    </tr>\n",
              "    <tr>\n",
              "      <th>4</th>\n",
              "      <td>Pope Francis Just Called Out Donald Trump Dur...</td>\n",
              "      <td>Pope Francis used his annual Christmas Day mes...</td>\n",
              "      <td>News</td>\n",
              "      <td>December 25, 2017</td>\n",
              "      <td>1</td>\n",
              "    </tr>\n",
              "  </tbody>\n",
              "</table>\n",
              "</div>\n",
              "      <button class=\"colab-df-convert\" onclick=\"convertToInteractive('df-6be73362-4007-4d67-a232-7a230e18050e')\"\n",
              "              title=\"Convert this dataframe to an interactive table.\"\n",
              "              style=\"display:none;\">\n",
              "        \n",
              "  <svg xmlns=\"http://www.w3.org/2000/svg\" height=\"24px\"viewBox=\"0 0 24 24\"\n",
              "       width=\"24px\">\n",
              "    <path d=\"M0 0h24v24H0V0z\" fill=\"none\"/>\n",
              "    <path d=\"M18.56 5.44l.94 2.06.94-2.06 2.06-.94-2.06-.94-.94-2.06-.94 2.06-2.06.94zm-11 1L8.5 8.5l.94-2.06 2.06-.94-2.06-.94L8.5 2.5l-.94 2.06-2.06.94zm10 10l.94 2.06.94-2.06 2.06-.94-2.06-.94-.94-2.06-.94 2.06-2.06.94z\"/><path d=\"M17.41 7.96l-1.37-1.37c-.4-.4-.92-.59-1.43-.59-.52 0-1.04.2-1.43.59L10.3 9.45l-7.72 7.72c-.78.78-.78 2.05 0 2.83L4 21.41c.39.39.9.59 1.41.59.51 0 1.02-.2 1.41-.59l7.78-7.78 2.81-2.81c.8-.78.8-2.07 0-2.86zM5.41 20L4 18.59l7.72-7.72 1.47 1.35L5.41 20z\"/>\n",
              "  </svg>\n",
              "      </button>\n",
              "      \n",
              "  <style>\n",
              "    .colab-df-container {\n",
              "      display:flex;\n",
              "      flex-wrap:wrap;\n",
              "      gap: 12px;\n",
              "    }\n",
              "\n",
              "    .colab-df-convert {\n",
              "      background-color: #E8F0FE;\n",
              "      border: none;\n",
              "      border-radius: 50%;\n",
              "      cursor: pointer;\n",
              "      display: none;\n",
              "      fill: #1967D2;\n",
              "      height: 32px;\n",
              "      padding: 0 0 0 0;\n",
              "      width: 32px;\n",
              "    }\n",
              "\n",
              "    .colab-df-convert:hover {\n",
              "      background-color: #E2EBFA;\n",
              "      box-shadow: 0px 1px 2px rgba(60, 64, 67, 0.3), 0px 1px 3px 1px rgba(60, 64, 67, 0.15);\n",
              "      fill: #174EA6;\n",
              "    }\n",
              "\n",
              "    [theme=dark] .colab-df-convert {\n",
              "      background-color: #3B4455;\n",
              "      fill: #D2E3FC;\n",
              "    }\n",
              "\n",
              "    [theme=dark] .colab-df-convert:hover {\n",
              "      background-color: #434B5C;\n",
              "      box-shadow: 0px 1px 3px 1px rgba(0, 0, 0, 0.15);\n",
              "      filter: drop-shadow(0px 1px 2px rgba(0, 0, 0, 0.3));\n",
              "      fill: #FFFFFF;\n",
              "    }\n",
              "  </style>\n",
              "\n",
              "      <script>\n",
              "        const buttonEl =\n",
              "          document.querySelector('#df-6be73362-4007-4d67-a232-7a230e18050e button.colab-df-convert');\n",
              "        buttonEl.style.display =\n",
              "          google.colab.kernel.accessAllowed ? 'block' : 'none';\n",
              "\n",
              "        async function convertToInteractive(key) {\n",
              "          const element = document.querySelector('#df-6be73362-4007-4d67-a232-7a230e18050e');\n",
              "          const dataTable =\n",
              "            await google.colab.kernel.invokeFunction('convertToInteractive',\n",
              "                                                     [key], {});\n",
              "          if (!dataTable) return;\n",
              "\n",
              "          const docLinkHtml = 'Like what you see? Visit the ' +\n",
              "            '<a target=\"_blank\" href=https://colab.research.google.com/notebooks/data_table.ipynb>data table notebook</a>'\n",
              "            + ' to learn more about interactive tables.';\n",
              "          element.innerHTML = '';\n",
              "          dataTable['output_type'] = 'display_data';\n",
              "          await google.colab.output.renderOutput(dataTable, element);\n",
              "          const docLink = document.createElement('div');\n",
              "          docLink.innerHTML = docLinkHtml;\n",
              "          element.appendChild(docLink);\n",
              "        }\n",
              "      </script>\n",
              "    </div>\n",
              "  </div>\n",
              "  "
            ]
          },
          "metadata": {},
          "execution_count": 9
        }
      ],
      "source": [
        "#Concat fake and true dataset and cretae a marged dataset\n",
        "df_marge = pd.concat([df_fake,df_true], axis = 0)\n",
        "df_marge.head(5)"
      ]
    },
    {
      "cell_type": "code",
      "execution_count": 10,
      "metadata": {
        "colab": {
          "base_uri": "https://localhost:8080/"
        },
        "id": "HQ7Hq5vQBT20",
        "outputId": "29659e48-522c-4b1a-8c8c-96acd0de7796"
      },
      "outputs": [
        {
          "output_type": "execute_result",
          "data": {
            "text/plain": [
              "Index(['title', 'text', 'subject', 'date', 'class'], dtype='object')"
            ]
          },
          "metadata": {},
          "execution_count": 10
        }
      ],
      "source": [
        "#Show column in marged dataset\n",
        "df_marge.columns"
      ]
    },
    {
      "cell_type": "code",
      "execution_count": 11,
      "metadata": {
        "id": "Vt6uDT-wE2bq"
      },
      "outputs": [],
      "source": [
        "#Drop un-important columns from marged dataset\n",
        "df = df_marge.drop([\"title\", \"subject\",\"date\"], axis = 1)"
      ]
    },
    {
      "cell_type": "code",
      "execution_count": 12,
      "metadata": {
        "colab": {
          "base_uri": "https://localhost:8080/"
        },
        "id": "Z6_81HVJFVVP",
        "outputId": "7a8bfbd6-f2ca-4631-ea2f-89b96b9aec14"
      },
      "outputs": [
        {
          "output_type": "execute_result",
          "data": {
            "text/plain": [
              "text     0\n",
              "class    0\n",
              "dtype: int64"
            ]
          },
          "metadata": {},
          "execution_count": 12
        }
      ],
      "source": [
        "#Look for Null data\n",
        "df.isnull().sum()"
      ]
    },
    {
      "cell_type": "code",
      "execution_count": 13,
      "metadata": {
        "colab": {
          "base_uri": "https://localhost:8080/",
          "height": 363
        },
        "id": "HY3NuxEIFnIQ",
        "outputId": "054441a3-26e0-4b3e-e6dd-b1e667119e99"
      },
      "outputs": [
        {
          "output_type": "execute_result",
          "data": {
            "text/plain": [
              "                                                    text  class\n",
              "2040   (Reuters) - A federal court judge on Wednesday...      0\n",
              "3135   It is now 14 days until Donald Trump takes ove...      1\n",
              "19057  The grieving daughter in law of Vice President...      1\n",
              "11882  BERLIN (Reuters) - A 96-year-old German convic...      0\n",
              "14235  No matter which candidate you support, this mo...      1\n",
              "19966  What happens when Hillary s poll numbers take ...      1\n",
              "2867   Donald Trump is fuming over the size of his li...      1\n",
              "19899  BERLIN(Reuters) - Any United Nations peacekeep...      0\n",
              "5563   WASHINGTON (Reuters) - Donald Trump’s Supreme ...      0\n",
              "8030   The billionaire class is getting very scared o...      1"
            ],
            "text/html": [
              "\n",
              "  <div id=\"df-102517c7-42d6-439d-9ae9-fc1170ab8c3f\">\n",
              "    <div class=\"colab-df-container\">\n",
              "      <div>\n",
              "<style scoped>\n",
              "    .dataframe tbody tr th:only-of-type {\n",
              "        vertical-align: middle;\n",
              "    }\n",
              "\n",
              "    .dataframe tbody tr th {\n",
              "        vertical-align: top;\n",
              "    }\n",
              "\n",
              "    .dataframe thead th {\n",
              "        text-align: right;\n",
              "    }\n",
              "</style>\n",
              "<table border=\"1\" class=\"dataframe\">\n",
              "  <thead>\n",
              "    <tr style=\"text-align: right;\">\n",
              "      <th></th>\n",
              "      <th>text</th>\n",
              "      <th>class</th>\n",
              "    </tr>\n",
              "  </thead>\n",
              "  <tbody>\n",
              "    <tr>\n",
              "      <th>2040</th>\n",
              "      <td>(Reuters) - A federal court judge on Wednesday...</td>\n",
              "      <td>0</td>\n",
              "    </tr>\n",
              "    <tr>\n",
              "      <th>3135</th>\n",
              "      <td>It is now 14 days until Donald Trump takes ove...</td>\n",
              "      <td>1</td>\n",
              "    </tr>\n",
              "    <tr>\n",
              "      <th>19057</th>\n",
              "      <td>The grieving daughter in law of Vice President...</td>\n",
              "      <td>1</td>\n",
              "    </tr>\n",
              "    <tr>\n",
              "      <th>11882</th>\n",
              "      <td>BERLIN (Reuters) - A 96-year-old German convic...</td>\n",
              "      <td>0</td>\n",
              "    </tr>\n",
              "    <tr>\n",
              "      <th>14235</th>\n",
              "      <td>No matter which candidate you support, this mo...</td>\n",
              "      <td>1</td>\n",
              "    </tr>\n",
              "    <tr>\n",
              "      <th>19966</th>\n",
              "      <td>What happens when Hillary s poll numbers take ...</td>\n",
              "      <td>1</td>\n",
              "    </tr>\n",
              "    <tr>\n",
              "      <th>2867</th>\n",
              "      <td>Donald Trump is fuming over the size of his li...</td>\n",
              "      <td>1</td>\n",
              "    </tr>\n",
              "    <tr>\n",
              "      <th>19899</th>\n",
              "      <td>BERLIN(Reuters) - Any United Nations peacekeep...</td>\n",
              "      <td>0</td>\n",
              "    </tr>\n",
              "    <tr>\n",
              "      <th>5563</th>\n",
              "      <td>WASHINGTON (Reuters) - Donald Trump’s Supreme ...</td>\n",
              "      <td>0</td>\n",
              "    </tr>\n",
              "    <tr>\n",
              "      <th>8030</th>\n",
              "      <td>The billionaire class is getting very scared o...</td>\n",
              "      <td>1</td>\n",
              "    </tr>\n",
              "  </tbody>\n",
              "</table>\n",
              "</div>\n",
              "      <button class=\"colab-df-convert\" onclick=\"convertToInteractive('df-102517c7-42d6-439d-9ae9-fc1170ab8c3f')\"\n",
              "              title=\"Convert this dataframe to an interactive table.\"\n",
              "              style=\"display:none;\">\n",
              "        \n",
              "  <svg xmlns=\"http://www.w3.org/2000/svg\" height=\"24px\"viewBox=\"0 0 24 24\"\n",
              "       width=\"24px\">\n",
              "    <path d=\"M0 0h24v24H0V0z\" fill=\"none\"/>\n",
              "    <path d=\"M18.56 5.44l.94 2.06.94-2.06 2.06-.94-2.06-.94-.94-2.06-.94 2.06-2.06.94zm-11 1L8.5 8.5l.94-2.06 2.06-.94-2.06-.94L8.5 2.5l-.94 2.06-2.06.94zm10 10l.94 2.06.94-2.06 2.06-.94-2.06-.94-.94-2.06-.94 2.06-2.06.94z\"/><path d=\"M17.41 7.96l-1.37-1.37c-.4-.4-.92-.59-1.43-.59-.52 0-1.04.2-1.43.59L10.3 9.45l-7.72 7.72c-.78.78-.78 2.05 0 2.83L4 21.41c.39.39.9.59 1.41.59.51 0 1.02-.2 1.41-.59l7.78-7.78 2.81-2.81c.8-.78.8-2.07 0-2.86zM5.41 20L4 18.59l7.72-7.72 1.47 1.35L5.41 20z\"/>\n",
              "  </svg>\n",
              "      </button>\n",
              "      \n",
              "  <style>\n",
              "    .colab-df-container {\n",
              "      display:flex;\n",
              "      flex-wrap:wrap;\n",
              "      gap: 12px;\n",
              "    }\n",
              "\n",
              "    .colab-df-convert {\n",
              "      background-color: #E8F0FE;\n",
              "      border: none;\n",
              "      border-radius: 50%;\n",
              "      cursor: pointer;\n",
              "      display: none;\n",
              "      fill: #1967D2;\n",
              "      height: 32px;\n",
              "      padding: 0 0 0 0;\n",
              "      width: 32px;\n",
              "    }\n",
              "\n",
              "    .colab-df-convert:hover {\n",
              "      background-color: #E2EBFA;\n",
              "      box-shadow: 0px 1px 2px rgba(60, 64, 67, 0.3), 0px 1px 3px 1px rgba(60, 64, 67, 0.15);\n",
              "      fill: #174EA6;\n",
              "    }\n",
              "\n",
              "    [theme=dark] .colab-df-convert {\n",
              "      background-color: #3B4455;\n",
              "      fill: #D2E3FC;\n",
              "    }\n",
              "\n",
              "    [theme=dark] .colab-df-convert:hover {\n",
              "      background-color: #434B5C;\n",
              "      box-shadow: 0px 1px 3px 1px rgba(0, 0, 0, 0.15);\n",
              "      filter: drop-shadow(0px 1px 2px rgba(0, 0, 0, 0.3));\n",
              "      fill: #FFFFFF;\n",
              "    }\n",
              "  </style>\n",
              "\n",
              "      <script>\n",
              "        const buttonEl =\n",
              "          document.querySelector('#df-102517c7-42d6-439d-9ae9-fc1170ab8c3f button.colab-df-convert');\n",
              "        buttonEl.style.display =\n",
              "          google.colab.kernel.accessAllowed ? 'block' : 'none';\n",
              "\n",
              "        async function convertToInteractive(key) {\n",
              "          const element = document.querySelector('#df-102517c7-42d6-439d-9ae9-fc1170ab8c3f');\n",
              "          const dataTable =\n",
              "            await google.colab.kernel.invokeFunction('convertToInteractive',\n",
              "                                                     [key], {});\n",
              "          if (!dataTable) return;\n",
              "\n",
              "          const docLinkHtml = 'Like what you see? Visit the ' +\n",
              "            '<a target=\"_blank\" href=https://colab.research.google.com/notebooks/data_table.ipynb>data table notebook</a>'\n",
              "            + ' to learn more about interactive tables.';\n",
              "          element.innerHTML = '';\n",
              "          dataTable['output_type'] = 'display_data';\n",
              "          await google.colab.output.renderOutput(dataTable, element);\n",
              "          const docLink = document.createElement('div');\n",
              "          docLink.innerHTML = docLinkHtml;\n",
              "          element.appendChild(docLink);\n",
              "        }\n",
              "      </script>\n",
              "    </div>\n",
              "  </div>\n",
              "  "
            ]
          },
          "metadata": {},
          "execution_count": 13
        }
      ],
      "source": [
        "#Shuffle data in dataset\n",
        "df = df.sample(frac = 1)\n",
        "df.head(10)"
      ]
    },
    {
      "cell_type": "code",
      "source": [
        "df.shape"
      ],
      "metadata": {
        "id": "0ot7j39sYdx1",
        "outputId": "a2cd11f3-d193-4e6d-f8ce-d73de64c639d",
        "colab": {
          "base_uri": "https://localhost:8080/"
        }
      },
      "execution_count": 14,
      "outputs": [
        {
          "output_type": "execute_result",
          "data": {
            "text/plain": [
              "(44898, 2)"
            ]
          },
          "metadata": {},
          "execution_count": 14
        }
      ]
    },
    {
      "cell_type": "code",
      "execution_count": 15,
      "metadata": {
        "colab": {
          "base_uri": "https://localhost:8080/",
          "height": 206
        },
        "id": "yWbPy5GoGWWh",
        "outputId": "9d9bb14c-49ec-48ab-860c-52648d28e842"
      },
      "outputs": [
        {
          "output_type": "execute_result",
          "data": {
            "text/plain": [
              "                                                text  class\n",
              "0  (Reuters) - A federal court judge on Wednesday...      0\n",
              "1  It is now 14 days until Donald Trump takes ove...      1\n",
              "2  The grieving daughter in law of Vice President...      1\n",
              "3  BERLIN (Reuters) - A 96-year-old German convic...      0\n",
              "4  No matter which candidate you support, this mo...      1"
            ],
            "text/html": [
              "\n",
              "  <div id=\"df-403e8b8c-4d6e-492d-9817-8f75bd22ce54\">\n",
              "    <div class=\"colab-df-container\">\n",
              "      <div>\n",
              "<style scoped>\n",
              "    .dataframe tbody tr th:only-of-type {\n",
              "        vertical-align: middle;\n",
              "    }\n",
              "\n",
              "    .dataframe tbody tr th {\n",
              "        vertical-align: top;\n",
              "    }\n",
              "\n",
              "    .dataframe thead th {\n",
              "        text-align: right;\n",
              "    }\n",
              "</style>\n",
              "<table border=\"1\" class=\"dataframe\">\n",
              "  <thead>\n",
              "    <tr style=\"text-align: right;\">\n",
              "      <th></th>\n",
              "      <th>text</th>\n",
              "      <th>class</th>\n",
              "    </tr>\n",
              "  </thead>\n",
              "  <tbody>\n",
              "    <tr>\n",
              "      <th>0</th>\n",
              "      <td>(Reuters) - A federal court judge on Wednesday...</td>\n",
              "      <td>0</td>\n",
              "    </tr>\n",
              "    <tr>\n",
              "      <th>1</th>\n",
              "      <td>It is now 14 days until Donald Trump takes ove...</td>\n",
              "      <td>1</td>\n",
              "    </tr>\n",
              "    <tr>\n",
              "      <th>2</th>\n",
              "      <td>The grieving daughter in law of Vice President...</td>\n",
              "      <td>1</td>\n",
              "    </tr>\n",
              "    <tr>\n",
              "      <th>3</th>\n",
              "      <td>BERLIN (Reuters) - A 96-year-old German convic...</td>\n",
              "      <td>0</td>\n",
              "    </tr>\n",
              "    <tr>\n",
              "      <th>4</th>\n",
              "      <td>No matter which candidate you support, this mo...</td>\n",
              "      <td>1</td>\n",
              "    </tr>\n",
              "  </tbody>\n",
              "</table>\n",
              "</div>\n",
              "      <button class=\"colab-df-convert\" onclick=\"convertToInteractive('df-403e8b8c-4d6e-492d-9817-8f75bd22ce54')\"\n",
              "              title=\"Convert this dataframe to an interactive table.\"\n",
              "              style=\"display:none;\">\n",
              "        \n",
              "  <svg xmlns=\"http://www.w3.org/2000/svg\" height=\"24px\"viewBox=\"0 0 24 24\"\n",
              "       width=\"24px\">\n",
              "    <path d=\"M0 0h24v24H0V0z\" fill=\"none\"/>\n",
              "    <path d=\"M18.56 5.44l.94 2.06.94-2.06 2.06-.94-2.06-.94-.94-2.06-.94 2.06-2.06.94zm-11 1L8.5 8.5l.94-2.06 2.06-.94-2.06-.94L8.5 2.5l-.94 2.06-2.06.94zm10 10l.94 2.06.94-2.06 2.06-.94-2.06-.94-.94-2.06-.94 2.06-2.06.94z\"/><path d=\"M17.41 7.96l-1.37-1.37c-.4-.4-.92-.59-1.43-.59-.52 0-1.04.2-1.43.59L10.3 9.45l-7.72 7.72c-.78.78-.78 2.05 0 2.83L4 21.41c.39.39.9.59 1.41.59.51 0 1.02-.2 1.41-.59l7.78-7.78 2.81-2.81c.8-.78.8-2.07 0-2.86zM5.41 20L4 18.59l7.72-7.72 1.47 1.35L5.41 20z\"/>\n",
              "  </svg>\n",
              "      </button>\n",
              "      \n",
              "  <style>\n",
              "    .colab-df-container {\n",
              "      display:flex;\n",
              "      flex-wrap:wrap;\n",
              "      gap: 12px;\n",
              "    }\n",
              "\n",
              "    .colab-df-convert {\n",
              "      background-color: #E8F0FE;\n",
              "      border: none;\n",
              "      border-radius: 50%;\n",
              "      cursor: pointer;\n",
              "      display: none;\n",
              "      fill: #1967D2;\n",
              "      height: 32px;\n",
              "      padding: 0 0 0 0;\n",
              "      width: 32px;\n",
              "    }\n",
              "\n",
              "    .colab-df-convert:hover {\n",
              "      background-color: #E2EBFA;\n",
              "      box-shadow: 0px 1px 2px rgba(60, 64, 67, 0.3), 0px 1px 3px 1px rgba(60, 64, 67, 0.15);\n",
              "      fill: #174EA6;\n",
              "    }\n",
              "\n",
              "    [theme=dark] .colab-df-convert {\n",
              "      background-color: #3B4455;\n",
              "      fill: #D2E3FC;\n",
              "    }\n",
              "\n",
              "    [theme=dark] .colab-df-convert:hover {\n",
              "      background-color: #434B5C;\n",
              "      box-shadow: 0px 1px 3px 1px rgba(0, 0, 0, 0.15);\n",
              "      filter: drop-shadow(0px 1px 2px rgba(0, 0, 0, 0.3));\n",
              "      fill: #FFFFFF;\n",
              "    }\n",
              "  </style>\n",
              "\n",
              "      <script>\n",
              "        const buttonEl =\n",
              "          document.querySelector('#df-403e8b8c-4d6e-492d-9817-8f75bd22ce54 button.colab-df-convert');\n",
              "        buttonEl.style.display =\n",
              "          google.colab.kernel.accessAllowed ? 'block' : 'none';\n",
              "\n",
              "        async function convertToInteractive(key) {\n",
              "          const element = document.querySelector('#df-403e8b8c-4d6e-492d-9817-8f75bd22ce54');\n",
              "          const dataTable =\n",
              "            await google.colab.kernel.invokeFunction('convertToInteractive',\n",
              "                                                     [key], {});\n",
              "          if (!dataTable) return;\n",
              "\n",
              "          const docLinkHtml = 'Like what you see? Visit the ' +\n",
              "            '<a target=\"_blank\" href=https://colab.research.google.com/notebooks/data_table.ipynb>data table notebook</a>'\n",
              "            + ' to learn more about interactive tables.';\n",
              "          element.innerHTML = '';\n",
              "          dataTable['output_type'] = 'display_data';\n",
              "          await google.colab.output.renderOutput(dataTable, element);\n",
              "          const docLink = document.createElement('div');\n",
              "          docLink.innerHTML = docLinkHtml;\n",
              "          element.appendChild(docLink);\n",
              "        }\n",
              "      </script>\n",
              "    </div>\n",
              "  </div>\n",
              "  "
            ]
          },
          "metadata": {},
          "execution_count": 15
        }
      ],
      "source": [
        "#Handle index numbers\n",
        "df.reset_index(inplace = True)\n",
        "df.drop([\"index\"], axis = 1, inplace = True)\n",
        "df.head(5)"
      ]
    },
    {
      "cell_type": "code",
      "execution_count": 16,
      "metadata": {
        "colab": {
          "base_uri": "https://localhost:8080/"
        },
        "id": "wiOU_WqfGr1Q",
        "outputId": "baa68828-ae94-4c74-c997-73f5cf9133a0"
      },
      "outputs": [
        {
          "output_type": "execute_result",
          "data": {
            "text/plain": [
              "1    0.522985\n",
              "0    0.477015\n",
              "Name: class, dtype: float64"
            ]
          },
          "metadata": {},
          "execution_count": 16
        }
      ],
      "source": [
        "# 52% of news are fake and 47.7% news is true\n",
        "df['class'].value_counts(normalize=True)"
      ]
    },
    {
      "cell_type": "markdown",
      "metadata": {
        "id": "J5oEBY1GEw4z"
      },
      "source": [
        "### <font color=\"blue\">**Remove Stopwords and Delimeter**</font>"
      ]
    },
    {
      "cell_type": "code",
      "execution_count": null,
      "metadata": {
        "id": "m3zhstWREdYi",
        "outputId": "7d987b88-3f93-4e73-8dac-67e92bba9f80",
        "colab": {
          "base_uri": "https://localhost:8080/",
          "height": 414
        }
      },
      "outputs": [
        {
          "output_type": "execute_result",
          "data": {
            "text/plain": [
              "0        [Apparently, original, ideas, liability, Donal...\n",
              "1        [Minnesota, hotbed, liberalism, diversity, Mid...\n",
              "2        [DUBAI, Reuters, France, sold, two, Gowindclas...\n",
              "3        [TIJUANA, Mexico, Reuters, US, President, Dona...\n",
              "4        [NEW, YORK, Reuters, US, President, Donald, Tr...\n",
              "                               ...                        \n",
              "44893    [Jon, RappoportCNN, already, claiming, whole, ...\n",
              "44894    [Donald, Trump, Jr, Paul, Manafort, Jared, Kus...\n",
              "44895    [AUSTIN, Texas, Reuters, Texas, governor, sign...\n",
              "44896                                                   []\n",
              "44897    [WASHINGTON, Reuters, US, Attorney, General, L...\n",
              "Name: text, Length: 44898, dtype: object"
            ]
          },
          "metadata": {},
          "execution_count": 21
        },
        {
          "output_type": "execute_result",
          "data": {
            "text/plain": [
              "                                                text  class\n",
              "0  Apparently, original ideas are a liability in ...      1\n",
              "1  Minnesota the hotbed of liberalism and  divers...      1\n",
              "2  DUBAI (Reuters) - France sold two Gowind-class...      0\n",
              "3  TIJUANA, Mexico (Reuters) - U.S. President Don...      0\n",
              "4  NEW YORK (Reuters) - U.S. President Donald Tru...      0"
            ],
            "text/html": [
              "\n",
              "  <div id=\"df-9938166d-6bf0-4377-b43f-6b076ff283cb\">\n",
              "    <div class=\"colab-df-container\">\n",
              "      <div>\n",
              "<style scoped>\n",
              "    .dataframe tbody tr th:only-of-type {\n",
              "        vertical-align: middle;\n",
              "    }\n",
              "\n",
              "    .dataframe tbody tr th {\n",
              "        vertical-align: top;\n",
              "    }\n",
              "\n",
              "    .dataframe thead th {\n",
              "        text-align: right;\n",
              "    }\n",
              "</style>\n",
              "<table border=\"1\" class=\"dataframe\">\n",
              "  <thead>\n",
              "    <tr style=\"text-align: right;\">\n",
              "      <th></th>\n",
              "      <th>text</th>\n",
              "      <th>class</th>\n",
              "    </tr>\n",
              "  </thead>\n",
              "  <tbody>\n",
              "    <tr>\n",
              "      <th>0</th>\n",
              "      <td>Apparently, original ideas are a liability in ...</td>\n",
              "      <td>1</td>\n",
              "    </tr>\n",
              "    <tr>\n",
              "      <th>1</th>\n",
              "      <td>Minnesota the hotbed of liberalism and  divers...</td>\n",
              "      <td>1</td>\n",
              "    </tr>\n",
              "    <tr>\n",
              "      <th>2</th>\n",
              "      <td>DUBAI (Reuters) - France sold two Gowind-class...</td>\n",
              "      <td>0</td>\n",
              "    </tr>\n",
              "    <tr>\n",
              "      <th>3</th>\n",
              "      <td>TIJUANA, Mexico (Reuters) - U.S. President Don...</td>\n",
              "      <td>0</td>\n",
              "    </tr>\n",
              "    <tr>\n",
              "      <th>4</th>\n",
              "      <td>NEW YORK (Reuters) - U.S. President Donald Tru...</td>\n",
              "      <td>0</td>\n",
              "    </tr>\n",
              "  </tbody>\n",
              "</table>\n",
              "</div>\n",
              "      <button class=\"colab-df-convert\" onclick=\"convertToInteractive('df-9938166d-6bf0-4377-b43f-6b076ff283cb')\"\n",
              "              title=\"Convert this dataframe to an interactive table.\"\n",
              "              style=\"display:none;\">\n",
              "        \n",
              "  <svg xmlns=\"http://www.w3.org/2000/svg\" height=\"24px\"viewBox=\"0 0 24 24\"\n",
              "       width=\"24px\">\n",
              "    <path d=\"M0 0h24v24H0V0z\" fill=\"none\"/>\n",
              "    <path d=\"M18.56 5.44l.94 2.06.94-2.06 2.06-.94-2.06-.94-.94-2.06-.94 2.06-2.06.94zm-11 1L8.5 8.5l.94-2.06 2.06-.94-2.06-.94L8.5 2.5l-.94 2.06-2.06.94zm10 10l.94 2.06.94-2.06 2.06-.94-2.06-.94-.94-2.06-.94 2.06-2.06.94z\"/><path d=\"M17.41 7.96l-1.37-1.37c-.4-.4-.92-.59-1.43-.59-.52 0-1.04.2-1.43.59L10.3 9.45l-7.72 7.72c-.78.78-.78 2.05 0 2.83L4 21.41c.39.39.9.59 1.41.59.51 0 1.02-.2 1.41-.59l7.78-7.78 2.81-2.81c.8-.78.8-2.07 0-2.86zM5.41 20L4 18.59l7.72-7.72 1.47 1.35L5.41 20z\"/>\n",
              "  </svg>\n",
              "      </button>\n",
              "      \n",
              "  <style>\n",
              "    .colab-df-container {\n",
              "      display:flex;\n",
              "      flex-wrap:wrap;\n",
              "      gap: 12px;\n",
              "    }\n",
              "\n",
              "    .colab-df-convert {\n",
              "      background-color: #E8F0FE;\n",
              "      border: none;\n",
              "      border-radius: 50%;\n",
              "      cursor: pointer;\n",
              "      display: none;\n",
              "      fill: #1967D2;\n",
              "      height: 32px;\n",
              "      padding: 0 0 0 0;\n",
              "      width: 32px;\n",
              "    }\n",
              "\n",
              "    .colab-df-convert:hover {\n",
              "      background-color: #E2EBFA;\n",
              "      box-shadow: 0px 1px 2px rgba(60, 64, 67, 0.3), 0px 1px 3px 1px rgba(60, 64, 67, 0.15);\n",
              "      fill: #174EA6;\n",
              "    }\n",
              "\n",
              "    [theme=dark] .colab-df-convert {\n",
              "      background-color: #3B4455;\n",
              "      fill: #D2E3FC;\n",
              "    }\n",
              "\n",
              "    [theme=dark] .colab-df-convert:hover {\n",
              "      background-color: #434B5C;\n",
              "      box-shadow: 0px 1px 3px 1px rgba(0, 0, 0, 0.15);\n",
              "      filter: drop-shadow(0px 1px 2px rgba(0, 0, 0, 0.3));\n",
              "      fill: #FFFFFF;\n",
              "    }\n",
              "  </style>\n",
              "\n",
              "      <script>\n",
              "        const buttonEl =\n",
              "          document.querySelector('#df-9938166d-6bf0-4377-b43f-6b076ff283cb button.colab-df-convert');\n",
              "        buttonEl.style.display =\n",
              "          google.colab.kernel.accessAllowed ? 'block' : 'none';\n",
              "\n",
              "        async function convertToInteractive(key) {\n",
              "          const element = document.querySelector('#df-9938166d-6bf0-4377-b43f-6b076ff283cb');\n",
              "          const dataTable =\n",
              "            await google.colab.kernel.invokeFunction('convertToInteractive',\n",
              "                                                     [key], {});\n",
              "          if (!dataTable) return;\n",
              "\n",
              "          const docLinkHtml = 'Like what you see? Visit the ' +\n",
              "            '<a target=\"_blank\" href=https://colab.research.google.com/notebooks/data_table.ipynb>data table notebook</a>'\n",
              "            + ' to learn more about interactive tables.';\n",
              "          element.innerHTML = '';\n",
              "          dataTable['output_type'] = 'display_data';\n",
              "          await google.colab.output.renderOutput(dataTable, element);\n",
              "          const docLink = document.createElement('div');\n",
              "          docLink.innerHTML = docLinkHtml;\n",
              "          element.appendChild(docLink);\n",
              "        }\n",
              "      </script>\n",
              "    </div>\n",
              "  </div>\n",
              "  "
            ]
          },
          "metadata": {},
          "execution_count": 21
        }
      ],
      "source": [
        "def text_process(mess):\n",
        "    nopunc =[char for char in mess if char not in string.punctuation]\n",
        "    nopunc=''.join(nopunc)\n",
        "    return [word for word in nopunc.split() if word.lower() not in stopwords.words('english')]\n",
        "\n",
        "\n",
        "df['text'].apply(text_process)\n",
        "df.head(5)"
      ]
    },
    {
      "cell_type": "markdown",
      "metadata": {
        "id": "NUYEuQKwN1Ia"
      },
      "source": [
        "### <font color=\"blue\">**Lemmatization**</font>"
      ]
    },
    {
      "cell_type": "code",
      "execution_count": 17,
      "metadata": {
        "id": "1VAzxDvaFQv3",
        "outputId": "1b6e7bda-1712-4e3c-9812-10155b508605",
        "colab": {
          "base_uri": "https://localhost:8080/"
        }
      },
      "outputs": [
        {
          "output_type": "stream",
          "name": "stdout",
          "text": [
            "With out Lammetization -  The grieving daughter in law of Vice President Joe Biden has formed a relationship with Hunter Biden, the younger brother of her late husband, according to a bombshell report.Beau Biden, the former attorney general of Delaware, died in 2015, shocking the entire family and playing into his father s decision to stay out of the race to succeed President Obama after decades in politics.Hunter Biden, 47, separated from his wife Kathleen in 2015. He has now taken up with his brother s widow, the couple said in a statement to the New York Post s Page Six, which acknowledged their  love and support. Hallie and I are incredibly lucky to have found the love and support we have for each other in such a difficult time, and that s been obvious to the people who love us most. We ve been so lucky to have family and friends who have supported us every step of the way,  they said in a statement.Vice President Joe Biden, who has mostly stayed out of the limelight since leaving office, also issued a statement along with his wife Jill, acknowledging the  sadness  that brought the new couple together.They offered their  complete support  to the unusual pairing.  We are all lucky that Hunter and Hallie found each other as they were putting their lives together again after such sadness. They have mine and Jill s full and complete support and we are happy for them,  Joe and Jill Biden said.A source told the New York Post Hunter and Kathleen separated in October 2015, five months after Beau Biden s death.  Daily Mail \n",
            "With Lemmatization -      The grieving daughter in law of Vice President Joe Biden ha formed a relationship with Hunter Biden, the younger brother of her late husband, according to a bombshell report.Beau Biden, the former attorney general of Delaware, died in 2015, shocking the entire family and playing into his father s decision to stay out of the race to succeed President Obama after decade in politics.Hunter Biden, 47, separated from his wife Kathleen in 2015. He ha now taken up with his brother s widow, the couple said in a statement to the New York Post s Page Six, which acknowledged their love and support. Hallie and I are incredibly lucky to have found the love and support we have for each other in such a difficult time, and that s been obvious to the people who love u most. We ve been so lucky to have family and friend who have supported u every step of the way, they said in a statement.Vice President Joe Biden, who ha mostly stayed out of the limelight since leaving office, also issued a statement along with his wife Jill, acknowledging the sadness that brought the new couple together.They offered their complete support to the unusual pairing. We are all lucky that Hunter and Hallie found each other a they were putting their life together again after such sadness. They have mine and Jill s full and complete support and we are happy for them, Joe and Jill Biden said.A source told the New York Post Hunter and Kathleen separated in October 2015, five month after Beau Biden s death. Daily Mail\n"
          ]
        }
      ],
      "source": [
        "lemmatizer = WordNetLemmatizer()\n",
        "\n",
        "print('With out Lammetization - ', df['text'][2])\n",
        "\n",
        "Lemmatized = df['text'].apply(lambda x: \" \".join([Word(word).lemmatize() for word in x.split()]))\n",
        "print('With Lemmatization -     ',  Lemmatized[2])"
      ]
    },
    {
      "cell_type": "markdown",
      "metadata": {
        "id": "5QfHLISfO4xF"
      },
      "source": [
        "### <font color=\"blue\"> 1.Remove links from the dataset. <br> 2.Remove special characters or symbols from the dataset. <br> 3. Remove numbers or alphanumerical characters from the dataset.</font>"
      ]
    },
    {
      "cell_type": "code",
      "execution_count": 18,
      "metadata": {
        "id": "ofoAYvjUN_iN",
        "outputId": "803d0d8c-2450-481a-a233-93946a5fc383",
        "colab": {
          "base_uri": "https://localhost:8080/"
        }
      },
      "outputs": [
        {
          "output_type": "stream",
          "name": "stderr",
          "text": [
            "<ipython-input-18-5e9aed541667>:1: FutureWarning: The default value of regex will change from True to False in a future version.\n",
            "  df['text'] = df['text'].str.replace(r'([\\w\\.-]+)@([\\w\\.-]+)',' ') #remove email addresses\n",
            "<ipython-input-18-5e9aed541667>:2: FutureWarning: The default value of regex will change from True to False in a future version.\n",
            "  df['text'] = df['text'].str.replace(r'[^\\w\\s]',' ') #remove punctuations and special chareters from dataset\n",
            "<ipython-input-18-5e9aed541667>:3: FutureWarning: The default value of regex will change from True to False in a future version.\n",
            "  df['text'] = df['text'].str.replace(r'(https|http)?:\\/\\/(\\w|\\.|\\_|\\/|\\?|\\=|\\&|\\%)*\\b', ' ') # Remove links from the dataset.\n",
            "<ipython-input-18-5e9aed541667>:4: FutureWarning: The default value of regex will change from True to False in a future version.\n",
            "  df['text'] = df['text'].str.replace(r'[^\\w]', ' ') #Remove not alphanumeric symbols white spaces\n"
          ]
        }
      ],
      "source": [
        "df['text'] = df['text'].str.replace(r'([\\w\\.-]+)@([\\w\\.-]+)',' ') #remove email addresses\n",
        "df['text'] = df['text'].str.replace(r'[^\\w\\s]',' ') #remove punctuations and special chareters from dataset\n",
        "df['text'] = df['text'].str.replace(r'(https|http)?:\\/\\/(\\w|\\.|\\_|\\/|\\?|\\=|\\&|\\%)*\\b', ' ') # Remove links from the dataset.\n",
        "df['text'] = df['text'].str.replace(r'[^\\w]', ' ') #Remove not alphanumeric symbols white spaces"
      ]
    },
    {
      "cell_type": "code",
      "execution_count": 19,
      "metadata": {
        "id": "r-68e-DdPD6n"
      },
      "outputs": [],
      "source": [
        "df.reset_index(inplace = True)"
      ]
    },
    {
      "cell_type": "code",
      "source": [
        "df.drop([\"index\"], axis = 1, inplace = True)\n",
        "df.head(5)"
      ],
      "metadata": {
        "id": "-vbIb49FzUNq",
        "outputId": "b5e1af8e-294f-4ceb-b2b1-3ede2453fe51",
        "colab": {
          "base_uri": "https://localhost:8080/",
          "height": 206
        }
      },
      "execution_count": 20,
      "outputs": [
        {
          "output_type": "execute_result",
          "data": {
            "text/plain": [
              "                                                text  class\n",
              "0   Reuters    A federal court judge on Wednesday...      0\n",
              "1  It is now 14 days until Donald Trump takes ove...      1\n",
              "2  The grieving daughter in law of Vice President...      1\n",
              "3  BERLIN  Reuters    A 96 year old German convic...      0\n",
              "4  No matter which candidate you support  this mo...      1"
            ],
            "text/html": [
              "\n",
              "  <div id=\"df-29fdb890-7822-42d6-8aa2-99e3d78c8bf6\">\n",
              "    <div class=\"colab-df-container\">\n",
              "      <div>\n",
              "<style scoped>\n",
              "    .dataframe tbody tr th:only-of-type {\n",
              "        vertical-align: middle;\n",
              "    }\n",
              "\n",
              "    .dataframe tbody tr th {\n",
              "        vertical-align: top;\n",
              "    }\n",
              "\n",
              "    .dataframe thead th {\n",
              "        text-align: right;\n",
              "    }\n",
              "</style>\n",
              "<table border=\"1\" class=\"dataframe\">\n",
              "  <thead>\n",
              "    <tr style=\"text-align: right;\">\n",
              "      <th></th>\n",
              "      <th>text</th>\n",
              "      <th>class</th>\n",
              "    </tr>\n",
              "  </thead>\n",
              "  <tbody>\n",
              "    <tr>\n",
              "      <th>0</th>\n",
              "      <td>Reuters    A federal court judge on Wednesday...</td>\n",
              "      <td>0</td>\n",
              "    </tr>\n",
              "    <tr>\n",
              "      <th>1</th>\n",
              "      <td>It is now 14 days until Donald Trump takes ove...</td>\n",
              "      <td>1</td>\n",
              "    </tr>\n",
              "    <tr>\n",
              "      <th>2</th>\n",
              "      <td>The grieving daughter in law of Vice President...</td>\n",
              "      <td>1</td>\n",
              "    </tr>\n",
              "    <tr>\n",
              "      <th>3</th>\n",
              "      <td>BERLIN  Reuters    A 96 year old German convic...</td>\n",
              "      <td>0</td>\n",
              "    </tr>\n",
              "    <tr>\n",
              "      <th>4</th>\n",
              "      <td>No matter which candidate you support  this mo...</td>\n",
              "      <td>1</td>\n",
              "    </tr>\n",
              "  </tbody>\n",
              "</table>\n",
              "</div>\n",
              "      <button class=\"colab-df-convert\" onclick=\"convertToInteractive('df-29fdb890-7822-42d6-8aa2-99e3d78c8bf6')\"\n",
              "              title=\"Convert this dataframe to an interactive table.\"\n",
              "              style=\"display:none;\">\n",
              "        \n",
              "  <svg xmlns=\"http://www.w3.org/2000/svg\" height=\"24px\"viewBox=\"0 0 24 24\"\n",
              "       width=\"24px\">\n",
              "    <path d=\"M0 0h24v24H0V0z\" fill=\"none\"/>\n",
              "    <path d=\"M18.56 5.44l.94 2.06.94-2.06 2.06-.94-2.06-.94-.94-2.06-.94 2.06-2.06.94zm-11 1L8.5 8.5l.94-2.06 2.06-.94-2.06-.94L8.5 2.5l-.94 2.06-2.06.94zm10 10l.94 2.06.94-2.06 2.06-.94-2.06-.94-.94-2.06-.94 2.06-2.06.94z\"/><path d=\"M17.41 7.96l-1.37-1.37c-.4-.4-.92-.59-1.43-.59-.52 0-1.04.2-1.43.59L10.3 9.45l-7.72 7.72c-.78.78-.78 2.05 0 2.83L4 21.41c.39.39.9.59 1.41.59.51 0 1.02-.2 1.41-.59l7.78-7.78 2.81-2.81c.8-.78.8-2.07 0-2.86zM5.41 20L4 18.59l7.72-7.72 1.47 1.35L5.41 20z\"/>\n",
              "  </svg>\n",
              "      </button>\n",
              "      \n",
              "  <style>\n",
              "    .colab-df-container {\n",
              "      display:flex;\n",
              "      flex-wrap:wrap;\n",
              "      gap: 12px;\n",
              "    }\n",
              "\n",
              "    .colab-df-convert {\n",
              "      background-color: #E8F0FE;\n",
              "      border: none;\n",
              "      border-radius: 50%;\n",
              "      cursor: pointer;\n",
              "      display: none;\n",
              "      fill: #1967D2;\n",
              "      height: 32px;\n",
              "      padding: 0 0 0 0;\n",
              "      width: 32px;\n",
              "    }\n",
              "\n",
              "    .colab-df-convert:hover {\n",
              "      background-color: #E2EBFA;\n",
              "      box-shadow: 0px 1px 2px rgba(60, 64, 67, 0.3), 0px 1px 3px 1px rgba(60, 64, 67, 0.15);\n",
              "      fill: #174EA6;\n",
              "    }\n",
              "\n",
              "    [theme=dark] .colab-df-convert {\n",
              "      background-color: #3B4455;\n",
              "      fill: #D2E3FC;\n",
              "    }\n",
              "\n",
              "    [theme=dark] .colab-df-convert:hover {\n",
              "      background-color: #434B5C;\n",
              "      box-shadow: 0px 1px 3px 1px rgba(0, 0, 0, 0.15);\n",
              "      filter: drop-shadow(0px 1px 2px rgba(0, 0, 0, 0.3));\n",
              "      fill: #FFFFFF;\n",
              "    }\n",
              "  </style>\n",
              "\n",
              "      <script>\n",
              "        const buttonEl =\n",
              "          document.querySelector('#df-29fdb890-7822-42d6-8aa2-99e3d78c8bf6 button.colab-df-convert');\n",
              "        buttonEl.style.display =\n",
              "          google.colab.kernel.accessAllowed ? 'block' : 'none';\n",
              "\n",
              "        async function convertToInteractive(key) {\n",
              "          const element = document.querySelector('#df-29fdb890-7822-42d6-8aa2-99e3d78c8bf6');\n",
              "          const dataTable =\n",
              "            await google.colab.kernel.invokeFunction('convertToInteractive',\n",
              "                                                     [key], {});\n",
              "          if (!dataTable) return;\n",
              "\n",
              "          const docLinkHtml = 'Like what you see? Visit the ' +\n",
              "            '<a target=\"_blank\" href=https://colab.research.google.com/notebooks/data_table.ipynb>data table notebook</a>'\n",
              "            + ' to learn more about interactive tables.';\n",
              "          element.innerHTML = '';\n",
              "          dataTable['output_type'] = 'display_data';\n",
              "          await google.colab.output.renderOutput(dataTable, element);\n",
              "          const docLink = document.createElement('div');\n",
              "          docLink.innerHTML = docLinkHtml;\n",
              "          element.appendChild(docLink);\n",
              "        }\n",
              "      </script>\n",
              "    </div>\n",
              "  </div>\n",
              "  "
            ]
          },
          "metadata": {},
          "execution_count": 20
        }
      ]
    },
    {
      "cell_type": "markdown",
      "metadata": {
        "id": "OTT8C0CfPjPq"
      },
      "source": [
        "#<font color='brown'><b>Model creation and prediction</b></font><br>\n",
        "## <font color=\"blue\">Train-Test Split and perform the classification task using the Naive Bayes classification model. Count vectorizer features and TF-IDF features.</font>"
      ]
    },
    {
      "cell_type": "code",
      "execution_count": 21,
      "metadata": {
        "id": "_ZBB1KQfPNxn",
        "outputId": "c648ddb6-2d34-417a-aa47-7928c287e970",
        "colab": {
          "base_uri": "https://localhost:8080/"
        }
      },
      "outputs": [
        {
          "output_type": "execute_result",
          "data": {
            "text/plain": [
              "(44898, 44898)"
            ]
          },
          "metadata": {},
          "execution_count": 21
        }
      ],
      "source": [
        "x = df['text']\n",
        "y = df['class']\n",
        "\n",
        "len(x), len(y)"
      ]
    },
    {
      "cell_type": "code",
      "execution_count": 22,
      "metadata": {
        "id": "eMZY9ToiQVMm",
        "outputId": "86404141-28b6-4a97-d637-5bbbea0b861b",
        "colab": {
          "base_uri": "https://localhost:8080/"
        }
      },
      "outputs": [
        {
          "output_type": "stream",
          "name": "stdout",
          "text": [
            "33673 33673\n",
            "11225 11225\n"
          ]
        }
      ],
      "source": [
        "from sklearn.model_selection import train_test_split\n",
        "\n",
        "x_train, x_test, y_train, y_test = train_test_split(x, y)\n",
        "print(len(x_train), len(y_train))\n",
        "print(len(x_test), len(y_test))"
      ]
    },
    {
      "cell_type": "code",
      "source": [
        "# TFIDF feature generation for a maximum of 5000 features\n",
        "encoder = preprocessing.LabelEncoder()\n",
        "train_y = encoder.fit_transform(y_train)\n",
        "valid_y = encoder.fit_transform(y_test)\n",
        "tfidf_vect = TfidfVectorizer(analyzer='word', token_pattern=r'\\w{1,}', max_features=5000)\n",
        "tfidf_vect.fit(df['text'])\n",
        "xtrain_tfidf = tfidf_vect.transform(x_train)\n",
        "xvalid_tfidf = tfidf_vect.transform(x_test)\n",
        "xtrain_tfidf.data"
      ],
      "metadata": {
        "id": "74ZtmS6F7S3_",
        "outputId": "cffeec60-8635-4cad-ded5-568cf5e6dbb3",
        "colab": {
          "base_uri": "https://localhost:8080/",
          "height": 109
        }
      },
      "execution_count": 23,
      "outputs": [
        {
          "output_type": "execute_result",
          "data": {
            "text/plain": [
              "TfidfVectorizer(max_features=5000, token_pattern='\\\\w{1,}')"
            ],
            "text/html": [
              "<style>#sk-container-id-1 {color: black;background-color: white;}#sk-container-id-1 pre{padding: 0;}#sk-container-id-1 div.sk-toggleable {background-color: white;}#sk-container-id-1 label.sk-toggleable__label {cursor: pointer;display: block;width: 100%;margin-bottom: 0;padding: 0.3em;box-sizing: border-box;text-align: center;}#sk-container-id-1 label.sk-toggleable__label-arrow:before {content: \"▸\";float: left;margin-right: 0.25em;color: #696969;}#sk-container-id-1 label.sk-toggleable__label-arrow:hover:before {color: black;}#sk-container-id-1 div.sk-estimator:hover label.sk-toggleable__label-arrow:before {color: black;}#sk-container-id-1 div.sk-toggleable__content {max-height: 0;max-width: 0;overflow: hidden;text-align: left;background-color: #f0f8ff;}#sk-container-id-1 div.sk-toggleable__content pre {margin: 0.2em;color: black;border-radius: 0.25em;background-color: #f0f8ff;}#sk-container-id-1 input.sk-toggleable__control:checked~div.sk-toggleable__content {max-height: 200px;max-width: 100%;overflow: auto;}#sk-container-id-1 input.sk-toggleable__control:checked~label.sk-toggleable__label-arrow:before {content: \"▾\";}#sk-container-id-1 div.sk-estimator input.sk-toggleable__control:checked~label.sk-toggleable__label {background-color: #d4ebff;}#sk-container-id-1 div.sk-label input.sk-toggleable__control:checked~label.sk-toggleable__label {background-color: #d4ebff;}#sk-container-id-1 input.sk-hidden--visually {border: 0;clip: rect(1px 1px 1px 1px);clip: rect(1px, 1px, 1px, 1px);height: 1px;margin: -1px;overflow: hidden;padding: 0;position: absolute;width: 1px;}#sk-container-id-1 div.sk-estimator {font-family: monospace;background-color: #f0f8ff;border: 1px dotted black;border-radius: 0.25em;box-sizing: border-box;margin-bottom: 0.5em;}#sk-container-id-1 div.sk-estimator:hover {background-color: #d4ebff;}#sk-container-id-1 div.sk-parallel-item::after {content: \"\";width: 100%;border-bottom: 1px solid gray;flex-grow: 1;}#sk-container-id-1 div.sk-label:hover label.sk-toggleable__label {background-color: #d4ebff;}#sk-container-id-1 div.sk-serial::before {content: \"\";position: absolute;border-left: 1px solid gray;box-sizing: border-box;top: 0;bottom: 0;left: 50%;z-index: 0;}#sk-container-id-1 div.sk-serial {display: flex;flex-direction: column;align-items: center;background-color: white;padding-right: 0.2em;padding-left: 0.2em;position: relative;}#sk-container-id-1 div.sk-item {position: relative;z-index: 1;}#sk-container-id-1 div.sk-parallel {display: flex;align-items: stretch;justify-content: center;background-color: white;position: relative;}#sk-container-id-1 div.sk-item::before, #sk-container-id-1 div.sk-parallel-item::before {content: \"\";position: absolute;border-left: 1px solid gray;box-sizing: border-box;top: 0;bottom: 0;left: 50%;z-index: -1;}#sk-container-id-1 div.sk-parallel-item {display: flex;flex-direction: column;z-index: 1;position: relative;background-color: white;}#sk-container-id-1 div.sk-parallel-item:first-child::after {align-self: flex-end;width: 50%;}#sk-container-id-1 div.sk-parallel-item:last-child::after {align-self: flex-start;width: 50%;}#sk-container-id-1 div.sk-parallel-item:only-child::after {width: 0;}#sk-container-id-1 div.sk-dashed-wrapped {border: 1px dashed gray;margin: 0 0.4em 0.5em 0.4em;box-sizing: border-box;padding-bottom: 0.4em;background-color: white;}#sk-container-id-1 div.sk-label label {font-family: monospace;font-weight: bold;display: inline-block;line-height: 1.2em;}#sk-container-id-1 div.sk-label-container {text-align: center;}#sk-container-id-1 div.sk-container {/* jupyter's `normalize.less` sets `[hidden] { display: none; }` but bootstrap.min.css set `[hidden] { display: none !important; }` so we also need the `!important` here to be able to override the default hidden behavior on the sphinx rendered scikit-learn.org. See: https://github.com/scikit-learn/scikit-learn/issues/21755 */display: inline-block !important;position: relative;}#sk-container-id-1 div.sk-text-repr-fallback {display: none;}</style><div id=\"sk-container-id-1\" class=\"sk-top-container\"><div class=\"sk-text-repr-fallback\"><pre>TfidfVectorizer(max_features=5000, token_pattern=&#x27;\\\\w{1,}&#x27;)</pre><b>In a Jupyter environment, please rerun this cell to show the HTML representation or trust the notebook. <br />On GitHub, the HTML representation is unable to render, please try loading this page with nbviewer.org.</b></div><div class=\"sk-container\" hidden><div class=\"sk-item\"><div class=\"sk-estimator sk-toggleable\"><input class=\"sk-toggleable__control sk-hidden--visually\" id=\"sk-estimator-id-1\" type=\"checkbox\" checked><label for=\"sk-estimator-id-1\" class=\"sk-toggleable__label sk-toggleable__label-arrow\">TfidfVectorizer</label><div class=\"sk-toggleable__content\"><pre>TfidfVectorizer(max_features=5000, token_pattern=&#x27;\\\\w{1,}&#x27;)</pre></div></div></div></div></div>"
            ]
          },
          "metadata": {},
          "execution_count": 23
        },
        {
          "output_type": "execute_result",
          "data": {
            "text/plain": [
              "array([0.09541355, 0.08430817, 0.0171545 , ..., 0.04596214, 0.12641775,\n",
              "       0.06736831])"
            ]
          },
          "metadata": {},
          "execution_count": 23
        }
      ]
    },
    {
      "cell_type": "code",
      "source": [
        "def train_model(classifier, feature_vector_train, label, feature_vector_valid, is_neural_net=False):\n",
        "  # fit the training dataset on the classifier\n",
        "  classifier.fit(feature_vector_train, label)\n",
        "  # predict the labels on validation dataset\n",
        "  predictions = classifier.predict(feature_vector_valid)\n",
        "  return metrics.accuracy_score(predictions, valid_y)"
      ],
      "metadata": {
        "id": "S4yGB7-1zy1D"
      },
      "execution_count": 24,
      "outputs": []
    },
    {
      "cell_type": "code",
      "source": [
        "# Naive Bayes trainig\n",
        "accuracy = train_model(naive_bayes.MultinomialNB(alpha=0.2),\n",
        "xtrain_tfidf, train_y, xvalid_tfidf)\n",
        "print (\"Accuracy: \", accuracy)"
      ],
      "metadata": {
        "id": "LYhr0BZzzzGA",
        "outputId": "0d63bfa6-865c-4f4c-ebe3-03b2cb5f2904",
        "colab": {
          "base_uri": "https://localhost:8080/"
        }
      },
      "execution_count": 25,
      "outputs": [
        {
          "output_type": "stream",
          "name": "stdout",
          "text": [
            "Accuracy:  0.9414699331848553\n"
          ]
        }
      ]
    },
    {
      "cell_type": "markdown",
      "source": [
        "## Accuracy using Naive Bayes model is 93.58%"
      ],
      "metadata": {
        "id": "qPgvLDRVAsmg"
      }
    },
    {
      "cell_type": "markdown",
      "source": [
        "## Developing Deep neural networks:\n",
        "RNN model.\n",
        "64 hidden-vector dimension.256 hidden-vector dimension.<br>\n",
        "1-layer LSTM model. [choose 64 or 256 as hidden-vector representation based on the results from 4.a. Report the choice and its justification.]<br>\n",
        "2-layer LSTM model. [use the same hidden-vector representation as 4.b.]<br>\n",
        "1-layer Bi-LSTM model. [use same hidden-vector representation as 4.b. Report 4.b vs 4.d model performance.]"
      ],
      "metadata": {
        "id": "647xdMDtE_Sw"
      }
    },
    {
      "cell_type": "code",
      "source": [
        "# Define the sequence lengths, max number of words and embedding dimensions\n",
        "# Sequence length of each sentence. If more, truncate. If less, pad with zeros\n",
        "MAX_SEQUENCE_LENGTH = 300\n",
        "# Top 20000 frequently occurring words\n",
        "MAX_NB_WORDS = 20000\n",
        "\n",
        "# Get the frequently occurring words\n",
        "tokenizer = Tokenizer(num_words=MAX_NB_WORDS)\n",
        "tokenizer.fit_on_texts(df.text)\n",
        "train_sequences = tokenizer.texts_to_sequences(x_train)\n",
        "test_sequences = tokenizer.texts_to_sequences(x_test)\n",
        "\n",
        "# dictionary containing words and their index\n",
        "word_index = tokenizer.word_index\n",
        "#vocabulary size\n",
        "vocab_size = len(word_index)+1\n",
        "\n",
        "# total words in the corpus\n",
        "print('Found %s unique tokens.' % len(word_index))\n",
        "# get only the top frequent words on train\n",
        "train_data = tf.keras.preprocessing.sequence.pad_sequences(train_sequences, maxlen=MAX_SEQUENCE_LENGTH)\n",
        "# get only the top frequent words on test\n",
        "test_data = tf.keras.preprocessing.sequence.pad_sequences(test_sequences, maxlen=MAX_SEQUENCE_LENGTH)\n",
        "print(train_data.shape)\n",
        "print(test_data.shape)"
      ],
      "metadata": {
        "id": "Ev4m3gzfzzL7",
        "outputId": "fe4ed5f6-796a-40dc-d224-9ca0f9779570",
        "colab": {
          "base_uri": "https://localhost:8080/"
        }
      },
      "execution_count": 26,
      "outputs": [
        {
          "output_type": "stream",
          "name": "stdout",
          "text": [
            "Found 121248 unique tokens.\n",
            "(33673, 300)\n",
            "(11225, 300)\n"
          ]
        }
      ]
    },
    {
      "cell_type": "code",
      "source": [
        "x_test.head(5)"
      ],
      "metadata": {
        "id": "CcfD5h9eSP5u",
        "outputId": "ab0513ec-3afd-4b18-c5c6-e8fab698cb8e",
        "colab": {
          "base_uri": "https://localhost:8080/"
        }
      },
      "execution_count": 27,
      "outputs": [
        {
          "output_type": "execute_result",
          "data": {
            "text/plain": [
              "18974    Donald Trump has been bragging about his inaug...\n",
              "37438    It s worth noting that the victims of this hor...\n",
              "18086     Reuters    Philadelphia District Attorney Set...\n",
              "40776    HARARE  Reuters    Zimbabwean President Robert...\n",
              "28673    Already demonstrating her inability to keep he...\n",
              "Name: text, dtype: object"
            ]
          },
          "metadata": {},
          "execution_count": 27
        }
      ]
    },
    {
      "cell_type": "code",
      "source": [
        "y_train.shape"
      ],
      "metadata": {
        "id": "Cba5-_9FOFYE",
        "outputId": "4850977d-1cde-40a7-8e26-f72e8bcd3602",
        "colab": {
          "base_uri": "https://localhost:8080/"
        }
      },
      "execution_count": 28,
      "outputs": [
        {
          "output_type": "execute_result",
          "data": {
            "text/plain": [
              "(33673,)"
            ]
          },
          "metadata": {},
          "execution_count": 28
        }
      ]
    },
    {
      "cell_type": "code",
      "source": [
        "train_labels = y_train\n",
        "test_labels = y_test\n",
        "\n",
        "#import library\n",
        "from sklearn.preprocessing import LabelEncoder\n",
        "# converts the character array to numeric array. Assigns levels to unique labels.\n",
        "le = LabelEncoder()\n",
        "le.fit(train_labels)\n",
        "train_labels = le.transform(train_labels)\n",
        "test_labels = le.transform(test_labels)\n",
        "print(le.classes_)\n",
        "print(np.unique(train_labels, return_counts=True))\n",
        "print(np.unique(test_labels, return_counts=True))"
      ],
      "metadata": {
        "id": "KtUVTetXzzOR",
        "outputId": "00d47b6d-edf4-4ea3-afd5-a1c1364b5260",
        "colab": {
          "base_uri": "https://localhost:8080/",
          "height": 127
        }
      },
      "execution_count": 29,
      "outputs": [
        {
          "output_type": "execute_result",
          "data": {
            "text/plain": [
              "LabelEncoder()"
            ],
            "text/html": [
              "<style>#sk-container-id-2 {color: black;background-color: white;}#sk-container-id-2 pre{padding: 0;}#sk-container-id-2 div.sk-toggleable {background-color: white;}#sk-container-id-2 label.sk-toggleable__label {cursor: pointer;display: block;width: 100%;margin-bottom: 0;padding: 0.3em;box-sizing: border-box;text-align: center;}#sk-container-id-2 label.sk-toggleable__label-arrow:before {content: \"▸\";float: left;margin-right: 0.25em;color: #696969;}#sk-container-id-2 label.sk-toggleable__label-arrow:hover:before {color: black;}#sk-container-id-2 div.sk-estimator:hover label.sk-toggleable__label-arrow:before {color: black;}#sk-container-id-2 div.sk-toggleable__content {max-height: 0;max-width: 0;overflow: hidden;text-align: left;background-color: #f0f8ff;}#sk-container-id-2 div.sk-toggleable__content pre {margin: 0.2em;color: black;border-radius: 0.25em;background-color: #f0f8ff;}#sk-container-id-2 input.sk-toggleable__control:checked~div.sk-toggleable__content {max-height: 200px;max-width: 100%;overflow: auto;}#sk-container-id-2 input.sk-toggleable__control:checked~label.sk-toggleable__label-arrow:before {content: \"▾\";}#sk-container-id-2 div.sk-estimator input.sk-toggleable__control:checked~label.sk-toggleable__label {background-color: #d4ebff;}#sk-container-id-2 div.sk-label input.sk-toggleable__control:checked~label.sk-toggleable__label {background-color: #d4ebff;}#sk-container-id-2 input.sk-hidden--visually {border: 0;clip: rect(1px 1px 1px 1px);clip: rect(1px, 1px, 1px, 1px);height: 1px;margin: -1px;overflow: hidden;padding: 0;position: absolute;width: 1px;}#sk-container-id-2 div.sk-estimator {font-family: monospace;background-color: #f0f8ff;border: 1px dotted black;border-radius: 0.25em;box-sizing: border-box;margin-bottom: 0.5em;}#sk-container-id-2 div.sk-estimator:hover {background-color: #d4ebff;}#sk-container-id-2 div.sk-parallel-item::after {content: \"\";width: 100%;border-bottom: 1px solid gray;flex-grow: 1;}#sk-container-id-2 div.sk-label:hover label.sk-toggleable__label {background-color: #d4ebff;}#sk-container-id-2 div.sk-serial::before {content: \"\";position: absolute;border-left: 1px solid gray;box-sizing: border-box;top: 0;bottom: 0;left: 50%;z-index: 0;}#sk-container-id-2 div.sk-serial {display: flex;flex-direction: column;align-items: center;background-color: white;padding-right: 0.2em;padding-left: 0.2em;position: relative;}#sk-container-id-2 div.sk-item {position: relative;z-index: 1;}#sk-container-id-2 div.sk-parallel {display: flex;align-items: stretch;justify-content: center;background-color: white;position: relative;}#sk-container-id-2 div.sk-item::before, #sk-container-id-2 div.sk-parallel-item::before {content: \"\";position: absolute;border-left: 1px solid gray;box-sizing: border-box;top: 0;bottom: 0;left: 50%;z-index: -1;}#sk-container-id-2 div.sk-parallel-item {display: flex;flex-direction: column;z-index: 1;position: relative;background-color: white;}#sk-container-id-2 div.sk-parallel-item:first-child::after {align-self: flex-end;width: 50%;}#sk-container-id-2 div.sk-parallel-item:last-child::after {align-self: flex-start;width: 50%;}#sk-container-id-2 div.sk-parallel-item:only-child::after {width: 0;}#sk-container-id-2 div.sk-dashed-wrapped {border: 1px dashed gray;margin: 0 0.4em 0.5em 0.4em;box-sizing: border-box;padding-bottom: 0.4em;background-color: white;}#sk-container-id-2 div.sk-label label {font-family: monospace;font-weight: bold;display: inline-block;line-height: 1.2em;}#sk-container-id-2 div.sk-label-container {text-align: center;}#sk-container-id-2 div.sk-container {/* jupyter's `normalize.less` sets `[hidden] { display: none; }` but bootstrap.min.css set `[hidden] { display: none !important; }` so we also need the `!important` here to be able to override the default hidden behavior on the sphinx rendered scikit-learn.org. See: https://github.com/scikit-learn/scikit-learn/issues/21755 */display: inline-block !important;position: relative;}#sk-container-id-2 div.sk-text-repr-fallback {display: none;}</style><div id=\"sk-container-id-2\" class=\"sk-top-container\"><div class=\"sk-text-repr-fallback\"><pre>LabelEncoder()</pre><b>In a Jupyter environment, please rerun this cell to show the HTML representation or trust the notebook. <br />On GitHub, the HTML representation is unable to render, please try loading this page with nbviewer.org.</b></div><div class=\"sk-container\" hidden><div class=\"sk-item\"><div class=\"sk-estimator sk-toggleable\"><input class=\"sk-toggleable__control sk-hidden--visually\" id=\"sk-estimator-id-2\" type=\"checkbox\" checked><label for=\"sk-estimator-id-2\" class=\"sk-toggleable__label sk-toggleable__label-arrow\">LabelEncoder</label><div class=\"sk-toggleable__content\"><pre>LabelEncoder()</pre></div></div></div></div></div>"
            ]
          },
          "metadata": {},
          "execution_count": 29
        },
        {
          "output_type": "stream",
          "name": "stdout",
          "text": [
            "[0 1]\n",
            "(array([0, 1]), array([16152, 17521]))\n",
            "(array([0, 1]), array([5265, 5960]))\n"
          ]
        }
      ]
    },
    {
      "cell_type": "code",
      "source": [
        "# changing data types\n",
        "labels_train = to_categorical(np.asarray(train_labels))\n",
        "labels_test = to_categorical(np.asarray(test_labels))\n",
        "print('Shape of data tensor:', train_data.shape)\n",
        "print('Shape of label tensor:', labels_train.shape)\n",
        "print('Shape of label tensor:', labels_test.shape)\n",
        "\n",
        "EMBEDDING_DIM = 100\n",
        "print(MAX_SEQUENCE_LENGTH)"
      ],
      "metadata": {
        "id": "ckgZuny8zzQr",
        "outputId": "9c3ecfbd-3f83-4378-b853-eaa1cd6ab717",
        "colab": {
          "base_uri": "https://localhost:8080/"
        }
      },
      "execution_count": 30,
      "outputs": [
        {
          "output_type": "stream",
          "name": "stdout",
          "text": [
            "Shape of data tensor: (33673, 300)\n",
            "Shape of label tensor: (33673, 2)\n",
            "Shape of label tensor: (11225, 2)\n",
            "300\n"
          ]
        }
      ]
    },
    {
      "cell_type": "markdown",
      "source": [
        "### <font color=\"blue\">**Implementing RNN model**</font>"
      ],
      "metadata": {
        "id": "-v7kg9OHqpyd"
      }
    },
    {
      "cell_type": "code",
      "source": [
        "#model training\n",
        "print('Training SIMPLERNN model.')\n",
        "model = Sequential()\n",
        "model.add(Embedding(MAX_NB_WORDS, EMBEDDING_DIM,  input_length=MAX_SEQUENCE_LENGTH))\n",
        "model.add(SimpleRNN(2, input_shape=(None,1)))\n",
        "model.add(Dense(2,activation='softmax'))\n",
        "model.compile(loss = 'binary_crossentropy', optimizer='adam',metrics = ['accuracy']) \n",
        "model.fit(train_data, labels_train,  batch_size=16,  epochs=5,  validation_data=(test_data, labels_test))"
      ],
      "metadata": {
        "id": "9mokKSmCzzTW",
        "outputId": "c9361f7c-e4c8-4054-f92d-eb9a1dd0d7b6",
        "colab": {
          "base_uri": "https://localhost:8080/"
        }
      },
      "execution_count": null,
      "outputs": [
        {
          "output_type": "stream",
          "name": "stdout",
          "text": [
            "Training SIMPLERNN model.\n",
            "Epoch 1/5\n",
            "2105/2105 [==============================] - 790s 372ms/step - loss: 0.2647 - accuracy: 0.9366 - val_loss: 0.1801 - val_accuracy: 0.9449\n",
            "Epoch 2/5\n",
            "2105/2105 [==============================] - 692s 329ms/step - loss: 0.1339 - accuracy: 0.9580 - val_loss: 0.1622 - val_accuracy: 0.9463\n",
            "Epoch 3/5\n",
            "2105/2105 [==============================] - 663s 315ms/step - loss: 0.0938 - accuracy: 0.9713 - val_loss: 0.1501 - val_accuracy: 0.9519\n",
            "Epoch 4/5\n",
            "2105/2105 [==============================] - 647s 307ms/step - loss: 0.0687 - accuracy: 0.9794 - val_loss: 0.1407 - val_accuracy: 0.9545\n",
            "Epoch 5/5\n",
            "2105/2105 [==============================] - 639s 303ms/step - loss: 0.0529 - accuracy: 0.9844 - val_loss: 0.1415 - val_accuracy: 0.9571\n"
          ]
        },
        {
          "output_type": "execute_result",
          "data": {
            "text/plain": [
              "<keras.callbacks.History at 0x7fdaa2c54a30>"
            ]
          },
          "metadata": {},
          "execution_count": 38
        }
      ]
    },
    {
      "cell_type": "code",
      "source": [
        "# prediction on test data\n",
        "predicted_Srnn=model.predict(test_data)\n",
        "predicted_Srnn"
      ],
      "metadata": {
        "id": "_kY0pVY4qMnZ",
        "outputId": "5a0e5fc4-d610-46b4-96a1-d2cfae7f3f67",
        "colab": {
          "base_uri": "https://localhost:8080/"
        }
      },
      "execution_count": null,
      "outputs": [
        {
          "output_type": "stream",
          "name": "stdout",
          "text": [
            "351/351 [==============================] - 9s 26ms/step\n"
          ]
        },
        {
          "output_type": "execute_result",
          "data": {
            "text/plain": [
              "array([[7.0517439e-01, 2.9482564e-01],\n",
              "       [1.6962776e-05, 9.9998307e-01],\n",
              "       [9.9997020e-01, 2.9806297e-05],\n",
              "       ...,\n",
              "       [8.0925502e-02, 9.1907448e-01],\n",
              "       [9.9995112e-01, 4.8905753e-05],\n",
              "       [9.9997807e-01, 2.1970623e-05]], dtype=float32)"
            ]
          },
          "metadata": {},
          "execution_count": 39
        }
      ]
    },
    {
      "cell_type": "code",
      "source": [
        "#model evaluation\n",
        "from sklearn.metrics import precision_recall_fscore_support as score\n",
        "precision, recall, fscore, support = score(labels_test, predicted_Srnn.round())\n",
        "print('precision: {}'.format(precision))\n",
        "print('recall: {}'.format(recall)) \n",
        "print('fscore: {}'.format(fscore))\n",
        "print('support: {}'.format(support))\n",
        "print(\"############################\")\n",
        "print(sklearn.metrics.classification_report(labels_test, predicted_Srnn.round()))"
      ],
      "metadata": {
        "id": "6pf6ckdNqMp8",
        "outputId": "e8e74935-e5bd-48d8-e2cc-dc42236427e5",
        "colab": {
          "base_uri": "https://localhost:8080/"
        }
      },
      "execution_count": null,
      "outputs": [
        {
          "output_type": "stream",
          "name": "stdout",
          "text": [
            "precision: [0.95164267 0.9622869 ]\n",
            "recall: [0.95925581 0.95521368]\n",
            "fscore: [0.95543408 0.95873724]\n",
            "support: [5375 5850]\n",
            "############################\n",
            "              precision    recall  f1-score   support\n",
            "\n",
            "           0       0.95      0.96      0.96      5375\n",
            "           1       0.96      0.96      0.96      5850\n",
            "\n",
            "   micro avg       0.96      0.96      0.96     11225\n",
            "   macro avg       0.96      0.96      0.96     11225\n",
            "weighted avg       0.96      0.96      0.96     11225\n",
            " samples avg       0.96      0.96      0.96     11225\n",
            "\n"
          ]
        }
      ]
    },
    {
      "cell_type": "markdown",
      "source": [
        "### <font color=\"blue\">**Define LSTM**</font>"
      ],
      "metadata": {
        "id": "ONGDVJtor9VW"
      }
    },
    {
      "cell_type": "code",
      "source": [
        "#model training\n",
        "print('Training LSTM model.')\n",
        "model1 = Sequential()\n",
        "model1.add(Embedding(MAX_NB_WORDS, EMBEDDING_DIM, input_length=MAX_SEQUENCE_LENGTH))\n",
        "model1.add(LSTM(16, activation='relu', return_sequences=True))\n",
        "model1.add(Dropout(0.2))\n",
        "model1.add(BatchNormalization())\n",
        "model1.add(Flatten())\n",
        "model1.add(Dense(2,activation='softmax'))\n",
        "model1.compile(loss = 'binary_crossentropy', optimizer='adam',metrics = ['accuracy'])\n",
        "model1.fit(train_data, labels_train,  batch_size=16,  epochs=5,  validation_data=(test_data, labels_test))"
      ],
      "metadata": {
        "id": "E5uHBJjxqMsj",
        "outputId": "ee64ddaa-1b1a-4b17-acfd-b4a8748686a9",
        "colab": {
          "base_uri": "https://localhost:8080/"
        }
      },
      "execution_count": null,
      "outputs": [
        {
          "output_type": "stream",
          "name": "stdout",
          "text": [
            "Training LSTM model.\n",
            "Epoch 1/5\n",
            "2105/2105 [==============================] - 222s 104ms/step - loss: nan - accuracy: 0.8081 - val_loss: nan - val_accuracy: 0.4786\n",
            "Epoch 2/5\n",
            "2105/2105 [==============================] - 214s 102ms/step - loss: nan - accuracy: 0.4765 - val_loss: nan - val_accuracy: 0.4786\n",
            "Epoch 3/5\n",
            "2105/2105 [==============================] - 205s 98ms/step - loss: nan - accuracy: 0.4765 - val_loss: nan - val_accuracy: 0.4786\n",
            "Epoch 4/5\n",
            "2105/2105 [==============================] - 229s 109ms/step - loss: nan - accuracy: 0.4765 - val_loss: nan - val_accuracy: 0.4786\n",
            "Epoch 5/5\n",
            "2105/2105 [==============================] - 223s 106ms/step - loss: nan - accuracy: 0.4765 - val_loss: nan - val_accuracy: 0.4786\n"
          ]
        },
        {
          "output_type": "execute_result",
          "data": {
            "text/plain": [
              "<keras.callbacks.History at 0x7fe74cd8cf70>"
            ]
          },
          "metadata": {},
          "execution_count": 32
        }
      ]
    },
    {
      "cell_type": "code",
      "source": [
        "#prediction on text data\n",
        "predicted_lstm=model1.predict(test_data)\n",
        "predicted_lstm"
      ],
      "metadata": {
        "id": "Wf-IvwgSqMu4",
        "outputId": "c4193f1f-3ad2-40dd-aafd-216d29594bf6",
        "colab": {
          "base_uri": "https://localhost:8080/"
        }
      },
      "execution_count": null,
      "outputs": [
        {
          "output_type": "stream",
          "name": "stdout",
          "text": [
            "351/351 [==============================] - 7s 18ms/step\n"
          ]
        },
        {
          "output_type": "execute_result",
          "data": {
            "text/plain": [
              "array([[nan, nan],\n",
              "       [nan, nan],\n",
              "       [nan, nan],\n",
              "       ...,\n",
              "       [nan, nan],\n",
              "       [nan, nan],\n",
              "       [nan, nan]], dtype=float32)"
            ]
          },
          "metadata": {},
          "execution_count": 33
        }
      ]
    },
    {
      "cell_type": "code",
      "source": [
        "#model evaluation\n",
        "from sklearn.metrics import precision_recall_fscore_support as score\n",
        "\n",
        "precision, recall, fscore, support = score(labels_test, predicted_lstm.round())\n",
        "\n",
        "print('precision: {}'.format(precision))\n",
        "print('recall: {}'.format(recall))\n",
        "print('fscore: {}'.format(fscore))\n",
        "print('support: {}'.format(support))\n",
        "print(\"############################\")\n",
        "print(sklearn.metrics.classification_report(labels_test, predicted_lstm.round()))"
      ],
      "metadata": {
        "id": "F9pTvZJCqMxW",
        "outputId": "5a900203-a5aa-46b5-d337-e213bd99e445",
        "colab": {
          "base_uri": "https://localhost:8080/",
          "height": 380
        }
      },
      "execution_count": null,
      "outputs": [
        {
          "output_type": "error",
          "ename": "ValueError",
          "evalue": "ignored",
          "traceback": [
            "\u001b[0;31m---------------------------------------------------------------------------\u001b[0m",
            "\u001b[0;31mValueError\u001b[0m                                Traceback (most recent call last)",
            "\u001b[0;32m<ipython-input-34-02849e574c7e>\u001b[0m in \u001b[0;36m<module>\u001b[0;34m\u001b[0m\n\u001b[1;32m      2\u001b[0m \u001b[0;32mfrom\u001b[0m \u001b[0msklearn\u001b[0m\u001b[0;34m.\u001b[0m\u001b[0mmetrics\u001b[0m \u001b[0;32mimport\u001b[0m \u001b[0mprecision_recall_fscore_support\u001b[0m \u001b[0;32mas\u001b[0m \u001b[0mscore\u001b[0m\u001b[0;34m\u001b[0m\u001b[0;34m\u001b[0m\u001b[0m\n\u001b[1;32m      3\u001b[0m \u001b[0;34m\u001b[0m\u001b[0m\n\u001b[0;32m----> 4\u001b[0;31m \u001b[0mprecision\u001b[0m\u001b[0;34m,\u001b[0m \u001b[0mrecall\u001b[0m\u001b[0;34m,\u001b[0m \u001b[0mfscore\u001b[0m\u001b[0;34m,\u001b[0m \u001b[0msupport\u001b[0m \u001b[0;34m=\u001b[0m \u001b[0mscore\u001b[0m\u001b[0;34m(\u001b[0m\u001b[0mlabels_test\u001b[0m\u001b[0;34m,\u001b[0m \u001b[0mpredicted_lstm\u001b[0m\u001b[0;34m.\u001b[0m\u001b[0mround\u001b[0m\u001b[0;34m(\u001b[0m\u001b[0;34m)\u001b[0m\u001b[0;34m)\u001b[0m\u001b[0;34m\u001b[0m\u001b[0;34m\u001b[0m\u001b[0m\n\u001b[0m\u001b[1;32m      5\u001b[0m \u001b[0;34m\u001b[0m\u001b[0m\n\u001b[1;32m      6\u001b[0m \u001b[0mprint\u001b[0m\u001b[0;34m(\u001b[0m\u001b[0;34m'precision: {}'\u001b[0m\u001b[0;34m.\u001b[0m\u001b[0mformat\u001b[0m\u001b[0;34m(\u001b[0m\u001b[0mprecision\u001b[0m\u001b[0;34m)\u001b[0m\u001b[0;34m)\u001b[0m\u001b[0;34m\u001b[0m\u001b[0;34m\u001b[0m\u001b[0m\n",
            "\u001b[0;32m/usr/local/lib/python3.8/dist-packages/sklearn/metrics/_classification.py\u001b[0m in \u001b[0;36mprecision_recall_fscore_support\u001b[0;34m(y_true, y_pred, beta, labels, pos_label, average, warn_for, sample_weight, zero_division)\u001b[0m\n\u001b[1;32m   1571\u001b[0m     \u001b[0;32mif\u001b[0m \u001b[0mbeta\u001b[0m \u001b[0;34m<\u001b[0m \u001b[0;36m0\u001b[0m\u001b[0;34m:\u001b[0m\u001b[0;34m\u001b[0m\u001b[0;34m\u001b[0m\u001b[0m\n\u001b[1;32m   1572\u001b[0m         \u001b[0;32mraise\u001b[0m \u001b[0mValueError\u001b[0m\u001b[0;34m(\u001b[0m\u001b[0;34m\"beta should be >=0 in the F-beta score\"\u001b[0m\u001b[0;34m)\u001b[0m\u001b[0;34m\u001b[0m\u001b[0;34m\u001b[0m\u001b[0m\n\u001b[0;32m-> 1573\u001b[0;31m     \u001b[0mlabels\u001b[0m \u001b[0;34m=\u001b[0m \u001b[0m_check_set_wise_labels\u001b[0m\u001b[0;34m(\u001b[0m\u001b[0my_true\u001b[0m\u001b[0;34m,\u001b[0m \u001b[0my_pred\u001b[0m\u001b[0;34m,\u001b[0m \u001b[0maverage\u001b[0m\u001b[0;34m,\u001b[0m \u001b[0mlabels\u001b[0m\u001b[0;34m,\u001b[0m \u001b[0mpos_label\u001b[0m\u001b[0;34m)\u001b[0m\u001b[0;34m\u001b[0m\u001b[0;34m\u001b[0m\u001b[0m\n\u001b[0m\u001b[1;32m   1574\u001b[0m \u001b[0;34m\u001b[0m\u001b[0m\n\u001b[1;32m   1575\u001b[0m     \u001b[0;31m# Calculate tp_sum, pred_sum, true_sum ###\u001b[0m\u001b[0;34m\u001b[0m\u001b[0;34m\u001b[0m\u001b[0;34m\u001b[0m\u001b[0m\n",
            "\u001b[0;32m/usr/local/lib/python3.8/dist-packages/sklearn/metrics/_classification.py\u001b[0m in \u001b[0;36m_check_set_wise_labels\u001b[0;34m(y_true, y_pred, average, labels, pos_label)\u001b[0m\n\u001b[1;32m   1372\u001b[0m         \u001b[0;32mraise\u001b[0m \u001b[0mValueError\u001b[0m\u001b[0;34m(\u001b[0m\u001b[0;34m\"average has to be one of \"\u001b[0m \u001b[0;34m+\u001b[0m \u001b[0mstr\u001b[0m\u001b[0;34m(\u001b[0m\u001b[0maverage_options\u001b[0m\u001b[0;34m)\u001b[0m\u001b[0;34m)\u001b[0m\u001b[0;34m\u001b[0m\u001b[0;34m\u001b[0m\u001b[0m\n\u001b[1;32m   1373\u001b[0m \u001b[0;34m\u001b[0m\u001b[0m\n\u001b[0;32m-> 1374\u001b[0;31m     \u001b[0my_type\u001b[0m\u001b[0;34m,\u001b[0m \u001b[0my_true\u001b[0m\u001b[0;34m,\u001b[0m \u001b[0my_pred\u001b[0m \u001b[0;34m=\u001b[0m \u001b[0m_check_targets\u001b[0m\u001b[0;34m(\u001b[0m\u001b[0my_true\u001b[0m\u001b[0;34m,\u001b[0m \u001b[0my_pred\u001b[0m\u001b[0;34m)\u001b[0m\u001b[0;34m\u001b[0m\u001b[0;34m\u001b[0m\u001b[0m\n\u001b[0m\u001b[1;32m   1375\u001b[0m     \u001b[0;31m# Convert to Python primitive type to avoid NumPy type / Python str\u001b[0m\u001b[0;34m\u001b[0m\u001b[0;34m\u001b[0m\u001b[0;34m\u001b[0m\u001b[0m\n\u001b[1;32m   1376\u001b[0m     \u001b[0;31m# comparison. See https://github.com/numpy/numpy/issues/6784\u001b[0m\u001b[0;34m\u001b[0m\u001b[0;34m\u001b[0m\u001b[0;34m\u001b[0m\u001b[0m\n",
            "\u001b[0;32m/usr/local/lib/python3.8/dist-packages/sklearn/metrics/_classification.py\u001b[0m in \u001b[0;36m_check_targets\u001b[0;34m(y_true, y_pred)\u001b[0m\n\u001b[1;32m     86\u001b[0m     \u001b[0mcheck_consistent_length\u001b[0m\u001b[0;34m(\u001b[0m\u001b[0my_true\u001b[0m\u001b[0;34m,\u001b[0m \u001b[0my_pred\u001b[0m\u001b[0;34m)\u001b[0m\u001b[0;34m\u001b[0m\u001b[0;34m\u001b[0m\u001b[0m\n\u001b[1;32m     87\u001b[0m     \u001b[0mtype_true\u001b[0m \u001b[0;34m=\u001b[0m \u001b[0mtype_of_target\u001b[0m\u001b[0;34m(\u001b[0m\u001b[0my_true\u001b[0m\u001b[0;34m,\u001b[0m \u001b[0minput_name\u001b[0m\u001b[0;34m=\u001b[0m\u001b[0;34m\"y_true\"\u001b[0m\u001b[0;34m)\u001b[0m\u001b[0;34m\u001b[0m\u001b[0;34m\u001b[0m\u001b[0m\n\u001b[0;32m---> 88\u001b[0;31m     \u001b[0mtype_pred\u001b[0m \u001b[0;34m=\u001b[0m \u001b[0mtype_of_target\u001b[0m\u001b[0;34m(\u001b[0m\u001b[0my_pred\u001b[0m\u001b[0;34m,\u001b[0m \u001b[0minput_name\u001b[0m\u001b[0;34m=\u001b[0m\u001b[0;34m\"y_pred\"\u001b[0m\u001b[0;34m)\u001b[0m\u001b[0;34m\u001b[0m\u001b[0;34m\u001b[0m\u001b[0m\n\u001b[0m\u001b[1;32m     89\u001b[0m \u001b[0;34m\u001b[0m\u001b[0m\n\u001b[1;32m     90\u001b[0m     \u001b[0my_type\u001b[0m \u001b[0;34m=\u001b[0m \u001b[0;34m{\u001b[0m\u001b[0mtype_true\u001b[0m\u001b[0;34m,\u001b[0m \u001b[0mtype_pred\u001b[0m\u001b[0;34m}\u001b[0m\u001b[0;34m\u001b[0m\u001b[0;34m\u001b[0m\u001b[0m\n",
            "\u001b[0;32m/usr/local/lib/python3.8/dist-packages/sklearn/utils/multiclass.py\u001b[0m in \u001b[0;36mtype_of_target\u001b[0;34m(y, input_name)\u001b[0m\n\u001b[1;32m    356\u001b[0m         \u001b[0mdata\u001b[0m \u001b[0;34m=\u001b[0m \u001b[0my\u001b[0m\u001b[0;34m.\u001b[0m\u001b[0mdata\u001b[0m \u001b[0;32mif\u001b[0m \u001b[0missparse\u001b[0m\u001b[0;34m(\u001b[0m\u001b[0my\u001b[0m\u001b[0;34m)\u001b[0m \u001b[0;32melse\u001b[0m \u001b[0my\u001b[0m\u001b[0;34m\u001b[0m\u001b[0;34m\u001b[0m\u001b[0m\n\u001b[1;32m    357\u001b[0m         \u001b[0;32mif\u001b[0m \u001b[0mxp\u001b[0m\u001b[0;34m.\u001b[0m\u001b[0many\u001b[0m\u001b[0;34m(\u001b[0m\u001b[0mdata\u001b[0m \u001b[0;34m!=\u001b[0m \u001b[0mdata\u001b[0m\u001b[0;34m.\u001b[0m\u001b[0mastype\u001b[0m\u001b[0;34m(\u001b[0m\u001b[0mint\u001b[0m\u001b[0;34m)\u001b[0m\u001b[0;34m)\u001b[0m\u001b[0;34m:\u001b[0m\u001b[0;34m\u001b[0m\u001b[0;34m\u001b[0m\u001b[0m\n\u001b[0;32m--> 358\u001b[0;31m             \u001b[0m_assert_all_finite\u001b[0m\u001b[0;34m(\u001b[0m\u001b[0mdata\u001b[0m\u001b[0;34m,\u001b[0m \u001b[0minput_name\u001b[0m\u001b[0;34m=\u001b[0m\u001b[0minput_name\u001b[0m\u001b[0;34m)\u001b[0m\u001b[0;34m\u001b[0m\u001b[0;34m\u001b[0m\u001b[0m\n\u001b[0m\u001b[1;32m    359\u001b[0m             \u001b[0;32mreturn\u001b[0m \u001b[0;34m\"continuous\"\u001b[0m \u001b[0;34m+\u001b[0m \u001b[0msuffix\u001b[0m\u001b[0;34m\u001b[0m\u001b[0;34m\u001b[0m\u001b[0m\n\u001b[1;32m    360\u001b[0m \u001b[0;34m\u001b[0m\u001b[0m\n",
            "\u001b[0;32m/usr/local/lib/python3.8/dist-packages/sklearn/utils/validation.py\u001b[0m in \u001b[0;36m_assert_all_finite\u001b[0;34m(X, allow_nan, msg_dtype, estimator_name, input_name)\u001b[0m\n\u001b[1;32m    159\u001b[0m                 \u001b[0;34m\"#estimators-that-handle-nan-values\"\u001b[0m\u001b[0;34m\u001b[0m\u001b[0;34m\u001b[0m\u001b[0m\n\u001b[1;32m    160\u001b[0m             )\n\u001b[0;32m--> 161\u001b[0;31m         \u001b[0;32mraise\u001b[0m \u001b[0mValueError\u001b[0m\u001b[0;34m(\u001b[0m\u001b[0mmsg_err\u001b[0m\u001b[0;34m)\u001b[0m\u001b[0;34m\u001b[0m\u001b[0;34m\u001b[0m\u001b[0m\n\u001b[0m\u001b[1;32m    162\u001b[0m \u001b[0;34m\u001b[0m\u001b[0m\n\u001b[1;32m    163\u001b[0m \u001b[0;34m\u001b[0m\u001b[0m\n",
            "\u001b[0;31mValueError\u001b[0m: Input y_pred contains NaN."
          ]
        }
      ]
    },
    {
      "cell_type": "markdown",
      "source": [
        "### <font color=\"blue\">**Define Bidirectional LSTM**</font>"
      ],
      "metadata": {
        "id": "vpCVzJb7tMXi"
      }
    },
    {
      "cell_type": "code",
      "source": [
        "#model training\n",
        "print('Training Bidirectional LSTM model.') \n",
        "model = Sequential()\n",
        "model.add(Embedding(MAX_NB_WORDS,  EMBEDDING_DIM,  input_length=MAX_SEQUENCE_LENGTH))\n",
        "model.add(Bidirectional(LSTM(16, return_sequences=True, dropout=0.1, recurrent_dropout=0.1)))\n",
        "model.add(Conv1D(16, kernel_size = 3, padding = \"valid\", kernel_initializer = \"glorot_uniform\"))\n",
        "model.add(GlobalMaxPool1D())\n",
        "model.add(Dense(50, activation=\"relu\"))\n",
        "model.add(Dropout(0.1))\n",
        "model.add(Dense(2,activation='softmax'))\n",
        "model.compile(loss = 'binary_crossentropy', optimizer='adam',metrics = ['accuracy'])\n",
        "model.fit(train_data, labels_train,  batch_size=16,  epochs=3,  validation_data=(test_data, labels_test))"
      ],
      "metadata": {
        "id": "eqplalMuqM0q",
        "outputId": "05dbf346-2734-49e9-c759-d6fc9aaca6df",
        "colab": {
          "base_uri": "https://localhost:8080/"
        }
      },
      "execution_count": null,
      "outputs": [
        {
          "output_type": "stream",
          "name": "stdout",
          "text": [
            "Training Bidirectional LSTM model.\n",
            "Epoch 1/3\n",
            "2105/2105 [==============================] - 897s 423ms/step - loss: 0.0710 - accuracy: 0.9687 - val_loss: 0.0207 - val_accuracy: 0.9931\n",
            "Epoch 2/3\n",
            "2105/2105 [==============================] - 883s 420ms/step - loss: 0.0091 - accuracy: 0.9970 - val_loss: 0.0251 - val_accuracy: 0.9923\n",
            "Epoch 3/3\n",
            "2105/2105 [==============================] - 883s 419ms/step - loss: 0.0054 - accuracy: 0.9981 - val_loss: 0.0284 - val_accuracy: 0.9930\n"
          ]
        },
        {
          "output_type": "execute_result",
          "data": {
            "text/plain": [
              "<keras.callbacks.History at 0x7fe73ff31fa0>"
            ]
          },
          "metadata": {},
          "execution_count": 36
        }
      ]
    },
    {
      "cell_type": "code",
      "source": [
        "# prediction on test data\n",
        "predicted_blstm=model.predict(test_data) \n",
        "predicted_blstm"
      ],
      "metadata": {
        "id": "YO_XrUFwqNJx",
        "outputId": "c22e10d5-085e-48b7-cb69-76c15c5b59fe",
        "colab": {
          "base_uri": "https://localhost:8080/"
        }
      },
      "execution_count": null,
      "outputs": [
        {
          "output_type": "stream",
          "name": "stdout",
          "text": [
            "351/351 [==============================] - 18s 51ms/step\n"
          ]
        },
        {
          "output_type": "execute_result",
          "data": {
            "text/plain": [
              "array([[9.9999994e-01, 1.8074570e-11],\n",
              "       [1.9705377e-15, 9.9999994e-01],\n",
              "       [1.1780889e-13, 9.9999994e-01],\n",
              "       ...,\n",
              "       [9.9999994e-01, 1.7130939e-12],\n",
              "       [9.9999994e-01, 3.5209433e-13],\n",
              "       [1.0000000e+00, 1.0513912e-14]], dtype=float32)"
            ]
          },
          "metadata": {},
          "execution_count": 37
        }
      ]
    },
    {
      "cell_type": "code",
      "source": [
        "#model evaluation\n",
        "from sklearn.metrics import precision_recall_fscore_support as score\n",
        "\n",
        "precision, recall, fscore, support = score(labels_test, predicted_blstm.round())\n",
        "\n",
        "print('precision: {}'.format(precision))\n",
        "print('recall: {}'.format(recall))\n",
        "print('fscore: {}'.format(fscore))\n",
        "print('support: {}'.format(support))\n",
        "print(\"############################\")\n",
        "\n",
        "print(sklearn.metrics.classification_report(labels_test, predicted_blstm.round()))"
      ],
      "metadata": {
        "id": "JbHFmJ2lzzW2",
        "outputId": "5814885c-6bd1-41ae-ca82-052f5b16aa90",
        "colab": {
          "base_uri": "https://localhost:8080/"
        }
      },
      "execution_count": null,
      "outputs": [
        {
          "output_type": "stream",
          "name": "stdout",
          "text": [
            "precision: [0.98945811 0.99621863]\n",
            "recall: [0.99590469 0.9902614 ]\n",
            "fscore: [0.99267093 0.99323109]\n",
            "support: [5372 5853]\n",
            "############################\n",
            "              precision    recall  f1-score   support\n",
            "\n",
            "           0       0.99      1.00      0.99      5372\n",
            "           1       1.00      0.99      0.99      5853\n",
            "\n",
            "   micro avg       0.99      0.99      0.99     11225\n",
            "   macro avg       0.99      0.99      0.99     11225\n",
            "weighted avg       0.99      0.99      0.99     11225\n",
            " samples avg       0.99      0.99      0.99     11225\n",
            "\n"
          ]
        }
      ]
    },
    {
      "cell_type": "markdown",
      "source": [
        "### <font color=\"blue\">**Glove embeddings as input embedding to Bidirectional LSTM**</font>"
      ],
      "metadata": {
        "id": "jU-nSDB0P5LT"
      }
    },
    {
      "cell_type": "code",
      "source": [
        "from tqdm import tqdm\n",
        "embedding_vector = {}\n",
        "f = open('/content/gdrive/My Drive/Colab Notebooks/semester3/NLP/News/glove.840B.300d.txt')\n",
        "for line in tqdm(f):\n",
        "    value = line.split(' ')\n",
        "    word = value[0]\n",
        "    coef = np.array(value[1:],dtype = 'float32')\n",
        "    embedding_vector[word] = coef"
      ],
      "metadata": {
        "id": "zcQnfMgItx_S",
        "outputId": "80c9ef15-7c0c-45f6-c6d0-7e0b8bb30a4b",
        "colab": {
          "base_uri": "https://localhost:8080/"
        }
      },
      "execution_count": 31,
      "outputs": [
        {
          "output_type": "stream",
          "name": "stderr",
          "text": [
            "2196017it [03:23, 10782.08it/s]\n"
          ]
        }
      ]
    },
    {
      "cell_type": "code",
      "source": [
        "embedding_matrix = np.zeros((vocab_size,300))\n",
        "for word,i in tqdm(tokenizer.word_index.items()):\n",
        "    embedding_value = embedding_vector.get(word)\n",
        "    if embedding_value is not None:\n",
        "        embedding_matrix[i] = embedding_value"
      ],
      "metadata": {
        "id": "qG6hSQ3_tyCP",
        "outputId": "059dc3f1-069a-4d32-e3bb-8346d4b26ed9",
        "colab": {
          "base_uri": "https://localhost:8080/"
        }
      },
      "execution_count": 34,
      "outputs": [
        {
          "output_type": "stream",
          "name": "stderr",
          "text": [
            "100%|██████████| 121248/121248 [00:00<00:00, 149178.97it/s]\n"
          ]
        }
      ]
    },
    {
      "cell_type": "code",
      "source": [
        "embedding_matrix.shape"
      ],
      "metadata": {
        "id": "it6JAhQXtyFV",
        "outputId": "bd324f45-e4de-429c-b3b6-b9a458855653",
        "colab": {
          "base_uri": "https://localhost:8080/"
        }
      },
      "execution_count": 35,
      "outputs": [
        {
          "output_type": "execute_result",
          "data": {
            "text/plain": [
              "(121249, 300)"
            ]
          },
          "metadata": {},
          "execution_count": 35
        }
      ]
    },
    {
      "cell_type": "markdown",
      "source": [
        "###Use Glove embeddings as input embedding to Bodirectional LSTM model"
      ],
      "metadata": {
        "id": "JwBqTZHY6T3x"
      }
    },
    {
      "cell_type": "code",
      "source": [
        "#model training\n",
        "print('Training Bidirectional LSTM model.') \n",
        "model = Sequential()\n",
        "model.add(Embedding(vocab_size, EMBEDDING_DIM, input_length = MAX_SEQUENCE_LENGTH, trainable = False))\n",
        "model.add(Bidirectional(LSTM(16, return_sequences=True, dropout=0.1, recurrent_dropout=0.1)))\n",
        "model.add(Conv1D(16, kernel_size = 3, padding = \"valid\", kernel_initializer = \"glorot_uniform\"))\n",
        "model.add(GlobalMaxPool1D())\n",
        "model.add(Dense(50, activation=\"relu\"))\n",
        "model.add(Dropout(0.1))\n",
        "model.add(Dense(2,activation='softmax'))\n",
        "model.compile(loss = 'binary_crossentropy', optimizer='adam',metrics = ['accuracy'])\n",
        "model.fit(train_data, labels_train,  batch_size=16,  epochs=3,  validation_data=(test_data, labels_test))"
      ],
      "metadata": {
        "id": "C9WNBe_NtyIB",
        "outputId": "a6036e1e-bc66-4f63-afd0-4914a969c7e7",
        "colab": {
          "base_uri": "https://localhost:8080/"
        }
      },
      "execution_count": 40,
      "outputs": [
        {
          "output_type": "stream",
          "name": "stdout",
          "text": [
            "Training Bidirectional LSTM model.\n",
            "Epoch 1/3\n",
            "2105/2105 [==============================] - 1204s 566ms/step - loss: 0.2868 - accuracy: 0.8613 - val_loss: 0.1940 - val_accuracy: 0.9215\n",
            "Epoch 2/3\n",
            "2105/2105 [==============================] - 1078s 512ms/step - loss: 0.1253 - accuracy: 0.9513 - val_loss: 0.0847 - val_accuracy: 0.9694\n",
            "Epoch 3/3\n",
            "2105/2105 [==============================] - 1149s 546ms/step - loss: 0.0898 - accuracy: 0.9661 - val_loss: 0.0832 - val_accuracy: 0.9661\n"
          ]
        },
        {
          "output_type": "execute_result",
          "data": {
            "text/plain": [
              "<keras.callbacks.History at 0x7f577c90b550>"
            ]
          },
          "metadata": {},
          "execution_count": 40
        }
      ]
    },
    {
      "cell_type": "code",
      "source": [
        "# prediction on test data\n",
        "predicted_blstm=model.predict(test_data) \n",
        "predicted_blstm"
      ],
      "metadata": {
        "id": "zNEQXE4ftyLA",
        "outputId": "03470821-482f-4f6f-afcc-c119c07904b5",
        "colab": {
          "base_uri": "https://localhost:8080/"
        }
      },
      "execution_count": 41,
      "outputs": [
        {
          "output_type": "stream",
          "name": "stdout",
          "text": [
            "351/351 [==============================] - 27s 76ms/step\n"
          ]
        },
        {
          "output_type": "execute_result",
          "data": {
            "text/plain": [
              "array([[2.43954006e-11, 9.99999940e-01],\n",
              "       [7.30512406e-09, 9.99999940e-01],\n",
              "       [9.96972084e-01, 3.02788382e-03],\n",
              "       ...,\n",
              "       [1.88832977e-11, 9.99999940e-01],\n",
              "       [9.99886215e-01, 1.13718816e-04],\n",
              "       [9.99960780e-01, 3.92696820e-05]], dtype=float32)"
            ]
          },
          "metadata": {},
          "execution_count": 41
        }
      ]
    },
    {
      "cell_type": "code",
      "source": [
        "#model evaluation\n",
        "from sklearn.metrics import precision_recall_fscore_support as score\n",
        "\n",
        "precision, recall, fscore, support = score(labels_test, predicted_blstm.round())\n",
        "\n",
        "print('precision: {}'.format(precision))\n",
        "print('recall: {}'.format(recall))\n",
        "print('fscore: {}'.format(fscore))\n",
        "print('support: {}'.format(support))\n",
        "print(\"############################\")\n",
        "\n",
        "print(sklearn.metrics.classification_report(labels_test, predicted_blstm.round()))"
      ],
      "metadata": {
        "id": "J0gpiaZC7W3V",
        "outputId": "adf38484-fb10-4834-e3e8-33b279c41623",
        "colab": {
          "base_uri": "https://localhost:8080/"
        }
      },
      "execution_count": 42,
      "outputs": [
        {
          "output_type": "stream",
          "name": "stdout",
          "text": [
            "precision: [0.93936668 0.99223575]\n",
            "recall: [0.99164292 0.94345638]\n",
            "fscore: [0.96479719 0.96723144]\n",
            "support: [5265 5960]\n",
            "############################\n",
            "              precision    recall  f1-score   support\n",
            "\n",
            "           0       0.94      0.99      0.96      5265\n",
            "           1       0.99      0.94      0.97      5960\n",
            "\n",
            "   micro avg       0.97      0.97      0.97     11225\n",
            "   macro avg       0.97      0.97      0.97     11225\n",
            "weighted avg       0.97      0.97      0.97     11225\n",
            " samples avg       0.97      0.97      0.97     11225\n",
            "\n"
          ]
        }
      ]
    },
    {
      "cell_type": "markdown",
      "source": [
        "### <font color=\"blue\">**Google word2vec embeddings as input embedding to Bidirectional LSTM**</font>"
      ],
      "metadata": {
        "id": "TVpB8csoKg4Y"
      }
    },
    {
      "cell_type": "code",
      "source": [
        "# initialize data of lists.\n",
        "data = {'text': x_train, 'class': y_train}\n",
        "# Create DataFrame\n",
        "train = pd.DataFrame(data)"
      ],
      "metadata": {
        "id": "RsxXNj56Vlla"
      },
      "execution_count": 52,
      "outputs": []
    },
    {
      "cell_type": "code",
      "source": [
        "train['text'].head(5)"
      ],
      "metadata": {
        "id": "MZoWXn0HWv4r",
        "outputId": "58614dfe-efd8-4694-c4b4-02aee128bc78",
        "colab": {
          "base_uri": "https://localhost:8080/"
        }
      },
      "execution_count": 56,
      "outputs": [
        {
          "output_type": "execute_result",
          "data": {
            "text/plain": [
              "9738     When a state has legislated themselves into an...\n",
              "12803    ANKARA  Reuters    Iran rejected as  wrong  so...\n",
              "12498    The average American makes  52 250  per year  ...\n",
              "31344    You ll never guess which mainstream TV network...\n",
              "39567    ANKARA  Reuters    Turkish President Tayyip Er...\n",
              "Name: text, dtype: object"
            ]
          },
          "metadata": {},
          "execution_count": 56
        }
      ]
    },
    {
      "cell_type": "code",
      "source": [
        "train.shape"
      ],
      "metadata": {
        "id": "1No3aB9LhWzB",
        "outputId": "351d84c6-6da7-4fc7-8101-8e4fb9648259",
        "colab": {
          "base_uri": "https://localhost:8080/"
        }
      },
      "execution_count": 57,
      "outputs": [
        {
          "output_type": "execute_result",
          "data": {
            "text/plain": [
              "(33673, 2)"
            ]
          },
          "metadata": {},
          "execution_count": 57
        }
      ]
    },
    {
      "cell_type": "code",
      "source": [
        "sentences =[]\n",
        "for t in  tqdm(range(len(train['text']))):\n",
        "  text = nltk.word_tokenize(train['text'][t])\n",
        "  sentences.append(text)"
      ],
      "metadata": {
        "id": "k60JaZ-g7W6I",
        "outputId": "af8a98c2-5af6-4ae3-ace2-f95c3523b9b1",
        "colab": {
          "base_uri": "https://localhost:8080/",
          "height": 519
        }
      },
      "execution_count": 64,
      "outputs": [
        {
          "output_type": "stream",
          "name": "stderr",
          "text": [
            "  0%|          | 0/33673 [00:00<?, ?it/s]\n"
          ]
        },
        {
          "output_type": "error",
          "ename": "KeyError",
          "evalue": "ignored",
          "traceback": [
            "\u001b[0;31m---------------------------------------------------------------------------\u001b[0m",
            "\u001b[0;31mKeyError\u001b[0m                                  Traceback (most recent call last)",
            "\u001b[0;32m/usr/local/lib/python3.8/dist-packages/pandas/core/indexes/base.py\u001b[0m in \u001b[0;36mget_loc\u001b[0;34m(self, key, method, tolerance)\u001b[0m\n\u001b[1;32m   3360\u001b[0m             \u001b[0;32mtry\u001b[0m\u001b[0;34m:\u001b[0m\u001b[0;34m\u001b[0m\u001b[0;34m\u001b[0m\u001b[0m\n\u001b[0;32m-> 3361\u001b[0;31m                 \u001b[0;32mreturn\u001b[0m \u001b[0mself\u001b[0m\u001b[0;34m.\u001b[0m\u001b[0m_engine\u001b[0m\u001b[0;34m.\u001b[0m\u001b[0mget_loc\u001b[0m\u001b[0;34m(\u001b[0m\u001b[0mcasted_key\u001b[0m\u001b[0;34m)\u001b[0m\u001b[0;34m\u001b[0m\u001b[0;34m\u001b[0m\u001b[0m\n\u001b[0m\u001b[1;32m   3362\u001b[0m             \u001b[0;32mexcept\u001b[0m \u001b[0mKeyError\u001b[0m \u001b[0;32mas\u001b[0m \u001b[0merr\u001b[0m\u001b[0;34m:\u001b[0m\u001b[0;34m\u001b[0m\u001b[0;34m\u001b[0m\u001b[0m\n",
            "\u001b[0;32m/usr/local/lib/python3.8/dist-packages/pandas/_libs/index.pyx\u001b[0m in \u001b[0;36mpandas._libs.index.IndexEngine.get_loc\u001b[0;34m()\u001b[0m\n",
            "\u001b[0;32m/usr/local/lib/python3.8/dist-packages/pandas/_libs/index.pyx\u001b[0m in \u001b[0;36mpandas._libs.index.IndexEngine.get_loc\u001b[0;34m()\u001b[0m\n",
            "\u001b[0;32mpandas/_libs/hashtable_class_helper.pxi\u001b[0m in \u001b[0;36mpandas._libs.hashtable.Int64HashTable.get_item\u001b[0;34m()\u001b[0m\n",
            "\u001b[0;32mpandas/_libs/hashtable_class_helper.pxi\u001b[0m in \u001b[0;36mpandas._libs.hashtable.Int64HashTable.get_item\u001b[0;34m()\u001b[0m\n",
            "\u001b[0;31mKeyError\u001b[0m: 0",
            "\nThe above exception was the direct cause of the following exception:\n",
            "\u001b[0;31mKeyError\u001b[0m                                  Traceback (most recent call last)",
            "\u001b[0;32m<ipython-input-64-281ff30ccecc>\u001b[0m in \u001b[0;36m<module>\u001b[0;34m\u001b[0m\n\u001b[1;32m      1\u001b[0m \u001b[0msentences\u001b[0m \u001b[0;34m=\u001b[0m\u001b[0;34m[\u001b[0m\u001b[0;34m]\u001b[0m\u001b[0;34m\u001b[0m\u001b[0;34m\u001b[0m\u001b[0m\n\u001b[1;32m      2\u001b[0m \u001b[0;32mfor\u001b[0m \u001b[0mt\u001b[0m \u001b[0;32min\u001b[0m  \u001b[0mtqdm\u001b[0m\u001b[0;34m(\u001b[0m\u001b[0mrange\u001b[0m\u001b[0;34m(\u001b[0m\u001b[0mlen\u001b[0m\u001b[0;34m(\u001b[0m\u001b[0mtrain\u001b[0m\u001b[0;34m[\u001b[0m\u001b[0;34m'text'\u001b[0m\u001b[0;34m]\u001b[0m\u001b[0;34m)\u001b[0m\u001b[0;34m)\u001b[0m\u001b[0;34m)\u001b[0m\u001b[0;34m:\u001b[0m\u001b[0;34m\u001b[0m\u001b[0;34m\u001b[0m\u001b[0m\n\u001b[0;32m----> 3\u001b[0;31m   \u001b[0mprint\u001b[0m\u001b[0;34m(\u001b[0m\u001b[0mtrain\u001b[0m\u001b[0;34m[\u001b[0m\u001b[0;34m'text'\u001b[0m\u001b[0;34m]\u001b[0m\u001b[0;34m[\u001b[0m\u001b[0mt\u001b[0m\u001b[0;34m]\u001b[0m\u001b[0;34m)\u001b[0m\u001b[0;34m\u001b[0m\u001b[0;34m\u001b[0m\u001b[0m\n\u001b[0m",
            "\u001b[0;32m/usr/local/lib/python3.8/dist-packages/pandas/core/series.py\u001b[0m in \u001b[0;36m__getitem__\u001b[0;34m(self, key)\u001b[0m\n\u001b[1;32m    940\u001b[0m \u001b[0;34m\u001b[0m\u001b[0m\n\u001b[1;32m    941\u001b[0m         \u001b[0;32melif\u001b[0m \u001b[0mkey_is_scalar\u001b[0m\u001b[0;34m:\u001b[0m\u001b[0;34m\u001b[0m\u001b[0;34m\u001b[0m\u001b[0m\n\u001b[0;32m--> 942\u001b[0;31m             \u001b[0;32mreturn\u001b[0m \u001b[0mself\u001b[0m\u001b[0;34m.\u001b[0m\u001b[0m_get_value\u001b[0m\u001b[0;34m(\u001b[0m\u001b[0mkey\u001b[0m\u001b[0;34m)\u001b[0m\u001b[0;34m\u001b[0m\u001b[0;34m\u001b[0m\u001b[0m\n\u001b[0m\u001b[1;32m    943\u001b[0m \u001b[0;34m\u001b[0m\u001b[0m\n\u001b[1;32m    944\u001b[0m         \u001b[0;32mif\u001b[0m \u001b[0mis_hashable\u001b[0m\u001b[0;34m(\u001b[0m\u001b[0mkey\u001b[0m\u001b[0;34m)\u001b[0m\u001b[0;34m:\u001b[0m\u001b[0;34m\u001b[0m\u001b[0;34m\u001b[0m\u001b[0m\n",
            "\u001b[0;32m/usr/local/lib/python3.8/dist-packages/pandas/core/series.py\u001b[0m in \u001b[0;36m_get_value\u001b[0;34m(self, label, takeable)\u001b[0m\n\u001b[1;32m   1049\u001b[0m \u001b[0;34m\u001b[0m\u001b[0m\n\u001b[1;32m   1050\u001b[0m         \u001b[0;31m# Similar to Index.get_value, but we do not fall back to positional\u001b[0m\u001b[0;34m\u001b[0m\u001b[0;34m\u001b[0m\u001b[0;34m\u001b[0m\u001b[0m\n\u001b[0;32m-> 1051\u001b[0;31m         \u001b[0mloc\u001b[0m \u001b[0;34m=\u001b[0m \u001b[0mself\u001b[0m\u001b[0;34m.\u001b[0m\u001b[0mindex\u001b[0m\u001b[0;34m.\u001b[0m\u001b[0mget_loc\u001b[0m\u001b[0;34m(\u001b[0m\u001b[0mlabel\u001b[0m\u001b[0;34m)\u001b[0m\u001b[0;34m\u001b[0m\u001b[0;34m\u001b[0m\u001b[0m\n\u001b[0m\u001b[1;32m   1052\u001b[0m         \u001b[0;32mreturn\u001b[0m \u001b[0mself\u001b[0m\u001b[0;34m.\u001b[0m\u001b[0mindex\u001b[0m\u001b[0;34m.\u001b[0m\u001b[0m_get_values_for_loc\u001b[0m\u001b[0;34m(\u001b[0m\u001b[0mself\u001b[0m\u001b[0;34m,\u001b[0m \u001b[0mloc\u001b[0m\u001b[0;34m,\u001b[0m \u001b[0mlabel\u001b[0m\u001b[0;34m)\u001b[0m\u001b[0;34m\u001b[0m\u001b[0;34m\u001b[0m\u001b[0m\n\u001b[1;32m   1053\u001b[0m \u001b[0;34m\u001b[0m\u001b[0m\n",
            "\u001b[0;32m/usr/local/lib/python3.8/dist-packages/pandas/core/indexes/base.py\u001b[0m in \u001b[0;36mget_loc\u001b[0;34m(self, key, method, tolerance)\u001b[0m\n\u001b[1;32m   3361\u001b[0m                 \u001b[0;32mreturn\u001b[0m \u001b[0mself\u001b[0m\u001b[0;34m.\u001b[0m\u001b[0m_engine\u001b[0m\u001b[0;34m.\u001b[0m\u001b[0mget_loc\u001b[0m\u001b[0;34m(\u001b[0m\u001b[0mcasted_key\u001b[0m\u001b[0;34m)\u001b[0m\u001b[0;34m\u001b[0m\u001b[0;34m\u001b[0m\u001b[0m\n\u001b[1;32m   3362\u001b[0m             \u001b[0;32mexcept\u001b[0m \u001b[0mKeyError\u001b[0m \u001b[0;32mas\u001b[0m \u001b[0merr\u001b[0m\u001b[0;34m:\u001b[0m\u001b[0;34m\u001b[0m\u001b[0;34m\u001b[0m\u001b[0m\n\u001b[0;32m-> 3363\u001b[0;31m                 \u001b[0;32mraise\u001b[0m \u001b[0mKeyError\u001b[0m\u001b[0;34m(\u001b[0m\u001b[0mkey\u001b[0m\u001b[0;34m)\u001b[0m \u001b[0;32mfrom\u001b[0m \u001b[0merr\u001b[0m\u001b[0;34m\u001b[0m\u001b[0;34m\u001b[0m\u001b[0m\n\u001b[0m\u001b[1;32m   3364\u001b[0m \u001b[0;34m\u001b[0m\u001b[0m\n\u001b[1;32m   3365\u001b[0m         \u001b[0;32mif\u001b[0m \u001b[0mis_scalar\u001b[0m\u001b[0;34m(\u001b[0m\u001b[0mkey\u001b[0m\u001b[0;34m)\u001b[0m \u001b[0;32mand\u001b[0m \u001b[0misna\u001b[0m\u001b[0;34m(\u001b[0m\u001b[0mkey\u001b[0m\u001b[0;34m)\u001b[0m \u001b[0;32mand\u001b[0m \u001b[0;32mnot\u001b[0m \u001b[0mself\u001b[0m\u001b[0;34m.\u001b[0m\u001b[0mhasnans\u001b[0m\u001b[0;34m:\u001b[0m\u001b[0;34m\u001b[0m\u001b[0;34m\u001b[0m\u001b[0m\n",
            "\u001b[0;31mKeyError\u001b[0m: 0"
          ]
        }
      ]
    },
    {
      "cell_type": "code",
      "source": [],
      "metadata": {
        "id": "AfwzioUXKyXt"
      },
      "execution_count": null,
      "outputs": []
    },
    {
      "cell_type": "code",
      "source": [],
      "metadata": {
        "id": "a6GHXTqQKyjF"
      },
      "execution_count": null,
      "outputs": []
    },
    {
      "cell_type": "code",
      "source": [],
      "metadata": {
        "id": "BaPgr5VOKym3"
      },
      "execution_count": null,
      "outputs": []
    },
    {
      "cell_type": "code",
      "source": [],
      "metadata": {
        "id": "qEWWwZj77XAP"
      },
      "execution_count": null,
      "outputs": []
    },
    {
      "cell_type": "code",
      "source": [],
      "metadata": {
        "id": "ImBr3uj97XDM"
      },
      "execution_count": null,
      "outputs": []
    },
    {
      "cell_type": "code",
      "source": [],
      "metadata": {
        "id": "HW9PO_vY7XFM"
      },
      "execution_count": null,
      "outputs": []
    },
    {
      "cell_type": "code",
      "source": [],
      "metadata": {
        "id": "eHlAAcLXtyNs"
      },
      "execution_count": null,
      "outputs": []
    },
    {
      "cell_type": "code",
      "source": [],
      "metadata": {
        "id": "3h0n3FPVtyRS"
      },
      "execution_count": null,
      "outputs": []
    },
    {
      "cell_type": "code",
      "execution_count": null,
      "metadata": {
        "id": "nAhrvcvcQYIw"
      },
      "outputs": [],
      "source": [
        "model = \"https://tfhub.dev/google/nnlm-en-dim50/2\"\n",
        "hub_layer = hub.KerasLayer(model, input_shape=[], dtype=tf.string, trainable=True)"
      ]
    },
    {
      "cell_type": "code",
      "execution_count": null,
      "metadata": {
        "colab": {
          "base_uri": "https://localhost:8080/"
        },
        "id": "_sm8TLmWQc7P",
        "outputId": "4943eeaa-af97-4527-e442-e6d65a600b73"
      },
      "outputs": [
        {
          "name": "stdout",
          "output_type": "stream",
          "text": [
            "Model: \"sequential\"\n",
            "_________________________________________________________________\n",
            " Layer (type)                Output Shape              Param #   \n",
            "=================================================================\n",
            " keras_layer (KerasLayer)    (None, 50)                48190600  \n",
            "                                                                 \n",
            " dense (Dense)               (None, 16)                816       \n",
            "                                                                 \n",
            " dense_1 (Dense)             (None, 1)                 17        \n",
            "                                                                 \n",
            "=================================================================\n",
            "Total params: 48,191,433\n",
            "Trainable params: 48,191,433\n",
            "Non-trainable params: 0\n",
            "_________________________________________________________________\n"
          ]
        }
      ],
      "source": [
        "model = tf.keras.Sequential()\n",
        "model.add(hub_layer)\n",
        "model.add(tf.keras.layers.Dense(16, activation='relu'))\n",
        "model.add(tf.keras.layers.Dense(1))\n",
        "\n",
        "model.summary()"
      ]
    },
    {
      "cell_type": "code",
      "execution_count": null,
      "metadata": {
        "id": "aRl7xY58QhAy"
      },
      "outputs": [],
      "source": [
        "model.compile(optimizer='adam',\n",
        "              loss=tf.losses.BinaryCrossentropy(from_logits=True),\n",
        "              metrics=[tf.metrics.BinaryAccuracy(threshold=0.0, name='accuracy')])"
      ]
    },
    {
      "cell_type": "code",
      "execution_count": null,
      "metadata": {
        "colab": {
          "base_uri": "https://localhost:8080/"
        },
        "id": "OZC9LeKtQmoj",
        "outputId": "da70e974-4e05-46a3-9cc5-a4e8d28cff16"
      },
      "outputs": [
        {
          "data": {
            "text/plain": [
              "15000"
            ]
          },
          "execution_count": 29,
          "metadata": {},
          "output_type": "execute_result"
        },
        {
          "name": "stdout",
          "output_type": "stream",
          "text": [
            "\n"
          ]
        },
        {
          "data": {
            "text/plain": [
              "18673"
            ]
          },
          "execution_count": 29,
          "metadata": {},
          "output_type": "execute_result"
        },
        {
          "name": "stdout",
          "output_type": "stream",
          "text": [
            "\n"
          ]
        },
        {
          "data": {
            "text/plain": [
              "15000"
            ]
          },
          "execution_count": 29,
          "metadata": {},
          "output_type": "execute_result"
        },
        {
          "name": "stdout",
          "output_type": "stream",
          "text": [
            "\n"
          ]
        },
        {
          "data": {
            "text/plain": [
              "18673"
            ]
          },
          "execution_count": 29,
          "metadata": {},
          "output_type": "execute_result"
        }
      ],
      "source": [
        "x_val = x_train[:15000]\n",
        "partial_x_train = x_train[15000:]\n",
        "\n",
        "y_val = y_train[:15000]\n",
        "partial_y_train = y_train[15000:]\n",
        "\n",
        "x_val.size\n",
        "print()\n",
        "partial_x_train.size\n",
        "print()\n",
        "y_val.size\n",
        "print()\n",
        "partial_y_train.size"
      ]
    },
    {
      "cell_type": "code",
      "execution_count": null,
      "metadata": {
        "colab": {
          "background_save": true,
          "base_uri": "https://localhost:8080/"
        },
        "id": "Y18h6iOwQ0Wl",
        "outputId": "dd4ab757-7061-489e-91e5-20e17359f169"
      },
      "outputs": [
        {
          "name": "stdout",
          "output_type": "stream",
          "text": [
            "Epoch 1/30\n",
            "38/38 [==============================] - 32s 787ms/step - loss: 0.4928 - accuracy: 0.8180 - val_loss: 0.3115 - val_accuracy: 0.9211\n",
            "Epoch 2/30\n",
            "38/38 [==============================] - 26s 677ms/step - loss: 0.2264 - accuracy: 0.9418 - val_loss: 0.1661 - val_accuracy: 0.9562\n",
            "Epoch 3/30\n",
            "38/38 [==============================] - 26s 687ms/step - loss: 0.1219 - accuracy: 0.9713 - val_loss: 0.1047 - val_accuracy: 0.9733\n",
            "Epoch 4/30\n",
            "38/38 [==============================] - 26s 687ms/step - loss: 0.0712 - accuracy: 0.9850 - val_loss: 0.0742 - val_accuracy: 0.9795\n",
            "Epoch 5/30\n",
            "38/38 [==============================] - 26s 690ms/step - loss: 0.0437 - accuracy: 0.9924 - val_loss: 0.0580 - val_accuracy: 0.9843\n",
            "Epoch 6/30\n",
            "38/38 [==============================] - 26s 691ms/step - loss: 0.0279 - accuracy: 0.9965 - val_loss: 0.0481 - val_accuracy: 0.9868\n",
            "Epoch 7/30\n",
            "38/38 [==============================] - 26s 692ms/step - loss: 0.0186 - accuracy: 0.9979 - val_loss: 0.0425 - val_accuracy: 0.9879\n",
            "Epoch 8/30\n",
            "38/38 [==============================] - 26s 694ms/step - loss: 0.0126 - accuracy: 0.9989 - val_loss: 0.0390 - val_accuracy: 0.9890\n",
            "Epoch 9/30\n",
            "38/38 [==============================] - 27s 701ms/step - loss: 0.0089 - accuracy: 0.9994 - val_loss: 0.0368 - val_accuracy: 0.9896\n",
            "Epoch 10/30\n",
            "38/38 [==============================] - 27s 705ms/step - loss: 0.0065 - accuracy: 0.9998 - val_loss: 0.0355 - val_accuracy: 0.9899\n",
            "Epoch 11/30\n",
            "38/38 [==============================] - 27s 710ms/step - loss: 0.0048 - accuracy: 0.9999 - val_loss: 0.0347 - val_accuracy: 0.9900\n",
            "Epoch 12/30\n",
            "38/38 [==============================] - 27s 709ms/step - loss: 0.0038 - accuracy: 0.9999 - val_loss: 0.0343 - val_accuracy: 0.9900\n",
            "Epoch 13/30\n",
            "38/38 [==============================] - 27s 701ms/step - loss: 0.0030 - accuracy: 1.0000 - val_loss: 0.0340 - val_accuracy: 0.9899\n",
            "Epoch 14/30\n",
            "38/38 [==============================] - 27s 701ms/step - loss: 0.0024 - accuracy: 1.0000 - val_loss: 0.0337 - val_accuracy: 0.9904\n",
            "Epoch 15/30\n",
            "38/38 [==============================] - 26s 699ms/step - loss: 0.0020 - accuracy: 1.0000 - val_loss: 0.0337 - val_accuracy: 0.9902\n",
            "Epoch 16/30\n",
            "38/38 [==============================] - 26s 698ms/step - loss: 0.0017 - accuracy: 1.0000 - val_loss: 0.0337 - val_accuracy: 0.9901\n",
            "Epoch 17/30\n",
            "38/38 [==============================] - 26s 695ms/step - loss: 0.0015 - accuracy: 1.0000 - val_loss: 0.0337 - val_accuracy: 0.9903\n",
            "Epoch 18/30\n",
            "38/38 [==============================] - 26s 686ms/step - loss: 0.0013 - accuracy: 1.0000 - val_loss: 0.0337 - val_accuracy: 0.9903\n",
            "Epoch 19/30\n",
            "38/38 [==============================] - 26s 689ms/step - loss: 0.0011 - accuracy: 1.0000 - val_loss: 0.0339 - val_accuracy: 0.9901\n",
            "Epoch 20/30\n",
            "38/38 [==============================] - 26s 677ms/step - loss: 9.8944e-04 - accuracy: 1.0000 - val_loss: 0.0338 - val_accuracy: 0.9903\n",
            "Epoch 21/30\n",
            "38/38 [==============================] - 26s 693ms/step - loss: 8.7787e-04 - accuracy: 1.0000 - val_loss: 0.0339 - val_accuracy: 0.9902\n",
            "Epoch 22/30\n",
            "38/38 [==============================] - 26s 690ms/step - loss: 7.8510e-04 - accuracy: 1.0000 - val_loss: 0.0341 - val_accuracy: 0.9903\n",
            "Epoch 23/30\n",
            "38/38 [==============================] - 26s 690ms/step - loss: 7.0508e-04 - accuracy: 1.0000 - val_loss: 0.0341 - val_accuracy: 0.9904\n",
            "Epoch 24/30\n",
            "38/38 [==============================] - 29s 760ms/step - loss: 6.3751e-04 - accuracy: 1.0000 - val_loss: 0.0342 - val_accuracy: 0.9905\n",
            "Epoch 25/30\n",
            "38/38 [==============================] - 26s 689ms/step - loss: 5.7872e-04 - accuracy: 1.0000 - val_loss: 0.0343 - val_accuracy: 0.9903\n",
            "Epoch 26/30\n",
            "38/38 [==============================] - 26s 682ms/step - loss: 5.2811e-04 - accuracy: 1.0000 - val_loss: 0.0344 - val_accuracy: 0.9903\n",
            "Epoch 27/30\n",
            "38/38 [==============================] - 26s 695ms/step - loss: 4.8284e-04 - accuracy: 1.0000 - val_loss: 0.0345 - val_accuracy: 0.9903\n",
            "Epoch 28/30\n",
            "38/38 [==============================] - 26s 699ms/step - loss: 4.4396e-04 - accuracy: 1.0000 - val_loss: 0.0346 - val_accuracy: 0.9904\n",
            "Epoch 29/30\n",
            "38/38 [==============================] - 26s 694ms/step - loss: 4.0878e-04 - accuracy: 1.0000 - val_loss: 0.0348 - val_accuracy: 0.9904\n",
            "Epoch 30/30\n",
            "38/38 [==============================] - 26s 691ms/step - loss: 3.7772e-04 - accuracy: 1.0000 - val_loss: 0.0349 - val_accuracy: 0.9904\n"
          ]
        }
      ],
      "source": [
        "history = model.fit(partial_x_train,\n",
        "                    partial_y_train,\n",
        "                    epochs=30,\n",
        "                    batch_size=500,\n",
        "                    validation_data=(x_val, y_val),\n",
        "                    verbose=1)"
      ]
    },
    {
      "cell_type": "code",
      "execution_count": null,
      "metadata": {
        "id": "8N08bw6BRE_9",
        "colab": {
          "base_uri": "https://localhost:8080/"
        },
        "outputId": "89ca8465-d56a-4bcd-b8f1-f675335dfc5a"
      },
      "outputs": [
        {
          "output_type": "stream",
          "name": "stdout",
          "text": [
            "351/351 [==============================] - 28s 80ms/step - loss: 0.0308 - accuracy: 0.9911\n",
            "[0.030804041773080826, 0.9910913109779358]\n"
          ]
        }
      ],
      "source": [
        "results = model.evaluate(x_test, y_test)\n",
        "\n",
        "print(results)"
      ]
    },
    {
      "cell_type": "markdown",
      "source": [
        "### <font color=\"blue\">**Model accuracy is - 99.1%**</font>"
      ],
      "metadata": {
        "id": "Ax1KwkMcVLJc"
      }
    },
    {
      "cell_type": "code",
      "source": [
        "history_dict = history.history\n",
        "history_dict.keys()"
      ],
      "metadata": {
        "colab": {
          "base_uri": "https://localhost:8080/"
        },
        "id": "YRSlsfHNUexK",
        "outputId": "4b9bc5e4-370a-41bf-ba1d-696d67d2807e"
      },
      "execution_count": null,
      "outputs": [
        {
          "output_type": "execute_result",
          "data": {
            "text/plain": [
              "dict_keys(['loss', 'accuracy', 'val_loss', 'val_accuracy'])"
            ]
          },
          "metadata": {},
          "execution_count": 32
        }
      ]
    },
    {
      "cell_type": "code",
      "source": [
        "acc = history_dict['accuracy']\n",
        "val_acc = history_dict['val_accuracy']\n",
        "loss = history_dict['loss']\n",
        "val_loss = history_dict['val_loss']\n",
        "\n",
        "epochs = range(1, len(acc) + 1)\n",
        "\n",
        "# \"bo\" is for \"blue dot\"\n",
        "plt.plot(epochs, loss, 'bo', label='Training loss')\n",
        "# b is for \"solid blue line\"\n",
        "plt.plot(epochs, val_loss, 'b', label='Validation loss')\n",
        "plt.title('Training and validation loss')\n",
        "plt.xlabel('Epochs')\n",
        "plt.ylabel('Loss')\n",
        "plt.legend()\n",
        "\n",
        "plt.show()"
      ],
      "metadata": {
        "colab": {
          "base_uri": "https://localhost:8080/",
          "height": 330
        },
        "id": "kt9IK-GcUyib",
        "outputId": "a021283b-4bd5-4988-c308-e0f7c9874ab5"
      },
      "execution_count": null,
      "outputs": [
        {
          "output_type": "execute_result",
          "data": {
            "text/plain": [
              "[<matplotlib.lines.Line2D at 0x7f0554a28110>]"
            ]
          },
          "metadata": {},
          "execution_count": 33
        },
        {
          "output_type": "execute_result",
          "data": {
            "text/plain": [
              "[<matplotlib.lines.Line2D at 0x7f0554a275d0>]"
            ]
          },
          "metadata": {},
          "execution_count": 33
        },
        {
          "output_type": "execute_result",
          "data": {
            "text/plain": [
              "Text(0.5, 1.0, 'Training and validation loss')"
            ]
          },
          "metadata": {},
          "execution_count": 33
        },
        {
          "output_type": "execute_result",
          "data": {
            "text/plain": [
              "Text(0.5, 0, 'Epochs')"
            ]
          },
          "metadata": {},
          "execution_count": 33
        },
        {
          "output_type": "execute_result",
          "data": {
            "text/plain": [
              "Text(0, 0.5, 'Loss')"
            ]
          },
          "metadata": {},
          "execution_count": 33
        },
        {
          "output_type": "execute_result",
          "data": {
            "text/plain": [
              "<matplotlib.legend.Legend at 0x7f0554a27850>"
            ]
          },
          "metadata": {},
          "execution_count": 33
        },
        {
          "output_type": "display_data",
          "data": {
            "text/plain": [
              "<Figure size 432x288 with 1 Axes>"
            ],
            "image/png": "[encoded data removed]"
          },
          "metadata": {
            "needs_background": "light"
          }
        }
      ]
    },
    {
      "cell_type": "code",
      "source": [
        "plt.clf()   # clear figure\n",
        "\n",
        "plt.plot(epochs, acc, 'bo', label='Training acc')\n",
        "plt.plot(epochs, val_acc, 'b', label='Validation acc')\n",
        "plt.title('Training and validation accuracy')\n",
        "plt.xlabel('Epochs')\n",
        "plt.ylabel('Accuracy')\n",
        "plt.legend()\n",
        "\n",
        "plt.show()"
      ],
      "metadata": {
        "colab": {
          "base_uri": "https://localhost:8080/",
          "height": 330
        },
        "id": "JRPvgglIU2Ja",
        "outputId": "3a904578-ce2b-481f-800c-2af725ffecee"
      },
      "execution_count": null,
      "outputs": [
        {
          "output_type": "execute_result",
          "data": {
            "text/plain": [
              "[<matplotlib.lines.Line2D at 0x7f0554b52750>]"
            ]
          },
          "metadata": {},
          "execution_count": 34
        },
        {
          "output_type": "execute_result",
          "data": {
            "text/plain": [
              "[<matplotlib.lines.Line2D at 0x7f0554b52c10>]"
            ]
          },
          "metadata": {},
          "execution_count": 34
        },
        {
          "output_type": "execute_result",
          "data": {
            "text/plain": [
              "Text(0.5, 1.0, 'Training and validation accuracy')"
            ]
          },
          "metadata": {},
          "execution_count": 34
        },
        {
          "output_type": "execute_result",
          "data": {
            "text/plain": [
              "Text(0.5, 0, 'Epochs')"
            ]
          },
          "metadata": {},
          "execution_count": 34
        },
        {
          "output_type": "execute_result",
          "data": {
            "text/plain": [
              "Text(0, 0.5, 'Accuracy')"
            ]
          },
          "metadata": {},
          "execution_count": 34
        },
        {
          "output_type": "execute_result",
          "data": {
            "text/plain": [
              "<matplotlib.legend.Legend at 0x7f0554a27b50>"
            ]
          },
          "metadata": {},
          "execution_count": 34
        },
        {
          "output_type": "display_data",
          "data": {
            "text/plain": [
              "<Figure size 432x288 with 1 Axes>"
            ],
            "image/png": "[encoded data removed]"
          },
          "metadata": {
            "needs_background": "light"
          }
        }
      ]
    },
    {
      "cell_type": "code",
      "source": [],
      "metadata": {
        "id": "HvDr6E5RU-rH"
      },
      "execution_count": null,
      "outputs": []
    }
  ],
  "metadata": {
    "colab": {
      "provenance": []
    },
    "kernelspec": {
      "display_name": "Python 3",
      "name": "python3"
    },
    "language_info": {
      "name": "python"
    },
    "gpuClass": "standard"
  },
  "nbformat": 4,
  "nbformat_minor": 0
}