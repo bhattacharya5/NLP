{
  "cells": [
    {
      "cell_type": "markdown",
      "source": [
        "#<font color='brown'>**Fake News Analysis**</font>\n",
        "\n",
        "\n",
        "<html><head><meta content=\"text/html; charset=UTF-8\" http-equiv=\"content-type\"><style type=\"text/css\">@import url('https://themes.googleusercontent.com/fonts/css?kit=fpjTOVmNbO4Lz34iLyptLUXza5VhXqVC6o75Eld_V98');ol.lst-kix_9a6ry7a1ii44-1.start{counter-reset:lst-ctn-kix_9a6ry7a1ii44-1 0}ol.lst-kix_jjdsisnnaeo4-7{list-style-type:none}ol.lst-kix_jjdsisnnaeo4-8{list-style-type:none}.lst-kix_mlr37z1jswq9-7>li{counter-increment:lst-ctn-kix_mlr37z1jswq9-7}ol.lst-kix_7rsp6vwkllwp-2.start{counter-reset:lst-ctn-kix_7rsp6vwkllwp-2 0}ol.lst-kix_jjdsisnnaeo4-5{list-style-type:none}ol.lst-kix_jjdsisnnaeo4-6{list-style-type:none}.lst-kix_dj1d9x2iyizn-7>li{counter-increment:lst-ctn-kix_dj1d9x2iyizn-7}ol.lst-kix_en7m7wfchoau-3.start{counter-reset:lst-ctn-kix_en7m7wfchoau-3 0}ol.lst-kix_bikt0ydiqedt-1.start{counter-reset:lst-ctn-kix_bikt0ydiqedt-1 0}.lst-kix_vjqinyiydwww-1>li{counter-increment:lst-ctn-kix_vjqinyiydwww-1}ol.lst-kix_jjdsisnnaeo4-3.start{counter-reset:lst-ctn-kix_jjdsisnnaeo4-3 0}ol.lst-kix_dj1d9x2iyizn-2.start{counter-reset:lst-ctn-kix_dj1d9x2iyizn-2 0}ol.lst-kix_7rsp6vwkllwp-7{list-style-type:none}ol.lst-kix_7rsp6vwkllwp-6{list-style-type:none}ol.lst-kix_7rsp6vwkllwp-8.start{counter-reset:lst-ctn-kix_7rsp6vwkllwp-8 0}.lst-kix_en7m7wfchoau-7>li{counter-increment:lst-ctn-kix_en7m7wfchoau-7}ol.lst-kix_f1g35hczp9ms-4.start{counter-reset:lst-ctn-kix_f1g35hczp9ms-4 0}ol.lst-kix_7rsp6vwkllwp-8{list-style-type:none}ol.lst-kix_7rsp6vwkllwp-3{list-style-type:none}ol.lst-kix_7rsp6vwkllwp-2{list-style-type:none}.lst-kix_f1g35hczp9ms-0>li{counter-increment:lst-ctn-kix_f1g35hczp9ms-0}ol.lst-kix_7rsp6vwkllwp-5{list-style-type:none}ol.lst-kix_vjqinyiydwww-5.start{counter-reset:lst-ctn-kix_vjqinyiydwww-5 0}ol.lst-kix_7rsp6vwkllwp-4{list-style-type:none}ol.lst-kix_dj1d9x2iyizn-2{list-style-type:none}ol.lst-kix_dj1d9x2iyizn-3{list-style-type:none}ol.lst-kix_dj1d9x2iyizn-0{list-style-type:none}ol.lst-kix_jlmg7gykri7u-7.start{counter-reset:lst-ctn-kix_jlmg7gykri7u-7 0}ol.lst-kix_dj1d9x2iyizn-1{list-style-type:none}ol.lst-kix_mlr37z1jswq9-3.start{counter-reset:lst-ctn-kix_mlr37z1jswq9-3 0}ol.lst-kix_jjdsisnnaeo4-0{list-style-type:none}ol.lst-kix_jjdsisnnaeo4-3{list-style-type:none}ol.lst-kix_jjdsisnnaeo4-4{list-style-type:none}ol.lst-kix_jjdsisnnaeo4-1{list-style-type:none}ol.lst-kix_jjdsisnnaeo4-2{list-style-type:none}.lst-kix_jlmg7gykri7u-5>li{counter-increment:lst-ctn-kix_jlmg7gykri7u-5}ol.lst-kix_dj1d9x2iyizn-6{list-style-type:none}ol.lst-kix_dj1d9x2iyizn-7{list-style-type:none}.lst-kix_bikt0ydiqedt-0>li{counter-increment:lst-ctn-kix_bikt0ydiqedt-0}ol.lst-kix_jlmg7gykri7u-1.start{counter-reset:lst-ctn-kix_jlmg7gykri7u-1 0}ol.lst-kix_dj1d9x2iyizn-4{list-style-type:none}ol.lst-kix_dj1d9x2iyizn-5{list-style-type:none}.lst-kix_7rsp6vwkllwp-4>li{counter-increment:lst-ctn-kix_7rsp6vwkllwp-4}ol.lst-kix_bikt0ydiqedt-7.start{counter-reset:lst-ctn-kix_bikt0ydiqedt-7 0}ol.lst-kix_dj1d9x2iyizn-8{list-style-type:none}.lst-kix_9a6ry7a1ii44-1>li{counter-increment:lst-ctn-kix_9a6ry7a1ii44-1}.lst-kix_jlmg7gykri7u-1>li{counter-increment:lst-ctn-kix_jlmg7gykri7u-1}ol.lst-kix_7rsp6vwkllwp-7.start{counter-reset:lst-ctn-kix_7rsp6vwkllwp-7 0}.lst-kix_9a6ry7a1ii44-3>li{counter-increment:lst-ctn-kix_9a6ry7a1ii44-3}ol.lst-kix_jjdsisnnaeo4-2.start{counter-reset:lst-ctn-kix_jjdsisnnaeo4-2 0}.lst-kix_vjqinyiydwww-3>li{counter-increment:lst-ctn-kix_vjqinyiydwww-3}.lst-kix_7rsp6vwkllwp-2>li{counter-increment:lst-ctn-kix_7rsp6vwkllwp-2}ol.lst-kix_bikt0ydiqedt-0.start{counter-reset:lst-ctn-kix_bikt0ydiqedt-0 0}ol.lst-kix_dj1d9x2iyizn-7.start{counter-reset:lst-ctn-kix_dj1d9x2iyizn-7 0}ol.lst-kix_bikt0ydiqedt-6.start{counter-reset:lst-ctn-kix_bikt0ydiqedt-6 0}ol.lst-kix_vjqinyiydwww-0.start{counter-reset:lst-ctn-kix_vjqinyiydwww-0 0}ol.lst-kix_jlmg7gykri7u-0.start{counter-reset:lst-ctn-kix_jlmg7gykri7u-0 0}ol.lst-kix_jjdsisnnaeo4-8.start{counter-reset:lst-ctn-kix_jjdsisnnaeo4-8 0}.lst-kix_jlmg7gykri7u-7>li{counter-increment:lst-ctn-kix_jlmg7gykri7u-7}.lst-kix_bikt0ydiqedt-2>li{counter-increment:lst-ctn-kix_bikt0ydiqedt-2}.lst-kix_dj1d9x2iyizn-3>li{counter-increment:lst-ctn-kix_dj1d9x2iyizn-3}.lst-kix_bikt0ydiqedt-5>li{counter-increment:lst-ctn-kix_bikt0ydiqedt-5}.lst-kix_f1g35hczp9ms-2>li{counter-increment:lst-ctn-kix_f1g35hczp9ms-2}ol.lst-kix_en7m7wfchoau-4.start{counter-reset:lst-ctn-kix_en7m7wfchoau-4 0}.lst-kix_dj1d9x2iyizn-0>li{counter-increment:lst-ctn-kix_dj1d9x2iyizn-0}.lst-kix_7rsp6vwkllwp-8>li{counter-increment:lst-ctn-kix_7rsp6vwkllwp-8}ol.lst-kix_dj1d9x2iyizn-1.start{counter-reset:lst-ctn-kix_dj1d9x2iyizn-1 0}ol.lst-kix_dj1d9x2iyizn-8.start{counter-reset:lst-ctn-kix_dj1d9x2iyizn-8 0}ol.lst-kix_f1g35hczp9ms-3.start{counter-reset:lst-ctn-kix_f1g35hczp9ms-3 0}.lst-kix_jjdsisnnaeo4-7>li{counter-increment:lst-ctn-kix_jjdsisnnaeo4-7}ol.lst-kix_bikt0ydiqedt-5{list-style-type:none}ol.lst-kix_bikt0ydiqedt-6{list-style-type:none}ol.lst-kix_bikt0ydiqedt-7{list-style-type:none}.lst-kix_mlr37z1jswq9-5>li{counter-increment:lst-ctn-kix_mlr37z1jswq9-5}ol.lst-kix_bikt0ydiqedt-8{list-style-type:none}ol.lst-kix_jlmg7gykri7u-6.start{counter-reset:lst-ctn-kix_jlmg7gykri7u-6 0}ol.lst-kix_bikt0ydiqedt-0{list-style-type:none}ol.lst-kix_bikt0ydiqedt-1{list-style-type:none}ol.lst-kix_mlr37z1jswq9-4.start{counter-reset:lst-ctn-kix_mlr37z1jswq9-4 0}.lst-kix_en7m7wfchoau-1>li{counter-increment:lst-ctn-kix_en7m7wfchoau-1}ol.lst-kix_bikt0ydiqedt-2{list-style-type:none}.lst-kix_7rsp6vwkllwp-8>li:before{content:\"\" counter(lst-ctn-kix_7rsp6vwkllwp-8,lower-roman) \". \"}ol.lst-kix_bikt0ydiqedt-3{list-style-type:none}ol.lst-kix_bikt0ydiqedt-4{list-style-type:none}.lst-kix_7rsp6vwkllwp-6>li:before{content:\"\" counter(lst-ctn-kix_7rsp6vwkllwp-6,decimal) \". \"}.lst-kix_jjdsisnnaeo4-2>li{counter-increment:lst-ctn-kix_jjdsisnnaeo4-2}ol.lst-kix_bikt0ydiqedt-5.start{counter-reset:lst-ctn-kix_bikt0ydiqedt-5 0}.lst-kix_dj1d9x2iyizn-2>li{counter-increment:lst-ctn-kix_dj1d9x2iyizn-2}ol.lst-kix_jlmg7gykri7u-5.start{counter-reset:lst-ctn-kix_jlmg7gykri7u-5 0}.lst-kix_7rsp6vwkllwp-2>li:before{content:\"\" counter(lst-ctn-kix_7rsp6vwkllwp-2,lower-roman) \". \"}.lst-kix_vjqinyiydwww-7>li{counter-increment:lst-ctn-kix_vjqinyiydwww-7}.lst-kix_bikt0ydiqedt-4>li{counter-increment:lst-ctn-kix_bikt0ydiqedt-4}.lst-kix_dj1d9x2iyizn-1>li{counter-increment:lst-ctn-kix_dj1d9x2iyizn-1}.lst-kix_7rsp6vwkllwp-0>li:before{content:\"\" counter(lst-ctn-kix_7rsp6vwkllwp-0,decimal) \". \"}.lst-kix_7rsp6vwkllwp-4>li:before{content:\"\" counter(lst-ctn-kix_7rsp6vwkllwp-4,lower-latin) \". \"}ol.lst-kix_9a6ry7a1ii44-0.start{counter-reset:lst-ctn-kix_9a6ry7a1ii44-0 0}ol.lst-kix_en7m7wfchoau-0{list-style-type:none}ol.lst-kix_en7m7wfchoau-1{list-style-type:none}.lst-kix_bikt0ydiqedt-4>li:before{content:\"\" counter(lst-ctn-kix_bikt0ydiqedt-4,lower-latin) \". \"}.lst-kix_bikt0ydiqedt-6>li:before{content:\"\" counter(lst-ctn-kix_bikt0ydiqedt-6,decimal) \". \"}ol.lst-kix_en7m7wfchoau-2{list-style-type:none}.lst-kix_dj1d9x2iyizn-8>li:before{content:\"\" counter(lst-ctn-kix_dj1d9x2iyizn-8,lower-roman) \". \"}ol.lst-kix_en7m7wfchoau-3{list-style-type:none}ol.lst-kix_en7m7wfchoau-4{list-style-type:none}ol.lst-kix_jjdsisnnaeo4-1.start{counter-reset:lst-ctn-kix_jjdsisnnaeo4-1 0}ol.lst-kix_en7m7wfchoau-5{list-style-type:none}ol.lst-kix_en7m7wfchoau-6{list-style-type:none}.lst-kix_jjdsisnnaeo4-3>li{counter-increment:lst-ctn-kix_jjdsisnnaeo4-3}ol.lst-kix_en7m7wfchoau-7{list-style-type:none}ol.lst-kix_en7m7wfchoau-8{list-style-type:none}.lst-kix_jlmg7gykri7u-8>li{counter-increment:lst-ctn-kix_jlmg7gykri7u-8}ol.lst-kix_9a6ry7a1ii44-2.start{counter-reset:lst-ctn-kix_9a6ry7a1ii44-2 0}.lst-kix_dj1d9x2iyizn-6>li:before{content:\"\" counter(lst-ctn-kix_dj1d9x2iyizn-6,decimal) \". \"}ol.lst-kix_7rsp6vwkllwp-1.start{counter-reset:lst-ctn-kix_7rsp6vwkllwp-1 0}ol.lst-kix_dj1d9x2iyizn-6.start{counter-reset:lst-ctn-kix_dj1d9x2iyizn-6 0}.lst-kix_en7m7wfchoau-3>li{counter-increment:lst-ctn-kix_en7m7wfchoau-3}ol.lst-kix_f1g35hczp9ms-8.start{counter-reset:lst-ctn-kix_f1g35hczp9ms-8 0}.lst-kix_mlr37z1jswq9-1>li{counter-increment:lst-ctn-kix_mlr37z1jswq9-1}ol.lst-kix_vjqinyiydwww-6.start{counter-reset:lst-ctn-kix_vjqinyiydwww-6 0}.lst-kix_9a6ry7a1ii44-7>li{counter-increment:lst-ctn-kix_9a6ry7a1ii44-7}.lst-kix_bikt0ydiqedt-3>li{counter-increment:lst-ctn-kix_bikt0ydiqedt-3}ol.lst-kix_dj1d9x2iyizn-3.start{counter-reset:lst-ctn-kix_dj1d9x2iyizn-3 0}.lst-kix_bikt0ydiqedt-0>li:before{content:\"\" counter(lst-ctn-kix_bikt0ydiqedt-0,decimal) \". \"}.lst-kix_bikt0ydiqedt-2>li:before{content:\"\" counter(lst-ctn-kix_bikt0ydiqedt-2,lower-roman) \". \"}ol.lst-kix_7rsp6vwkllwp-4.start{counter-reset:lst-ctn-kix_7rsp6vwkllwp-4 0}.lst-kix_7rsp6vwkllwp-1>li{counter-increment:lst-ctn-kix_7rsp6vwkllwp-1}ol.lst-kix_f1g35hczp9ms-5.start{counter-reset:lst-ctn-kix_f1g35hczp9ms-5 0}ol.lst-kix_jlmg7gykri7u-3.start{counter-reset:lst-ctn-kix_jlmg7gykri7u-3 0}ol.lst-kix_en7m7wfchoau-8.start{counter-reset:lst-ctn-kix_en7m7wfchoau-8 0}.lst-kix_jlmg7gykri7u-4>li:before{content:\"\" counter(lst-ctn-kix_jlmg7gykri7u-4,lower-roman) \". \"}.lst-kix_jlmg7gykri7u-8>li:before{content:\"\" counter(lst-ctn-kix_jlmg7gykri7u-8,decimal) \". \"}.lst-kix_mlr37z1jswq9-1>li:before{content:\"\" counter(lst-ctn-kix_mlr37z1jswq9-1,lower-latin) \". \"}ol.lst-kix_mlr37z1jswq9-2.start{counter-reset:lst-ctn-kix_mlr37z1jswq9-2 0}.lst-kix_7rsp6vwkllwp-7>li{counter-increment:lst-ctn-kix_7rsp6vwkllwp-7}.lst-kix_vjqinyiydwww-4>li:before{content:\"\" counter(lst-ctn-kix_vjqinyiydwww-4,lower-latin) \". \"}.lst-kix_vjqinyiydwww-8>li:before{content:\"\" counter(lst-ctn-kix_vjqinyiydwww-8,lower-roman) \". \"}ol.lst-kix_vjqinyiydwww-3.start{counter-reset:lst-ctn-kix_vjqinyiydwww-3 0}.lst-kix_jlmg7gykri7u-6>li:before{content:\"\" counter(lst-ctn-kix_jlmg7gykri7u-6,lower-latin) \". \"}.lst-kix_vjqinyiydwww-2>li:before{content:\"\" counter(lst-ctn-kix_vjqinyiydwww-2,lower-roman) \". \"}.lst-kix_f1g35hczp9ms-4>li{counter-increment:lst-ctn-kix_f1g35hczp9ms-4}ol.lst-kix_7rsp6vwkllwp-3.start{counter-reset:lst-ctn-kix_7rsp6vwkllwp-3 0}.lst-kix_dj1d9x2iyizn-0>li:before{content:\"\" counter(lst-ctn-kix_dj1d9x2iyizn-0,decimal) \". \"}.lst-kix_dj1d9x2iyizn-2>li:before{content:\"\" counter(lst-ctn-kix_dj1d9x2iyizn-2,lower-roman) \". \"}.lst-kix_f1g35hczp9ms-3>li{counter-increment:lst-ctn-kix_f1g35hczp9ms-3}.lst-kix_7rsp6vwkllwp-6>li{counter-increment:lst-ctn-kix_7rsp6vwkllwp-6}.lst-kix_bikt0ydiqedt-8>li:before{content:\"\" counter(lst-ctn-kix_bikt0ydiqedt-8,lower-roman) \". \"}.lst-kix_dj1d9x2iyizn-4>li:before{content:\"\" counter(lst-ctn-kix_dj1d9x2iyizn-4,lower-latin) \". \"}ol.lst-kix_bikt0ydiqedt-3.start{counter-reset:lst-ctn-kix_bikt0ydiqedt-3 0}.lst-kix_vjqinyiydwww-6>li:before{content:\"\" counter(lst-ctn-kix_vjqinyiydwww-6,decimal) \". \"}.lst-kix_mlr37z1jswq9-0>li{counter-increment:lst-ctn-kix_mlr37z1jswq9-0}ol.lst-kix_7rsp6vwkllwp-1{list-style-type:none}ol.lst-kix_jlmg7gykri7u-2.start{counter-reset:lst-ctn-kix_jlmg7gykri7u-2 0}ol.lst-kix_7rsp6vwkllwp-0{list-style-type:none}ol.lst-kix_dj1d9x2iyizn-4.start{counter-reset:lst-ctn-kix_dj1d9x2iyizn-4 0}ol.lst-kix_vjqinyiydwww-4.start{counter-reset:lst-ctn-kix_vjqinyiydwww-4 0}ol.lst-kix_en7m7wfchoau-7.start{counter-reset:lst-ctn-kix_en7m7wfchoau-7 0}.lst-kix_vjqinyiydwww-8>li{counter-increment:lst-ctn-kix_vjqinyiydwww-8}ol.lst-kix_f1g35hczp9ms-6.start{counter-reset:lst-ctn-kix_f1g35hczp9ms-6 0}.lst-kix_9a6ry7a1ii44-2>li{counter-increment:lst-ctn-kix_9a6ry7a1ii44-2}.lst-kix_jlmg7gykri7u-3>li{counter-increment:lst-ctn-kix_jlmg7gykri7u-3}.lst-kix_7rsp6vwkllwp-0>li{counter-increment:lst-ctn-kix_7rsp6vwkllwp-0}.lst-kix_en7m7wfchoau-8>li{counter-increment:lst-ctn-kix_en7m7wfchoau-8}.lst-kix_mlr37z1jswq9-7>li:before{content:\"\" counter(lst-ctn-kix_mlr37z1jswq9-7,lower-latin) \". \"}.lst-kix_9a6ry7a1ii44-8>li{counter-increment:lst-ctn-kix_9a6ry7a1ii44-8}.lst-kix_mlr37z1jswq9-5>li:before{content:\"\" counter(lst-ctn-kix_mlr37z1jswq9-5,lower-roman) \". \"}.lst-kix_vjqinyiydwww-0>li:before{content:\"\" counter(lst-ctn-kix_vjqinyiydwww-0,decimal) \". \"}ol.lst-kix_bikt0ydiqedt-2.start{counter-reset:lst-ctn-kix_bikt0ydiqedt-2 0}.lst-kix_en7m7wfchoau-2>li{counter-increment:lst-ctn-kix_en7m7wfchoau-2}.lst-kix_vjqinyiydwww-2>li{counter-increment:lst-ctn-kix_vjqinyiydwww-2}ol.lst-kix_mlr37z1jswq9-1.start{counter-reset:lst-ctn-kix_mlr37z1jswq9-1 0}.lst-kix_mlr37z1jswq9-3>li:before{content:\"\" counter(lst-ctn-kix_mlr37z1jswq9-3,decimal) \". \"}ol.lst-kix_9a6ry7a1ii44-5{list-style-type:none}ol.lst-kix_jjdsisnnaeo4-0.start{counter-reset:lst-ctn-kix_jjdsisnnaeo4-0 0}ol.lst-kix_9a6ry7a1ii44-6{list-style-type:none}ol.lst-kix_9a6ry7a1ii44-7{list-style-type:none}ol.lst-kix_dj1d9x2iyizn-5.start{counter-reset:lst-ctn-kix_dj1d9x2iyizn-5 0}.lst-kix_9a6ry7a1ii44-0>li{counter-increment:lst-ctn-kix_9a6ry7a1ii44-0}ol.lst-kix_9a6ry7a1ii44-8{list-style-type:none}.lst-kix_f1g35hczp9ms-1>li{counter-increment:lst-ctn-kix_f1g35hczp9ms-1}.lst-kix_jlmg7gykri7u-4>li{counter-increment:lst-ctn-kix_jlmg7gykri7u-4}ol.lst-kix_7rsp6vwkllwp-5.start{counter-reset:lst-ctn-kix_7rsp6vwkllwp-5 0}.lst-kix_9a6ry7a1ii44-6>li:before{content:\"\" counter(lst-ctn-kix_9a6ry7a1ii44-6,decimal) \". \"}.lst-kix_vjqinyiydwww-0>li{counter-increment:lst-ctn-kix_vjqinyiydwww-0}ol.lst-kix_f1g35hczp9ms-7.start{counter-reset:lst-ctn-kix_f1g35hczp9ms-7 0}.lst-kix_9a6ry7a1ii44-7>li:before{content:\"\" counter(lst-ctn-kix_9a6ry7a1ii44-7,lower-latin) \". \"}ol.lst-kix_vjqinyiydwww-8.start{counter-reset:lst-ctn-kix_vjqinyiydwww-8 0}ol.lst-kix_f1g35hczp9ms-8{list-style-type:none}.lst-kix_9a6ry7a1ii44-8>li:before{content:\"\" counter(lst-ctn-kix_9a6ry7a1ii44-8,lower-roman) \". \"}ol.lst-kix_f1g35hczp9ms-7{list-style-type:none}ol.lst-kix_f1g35hczp9ms-4{list-style-type:none}ol.lst-kix_mlr37z1jswq9-0.start{counter-reset:lst-ctn-kix_mlr37z1jswq9-0 0}ol.lst-kix_f1g35hczp9ms-3{list-style-type:none}ol.lst-kix_f1g35hczp9ms-6{list-style-type:none}ol.lst-kix_en7m7wfchoau-0.start{counter-reset:lst-ctn-kix_en7m7wfchoau-0 0}ol.lst-kix_f1g35hczp9ms-5{list-style-type:none}ol.lst-kix_f1g35hczp9ms-0{list-style-type:none}ol.lst-kix_vjqinyiydwww-8{list-style-type:none}ol.lst-kix_vjqinyiydwww-7{list-style-type:none}ol.lst-kix_f1g35hczp9ms-2{list-style-type:none}.lst-kix_dj1d9x2iyizn-8>li{counter-increment:lst-ctn-kix_dj1d9x2iyizn-8}ol.lst-kix_vjqinyiydwww-2.start{counter-reset:lst-ctn-kix_vjqinyiydwww-2 0}ol.lst-kix_vjqinyiydwww-6{list-style-type:none}ol.lst-kix_f1g35hczp9ms-1{list-style-type:none}ol.lst-kix_vjqinyiydwww-5{list-style-type:none}ol.lst-kix_vjqinyiydwww-4{list-style-type:none}ol.lst-kix_vjqinyiydwww-3{list-style-type:none}ol.lst-kix_vjqinyiydwww-2{list-style-type:none}.lst-kix_bikt0ydiqedt-8>li{counter-increment:lst-ctn-kix_bikt0ydiqedt-8}ol.lst-kix_9a6ry7a1ii44-0{list-style-type:none}ol.lst-kix_vjqinyiydwww-1{list-style-type:none}ol.lst-kix_9a6ry7a1ii44-1{list-style-type:none}ol.lst-kix_vjqinyiydwww-0{list-style-type:none}ol.lst-kix_9a6ry7a1ii44-2{list-style-type:none}ol.lst-kix_9a6ry7a1ii44-3{list-style-type:none}ol.lst-kix_9a6ry7a1ii44-4{list-style-type:none}.lst-kix_mlr37z1jswq9-6>li{counter-increment:lst-ctn-kix_mlr37z1jswq9-6}.lst-kix_jjdsisnnaeo4-6>li{counter-increment:lst-ctn-kix_jjdsisnnaeo4-6}.lst-kix_f1g35hczp9ms-0>li:before{content:\"\" counter(lst-ctn-kix_f1g35hczp9ms-0,decimal) \". \"}.lst-kix_f1g35hczp9ms-1>li:before{content:\"\" counter(lst-ctn-kix_f1g35hczp9ms-1,lower-latin) \". \"}ol.lst-kix_bikt0ydiqedt-4.start{counter-reset:lst-ctn-kix_bikt0ydiqedt-4 0}.lst-kix_f1g35hczp9ms-3>li:before{content:\"\" counter(lst-ctn-kix_f1g35hczp9ms-3,decimal) \". \"}ol.lst-kix_jlmg7gykri7u-4.start{counter-reset:lst-ctn-kix_jlmg7gykri7u-4 0}.lst-kix_f1g35hczp9ms-2>li:before{content:\"\" counter(lst-ctn-kix_f1g35hczp9ms-2,lower-roman) \". \"}.lst-kix_f1g35hczp9ms-4>li:before{content:\"\" counter(lst-ctn-kix_f1g35hczp9ms-4,lower-latin) \". \"}.lst-kix_9a6ry7a1ii44-0>li:before{content:\"\" counter(lst-ctn-kix_9a6ry7a1ii44-0,decimal) \". \"}ol.lst-kix_f1g35hczp9ms-2.start{counter-reset:lst-ctn-kix_f1g35hczp9ms-2 0}.lst-kix_9a6ry7a1ii44-2>li:before{content:\"\" counter(lst-ctn-kix_9a6ry7a1ii44-2,lower-roman) \". \"}ol.lst-kix_mlr37z1jswq9-6.start{counter-reset:lst-ctn-kix_mlr37z1jswq9-6 0}.lst-kix_en7m7wfchoau-6>li{counter-increment:lst-ctn-kix_en7m7wfchoau-6}.lst-kix_9a6ry7a1ii44-1>li:before{content:\"\" counter(lst-ctn-kix_9a6ry7a1ii44-1,lower-latin) \". \"}.lst-kix_9a6ry7a1ii44-3>li:before{content:\"\" counter(lst-ctn-kix_9a6ry7a1ii44-3,decimal) \". \"}.lst-kix_f1g35hczp9ms-6>li:before{content:\"\" counter(lst-ctn-kix_f1g35hczp9ms-6,decimal) \". \"}.lst-kix_f1g35hczp9ms-8>li:before{content:\"\" counter(lst-ctn-kix_f1g35hczp9ms-8,lower-roman) \". \"}.lst-kix_jjdsisnnaeo4-8>li{counter-increment:lst-ctn-kix_jjdsisnnaeo4-8}.lst-kix_jlmg7gykri7u-0>li:before{content:\"\" counter(lst-ctn-kix_jlmg7gykri7u-0,lower-latin) \". \"}ol.lst-kix_en7m7wfchoau-6.start{counter-reset:lst-ctn-kix_en7m7wfchoau-6 0}.lst-kix_f1g35hczp9ms-5>li:before{content:\"\" counter(lst-ctn-kix_f1g35hczp9ms-5,lower-roman) \". \"}.lst-kix_jlmg7gykri7u-3>li:before{content:\"\" counter(lst-ctn-kix_jlmg7gykri7u-3,lower-latin) \". \"}.lst-kix_9a6ry7a1ii44-5>li:before{content:\"\" counter(lst-ctn-kix_9a6ry7a1ii44-5,lower-roman) \". \"}.lst-kix_jlmg7gykri7u-1>li:before{content:\"\" counter(lst-ctn-kix_jlmg7gykri7u-1,lower-roman) \". \"}.lst-kix_9a6ry7a1ii44-4>li:before{content:\"\" counter(lst-ctn-kix_9a6ry7a1ii44-4,lower-latin) \". \"}.lst-kix_jlmg7gykri7u-2>li:before{content:\"\" counter(lst-ctn-kix_jlmg7gykri7u-2,decimal) \". \"}.lst-kix_jlmg7gykri7u-2>li{counter-increment:lst-ctn-kix_jlmg7gykri7u-2}.lst-kix_f1g35hczp9ms-7>li:before{content:\"\" counter(lst-ctn-kix_f1g35hczp9ms-7,lower-latin) \". \"}ol.lst-kix_7rsp6vwkllwp-0.start{counter-reset:lst-ctn-kix_7rsp6vwkllwp-0 0}ol.lst-kix_dj1d9x2iyizn-0.start{counter-reset:lst-ctn-kix_dj1d9x2iyizn-0 0}ol.lst-kix_9a6ry7a1ii44-3.start{counter-reset:lst-ctn-kix_9a6ry7a1ii44-3 0}.lst-kix_vjqinyiydwww-4>li{counter-increment:lst-ctn-kix_vjqinyiydwww-4}ol.lst-kix_vjqinyiydwww-7.start{counter-reset:lst-ctn-kix_vjqinyiydwww-7 0}ol.lst-kix_mlr37z1jswq9-0{list-style-type:none}ol.lst-kix_mlr37z1jswq9-1{list-style-type:none}ol.lst-kix_mlr37z1jswq9-2{list-style-type:none}ol.lst-kix_mlr37z1jswq9-3{list-style-type:none}ol.lst-kix_mlr37z1jswq9-4{list-style-type:none}ol.lst-kix_mlr37z1jswq9-5{list-style-type:none}ol.lst-kix_mlr37z1jswq9-6{list-style-type:none}.lst-kix_en7m7wfchoau-1>li:before{content:\"\" counter(lst-ctn-kix_en7m7wfchoau-1,lower-latin) \". \"}ol.lst-kix_mlr37z1jswq9-7{list-style-type:none}ol.lst-kix_mlr37z1jswq9-8{list-style-type:none}.lst-kix_en7m7wfchoau-4>li{counter-increment:lst-ctn-kix_en7m7wfchoau-4}.lst-kix_jjdsisnnaeo4-8>li:before{content:\"\" counter(lst-ctn-kix_jjdsisnnaeo4-8,lower-roman) \". \"}.lst-kix_en7m7wfchoau-0>li:before{content:\"\" counter(lst-ctn-kix_en7m7wfchoau-0,decimal) \". \"}ol.lst-kix_mlr37z1jswq9-5.start{counter-reset:lst-ctn-kix_mlr37z1jswq9-5 0}ol.lst-kix_en7m7wfchoau-5.start{counter-reset:lst-ctn-kix_en7m7wfchoau-5 0}.lst-kix_jjdsisnnaeo4-4>li:before{content:\"\" counter(lst-ctn-kix_jjdsisnnaeo4-4,lower-latin) \". \"}.lst-kix_jjdsisnnaeo4-6>li:before{content:\"\" counter(lst-ctn-kix_jjdsisnnaeo4-6,decimal) \". \"}.lst-kix_en7m7wfchoau-4>li:before{content:\"\" counter(lst-ctn-kix_en7m7wfchoau-4,lower-latin) \". \"}.lst-kix_en7m7wfchoau-6>li:before{content:\"\" counter(lst-ctn-kix_en7m7wfchoau-6,decimal) \". \"}.lst-kix_jjdsisnnaeo4-3>li:before{content:\"\" counter(lst-ctn-kix_jjdsisnnaeo4-3,decimal) \". \"}.lst-kix_jjdsisnnaeo4-7>li:before{content:\"\" counter(lst-ctn-kix_jjdsisnnaeo4-7,lower-latin) \". \"}.lst-kix_en7m7wfchoau-5>li:before{content:\"\" counter(lst-ctn-kix_en7m7wfchoau-5,lower-roman) \". \"}.lst-kix_en7m7wfchoau-2>li:before{content:\"\" counter(lst-ctn-kix_en7m7wfchoau-2,lower-roman) \". \"}.lst-kix_7rsp6vwkllwp-5>li{counter-increment:lst-ctn-kix_7rsp6vwkllwp-5}ol.lst-kix_7rsp6vwkllwp-6.start{counter-reset:lst-ctn-kix_7rsp6vwkllwp-6 0}.lst-kix_jjdsisnnaeo4-5>li:before{content:\"\" counter(lst-ctn-kix_jjdsisnnaeo4-5,lower-roman) \". \"}.lst-kix_en7m7wfchoau-3>li:before{content:\"\" counter(lst-ctn-kix_en7m7wfchoau-3,decimal) \". \"}ol.lst-kix_vjqinyiydwww-1.start{counter-reset:lst-ctn-kix_vjqinyiydwww-1 0}.lst-kix_mlr37z1jswq9-2>li{counter-increment:lst-ctn-kix_mlr37z1jswq9-2}.lst-kix_f1g35hczp9ms-5>li{counter-increment:lst-ctn-kix_f1g35hczp9ms-5}ol.lst-kix_9a6ry7a1ii44-4.start{counter-reset:lst-ctn-kix_9a6ry7a1ii44-4 0}.lst-kix_jjdsisnnaeo4-0>li:before{content:\"\" counter(lst-ctn-kix_jjdsisnnaeo4-0,decimal) \". \"}.lst-kix_jjdsisnnaeo4-2>li:before{content:\"\" counter(lst-ctn-kix_jjdsisnnaeo4-2,lower-roman) \". \"}.lst-kix_jjdsisnnaeo4-4>li{counter-increment:lst-ctn-kix_jjdsisnnaeo4-4}.lst-kix_en7m7wfchoau-8>li:before{content:\"\" counter(lst-ctn-kix_en7m7wfchoau-8,lower-roman) \". \"}.lst-kix_mlr37z1jswq9-8>li{counter-increment:lst-ctn-kix_mlr37z1jswq9-8}.lst-kix_f1g35hczp9ms-8>li{counter-increment:lst-ctn-kix_f1g35hczp9ms-8}.lst-kix_jjdsisnnaeo4-1>li:before{content:\"\" counter(lst-ctn-kix_jjdsisnnaeo4-1,lower-latin) \". \"}.lst-kix_jjdsisnnaeo4-1>li{counter-increment:lst-ctn-kix_jjdsisnnaeo4-1}.lst-kix_en7m7wfchoau-7>li:before{content:\"\" counter(lst-ctn-kix_en7m7wfchoau-7,lower-latin) \". \"}.lst-kix_dj1d9x2iyizn-6>li{counter-increment:lst-ctn-kix_dj1d9x2iyizn-6}.lst-kix_9a6ry7a1ii44-6>li{counter-increment:lst-ctn-kix_9a6ry7a1ii44-6}.lst-kix_7rsp6vwkllwp-7>li:before{content:\"\" counter(lst-ctn-kix_7rsp6vwkllwp-7,lower-latin) \". \"}.lst-kix_f1g35hczp9ms-7>li{counter-increment:lst-ctn-kix_f1g35hczp9ms-7}ol.lst-kix_mlr37z1jswq9-7.start{counter-reset:lst-ctn-kix_mlr37z1jswq9-7 0}ol.lst-kix_jjdsisnnaeo4-7.start{counter-reset:lst-ctn-kix_jjdsisnnaeo4-7 0}.lst-kix_vjqinyiydwww-6>li{counter-increment:lst-ctn-kix_vjqinyiydwww-6}ol.lst-kix_jlmg7gykri7u-8.start{counter-reset:lst-ctn-kix_jlmg7gykri7u-8 0}.lst-kix_7rsp6vwkllwp-3>li:before{content:\"\" counter(lst-ctn-kix_7rsp6vwkllwp-3,decimal) \". \"}.lst-kix_en7m7wfchoau-0>li{counter-increment:lst-ctn-kix_en7m7wfchoau-0}.lst-kix_7rsp6vwkllwp-1>li:before{content:\"\" counter(lst-ctn-kix_7rsp6vwkllwp-1,lower-latin) \". \"}.lst-kix_7rsp6vwkllwp-5>li:before{content:\"\" counter(lst-ctn-kix_7rsp6vwkllwp-5,lower-roman) \". \"}ol.lst-kix_9a6ry7a1ii44-8.start{counter-reset:lst-ctn-kix_9a6ry7a1ii44-8 0}.lst-kix_f1g35hczp9ms-6>li{counter-increment:lst-ctn-kix_f1g35hczp9ms-6}ol.lst-kix_bikt0ydiqedt-8.start{counter-reset:lst-ctn-kix_bikt0ydiqedt-8 0}ol.lst-kix_9a6ry7a1ii44-5.start{counter-reset:lst-ctn-kix_9a6ry7a1ii44-5 0}.lst-kix_bikt0ydiqedt-5>li:before{content:\"\" counter(lst-ctn-kix_bikt0ydiqedt-5,lower-roman) \". \"}.lst-kix_mlr37z1jswq9-3>li{counter-increment:lst-ctn-kix_mlr37z1jswq9-3}.lst-kix_jjdsisnnaeo4-0>li{counter-increment:lst-ctn-kix_jjdsisnnaeo4-0}.lst-kix_bikt0ydiqedt-3>li:before{content:\"\" counter(lst-ctn-kix_bikt0ydiqedt-3,decimal) \". \"}.lst-kix_bikt0ydiqedt-7>li:before{content:\"\" counter(lst-ctn-kix_bikt0ydiqedt-7,lower-latin) \". \"}ol.lst-kix_en7m7wfchoau-2.start{counter-reset:lst-ctn-kix_en7m7wfchoau-2 0}ol.lst-kix_jlmg7gykri7u-1{list-style-type:none}.lst-kix_dj1d9x2iyizn-5>li:before{content:\"\" counter(lst-ctn-kix_dj1d9x2iyizn-5,lower-roman) \". \"}ol.lst-kix_jlmg7gykri7u-0{list-style-type:none}ol.lst-kix_jlmg7gykri7u-3{list-style-type:none}ol.lst-kix_jlmg7gykri7u-2{list-style-type:none}.lst-kix_dj1d9x2iyizn-7>li:before{content:\"\" counter(lst-ctn-kix_dj1d9x2iyizn-7,lower-latin) \". \"}ol.lst-kix_jlmg7gykri7u-8{list-style-type:none}ol.lst-kix_jlmg7gykri7u-5{list-style-type:none}ol.lst-kix_jlmg7gykri7u-4{list-style-type:none}ol.lst-kix_jlmg7gykri7u-7{list-style-type:none}ol.lst-kix_jlmg7gykri7u-6{list-style-type:none}.lst-kix_bikt0ydiqedt-1>li:before{content:\"\" counter(lst-ctn-kix_bikt0ydiqedt-1,lower-latin) \". \"}.lst-kix_bikt0ydiqedt-6>li{counter-increment:lst-ctn-kix_bikt0ydiqedt-6}.lst-kix_9a6ry7a1ii44-4>li{counter-increment:lst-ctn-kix_9a6ry7a1ii44-4}ol.lst-kix_jjdsisnnaeo4-4.start{counter-reset:lst-ctn-kix_jjdsisnnaeo4-4 0}.lst-kix_jlmg7gykri7u-7>li:before{content:\"\" counter(lst-ctn-kix_jlmg7gykri7u-7,lower-roman) \". \"}.lst-kix_vjqinyiydwww-7>li:before{content:\"\" counter(lst-ctn-kix_vjqinyiydwww-7,lower-latin) \". \"}ol.lst-kix_9a6ry7a1ii44-6.start{counter-reset:lst-ctn-kix_9a6ry7a1ii44-6 0}.lst-kix_mlr37z1jswq9-0>li:before{content:\"\" counter(lst-ctn-kix_mlr37z1jswq9-0,decimal) \". \"}.lst-kix_vjqinyiydwww-5>li:before{content:\"\" counter(lst-ctn-kix_vjqinyiydwww-5,lower-roman) \". \"}.lst-kix_vjqinyiydwww-3>li:before{content:\"\" counter(lst-ctn-kix_vjqinyiydwww-3,decimal) \". \"}.lst-kix_dj1d9x2iyizn-5>li{counter-increment:lst-ctn-kix_dj1d9x2iyizn-5}.lst-kix_jlmg7gykri7u-5>li:before{content:\"\" counter(lst-ctn-kix_jlmg7gykri7u-5,decimal) \". \"}.lst-kix_mlr37z1jswq9-4>li{counter-increment:lst-ctn-kix_mlr37z1jswq9-4}.lst-kix_jjdsisnnaeo4-5>li{counter-increment:lst-ctn-kix_jjdsisnnaeo4-5}.lst-kix_bikt0ydiqedt-7>li{counter-increment:lst-ctn-kix_bikt0ydiqedt-7}.lst-kix_dj1d9x2iyizn-1>li:before{content:\"\" counter(lst-ctn-kix_dj1d9x2iyizn-1,lower-latin) \". \"}.lst-kix_bikt0ydiqedt-1>li{counter-increment:lst-ctn-kix_bikt0ydiqedt-1}.lst-kix_mlr37z1jswq9-8>li:before{content:\"\" counter(lst-ctn-kix_mlr37z1jswq9-8,lower-roman) \". \"}ol.lst-kix_f1g35hczp9ms-1.start{counter-reset:lst-ctn-kix_f1g35hczp9ms-1 0}.lst-kix_jlmg7gykri7u-0>li{counter-increment:lst-ctn-kix_jlmg7gykri7u-0}.lst-kix_dj1d9x2iyizn-4>li{counter-increment:lst-ctn-kix_dj1d9x2iyizn-4}ol.lst-kix_jjdsisnnaeo4-5.start{counter-reset:lst-ctn-kix_jjdsisnnaeo4-5 0}.lst-kix_dj1d9x2iyizn-3>li:before{content:\"\" counter(lst-ctn-kix_dj1d9x2iyizn-3,decimal) \". \"}ol.lst-kix_jjdsisnnaeo4-6.start{counter-reset:lst-ctn-kix_jjdsisnnaeo4-6 0}.lst-kix_en7m7wfchoau-5>li{counter-increment:lst-ctn-kix_en7m7wfchoau-5}.lst-kix_7rsp6vwkllwp-3>li{counter-increment:lst-ctn-kix_7rsp6vwkllwp-3}ol.lst-kix_mlr37z1jswq9-8.start{counter-reset:lst-ctn-kix_mlr37z1jswq9-8 0}ol.lst-kix_9a6ry7a1ii44-7.start{counter-reset:lst-ctn-kix_9a6ry7a1ii44-7 0}.lst-kix_jlmg7gykri7u-6>li{counter-increment:lst-ctn-kix_jlmg7gykri7u-6}li.li-bullet-0:before{margin-left:-18pt;white-space:nowrap;display:inline-block;min-width:18pt}.lst-kix_9a6ry7a1ii44-5>li{counter-increment:lst-ctn-kix_9a6ry7a1ii44-5}.lst-kix_mlr37z1jswq9-6>li:before{content:\"\" counter(lst-ctn-kix_mlr37z1jswq9-6,decimal) \". \"}.lst-kix_mlr37z1jswq9-4>li:before{content:\"\" counter(lst-ctn-kix_mlr37z1jswq9-4,lower-latin) \". \"}.lst-kix_vjqinyiydwww-1>li:before{content:\"\" counter(lst-ctn-kix_vjqinyiydwww-1,lower-latin) \". \"}.lst-kix_mlr37z1jswq9-2>li:before{content:\"\" counter(lst-ctn-kix_mlr37z1jswq9-2,lower-roman) \". \"}ol.lst-kix_en7m7wfchoau-1.start{counter-reset:lst-ctn-kix_en7m7wfchoau-1 0}.lst-kix_vjqinyiydwww-5>li{counter-increment:lst-ctn-kix_vjqinyiydwww-5}ol.lst-kix_f1g35hczp9ms-0.start{counter-reset:lst-ctn-kix_f1g35hczp9ms-0 0}ol{margin:0;padding:0}table td,table th{padding:0}.c4{-webkit-text-decoration-skip:none;color:#000000;font-weight:700;text-decoration:underline;vertical-align:baseline;text-decoration-skip-ink:none;font-size:12pt;font-family:\"Calibri\";font-style:normal}.c6{margin-left:72pt;padding-top:0pt;padding-left:0pt;padding-bottom:0pt;line-height:1.15;orphans:2;widows:2;text-align:justify}.c5{margin-left:36pt;padding-top:0pt;padding-left:0pt;padding-bottom:0pt;line-height:1.15;orphans:2;widows:2;text-align:justify}.c0{margin-left:36pt;padding-top:0pt;padding-left:0pt;padding-bottom:0pt;line-height:1.15;orphans:2;widows:2;text-align:left}.c9{color:#000000;font-weight:700;text-decoration:none;vertical-align:baseline;font-size:20pt;font-family:\"Calibri\";font-style:normal}.c1{color:#000000;font-weight:700;text-decoration:none;vertical-align:baseline;font-size:12pt;font-family:\"Calibri\";font-style:normal}.c2{color:#000000;font-weight:400;text-decoration:none;vertical-align:baseline;font-size:13pt;font-family:\"Calibri\";font-style:normal}.c23{color:#000000;font-weight:400;text-decoration:none;vertical-align:baseline;font-size:11pt;font-family:\"Calibri\";font-style:normal}.c13{color:#000000;font-weight:700;text-decoration:none;vertical-align:baseline;font-size:13pt;font-family:\"Calibri\";font-style:normal}.c16{color:#000000;font-weight:700;text-decoration:none;vertical-align:baseline;font-size:16pt;font-family:\"Calibri\";font-style:normal}.c3{color:#000000;font-weight:400;text-decoration:none;vertical-align:baseline;font-size:12pt;font-family:\"Calibri\";font-style:normal}.c18{-webkit-text-decoration-skip:none;font-weight:700;text-decoration:underline;text-decoration-skip-ink:none;font-size:12pt;font-family:\"Calibri\"}.c7{padding-top:0pt;padding-bottom:0pt;line-height:1.15;orphans:2;widows:2;text-align:justify}.c21{-webkit-text-decoration-skip:none;color:#000000;text-decoration:underline;vertical-align:baseline;text-decoration-skip-ink:none;font-style:normal}.c24{padding-top:0pt;padding-bottom:0pt;line-height:1.15;orphans:2;widows:2;text-align:center}.c11{background-color:#ffffff;font-size:12pt;font-family:\"Calibri\";color:#222222;font-weight:400}.c25{-webkit-text-decoration-skip:none;text-decoration:underline;text-decoration-skip-ink:none}.c15{font-size:12pt;font-family:\"Calibri\";font-weight:400}.c22{font-size:12pt;font-family:\"Calibri\";font-weight:700}.c10{background-color:#ffffff;max-width:468pt;padding:72pt 72pt 72pt 72pt}.c19{font-size:13pt;font-family:\"Calibri\";font-weight:700}.c8{font-size:13pt;font-family:\"Calibri\";font-weight:400}.c12{padding:0;margin:0}.c26{font-weight:400;font-family:\"Calibri\"}.c17{margin-left:108pt;padding-left:0pt}.c14{color:inherit;text-decoration:inherit}.c28{margin-left:36pt}.c20{height:11pt}.c27{color:#1155cc}.title{padding-top:0pt;color:#000000;font-size:26pt;padding-bottom:3pt;font-family:\"Arial\";line-height:1.15;page-break-after:avoid;orphans:2;widows:2;text-align:left}.subtitle{padding-top:0pt;color:#666666;font-size:15pt;padding-bottom:16pt;font-family:\"Arial\";line-height:1.15;page-break-after:avoid;orphans:2;widows:2;text-align:left}li{color:#000000;font-size:11pt;font-family:\"Arial\"}p{margin:0;color:#000000;font-size:11pt;font-family:\"Arial\"}h1{padding-top:20pt;color:#000000;font-size:20pt;padding-bottom:6pt;font-family:\"Arial\";line-height:1.15;page-break-after:avoid;orphans:2;widows:2;text-align:left}h2{padding-top:18pt;color:#000000;font-size:16pt;padding-bottom:6pt;font-family:\"Arial\";line-height:1.15;page-break-after:avoid;orphans:2;widows:2;text-align:left}h3{padding-top:16pt;color:#434343;font-size:14pt;padding-bottom:4pt;font-family:\"Arial\";line-height:1.15;page-break-after:avoid;orphans:2;widows:2;text-align:left}h4{padding-top:14pt;color:#666666;font-size:12pt;padding-bottom:4pt;font-family:\"Arial\";line-height:1.15;page-break-after:avoid;orphans:2;widows:2;text-align:left}h5{padding-top:12pt;color:#666666;font-size:11pt;padding-bottom:4pt;font-family:\"Arial\";line-height:1.15;page-break-after:avoid;orphans:2;widows:2;text-align:left}h6{padding-top:12pt;color:#666666;font-size:11pt;padding-bottom:4pt;font-family:\"Arial\";line-height:1.15;page-break-after:avoid;font-style:italic;orphans:2;widows:2;text-align:left}</style></head><body class=\"c10 doc-content\"><p class=\"c24\"><span class=\"c9\">Programming Assignment - 1 [13/02/2023]</span></p><p class=\"c24\"><span class=\"c9\">CSL7640</span></p><p class=\"c24\"><span class=\"c23\">&nbsp;&nbsp;&nbsp;&nbsp;&nbsp;&nbsp;&nbsp;&nbsp;</span></p><p class=\"c7\"><span class=\"c16\">Instructions:</span></p><ol class=\"c12 lst-kix_vjqinyiydwww-0 start\" start=\"1\"><li class=\"c0 li-bullet-0\"><span class=\"c1\">Total marks - 10 &nbsp; </span></li><li class=\"c0 li-bullet-0\"><span class=\"c1\">Deadline:- 01-03-2023 05:00 PM</span></li><li class=\"c0 li-bullet-0\"><span class=\"c3\">Separate submission links will be created accordingly.</span></li><li class=\"c0 li-bullet-0\"><span class=\"c4\">ANY ONE MEMBER OF THE GROUP CAN SUBMIT. No need for other people to submit.</span></li><li class=\"c0 li-bullet-0\"><span class=\"c18\">All libraries and tools are allowed. &nbsp;</span></li><li class=\"c5 li-bullet-0\"><span class=\"c15\">Submit a </span><span class=\"c22\">.zip</span><span class=\"c15\">&nbsp;file containing all the working codes (.py files and .pdf files). The zip file should be named in the format &lt;</span><span class=\"c26\">RollNo1_RollNo2_RollNo3_NLU_A1</span><span class=\"c3\">&gt;.zip. </span></li></ol><p class=\"c7 c28\"><span class=\"c19 c25\">[Do not include model weights and data in the zip file]</span></p><ol class=\"c12 lst-kix_vjqinyiydwww-0\" start=\"7\"><li class=\"c5 li-bullet-0\"><span class=\"c15\">Submit a </span><span class=\"c22\">.pdf </span><span class=\"c3\">report which should contain the following:</span></li></ol><ol class=\"c12 lst-kix_vjqinyiydwww-1 start\" start=\"1\"><li class=\"c6 li-bullet-0\"><span class=\"c3\">A detailed description of what you have done,</span></li><li class=\"c6 li-bullet-0\"><span class=\"c15\">A description of what else could be done to improve results - c</span><span class=\"c11\">hallenges</span><span class=\"c15\">&nbsp;faced</span></li><li class=\"c6 li-bullet-0\"><span class=\"c3\">Links to the Google-Colab files (if any),</span></li><li class=\"c6 li-bullet-0\"><span class=\"c3\">Clearly mention the contribution of each group member.</span></li></ol><ol class=\"c12 lst-kix_vjqinyiydwww-0\" start=\"8\"><li class=\"c5 li-bullet-0\"><span class=\"c4\">Copying from the Internet and/or your classmates is strictly prohibited. Any team found guilty will be awarded a suitable penalty as per IIT rules.</span></li></ol><p class=\"c7 c20\"><span class=\"c4\"></span></p><p class=\"c7\"><span class=\"c18\">Dataset:</span><span class=\"c1\">&nbsp;</span></p><ol class=\"c12 lst-kix_bikt0ydiqedt-0 start\" start=\"1\"><li class=\"c5 li-bullet-0\"><span class=\"c22\">Choose any one text dataset from </span><span class=\"c18 c27\"><a class=\"c14\" href=\"https://www.google.com/url?q=https://drive.google.com/file/d/1l32CBYni0ySAWY0vn_jjQRShpBsKUt0z/view?usp%3Dshare_link&amp;sa=D&amp;source=editors&amp;ust=1677610229295048&amp;usg=AOvVaw086QsNIFUZuAW4dI73YWRI\">here</a></span><span class=\"c1\">. </span></li><li class=\"c5 li-bullet-0\"><span class=\"c1\">Use accuracy, confusion matrix (class-wise) as a metric for multi-class classification.</span></li><li class=\"c5 li-bullet-0\"><span class=\"c1\">Use accuracy, Precision, Recall, F1 score and confusion matrix as a metric for binary classification.</span></li><li class=\"c5 li-bullet-0\"><span class=\"c1\">Report hyperparameters for all deep models, like learning rate, optimiser, number of epochs, and scheduler.</span></li><li class=\"c5 li-bullet-0\"><span class=\"c1\">Show train/val loss and accuracy plots for deep neural networks.</span></li><li class=\"c5 li-bullet-0\"><span class=\"c1\">Show some error examples where a wrong class is predicted by the best model in 4. </span></li></ol><p class=\"c7 c20\"><span class=\"c16\"></span></p><p class=\"c7\"><span class=\"c16\">Tasks:</span></p><p class=\"c7 c20\"><span class=\"c2\"></span></p><ol class=\"c12 lst-kix_dj1d9x2iyizn-0 start\" start=\"1\"><li class=\"c5 li-bullet-0\"><span class=\"c2\">Define your own train-val-test split. [Report the split chosen.]</span></li><li class=\"c5 li-bullet-0\"><span class=\"c2\">Define a text preprocessing pipeline, i.e., stopword removal, lower casing, punctuation removal etc. [Report your text preprocessing pipeline in the report.]</span></li><li class=\"c5 li-bullet-0\"><span class=\"c2\">Developing ML methods:</span></li></ol><ol class=\"c12 lst-kix_dj1d9x2iyizn-1 start\" start=\"1\"><li class=\"c6 li-bullet-0\"><span class=\"c8\">Model a </span><span class=\"c19\">Naive Bayes classifier</span><span class=\"c2\">.</span></li></ol><ol class=\"c12 lst-kix_dj1d9x2iyizn-2 start\" start=\"1\"><li class=\"c7 c17 li-bullet-0\"><span class=\"c2\">Count vectorizer features.</span></li><li class=\"c7 c17 li-bullet-0\"><span class=\"c2\">TF-IDF features.</span></li></ol><ol class=\"c12 lst-kix_dj1d9x2iyizn-1\" start=\"2\"><li class=\"c6 li-bullet-0\"><span class=\"c8\">Model a </span><span class=\"c19\">decision tree</span><span class=\"c2\">&nbsp;with TF-IDF features. [Compare with 3.a.ii]</span></li></ol><ol class=\"c12 lst-kix_dj1d9x2iyizn-0\" start=\"4\"><li class=\"c5 li-bullet-0\"><span class=\"c2\">Developing Deep neural networks:</span></li></ol><ol class=\"c12 lst-kix_dj1d9x2iyizn-1 start\" start=\"1\"><li class=\"c6 li-bullet-0\"><span class=\"c13\">RNN model.</span></li></ol><ol class=\"c12 lst-kix_dj1d9x2iyizn-2 start\" start=\"1\"><li class=\"c7 c17 li-bullet-0\"><span class=\"c2\">64 hidden-vector dimension.</span></li><li class=\"c7 c17 li-bullet-0\"><span class=\"c2\">256 hidden-vector dimension.</span></li></ol><ol class=\"c12 lst-kix_dj1d9x2iyizn-1\" start=\"2\"><li class=\"c6 li-bullet-0\"><span class=\"c19\">1-layer LSTM model.</span><span class=\"c2\">&nbsp;[choose 64 or 256 as hidden-vector representation based on the results from 4.a. Report the choice and its justification.]</span></li><li class=\"c6 li-bullet-0\"><span class=\"c19\">2-layer LSTM model.</span><span class=\"c2\">&nbsp;[use the same hidden-vector representation as 4.b.]</span></li><li class=\"c6 li-bullet-0\"><span class=\"c19\">1-layer Bi-LSTM model.</span><span class=\"c2\">&nbsp;[use same hidden-vector representation as 4.b. Report 4.b vs 4.d model performance.] </span></li><li class=\"c6 li-bullet-0\"><span class=\"c2\">Use Google word2vec embeddings as input embedding to model in 4.d. [Compare the performance 4.e vs 4.d]</span></li><li class=\"c6 li-bullet-0\"><span class=\"c2\">Use Glove embeddings as input embedding to model in 4.d. [Compare the performance 4.f vs 4.d]</span></li><li class=\"c6 li-bullet-0\"><span class=\"c8\">Compare 4.e vs 4.f</span></li></ol></body></html>\n",
        "\n"
      ],
      "metadata": {
        "id": "Aevvme52WZSz"
      }
    },
    {
      "cell_type": "code",
      "execution_count": null,
      "metadata": {
        "colab": {
          "base_uri": "https://localhost:8080/"
        },
        "id": "exh8XglX806e",
        "outputId": "9b936abf-c14b-40ef-a065-8b484783b3c2"
      },
      "outputs": [
        {
          "output_type": "stream",
          "name": "stdout",
          "text": [
            "Mounted at /content/gdrive\n"
          ]
        }
      ],
      "source": [
        "from google.colab import drive\n",
        "drive.mount('/content/gdrive')"
      ]
    },
    {
      "cell_type": "code",
      "execution_count": null,
      "metadata": {
        "colab": {
          "base_uri": "https://localhost:8080/"
        },
        "id": "z_g3JX_W8v3w",
        "outputId": "50c56c2a-8112-4d6d-f5ac-42b1d73ce4bd"
      },
      "outputs": [
        {
          "output_type": "stream",
          "name": "stdout",
          "text": [
            "/content/gdrive/My Drive/Colab Notebooks/semester3/NLP\n"
          ]
        }
      ],
      "source": [
        "%cd \"/content/gdrive/My Drive/Colab Notebooks/semester3/NLP\""
      ]
    },
    {
      "cell_type": "code",
      "execution_count": 2,
      "metadata": {
        "colab": {
          "base_uri": "https://localhost:8080/"
        },
        "id": "unNzVY72Bvtq",
        "outputId": "1e2f7a67-aeea-48f2-9220-df06914c9fd2"
      },
      "outputs": [
        {
          "output_type": "stream",
          "name": "stderr",
          "text": [
            "[nltk_data] Downloading package stopwords to /root/nltk_data...\n",
            "[nltk_data]   Unzipping corpora/stopwords.zip.\n",
            "[nltk_data] Downloading package wordnet to /root/nltk_data...\n",
            "[nltk_data] Downloading package omw-1.4 to /root/nltk_data...\n"
          ]
        },
        {
          "output_type": "stream",
          "name": "stdout",
          "text": [
            "Version:  2.11.0\n",
            "Eager mode:  True\n",
            "Hub version:  0.12.0\n",
            "GPU is NOT AVAILABLE\n"
          ]
        }
      ],
      "source": [
        "import numpy as np\n",
        "import pandas as pd\n",
        "import string\n",
        "import re\n",
        "import nltk\n",
        "from textblob import Word \n",
        "from nltk.corpus import stopwords\n",
        "from nltk.stem import WordNetLemmatizer\n",
        "nltk.download('stopwords')\n",
        "nltk.download('wordnet')\n",
        "nltk.download('omw-1.4')\n",
        "\n",
        "#Tensorflow\n",
        "import tensorflow as tf\n",
        "import tensorflow_hub as hub\n",
        "import tensorflow_datasets as tfds\n",
        "\n",
        "import matplotlib.pyplot as plt\n",
        "\n",
        "from sklearn.feature_extraction.text import CountVectorizer, TfidfVectorizer\n",
        "import sklearn.feature_extraction.text as text\n",
        "from sklearn import model_selection, preprocessing, linear_model, naive_bayes, metrics\n",
        "\n",
        "print(\"Version: \", tf.__version__)\n",
        "print(\"Eager mode: \", tf.executing_eagerly())\n",
        "print(\"Hub version: \", hub.__version__)\n",
        "print(\"GPU is\", \"available\" if tf.config.list_physical_devices('GPU') else \"NOT AVAILABLE\")\n",
        "\n",
        "from IPython.core.interactiveshell import InteractiveShell\n",
        "InteractiveShell.ast_node_interactivity = \"all\""
      ]
    },
    {
      "cell_type": "markdown",
      "source": [
        "#<font color='blue'><b>Data Pre-Procesing</b></font>"
      ],
      "metadata": {
        "id": "sevfrXiyWRM5"
      }
    },
    {
      "cell_type": "code",
      "execution_count": 3,
      "metadata": {
        "colab": {
          "base_uri": "https://localhost:8080/",
          "height": 250
        },
        "id": "s-XnKW3I8YFS",
        "outputId": "0b83e3a2-3e5b-4157-f223-ab6deeb79aa5"
      },
      "outputs": [
        {
          "output_type": "execute_result",
          "data": {
            "text/plain": [
              "                                               title  \\\n",
              "0   Donald Trump Sends Out Embarrassing New Year’...   \n",
              "1   Drunk Bragging Trump Staffer Started Russian ...   \n",
              "2   Sheriff David Clarke Becomes An Internet Joke...   \n",
              "3   Trump Is So Obsessed He Even Has Obama’s Name...   \n",
              "4   Pope Francis Just Called Out Donald Trump Dur...   \n",
              "\n",
              "                                                text subject  \\\n",
              "0  Donald Trump just couldn t wish all Americans ...    News   \n",
              "1  House Intelligence Committee Chairman Devin Nu...    News   \n",
              "2  On Friday, it was revealed that former Milwauk...    News   \n",
              "3  On Christmas day, Donald Trump announced that ...    News   \n",
              "4  Pope Francis used his annual Christmas Day mes...    News   \n",
              "\n",
              "                date  \n",
              "0  December 31, 2017  \n",
              "1  December 31, 2017  \n",
              "2  December 30, 2017  \n",
              "3  December 29, 2017  \n",
              "4  December 25, 2017  "
            ],
            "text/html": [
              "\n",
              "  <div id=\"df-473c34c4-99c4-4b88-892d-1c8570b91de3\">\n",
              "    <div class=\"colab-df-container\">\n",
              "      <div>\n",
              "<style scoped>\n",
              "    .dataframe tbody tr th:only-of-type {\n",
              "        vertical-align: middle;\n",
              "    }\n",
              "\n",
              "    .dataframe tbody tr th {\n",
              "        vertical-align: top;\n",
              "    }\n",
              "\n",
              "    .dataframe thead th {\n",
              "        text-align: right;\n",
              "    }\n",
              "</style>\n",
              "<table border=\"1\" class=\"dataframe\">\n",
              "  <thead>\n",
              "    <tr style=\"text-align: right;\">\n",
              "      <th></th>\n",
              "      <th>title</th>\n",
              "      <th>text</th>\n",
              "      <th>subject</th>\n",
              "      <th>date</th>\n",
              "    </tr>\n",
              "  </thead>\n",
              "  <tbody>\n",
              "    <tr>\n",
              "      <th>0</th>\n",
              "      <td>Donald Trump Sends Out Embarrassing New Year’...</td>\n",
              "      <td>Donald Trump just couldn t wish all Americans ...</td>\n",
              "      <td>News</td>\n",
              "      <td>December 31, 2017</td>\n",
              "    </tr>\n",
              "    <tr>\n",
              "      <th>1</th>\n",
              "      <td>Drunk Bragging Trump Staffer Started Russian ...</td>\n",
              "      <td>House Intelligence Committee Chairman Devin Nu...</td>\n",
              "      <td>News</td>\n",
              "      <td>December 31, 2017</td>\n",
              "    </tr>\n",
              "    <tr>\n",
              "      <th>2</th>\n",
              "      <td>Sheriff David Clarke Becomes An Internet Joke...</td>\n",
              "      <td>On Friday, it was revealed that former Milwauk...</td>\n",
              "      <td>News</td>\n",
              "      <td>December 30, 2017</td>\n",
              "    </tr>\n",
              "    <tr>\n",
              "      <th>3</th>\n",
              "      <td>Trump Is So Obsessed He Even Has Obama’s Name...</td>\n",
              "      <td>On Christmas day, Donald Trump announced that ...</td>\n",
              "      <td>News</td>\n",
              "      <td>December 29, 2017</td>\n",
              "    </tr>\n",
              "    <tr>\n",
              "      <th>4</th>\n",
              "      <td>Pope Francis Just Called Out Donald Trump Dur...</td>\n",
              "      <td>Pope Francis used his annual Christmas Day mes...</td>\n",
              "      <td>News</td>\n",
              "      <td>December 25, 2017</td>\n",
              "    </tr>\n",
              "  </tbody>\n",
              "</table>\n",
              "</div>\n",
              "      <button class=\"colab-df-convert\" onclick=\"convertToInteractive('df-473c34c4-99c4-4b88-892d-1c8570b91de3')\"\n",
              "              title=\"Convert this dataframe to an interactive table.\"\n",
              "              style=\"display:none;\">\n",
              "        \n",
              "  <svg xmlns=\"http://www.w3.org/2000/svg\" height=\"24px\"viewBox=\"0 0 24 24\"\n",
              "       width=\"24px\">\n",
              "    <path d=\"M0 0h24v24H0V0z\" fill=\"none\"/>\n",
              "    <path d=\"M18.56 5.44l.94 2.06.94-2.06 2.06-.94-2.06-.94-.94-2.06-.94 2.06-2.06.94zm-11 1L8.5 8.5l.94-2.06 2.06-.94-2.06-.94L8.5 2.5l-.94 2.06-2.06.94zm10 10l.94 2.06.94-2.06 2.06-.94-2.06-.94-.94-2.06-.94 2.06-2.06.94z\"/><path d=\"M17.41 7.96l-1.37-1.37c-.4-.4-.92-.59-1.43-.59-.52 0-1.04.2-1.43.59L10.3 9.45l-7.72 7.72c-.78.78-.78 2.05 0 2.83L4 21.41c.39.39.9.59 1.41.59.51 0 1.02-.2 1.41-.59l7.78-7.78 2.81-2.81c.8-.78.8-2.07 0-2.86zM5.41 20L4 18.59l7.72-7.72 1.47 1.35L5.41 20z\"/>\n",
              "  </svg>\n",
              "      </button>\n",
              "      \n",
              "  <style>\n",
              "    .colab-df-container {\n",
              "      display:flex;\n",
              "      flex-wrap:wrap;\n",
              "      gap: 12px;\n",
              "    }\n",
              "\n",
              "    .colab-df-convert {\n",
              "      background-color: #E8F0FE;\n",
              "      border: none;\n",
              "      border-radius: 50%;\n",
              "      cursor: pointer;\n",
              "      display: none;\n",
              "      fill: #1967D2;\n",
              "      height: 32px;\n",
              "      padding: 0 0 0 0;\n",
              "      width: 32px;\n",
              "    }\n",
              "\n",
              "    .colab-df-convert:hover {\n",
              "      background-color: #E2EBFA;\n",
              "      box-shadow: 0px 1px 2px rgba(60, 64, 67, 0.3), 0px 1px 3px 1px rgba(60, 64, 67, 0.15);\n",
              "      fill: #174EA6;\n",
              "    }\n",
              "\n",
              "    [theme=dark] .colab-df-convert {\n",
              "      background-color: #3B4455;\n",
              "      fill: #D2E3FC;\n",
              "    }\n",
              "\n",
              "    [theme=dark] .colab-df-convert:hover {\n",
              "      background-color: #434B5C;\n",
              "      box-shadow: 0px 1px 3px 1px rgba(0, 0, 0, 0.15);\n",
              "      filter: drop-shadow(0px 1px 2px rgba(0, 0, 0, 0.3));\n",
              "      fill: #FFFFFF;\n",
              "    }\n",
              "  </style>\n",
              "\n",
              "      <script>\n",
              "        const buttonEl =\n",
              "          document.querySelector('#df-473c34c4-99c4-4b88-892d-1c8570b91de3 button.colab-df-convert');\n",
              "        buttonEl.style.display =\n",
              "          google.colab.kernel.accessAllowed ? 'block' : 'none';\n",
              "\n",
              "        async function convertToInteractive(key) {\n",
              "          const element = document.querySelector('#df-473c34c4-99c4-4b88-892d-1c8570b91de3');\n",
              "          const dataTable =\n",
              "            await google.colab.kernel.invokeFunction('convertToInteractive',\n",
              "                                                     [key], {});\n",
              "          if (!dataTable) return;\n",
              "\n",
              "          const docLinkHtml = 'Like what you see? Visit the ' +\n",
              "            '<a target=\"_blank\" href=https://colab.research.google.com/notebooks/data_table.ipynb>data table notebook</a>'\n",
              "            + ' to learn more about interactive tables.';\n",
              "          element.innerHTML = '';\n",
              "          dataTable['output_type'] = 'display_data';\n",
              "          await google.colab.output.renderOutput(dataTable, element);\n",
              "          const docLink = document.createElement('div');\n",
              "          docLink.innerHTML = docLinkHtml;\n",
              "          element.appendChild(docLink);\n",
              "        }\n",
              "      </script>\n",
              "    </div>\n",
              "  </div>\n",
              "  "
            ]
          },
          "metadata": {},
          "execution_count": 3
        }
      ],
      "source": [
        "#df_fake = pd.read_csv('/content/gdrive/My Drive/Colab Notebooks/semester3/NLP/News/Fake.csv')\n",
        "df_fake = pd.read_csv('Fake.csv')\n",
        "df_fake.head(5)"
      ]
    },
    {
      "cell_type": "code",
      "execution_count": 4,
      "metadata": {
        "colab": {
          "base_uri": "https://localhost:8080/",
          "height": 250
        },
        "id": "IgdTj_8T8sBS",
        "outputId": "d9f0621e-f664-4e66-e9ff-bb75ab23ec1a"
      },
      "outputs": [
        {
          "output_type": "execute_result",
          "data": {
            "text/plain": [
              "                                               title  \\\n",
              "0  As U.S. budget fight looms, Republicans flip t...   \n",
              "1  U.S. military to accept transgender recruits o...   \n",
              "2  Senior U.S. Republican senator: 'Let Mr. Muell...   \n",
              "3  FBI Russia probe helped by Australian diplomat...   \n",
              "4  Trump wants Postal Service to charge 'much mor...   \n",
              "\n",
              "                                                text       subject  \\\n",
              "0  WASHINGTON (Reuters) - The head of a conservat...  politicsNews   \n",
              "1  WASHINGTON (Reuters) - Transgender people will...  politicsNews   \n",
              "2  WASHINGTON (Reuters) - The special counsel inv...  politicsNews   \n",
              "3  WASHINGTON (Reuters) - Trump campaign adviser ...  politicsNews   \n",
              "4  SEATTLE/WASHINGTON (Reuters) - President Donal...  politicsNews   \n",
              "\n",
              "                 date  \n",
              "0  December 31, 2017   \n",
              "1  December 29, 2017   \n",
              "2  December 31, 2017   \n",
              "3  December 30, 2017   \n",
              "4  December 29, 2017   "
            ],
            "text/html": [
              "\n",
              "  <div id=\"df-af34edcf-683c-4f37-b4c4-885425d4f2c4\">\n",
              "    <div class=\"colab-df-container\">\n",
              "      <div>\n",
              "<style scoped>\n",
              "    .dataframe tbody tr th:only-of-type {\n",
              "        vertical-align: middle;\n",
              "    }\n",
              "\n",
              "    .dataframe tbody tr th {\n",
              "        vertical-align: top;\n",
              "    }\n",
              "\n",
              "    .dataframe thead th {\n",
              "        text-align: right;\n",
              "    }\n",
              "</style>\n",
              "<table border=\"1\" class=\"dataframe\">\n",
              "  <thead>\n",
              "    <tr style=\"text-align: right;\">\n",
              "      <th></th>\n",
              "      <th>title</th>\n",
              "      <th>text</th>\n",
              "      <th>subject</th>\n",
              "      <th>date</th>\n",
              "    </tr>\n",
              "  </thead>\n",
              "  <tbody>\n",
              "    <tr>\n",
              "      <th>0</th>\n",
              "      <td>As U.S. budget fight looms, Republicans flip t...</td>\n",
              "      <td>WASHINGTON (Reuters) - The head of a conservat...</td>\n",
              "      <td>politicsNews</td>\n",
              "      <td>December 31, 2017</td>\n",
              "    </tr>\n",
              "    <tr>\n",
              "      <th>1</th>\n",
              "      <td>U.S. military to accept transgender recruits o...</td>\n",
              "      <td>WASHINGTON (Reuters) - Transgender people will...</td>\n",
              "      <td>politicsNews</td>\n",
              "      <td>December 29, 2017</td>\n",
              "    </tr>\n",
              "    <tr>\n",
              "      <th>2</th>\n",
              "      <td>Senior U.S. Republican senator: 'Let Mr. Muell...</td>\n",
              "      <td>WASHINGTON (Reuters) - The special counsel inv...</td>\n",
              "      <td>politicsNews</td>\n",
              "      <td>December 31, 2017</td>\n",
              "    </tr>\n",
              "    <tr>\n",
              "      <th>3</th>\n",
              "      <td>FBI Russia probe helped by Australian diplomat...</td>\n",
              "      <td>WASHINGTON (Reuters) - Trump campaign adviser ...</td>\n",
              "      <td>politicsNews</td>\n",
              "      <td>December 30, 2017</td>\n",
              "    </tr>\n",
              "    <tr>\n",
              "      <th>4</th>\n",
              "      <td>Trump wants Postal Service to charge 'much mor...</td>\n",
              "      <td>SEATTLE/WASHINGTON (Reuters) - President Donal...</td>\n",
              "      <td>politicsNews</td>\n",
              "      <td>December 29, 2017</td>\n",
              "    </tr>\n",
              "  </tbody>\n",
              "</table>\n",
              "</div>\n",
              "      <button class=\"colab-df-convert\" onclick=\"convertToInteractive('df-af34edcf-683c-4f37-b4c4-885425d4f2c4')\"\n",
              "              title=\"Convert this dataframe to an interactive table.\"\n",
              "              style=\"display:none;\">\n",
              "        \n",
              "  <svg xmlns=\"http://www.w3.org/2000/svg\" height=\"24px\"viewBox=\"0 0 24 24\"\n",
              "       width=\"24px\">\n",
              "    <path d=\"M0 0h24v24H0V0z\" fill=\"none\"/>\n",
              "    <path d=\"M18.56 5.44l.94 2.06.94-2.06 2.06-.94-2.06-.94-.94-2.06-.94 2.06-2.06.94zm-11 1L8.5 8.5l.94-2.06 2.06-.94-2.06-.94L8.5 2.5l-.94 2.06-2.06.94zm10 10l.94 2.06.94-2.06 2.06-.94-2.06-.94-.94-2.06-.94 2.06-2.06.94z\"/><path d=\"M17.41 7.96l-1.37-1.37c-.4-.4-.92-.59-1.43-.59-.52 0-1.04.2-1.43.59L10.3 9.45l-7.72 7.72c-.78.78-.78 2.05 0 2.83L4 21.41c.39.39.9.59 1.41.59.51 0 1.02-.2 1.41-.59l7.78-7.78 2.81-2.81c.8-.78.8-2.07 0-2.86zM5.41 20L4 18.59l7.72-7.72 1.47 1.35L5.41 20z\"/>\n",
              "  </svg>\n",
              "      </button>\n",
              "      \n",
              "  <style>\n",
              "    .colab-df-container {\n",
              "      display:flex;\n",
              "      flex-wrap:wrap;\n",
              "      gap: 12px;\n",
              "    }\n",
              "\n",
              "    .colab-df-convert {\n",
              "      background-color: #E8F0FE;\n",
              "      border: none;\n",
              "      border-radius: 50%;\n",
              "      cursor: pointer;\n",
              "      display: none;\n",
              "      fill: #1967D2;\n",
              "      height: 32px;\n",
              "      padding: 0 0 0 0;\n",
              "      width: 32px;\n",
              "    }\n",
              "\n",
              "    .colab-df-convert:hover {\n",
              "      background-color: #E2EBFA;\n",
              "      box-shadow: 0px 1px 2px rgba(60, 64, 67, 0.3), 0px 1px 3px 1px rgba(60, 64, 67, 0.15);\n",
              "      fill: #174EA6;\n",
              "    }\n",
              "\n",
              "    [theme=dark] .colab-df-convert {\n",
              "      background-color: #3B4455;\n",
              "      fill: #D2E3FC;\n",
              "    }\n",
              "\n",
              "    [theme=dark] .colab-df-convert:hover {\n",
              "      background-color: #434B5C;\n",
              "      box-shadow: 0px 1px 3px 1px rgba(0, 0, 0, 0.15);\n",
              "      filter: drop-shadow(0px 1px 2px rgba(0, 0, 0, 0.3));\n",
              "      fill: #FFFFFF;\n",
              "    }\n",
              "  </style>\n",
              "\n",
              "      <script>\n",
              "        const buttonEl =\n",
              "          document.querySelector('#df-af34edcf-683c-4f37-b4c4-885425d4f2c4 button.colab-df-convert');\n",
              "        buttonEl.style.display =\n",
              "          google.colab.kernel.accessAllowed ? 'block' : 'none';\n",
              "\n",
              "        async function convertToInteractive(key) {\n",
              "          const element = document.querySelector('#df-af34edcf-683c-4f37-b4c4-885425d4f2c4');\n",
              "          const dataTable =\n",
              "            await google.colab.kernel.invokeFunction('convertToInteractive',\n",
              "                                                     [key], {});\n",
              "          if (!dataTable) return;\n",
              "\n",
              "          const docLinkHtml = 'Like what you see? Visit the ' +\n",
              "            '<a target=\"_blank\" href=https://colab.research.google.com/notebooks/data_table.ipynb>data table notebook</a>'\n",
              "            + ' to learn more about interactive tables.';\n",
              "          element.innerHTML = '';\n",
              "          dataTable['output_type'] = 'display_data';\n",
              "          await google.colab.output.renderOutput(dataTable, element);\n",
              "          const docLink = document.createElement('div');\n",
              "          docLink.innerHTML = docLinkHtml;\n",
              "          element.appendChild(docLink);\n",
              "        }\n",
              "      </script>\n",
              "    </div>\n",
              "  </div>\n",
              "  "
            ]
          },
          "metadata": {},
          "execution_count": 4
        }
      ],
      "source": [
        "#df_true = pd.read_csv('/content/gdrive/My Drive/Colab Notebooks/semester3/NLP/News/True.csv')\n",
        "df_true = pd.read_csv('True.csv')\n",
        "df_true.head(5)"
      ]
    },
    {
      "cell_type": "code",
      "execution_count": 5,
      "metadata": {
        "colab": {
          "base_uri": "https://localhost:8080/",
          "height": 337
        },
        "id": "OS_MPVPD9A0U",
        "outputId": "541d912b-06eb-4f59-8c75-184666642712"
      },
      "outputs": [
        {
          "output_type": "execute_result",
          "data": {
            "text/plain": [
              "                                                   title  \\\n",
              "23476  McPain: John McCain Furious That Iran Treated ...   \n",
              "23477  JUSTICE? Yahoo Settles E-mail Privacy Class-ac...   \n",
              "23478  Sunnistan: US and Allied ‘Safe Zone’ Plan to T...   \n",
              "23479  How to Blow $700 Million: Al Jazeera America F...   \n",
              "23480  10 U.S. Navy Sailors Held by Iranian Military ...   \n",
              "\n",
              "                                                    text      subject  \\\n",
              "23476  21st Century Wire says As 21WIRE reported earl...  Middle-east   \n",
              "23477  21st Century Wire says It s a familiar theme. ...  Middle-east   \n",
              "23478  Patrick Henningsen  21st Century WireRemember ...  Middle-east   \n",
              "23479  21st Century Wire says Al Jazeera America will...  Middle-east   \n",
              "23480  21st Century Wire says As 21WIRE predicted in ...  Middle-east   \n",
              "\n",
              "                   date  class  \n",
              "23476  January 16, 2016      1  \n",
              "23477  January 16, 2016      1  \n",
              "23478  January 15, 2016      1  \n",
              "23479  January 14, 2016      1  \n",
              "23480  January 12, 2016      1  "
            ],
            "text/html": [
              "\n",
              "  <div id=\"df-b8e18401-7470-4e07-8fc1-104624fcfdc4\">\n",
              "    <div class=\"colab-df-container\">\n",
              "      <div>\n",
              "<style scoped>\n",
              "    .dataframe tbody tr th:only-of-type {\n",
              "        vertical-align: middle;\n",
              "    }\n",
              "\n",
              "    .dataframe tbody tr th {\n",
              "        vertical-align: top;\n",
              "    }\n",
              "\n",
              "    .dataframe thead th {\n",
              "        text-align: right;\n",
              "    }\n",
              "</style>\n",
              "<table border=\"1\" class=\"dataframe\">\n",
              "  <thead>\n",
              "    <tr style=\"text-align: right;\">\n",
              "      <th></th>\n",
              "      <th>title</th>\n",
              "      <th>text</th>\n",
              "      <th>subject</th>\n",
              "      <th>date</th>\n",
              "      <th>class</th>\n",
              "    </tr>\n",
              "  </thead>\n",
              "  <tbody>\n",
              "    <tr>\n",
              "      <th>23476</th>\n",
              "      <td>McPain: John McCain Furious That Iran Treated ...</td>\n",
              "      <td>21st Century Wire says As 21WIRE reported earl...</td>\n",
              "      <td>Middle-east</td>\n",
              "      <td>January 16, 2016</td>\n",
              "      <td>1</td>\n",
              "    </tr>\n",
              "    <tr>\n",
              "      <th>23477</th>\n",
              "      <td>JUSTICE? Yahoo Settles E-mail Privacy Class-ac...</td>\n",
              "      <td>21st Century Wire says It s a familiar theme. ...</td>\n",
              "      <td>Middle-east</td>\n",
              "      <td>January 16, 2016</td>\n",
              "      <td>1</td>\n",
              "    </tr>\n",
              "    <tr>\n",
              "      <th>23478</th>\n",
              "      <td>Sunnistan: US and Allied ‘Safe Zone’ Plan to T...</td>\n",
              "      <td>Patrick Henningsen  21st Century WireRemember ...</td>\n",
              "      <td>Middle-east</td>\n",
              "      <td>January 15, 2016</td>\n",
              "      <td>1</td>\n",
              "    </tr>\n",
              "    <tr>\n",
              "      <th>23479</th>\n",
              "      <td>How to Blow $700 Million: Al Jazeera America F...</td>\n",
              "      <td>21st Century Wire says Al Jazeera America will...</td>\n",
              "      <td>Middle-east</td>\n",
              "      <td>January 14, 2016</td>\n",
              "      <td>1</td>\n",
              "    </tr>\n",
              "    <tr>\n",
              "      <th>23480</th>\n",
              "      <td>10 U.S. Navy Sailors Held by Iranian Military ...</td>\n",
              "      <td>21st Century Wire says As 21WIRE predicted in ...</td>\n",
              "      <td>Middle-east</td>\n",
              "      <td>January 12, 2016</td>\n",
              "      <td>1</td>\n",
              "    </tr>\n",
              "  </tbody>\n",
              "</table>\n",
              "</div>\n",
              "      <button class=\"colab-df-convert\" onclick=\"convertToInteractive('df-b8e18401-7470-4e07-8fc1-104624fcfdc4')\"\n",
              "              title=\"Convert this dataframe to an interactive table.\"\n",
              "              style=\"display:none;\">\n",
              "        \n",
              "  <svg xmlns=\"http://www.w3.org/2000/svg\" height=\"24px\"viewBox=\"0 0 24 24\"\n",
              "       width=\"24px\">\n",
              "    <path d=\"M0 0h24v24H0V0z\" fill=\"none\"/>\n",
              "    <path d=\"M18.56 5.44l.94 2.06.94-2.06 2.06-.94-2.06-.94-.94-2.06-.94 2.06-2.06.94zm-11 1L8.5 8.5l.94-2.06 2.06-.94-2.06-.94L8.5 2.5l-.94 2.06-2.06.94zm10 10l.94 2.06.94-2.06 2.06-.94-2.06-.94-.94-2.06-.94 2.06-2.06.94z\"/><path d=\"M17.41 7.96l-1.37-1.37c-.4-.4-.92-.59-1.43-.59-.52 0-1.04.2-1.43.59L10.3 9.45l-7.72 7.72c-.78.78-.78 2.05 0 2.83L4 21.41c.39.39.9.59 1.41.59.51 0 1.02-.2 1.41-.59l7.78-7.78 2.81-2.81c.8-.78.8-2.07 0-2.86zM5.41 20L4 18.59l7.72-7.72 1.47 1.35L5.41 20z\"/>\n",
              "  </svg>\n",
              "      </button>\n",
              "      \n",
              "  <style>\n",
              "    .colab-df-container {\n",
              "      display:flex;\n",
              "      flex-wrap:wrap;\n",
              "      gap: 12px;\n",
              "    }\n",
              "\n",
              "    .colab-df-convert {\n",
              "      background-color: #E8F0FE;\n",
              "      border: none;\n",
              "      border-radius: 50%;\n",
              "      cursor: pointer;\n",
              "      display: none;\n",
              "      fill: #1967D2;\n",
              "      height: 32px;\n",
              "      padding: 0 0 0 0;\n",
              "      width: 32px;\n",
              "    }\n",
              "\n",
              "    .colab-df-convert:hover {\n",
              "      background-color: #E2EBFA;\n",
              "      box-shadow: 0px 1px 2px rgba(60, 64, 67, 0.3), 0px 1px 3px 1px rgba(60, 64, 67, 0.15);\n",
              "      fill: #174EA6;\n",
              "    }\n",
              "\n",
              "    [theme=dark] .colab-df-convert {\n",
              "      background-color: #3B4455;\n",
              "      fill: #D2E3FC;\n",
              "    }\n",
              "\n",
              "    [theme=dark] .colab-df-convert:hover {\n",
              "      background-color: #434B5C;\n",
              "      box-shadow: 0px 1px 3px 1px rgba(0, 0, 0, 0.15);\n",
              "      filter: drop-shadow(0px 1px 2px rgba(0, 0, 0, 0.3));\n",
              "      fill: #FFFFFF;\n",
              "    }\n",
              "  </style>\n",
              "\n",
              "      <script>\n",
              "        const buttonEl =\n",
              "          document.querySelector('#df-b8e18401-7470-4e07-8fc1-104624fcfdc4 button.colab-df-convert');\n",
              "        buttonEl.style.display =\n",
              "          google.colab.kernel.accessAllowed ? 'block' : 'none';\n",
              "\n",
              "        async function convertToInteractive(key) {\n",
              "          const element = document.querySelector('#df-b8e18401-7470-4e07-8fc1-104624fcfdc4');\n",
              "          const dataTable =\n",
              "            await google.colab.kernel.invokeFunction('convertToInteractive',\n",
              "                                                     [key], {});\n",
              "          if (!dataTable) return;\n",
              "\n",
              "          const docLinkHtml = 'Like what you see? Visit the ' +\n",
              "            '<a target=\"_blank\" href=https://colab.research.google.com/notebooks/data_table.ipynb>data table notebook</a>'\n",
              "            + ' to learn more about interactive tables.';\n",
              "          element.innerHTML = '';\n",
              "          dataTable['output_type'] = 'display_data';\n",
              "          await google.colab.output.renderOutput(dataTable, element);\n",
              "          const docLink = document.createElement('div');\n",
              "          docLink.innerHTML = docLinkHtml;\n",
              "          element.appendChild(docLink);\n",
              "        }\n",
              "      </script>\n",
              "    </div>\n",
              "  </div>\n",
              "  "
            ]
          },
          "metadata": {},
          "execution_count": 5
        }
      ],
      "source": [
        "df_fake['class'] = 1\n",
        "df_fake.tail(5)"
      ]
    },
    {
      "cell_type": "code",
      "execution_count": 6,
      "metadata": {
        "colab": {
          "base_uri": "https://localhost:8080/",
          "height": 337
        },
        "id": "11TUfJ3H9Vpd",
        "outputId": "7616f4f2-58dd-4678-b57a-f6be0b43add8"
      },
      "outputs": [
        {
          "output_type": "execute_result",
          "data": {
            "text/plain": [
              "                                                   title  \\\n",
              "21412  'Fully committed' NATO backs new U.S. approach...   \n",
              "21413  LexisNexis withdrew two products from Chinese ...   \n",
              "21414  Minsk cultural hub becomes haven from authorities   \n",
              "21415  Vatican upbeat on possibility of Pope Francis ...   \n",
              "21416  Indonesia to buy $1.14 billion worth of Russia...   \n",
              "\n",
              "                                                    text    subject  \\\n",
              "21412  BRUSSELS (Reuters) - NATO allies on Tuesday we...  worldnews   \n",
              "21413  LONDON (Reuters) - LexisNexis, a provider of l...  worldnews   \n",
              "21414  MINSK (Reuters) - In the shadow of disused Sov...  worldnews   \n",
              "21415  MOSCOW (Reuters) - Vatican Secretary of State ...  worldnews   \n",
              "21416  JAKARTA (Reuters) - Indonesia will buy 11 Sukh...  worldnews   \n",
              "\n",
              "                   date  class  \n",
              "21412  August 22, 2017       0  \n",
              "21413  August 22, 2017       0  \n",
              "21414  August 22, 2017       0  \n",
              "21415  August 22, 2017       0  \n",
              "21416  August 22, 2017       0  "
            ],
            "text/html": [
              "\n",
              "  <div id=\"df-d8610d5d-0240-41cc-b4a5-a23a2c8bdffb\">\n",
              "    <div class=\"colab-df-container\">\n",
              "      <div>\n",
              "<style scoped>\n",
              "    .dataframe tbody tr th:only-of-type {\n",
              "        vertical-align: middle;\n",
              "    }\n",
              "\n",
              "    .dataframe tbody tr th {\n",
              "        vertical-align: top;\n",
              "    }\n",
              "\n",
              "    .dataframe thead th {\n",
              "        text-align: right;\n",
              "    }\n",
              "</style>\n",
              "<table border=\"1\" class=\"dataframe\">\n",
              "  <thead>\n",
              "    <tr style=\"text-align: right;\">\n",
              "      <th></th>\n",
              "      <th>title</th>\n",
              "      <th>text</th>\n",
              "      <th>subject</th>\n",
              "      <th>date</th>\n",
              "      <th>class</th>\n",
              "    </tr>\n",
              "  </thead>\n",
              "  <tbody>\n",
              "    <tr>\n",
              "      <th>21412</th>\n",
              "      <td>'Fully committed' NATO backs new U.S. approach...</td>\n",
              "      <td>BRUSSELS (Reuters) - NATO allies on Tuesday we...</td>\n",
              "      <td>worldnews</td>\n",
              "      <td>August 22, 2017</td>\n",
              "      <td>0</td>\n",
              "    </tr>\n",
              "    <tr>\n",
              "      <th>21413</th>\n",
              "      <td>LexisNexis withdrew two products from Chinese ...</td>\n",
              "      <td>LONDON (Reuters) - LexisNexis, a provider of l...</td>\n",
              "      <td>worldnews</td>\n",
              "      <td>August 22, 2017</td>\n",
              "      <td>0</td>\n",
              "    </tr>\n",
              "    <tr>\n",
              "      <th>21414</th>\n",
              "      <td>Minsk cultural hub becomes haven from authorities</td>\n",
              "      <td>MINSK (Reuters) - In the shadow of disused Sov...</td>\n",
              "      <td>worldnews</td>\n",
              "      <td>August 22, 2017</td>\n",
              "      <td>0</td>\n",
              "    </tr>\n",
              "    <tr>\n",
              "      <th>21415</th>\n",
              "      <td>Vatican upbeat on possibility of Pope Francis ...</td>\n",
              "      <td>MOSCOW (Reuters) - Vatican Secretary of State ...</td>\n",
              "      <td>worldnews</td>\n",
              "      <td>August 22, 2017</td>\n",
              "      <td>0</td>\n",
              "    </tr>\n",
              "    <tr>\n",
              "      <th>21416</th>\n",
              "      <td>Indonesia to buy $1.14 billion worth of Russia...</td>\n",
              "      <td>JAKARTA (Reuters) - Indonesia will buy 11 Sukh...</td>\n",
              "      <td>worldnews</td>\n",
              "      <td>August 22, 2017</td>\n",
              "      <td>0</td>\n",
              "    </tr>\n",
              "  </tbody>\n",
              "</table>\n",
              "</div>\n",
              "      <button class=\"colab-df-convert\" onclick=\"convertToInteractive('df-d8610d5d-0240-41cc-b4a5-a23a2c8bdffb')\"\n",
              "              title=\"Convert this dataframe to an interactive table.\"\n",
              "              style=\"display:none;\">\n",
              "        \n",
              "  <svg xmlns=\"http://www.w3.org/2000/svg\" height=\"24px\"viewBox=\"0 0 24 24\"\n",
              "       width=\"24px\">\n",
              "    <path d=\"M0 0h24v24H0V0z\" fill=\"none\"/>\n",
              "    <path d=\"M18.56 5.44l.94 2.06.94-2.06 2.06-.94-2.06-.94-.94-2.06-.94 2.06-2.06.94zm-11 1L8.5 8.5l.94-2.06 2.06-.94-2.06-.94L8.5 2.5l-.94 2.06-2.06.94zm10 10l.94 2.06.94-2.06 2.06-.94-2.06-.94-.94-2.06-.94 2.06-2.06.94z\"/><path d=\"M17.41 7.96l-1.37-1.37c-.4-.4-.92-.59-1.43-.59-.52 0-1.04.2-1.43.59L10.3 9.45l-7.72 7.72c-.78.78-.78 2.05 0 2.83L4 21.41c.39.39.9.59 1.41.59.51 0 1.02-.2 1.41-.59l7.78-7.78 2.81-2.81c.8-.78.8-2.07 0-2.86zM5.41 20L4 18.59l7.72-7.72 1.47 1.35L5.41 20z\"/>\n",
              "  </svg>\n",
              "      </button>\n",
              "      \n",
              "  <style>\n",
              "    .colab-df-container {\n",
              "      display:flex;\n",
              "      flex-wrap:wrap;\n",
              "      gap: 12px;\n",
              "    }\n",
              "\n",
              "    .colab-df-convert {\n",
              "      background-color: #E8F0FE;\n",
              "      border: none;\n",
              "      border-radius: 50%;\n",
              "      cursor: pointer;\n",
              "      display: none;\n",
              "      fill: #1967D2;\n",
              "      height: 32px;\n",
              "      padding: 0 0 0 0;\n",
              "      width: 32px;\n",
              "    }\n",
              "\n",
              "    .colab-df-convert:hover {\n",
              "      background-color: #E2EBFA;\n",
              "      box-shadow: 0px 1px 2px rgba(60, 64, 67, 0.3), 0px 1px 3px 1px rgba(60, 64, 67, 0.15);\n",
              "      fill: #174EA6;\n",
              "    }\n",
              "\n",
              "    [theme=dark] .colab-df-convert {\n",
              "      background-color: #3B4455;\n",
              "      fill: #D2E3FC;\n",
              "    }\n",
              "\n",
              "    [theme=dark] .colab-df-convert:hover {\n",
              "      background-color: #434B5C;\n",
              "      box-shadow: 0px 1px 3px 1px rgba(0, 0, 0, 0.15);\n",
              "      filter: drop-shadow(0px 1px 2px rgba(0, 0, 0, 0.3));\n",
              "      fill: #FFFFFF;\n",
              "    }\n",
              "  </style>\n",
              "\n",
              "      <script>\n",
              "        const buttonEl =\n",
              "          document.querySelector('#df-d8610d5d-0240-41cc-b4a5-a23a2c8bdffb button.colab-df-convert');\n",
              "        buttonEl.style.display =\n",
              "          google.colab.kernel.accessAllowed ? 'block' : 'none';\n",
              "\n",
              "        async function convertToInteractive(key) {\n",
              "          const element = document.querySelector('#df-d8610d5d-0240-41cc-b4a5-a23a2c8bdffb');\n",
              "          const dataTable =\n",
              "            await google.colab.kernel.invokeFunction('convertToInteractive',\n",
              "                                                     [key], {});\n",
              "          if (!dataTable) return;\n",
              "\n",
              "          const docLinkHtml = 'Like what you see? Visit the ' +\n",
              "            '<a target=\"_blank\" href=https://colab.research.google.com/notebooks/data_table.ipynb>data table notebook</a>'\n",
              "            + ' to learn more about interactive tables.';\n",
              "          element.innerHTML = '';\n",
              "          dataTable['output_type'] = 'display_data';\n",
              "          await google.colab.output.renderOutput(dataTable, element);\n",
              "          const docLink = document.createElement('div');\n",
              "          docLink.innerHTML = docLinkHtml;\n",
              "          element.appendChild(docLink);\n",
              "        }\n",
              "      </script>\n",
              "    </div>\n",
              "  </div>\n",
              "  "
            ]
          },
          "metadata": {},
          "execution_count": 6
        }
      ],
      "source": [
        "df_true['class'] = 0\n",
        "df_true.tail(5)"
      ]
    },
    {
      "cell_type": "code",
      "execution_count": 7,
      "metadata": {
        "colab": {
          "base_uri": "https://localhost:8080/",
          "height": 337
        },
        "id": "aw7AGxtE9Y-L",
        "outputId": "d82d391c-bc51-41d9-816e-804db404b5e6"
      },
      "outputs": [
        {
          "output_type": "execute_result",
          "data": {
            "text/plain": [
              "                                               title  \\\n",
              "0   Donald Trump Sends Out Embarrassing New Year’...   \n",
              "1   Drunk Bragging Trump Staffer Started Russian ...   \n",
              "2   Sheriff David Clarke Becomes An Internet Joke...   \n",
              "3   Trump Is So Obsessed He Even Has Obama’s Name...   \n",
              "4   Pope Francis Just Called Out Donald Trump Dur...   \n",
              "\n",
              "                                                text subject  \\\n",
              "0  Donald Trump just couldn t wish all Americans ...    News   \n",
              "1  House Intelligence Committee Chairman Devin Nu...    News   \n",
              "2  On Friday, it was revealed that former Milwauk...    News   \n",
              "3  On Christmas day, Donald Trump announced that ...    News   \n",
              "4  Pope Francis used his annual Christmas Day mes...    News   \n",
              "\n",
              "                date  class  \n",
              "0  December 31, 2017      1  \n",
              "1  December 31, 2017      1  \n",
              "2  December 30, 2017      1  \n",
              "3  December 29, 2017      1  \n",
              "4  December 25, 2017      1  "
            ],
            "text/html": [
              "\n",
              "  <div id=\"df-8289f336-89b2-4094-b6e1-de90391421cd\">\n",
              "    <div class=\"colab-df-container\">\n",
              "      <div>\n",
              "<style scoped>\n",
              "    .dataframe tbody tr th:only-of-type {\n",
              "        vertical-align: middle;\n",
              "    }\n",
              "\n",
              "    .dataframe tbody tr th {\n",
              "        vertical-align: top;\n",
              "    }\n",
              "\n",
              "    .dataframe thead th {\n",
              "        text-align: right;\n",
              "    }\n",
              "</style>\n",
              "<table border=\"1\" class=\"dataframe\">\n",
              "  <thead>\n",
              "    <tr style=\"text-align: right;\">\n",
              "      <th></th>\n",
              "      <th>title</th>\n",
              "      <th>text</th>\n",
              "      <th>subject</th>\n",
              "      <th>date</th>\n",
              "      <th>class</th>\n",
              "    </tr>\n",
              "  </thead>\n",
              "  <tbody>\n",
              "    <tr>\n",
              "      <th>0</th>\n",
              "      <td>Donald Trump Sends Out Embarrassing New Year’...</td>\n",
              "      <td>Donald Trump just couldn t wish all Americans ...</td>\n",
              "      <td>News</td>\n",
              "      <td>December 31, 2017</td>\n",
              "      <td>1</td>\n",
              "    </tr>\n",
              "    <tr>\n",
              "      <th>1</th>\n",
              "      <td>Drunk Bragging Trump Staffer Started Russian ...</td>\n",
              "      <td>House Intelligence Committee Chairman Devin Nu...</td>\n",
              "      <td>News</td>\n",
              "      <td>December 31, 2017</td>\n",
              "      <td>1</td>\n",
              "    </tr>\n",
              "    <tr>\n",
              "      <th>2</th>\n",
              "      <td>Sheriff David Clarke Becomes An Internet Joke...</td>\n",
              "      <td>On Friday, it was revealed that former Milwauk...</td>\n",
              "      <td>News</td>\n",
              "      <td>December 30, 2017</td>\n",
              "      <td>1</td>\n",
              "    </tr>\n",
              "    <tr>\n",
              "      <th>3</th>\n",
              "      <td>Trump Is So Obsessed He Even Has Obama’s Name...</td>\n",
              "      <td>On Christmas day, Donald Trump announced that ...</td>\n",
              "      <td>News</td>\n",
              "      <td>December 29, 2017</td>\n",
              "      <td>1</td>\n",
              "    </tr>\n",
              "    <tr>\n",
              "      <th>4</th>\n",
              "      <td>Pope Francis Just Called Out Donald Trump Dur...</td>\n",
              "      <td>Pope Francis used his annual Christmas Day mes...</td>\n",
              "      <td>News</td>\n",
              "      <td>December 25, 2017</td>\n",
              "      <td>1</td>\n",
              "    </tr>\n",
              "  </tbody>\n",
              "</table>\n",
              "</div>\n",
              "      <button class=\"colab-df-convert\" onclick=\"convertToInteractive('df-8289f336-89b2-4094-b6e1-de90391421cd')\"\n",
              "              title=\"Convert this dataframe to an interactive table.\"\n",
              "              style=\"display:none;\">\n",
              "        \n",
              "  <svg xmlns=\"http://www.w3.org/2000/svg\" height=\"24px\"viewBox=\"0 0 24 24\"\n",
              "       width=\"24px\">\n",
              "    <path d=\"M0 0h24v24H0V0z\" fill=\"none\"/>\n",
              "    <path d=\"M18.56 5.44l.94 2.06.94-2.06 2.06-.94-2.06-.94-.94-2.06-.94 2.06-2.06.94zm-11 1L8.5 8.5l.94-2.06 2.06-.94-2.06-.94L8.5 2.5l-.94 2.06-2.06.94zm10 10l.94 2.06.94-2.06 2.06-.94-2.06-.94-.94-2.06-.94 2.06-2.06.94z\"/><path d=\"M17.41 7.96l-1.37-1.37c-.4-.4-.92-.59-1.43-.59-.52 0-1.04.2-1.43.59L10.3 9.45l-7.72 7.72c-.78.78-.78 2.05 0 2.83L4 21.41c.39.39.9.59 1.41.59.51 0 1.02-.2 1.41-.59l7.78-7.78 2.81-2.81c.8-.78.8-2.07 0-2.86zM5.41 20L4 18.59l7.72-7.72 1.47 1.35L5.41 20z\"/>\n",
              "  </svg>\n",
              "      </button>\n",
              "      \n",
              "  <style>\n",
              "    .colab-df-container {\n",
              "      display:flex;\n",
              "      flex-wrap:wrap;\n",
              "      gap: 12px;\n",
              "    }\n",
              "\n",
              "    .colab-df-convert {\n",
              "      background-color: #E8F0FE;\n",
              "      border: none;\n",
              "      border-radius: 50%;\n",
              "      cursor: pointer;\n",
              "      display: none;\n",
              "      fill: #1967D2;\n",
              "      height: 32px;\n",
              "      padding: 0 0 0 0;\n",
              "      width: 32px;\n",
              "    }\n",
              "\n",
              "    .colab-df-convert:hover {\n",
              "      background-color: #E2EBFA;\n",
              "      box-shadow: 0px 1px 2px rgba(60, 64, 67, 0.3), 0px 1px 3px 1px rgba(60, 64, 67, 0.15);\n",
              "      fill: #174EA6;\n",
              "    }\n",
              "\n",
              "    [theme=dark] .colab-df-convert {\n",
              "      background-color: #3B4455;\n",
              "      fill: #D2E3FC;\n",
              "    }\n",
              "\n",
              "    [theme=dark] .colab-df-convert:hover {\n",
              "      background-color: #434B5C;\n",
              "      box-shadow: 0px 1px 3px 1px rgba(0, 0, 0, 0.15);\n",
              "      filter: drop-shadow(0px 1px 2px rgba(0, 0, 0, 0.3));\n",
              "      fill: #FFFFFF;\n",
              "    }\n",
              "  </style>\n",
              "\n",
              "      <script>\n",
              "        const buttonEl =\n",
              "          document.querySelector('#df-8289f336-89b2-4094-b6e1-de90391421cd button.colab-df-convert');\n",
              "        buttonEl.style.display =\n",
              "          google.colab.kernel.accessAllowed ? 'block' : 'none';\n",
              "\n",
              "        async function convertToInteractive(key) {\n",
              "          const element = document.querySelector('#df-8289f336-89b2-4094-b6e1-de90391421cd');\n",
              "          const dataTable =\n",
              "            await google.colab.kernel.invokeFunction('convertToInteractive',\n",
              "                                                     [key], {});\n",
              "          if (!dataTable) return;\n",
              "\n",
              "          const docLinkHtml = 'Like what you see? Visit the ' +\n",
              "            '<a target=\"_blank\" href=https://colab.research.google.com/notebooks/data_table.ipynb>data table notebook</a>'\n",
              "            + ' to learn more about interactive tables.';\n",
              "          element.innerHTML = '';\n",
              "          dataTable['output_type'] = 'display_data';\n",
              "          await google.colab.output.renderOutput(dataTable, element);\n",
              "          const docLink = document.createElement('div');\n",
              "          docLink.innerHTML = docLinkHtml;\n",
              "          element.appendChild(docLink);\n",
              "        }\n",
              "      </script>\n",
              "    </div>\n",
              "  </div>\n",
              "  "
            ]
          },
          "metadata": {},
          "execution_count": 7
        }
      ],
      "source": [
        "#Concat fake and true dataset and cretae a marged dataset\n",
        "df_marge = pd.concat([df_fake,df_true], axis = 0)\n",
        "df_marge.head(5)"
      ]
    },
    {
      "cell_type": "code",
      "execution_count": 8,
      "metadata": {
        "colab": {
          "base_uri": "https://localhost:8080/"
        },
        "id": "HQ7Hq5vQBT20",
        "outputId": "46dacaba-9cf1-48a2-b7cf-d8cdef718fc7"
      },
      "outputs": [
        {
          "output_type": "execute_result",
          "data": {
            "text/plain": [
              "Index(['title', 'text', 'subject', 'date', 'class'], dtype='object')"
            ]
          },
          "metadata": {},
          "execution_count": 8
        }
      ],
      "source": [
        "#Show column in marged dataset\n",
        "df_marge.columns"
      ]
    },
    {
      "cell_type": "code",
      "execution_count": 9,
      "metadata": {
        "id": "Vt6uDT-wE2bq"
      },
      "outputs": [],
      "source": [
        "#Drop un-important columns from marged dataset\n",
        "df = df_marge.drop([\"title\", \"subject\",\"date\"], axis = 1)"
      ]
    },
    {
      "cell_type": "code",
      "execution_count": 10,
      "metadata": {
        "colab": {
          "base_uri": "https://localhost:8080/"
        },
        "id": "Z6_81HVJFVVP",
        "outputId": "9cd63af8-4d0f-413b-81ce-5432fbb14e39"
      },
      "outputs": [
        {
          "output_type": "execute_result",
          "data": {
            "text/plain": [
              "text     0\n",
              "class    0\n",
              "dtype: int64"
            ]
          },
          "metadata": {},
          "execution_count": 10
        }
      ],
      "source": [
        "#Look for Null data\n",
        "df.isnull().sum()"
      ]
    },
    {
      "cell_type": "code",
      "execution_count": 11,
      "metadata": {
        "colab": {
          "base_uri": "https://localhost:8080/",
          "height": 363
        },
        "id": "HY3NuxEIFnIQ",
        "outputId": "e7b7b84c-57e3-4d1f-b4fc-314d22e1d81f"
      },
      "outputs": [
        {
          "output_type": "execute_result",
          "data": {
            "text/plain": [
              "                                                    text  class\n",
              "422    Earlier today, Facebook representatives told C...      1\n",
              "17386  MANILA (Reuters) - The Philippines  military c...      0\n",
              "7049   In growing signs that rumors of a Fox News spl...      1\n",
              "19739  MADRID (Reuters) - The Spanish foreign ministr...      0\n",
              "1420   WASHINGTON (Reuters) - U.S. House Democrats in...      0\n",
              "915    House Speaker Paul Ryan s office is throwing y...      1\n",
              "2199   WASHINGTON (Reuters) - With U.S. Congress memb...      0\n",
              "8973   During an interview with a BBC Live Host, a Te...      1\n",
              "8045   Let s just say, hypothetically, that Donald Tr...      1\n",
              "20465  Sheriff Clarke weighs in on the violence at th...      1"
            ],
            "text/html": [
              "\n",
              "  <div id=\"df-72642db0-6539-4d6c-9c33-68b6644d3159\">\n",
              "    <div class=\"colab-df-container\">\n",
              "      <div>\n",
              "<style scoped>\n",
              "    .dataframe tbody tr th:only-of-type {\n",
              "        vertical-align: middle;\n",
              "    }\n",
              "\n",
              "    .dataframe tbody tr th {\n",
              "        vertical-align: top;\n",
              "    }\n",
              "\n",
              "    .dataframe thead th {\n",
              "        text-align: right;\n",
              "    }\n",
              "</style>\n",
              "<table border=\"1\" class=\"dataframe\">\n",
              "  <thead>\n",
              "    <tr style=\"text-align: right;\">\n",
              "      <th></th>\n",
              "      <th>text</th>\n",
              "      <th>class</th>\n",
              "    </tr>\n",
              "  </thead>\n",
              "  <tbody>\n",
              "    <tr>\n",
              "      <th>422</th>\n",
              "      <td>Earlier today, Facebook representatives told C...</td>\n",
              "      <td>1</td>\n",
              "    </tr>\n",
              "    <tr>\n",
              "      <th>17386</th>\n",
              "      <td>MANILA (Reuters) - The Philippines  military c...</td>\n",
              "      <td>0</td>\n",
              "    </tr>\n",
              "    <tr>\n",
              "      <th>7049</th>\n",
              "      <td>In growing signs that rumors of a Fox News spl...</td>\n",
              "      <td>1</td>\n",
              "    </tr>\n",
              "    <tr>\n",
              "      <th>19739</th>\n",
              "      <td>MADRID (Reuters) - The Spanish foreign ministr...</td>\n",
              "      <td>0</td>\n",
              "    </tr>\n",
              "    <tr>\n",
              "      <th>1420</th>\n",
              "      <td>WASHINGTON (Reuters) - U.S. House Democrats in...</td>\n",
              "      <td>0</td>\n",
              "    </tr>\n",
              "    <tr>\n",
              "      <th>915</th>\n",
              "      <td>House Speaker Paul Ryan s office is throwing y...</td>\n",
              "      <td>1</td>\n",
              "    </tr>\n",
              "    <tr>\n",
              "      <th>2199</th>\n",
              "      <td>WASHINGTON (Reuters) - With U.S. Congress memb...</td>\n",
              "      <td>0</td>\n",
              "    </tr>\n",
              "    <tr>\n",
              "      <th>8973</th>\n",
              "      <td>During an interview with a BBC Live Host, a Te...</td>\n",
              "      <td>1</td>\n",
              "    </tr>\n",
              "    <tr>\n",
              "      <th>8045</th>\n",
              "      <td>Let s just say, hypothetically, that Donald Tr...</td>\n",
              "      <td>1</td>\n",
              "    </tr>\n",
              "    <tr>\n",
              "      <th>20465</th>\n",
              "      <td>Sheriff Clarke weighs in on the violence at th...</td>\n",
              "      <td>1</td>\n",
              "    </tr>\n",
              "  </tbody>\n",
              "</table>\n",
              "</div>\n",
              "      <button class=\"colab-df-convert\" onclick=\"convertToInteractive('df-72642db0-6539-4d6c-9c33-68b6644d3159')\"\n",
              "              title=\"Convert this dataframe to an interactive table.\"\n",
              "              style=\"display:none;\">\n",
              "        \n",
              "  <svg xmlns=\"http://www.w3.org/2000/svg\" height=\"24px\"viewBox=\"0 0 24 24\"\n",
              "       width=\"24px\">\n",
              "    <path d=\"M0 0h24v24H0V0z\" fill=\"none\"/>\n",
              "    <path d=\"M18.56 5.44l.94 2.06.94-2.06 2.06-.94-2.06-.94-.94-2.06-.94 2.06-2.06.94zm-11 1L8.5 8.5l.94-2.06 2.06-.94-2.06-.94L8.5 2.5l-.94 2.06-2.06.94zm10 10l.94 2.06.94-2.06 2.06-.94-2.06-.94-.94-2.06-.94 2.06-2.06.94z\"/><path d=\"M17.41 7.96l-1.37-1.37c-.4-.4-.92-.59-1.43-.59-.52 0-1.04.2-1.43.59L10.3 9.45l-7.72 7.72c-.78.78-.78 2.05 0 2.83L4 21.41c.39.39.9.59 1.41.59.51 0 1.02-.2 1.41-.59l7.78-7.78 2.81-2.81c.8-.78.8-2.07 0-2.86zM5.41 20L4 18.59l7.72-7.72 1.47 1.35L5.41 20z\"/>\n",
              "  </svg>\n",
              "      </button>\n",
              "      \n",
              "  <style>\n",
              "    .colab-df-container {\n",
              "      display:flex;\n",
              "      flex-wrap:wrap;\n",
              "      gap: 12px;\n",
              "    }\n",
              "\n",
              "    .colab-df-convert {\n",
              "      background-color: #E8F0FE;\n",
              "      border: none;\n",
              "      border-radius: 50%;\n",
              "      cursor: pointer;\n",
              "      display: none;\n",
              "      fill: #1967D2;\n",
              "      height: 32px;\n",
              "      padding: 0 0 0 0;\n",
              "      width: 32px;\n",
              "    }\n",
              "\n",
              "    .colab-df-convert:hover {\n",
              "      background-color: #E2EBFA;\n",
              "      box-shadow: 0px 1px 2px rgba(60, 64, 67, 0.3), 0px 1px 3px 1px rgba(60, 64, 67, 0.15);\n",
              "      fill: #174EA6;\n",
              "    }\n",
              "\n",
              "    [theme=dark] .colab-df-convert {\n",
              "      background-color: #3B4455;\n",
              "      fill: #D2E3FC;\n",
              "    }\n",
              "\n",
              "    [theme=dark] .colab-df-convert:hover {\n",
              "      background-color: #434B5C;\n",
              "      box-shadow: 0px 1px 3px 1px rgba(0, 0, 0, 0.15);\n",
              "      filter: drop-shadow(0px 1px 2px rgba(0, 0, 0, 0.3));\n",
              "      fill: #FFFFFF;\n",
              "    }\n",
              "  </style>\n",
              "\n",
              "      <script>\n",
              "        const buttonEl =\n",
              "          document.querySelector('#df-72642db0-6539-4d6c-9c33-68b6644d3159 button.colab-df-convert');\n",
              "        buttonEl.style.display =\n",
              "          google.colab.kernel.accessAllowed ? 'block' : 'none';\n",
              "\n",
              "        async function convertToInteractive(key) {\n",
              "          const element = document.querySelector('#df-72642db0-6539-4d6c-9c33-68b6644d3159');\n",
              "          const dataTable =\n",
              "            await google.colab.kernel.invokeFunction('convertToInteractive',\n",
              "                                                     [key], {});\n",
              "          if (!dataTable) return;\n",
              "\n",
              "          const docLinkHtml = 'Like what you see? Visit the ' +\n",
              "            '<a target=\"_blank\" href=https://colab.research.google.com/notebooks/data_table.ipynb>data table notebook</a>'\n",
              "            + ' to learn more about interactive tables.';\n",
              "          element.innerHTML = '';\n",
              "          dataTable['output_type'] = 'display_data';\n",
              "          await google.colab.output.renderOutput(dataTable, element);\n",
              "          const docLink = document.createElement('div');\n",
              "          docLink.innerHTML = docLinkHtml;\n",
              "          element.appendChild(docLink);\n",
              "        }\n",
              "      </script>\n",
              "    </div>\n",
              "  </div>\n",
              "  "
            ]
          },
          "metadata": {},
          "execution_count": 11
        }
      ],
      "source": [
        "#Shuffle data in dataset\n",
        "df = df.sample(frac = 1)\n",
        "df.head(10)"
      ]
    },
    {
      "cell_type": "code",
      "execution_count": 12,
      "metadata": {
        "colab": {
          "base_uri": "https://localhost:8080/",
          "height": 206
        },
        "id": "yWbPy5GoGWWh",
        "outputId": "709d1c3f-4393-486a-a397-20693dc72281"
      },
      "outputs": [
        {
          "output_type": "execute_result",
          "data": {
            "text/plain": [
              "                                                text  class\n",
              "0  Earlier today, Facebook representatives told C...      1\n",
              "1  MANILA (Reuters) - The Philippines  military c...      0\n",
              "2  In growing signs that rumors of a Fox News spl...      1\n",
              "3  MADRID (Reuters) - The Spanish foreign ministr...      0\n",
              "4  WASHINGTON (Reuters) - U.S. House Democrats in...      0"
            ],
            "text/html": [
              "\n",
              "  <div id=\"df-93e8738c-3987-4db2-a06f-05ae37f8b32d\">\n",
              "    <div class=\"colab-df-container\">\n",
              "      <div>\n",
              "<style scoped>\n",
              "    .dataframe tbody tr th:only-of-type {\n",
              "        vertical-align: middle;\n",
              "    }\n",
              "\n",
              "    .dataframe tbody tr th {\n",
              "        vertical-align: top;\n",
              "    }\n",
              "\n",
              "    .dataframe thead th {\n",
              "        text-align: right;\n",
              "    }\n",
              "</style>\n",
              "<table border=\"1\" class=\"dataframe\">\n",
              "  <thead>\n",
              "    <tr style=\"text-align: right;\">\n",
              "      <th></th>\n",
              "      <th>text</th>\n",
              "      <th>class</th>\n",
              "    </tr>\n",
              "  </thead>\n",
              "  <tbody>\n",
              "    <tr>\n",
              "      <th>0</th>\n",
              "      <td>Earlier today, Facebook representatives told C...</td>\n",
              "      <td>1</td>\n",
              "    </tr>\n",
              "    <tr>\n",
              "      <th>1</th>\n",
              "      <td>MANILA (Reuters) - The Philippines  military c...</td>\n",
              "      <td>0</td>\n",
              "    </tr>\n",
              "    <tr>\n",
              "      <th>2</th>\n",
              "      <td>In growing signs that rumors of a Fox News spl...</td>\n",
              "      <td>1</td>\n",
              "    </tr>\n",
              "    <tr>\n",
              "      <th>3</th>\n",
              "      <td>MADRID (Reuters) - The Spanish foreign ministr...</td>\n",
              "      <td>0</td>\n",
              "    </tr>\n",
              "    <tr>\n",
              "      <th>4</th>\n",
              "      <td>WASHINGTON (Reuters) - U.S. House Democrats in...</td>\n",
              "      <td>0</td>\n",
              "    </tr>\n",
              "  </tbody>\n",
              "</table>\n",
              "</div>\n",
              "      <button class=\"colab-df-convert\" onclick=\"convertToInteractive('df-93e8738c-3987-4db2-a06f-05ae37f8b32d')\"\n",
              "              title=\"Convert this dataframe to an interactive table.\"\n",
              "              style=\"display:none;\">\n",
              "        \n",
              "  <svg xmlns=\"http://www.w3.org/2000/svg\" height=\"24px\"viewBox=\"0 0 24 24\"\n",
              "       width=\"24px\">\n",
              "    <path d=\"M0 0h24v24H0V0z\" fill=\"none\"/>\n",
              "    <path d=\"M18.56 5.44l.94 2.06.94-2.06 2.06-.94-2.06-.94-.94-2.06-.94 2.06-2.06.94zm-11 1L8.5 8.5l.94-2.06 2.06-.94-2.06-.94L8.5 2.5l-.94 2.06-2.06.94zm10 10l.94 2.06.94-2.06 2.06-.94-2.06-.94-.94-2.06-.94 2.06-2.06.94z\"/><path d=\"M17.41 7.96l-1.37-1.37c-.4-.4-.92-.59-1.43-.59-.52 0-1.04.2-1.43.59L10.3 9.45l-7.72 7.72c-.78.78-.78 2.05 0 2.83L4 21.41c.39.39.9.59 1.41.59.51 0 1.02-.2 1.41-.59l7.78-7.78 2.81-2.81c.8-.78.8-2.07 0-2.86zM5.41 20L4 18.59l7.72-7.72 1.47 1.35L5.41 20z\"/>\n",
              "  </svg>\n",
              "      </button>\n",
              "      \n",
              "  <style>\n",
              "    .colab-df-container {\n",
              "      display:flex;\n",
              "      flex-wrap:wrap;\n",
              "      gap: 12px;\n",
              "    }\n",
              "\n",
              "    .colab-df-convert {\n",
              "      background-color: #E8F0FE;\n",
              "      border: none;\n",
              "      border-radius: 50%;\n",
              "      cursor: pointer;\n",
              "      display: none;\n",
              "      fill: #1967D2;\n",
              "      height: 32px;\n",
              "      padding: 0 0 0 0;\n",
              "      width: 32px;\n",
              "    }\n",
              "\n",
              "    .colab-df-convert:hover {\n",
              "      background-color: #E2EBFA;\n",
              "      box-shadow: 0px 1px 2px rgba(60, 64, 67, 0.3), 0px 1px 3px 1px rgba(60, 64, 67, 0.15);\n",
              "      fill: #174EA6;\n",
              "    }\n",
              "\n",
              "    [theme=dark] .colab-df-convert {\n",
              "      background-color: #3B4455;\n",
              "      fill: #D2E3FC;\n",
              "    }\n",
              "\n",
              "    [theme=dark] .colab-df-convert:hover {\n",
              "      background-color: #434B5C;\n",
              "      box-shadow: 0px 1px 3px 1px rgba(0, 0, 0, 0.15);\n",
              "      filter: drop-shadow(0px 1px 2px rgba(0, 0, 0, 0.3));\n",
              "      fill: #FFFFFF;\n",
              "    }\n",
              "  </style>\n",
              "\n",
              "      <script>\n",
              "        const buttonEl =\n",
              "          document.querySelector('#df-93e8738c-3987-4db2-a06f-05ae37f8b32d button.colab-df-convert');\n",
              "        buttonEl.style.display =\n",
              "          google.colab.kernel.accessAllowed ? 'block' : 'none';\n",
              "\n",
              "        async function convertToInteractive(key) {\n",
              "          const element = document.querySelector('#df-93e8738c-3987-4db2-a06f-05ae37f8b32d');\n",
              "          const dataTable =\n",
              "            await google.colab.kernel.invokeFunction('convertToInteractive',\n",
              "                                                     [key], {});\n",
              "          if (!dataTable) return;\n",
              "\n",
              "          const docLinkHtml = 'Like what you see? Visit the ' +\n",
              "            '<a target=\"_blank\" href=https://colab.research.google.com/notebooks/data_table.ipynb>data table notebook</a>'\n",
              "            + ' to learn more about interactive tables.';\n",
              "          element.innerHTML = '';\n",
              "          dataTable['output_type'] = 'display_data';\n",
              "          await google.colab.output.renderOutput(dataTable, element);\n",
              "          const docLink = document.createElement('div');\n",
              "          docLink.innerHTML = docLinkHtml;\n",
              "          element.appendChild(docLink);\n",
              "        }\n",
              "      </script>\n",
              "    </div>\n",
              "  </div>\n",
              "  "
            ]
          },
          "metadata": {},
          "execution_count": 12
        }
      ],
      "source": [
        "#Handle index numbers\n",
        "df.reset_index(inplace = True)\n",
        "df.drop([\"index\"], axis = 1, inplace = True)\n",
        "df.head(5)"
      ]
    },
    {
      "cell_type": "code",
      "execution_count": 13,
      "metadata": {
        "colab": {
          "base_uri": "https://localhost:8080/"
        },
        "id": "wiOU_WqfGr1Q",
        "outputId": "a1c63e5e-5daa-4aad-cad9-ec92ea270c98"
      },
      "outputs": [
        {
          "output_type": "execute_result",
          "data": {
            "text/plain": [
              "1    0.522985\n",
              "0    0.477015\n",
              "Name: class, dtype: float64"
            ]
          },
          "metadata": {},
          "execution_count": 13
        }
      ],
      "source": [
        "# 52% of news are fake and 47.7% news is true\n",
        "df['class'].value_counts(normalize=True)"
      ]
    },
    {
      "cell_type": "markdown",
      "metadata": {
        "id": "J5oEBY1GEw4z"
      },
      "source": [
        "### <font color=\"blue\">**Remove Stopwords and Delimeter**</font>"
      ]
    },
    {
      "cell_type": "code",
      "execution_count": null,
      "metadata": {
        "id": "m3zhstWREdYi"
      },
      "outputs": [],
      "source": [
        "def text_process(mess):\n",
        "    nopunc =[char for char in mess if char not in string.punctuation]\n",
        "    nopunc=''.join(nopunc)\n",
        "    return [word for word in nopunc.split() if word.lower() not in stopwords.words('english')]\n",
        "\n",
        "\n",
        "df['text'].apply(text_process)\n",
        "df.head(5)"
      ]
    },
    {
      "cell_type": "markdown",
      "metadata": {
        "id": "NUYEuQKwN1Ia"
      },
      "source": [
        "### <font color=\"blue\">**Lemmatization**</font>"
      ]
    },
    {
      "cell_type": "code",
      "execution_count": 16,
      "metadata": {
        "colab": {
          "base_uri": "https://localhost:8080/"
        },
        "id": "1VAzxDvaFQv3",
        "outputId": "1de4a03a-89c9-4155-bdb9-e0cc0a092681"
      },
      "outputs": [
        {
          "output_type": "stream",
          "name": "stdout",
          "text": [
            "With out Lammetization -  Rod Wheeler was on Hannity last night with startling information on the Seth Rich murder mystery. He spoke about the mystery of why they can t locate the computer Rich used. They went on to discuss clues in the case that point to collusion between the DC police and the DNC. The most shocking information comes at the 4:20 mark when Wheeler says this:Rod Wheeler:  Here s one other thing that is going to be startling I m just gonna say this right now. I reached out to the police department way back in March when the family first hired me right..to get involved. I didn t hear anything from the police department for 2-3 days.Guess what I learned yesterday from the family of Seth Rich? The police department did not call me back because someone, a high ranking official at the DNC check this out a high ranking official at the DNC when I called the police department, they got that information and called the Rich family wanting to know, why was I snooping around? The plot thickens in this case. Will we finally find the murderer of this young man and who is behind it?IN CASE YOU HAVEN T SEEN UPDATES ON THIS CASE:CONFIRMED BOMBSHELL: SETH RICH Sent Over 44,000 DNC Emails To Journalist, Best Friend Of Wikileaks Founder DC Police Officer Claims They Were Told To  Stand Down  On Case [VIDEO]Wow! The private investigator hired by the Rich family to look into the death of 27-year old murdered DNC staffer Seth Rich just revealed some stunning evidence. It s been confirmed that over 44,000 emails and over 17,000 attachments were sent to the now deceased investigative journalist and best friend of Wikileaks founder Julian Assange. Now that this new information has been made available to the public, will the media be asking Hillary or the DNC any questions about their involvement in Rich s death? Will the DOJ be opening an investigation into his death in light of this new stunning evidence? What about the alleged Russian hack of the DNC emails that the media tried to tie to President Trump?Just two months shy of the one-year anniversary of Rich s death, FOX 5 has learned there is new information that could prove these theorists right.Rod Wheeler, a private investigator hired by the Rich family, suggests there is tangible evidence on Rich s laptop that confirms he was communicating with WikiLeaks prior to his death.Now, questions have been raised on why D.C. police, the lead agency on this murder investigation for the past ten months, have insisted this was a robbery gone bad when there appears to be no evidence to suggest that.Wheeler, a former D.C. police homicide detective, is running a parallel investigation into Rich s murder. He said he believes there is a cover-up and the police department has been told to back down from the investigation. The police department nor the FBI have been forthcoming,  said Wheeler.  They haven t been cooperating at all. I believe that the answer to solving his death lies on that computer, which I believe is either at the police department or either at the FBI. I have been told both. When we asked Wheeler if his sources have told him there is information that links Rich to Wikileaks, he said,  Absolutely. Yeah. That s confirmed. Wheeler also told us,  I have a source inside the police department that has looked at me straight in the eye and said,  Rod, we were told to stand down on this case and I can t share any information with you.  Now, that is highly unusual for a murder investigation, especially from a police department. Again, I don t think it comes from the chief s office, but I do believe there is a correlation between the mayor s office and the DNC and that is the information that will come out [Tuesday].The Democratic National Committee staffer who was gunned down on July 10 on a Washington, D.C., street just steps from his home had leaked thousands of internal emails to WikiLeaks, law enforcement sources told Fox News.A federal investigator who reviewed an FBI forensic report detailing the contents of DNC staffer Seth Rich s computer generated within 96 hours after his murder, said Rich made contact with WikiLeaks through Gavin MacFadyen, a now-deceased American investigative reporter, documentary filmmaker, and director of WikiLeaks who was living in London at the time.  FOX5DCHere is the tweet announcing the death of Gavin MacFayden only weeks before the U.S. presidential election:Gavin Macfadyen was mentor to Assange (and his closest friend in London), to WikiLeaks' Sarah Harrison, Joseph Farrell and many others.  WikiLeaks (@wikileaks) October 23, 2016 I have seen and read the emails between Seth Rich and Wikileaks,  the federal investigator told Fox News, confirming the MacFadyen connection. He said the emails are in possession of the FBI, while the stalled case is in the hands of the Washington Police Department.The revelation is consistent with the findings of Rod Wheeler, a former DC homicide detective and Fox News contributor and whose private investigation firm was hired by Rich s family to probe the case. Rich was shot from behind in the wee hours, but was not robbed. My investigation up to this point shows there was some degree of email exchange between Seth Rich and Wikileaks,  Wheeler said.  I do believe that the answers to who murdered Seth Rich sits on his computer on a shelf at the DC police or FBI headquarters. The federal investigator, who requested anonymity, said 44,053 emails and 17,761 attachments between Democratic National Committee leaders, spanning from January 2015 through late May 2016, were transferred from Rich to MacFadyen before May 21.   FOX NewsWe reported on this story extensively. Here are some of our stunning findings over the past 10 months. It s pretty stunning that it took so long to find out about the e-mails on Rich s laptop: Conspiracy theories have been surrounding the murder of Seth Rich. They reached a new frenzy after the hacking of DNC e-mails led to the resignation of its chairwoman, Debbie Wasserman Schultz.Rich was beaten, shot and killed early on the morning of July 8 while he was walking home and talking on the phone to his girlfriend. Police have said they haven t determined if his murder was a botched robbery or something else. The killer or killers appear to have taken nothing from their victim, leaving behind his wallet, watch and phone.Wikileaks just confirmed murdered DNC staffer Seth Rich was the source of the DNC leak.Wikileaks released a series direct messages from US alleged  Russian spy  Guccifer 2.0 to actress model Robbin Young (according to Young).In the stream of texts the discussion leads to the DNC leaker.His name is  Seth ** In November Julian Assange said Russia did not hack into the DNC servers. -h/t GP Here s the proof:Direct Messages from U.S. alleged Russian spy @GUCCIFER_2 to actress-model @robbin_young (according to the latter) https://t.co/uMsB9WgxRQ  WikiLeaks (@wikileaks) April 8, 2017Actress Robbin Young claims she had given this information she received from Guccifer 2.0 to the authorities but,  no one cared :https://twitter.com/Robbin_Young/status/850743524953702404Actress Robbin Young states that Guccifer 2.0 told her,  i m eager to find facts about seth, i m sure it wasn t just a robbery. seth was assassinated. :Guccifer 2.0 said, \"i'm eager to find fact about seth, i'm sure it wasn't just a robbery. seth was assassinated.\" #SethRich  Robbin Young (@Robbin_Young) March 29, 2017In June 2016,the hacker Guccifer 2.0 claimed responsibility for breaking into the Democratic National Committee s servers, lifting opposition research the DNC had gathered, including a 200-page document focused on presumptive Republican presidential candidate Donald Trump.The hacker s moniker is an homage to  Guccifer,  the nom de guerre of Romanian hacker Marcel Lazar who claimed a previous hack into Hillary Clinton s private email server and is now awaiting prosecution for cybercrimes.  RTWhile Wikileaks  Julian Assange was being interviewed by John Pilger, he brought up the death of Seth Rich. Watch Assange s strange and somewhat cagey reply.Here is part of the conversation:Julian Assange: Whistleblowers go to significant efforts to get us material and often very significant risks. As a 27 year-old, works for the DNC, was shot in the back, murdered just a few weeks ago for unknown reasons as he was walking down the street in Washington.Reporter: That was just a robbery, I believe. Wasn t it?Julian Assange: No. There s no finding. So  I m suggesting that our sources take risks.Watch it again in slow motion below:Seth Rich s parents explain what happened only moments before his death. He was the Voter Expansion Data Director for the DNC. His parents say he was,  Making sure everyone who wanted to vote, had the opportunity :Shortly after the killing, Redditors and social media users were pursuing a  lead  saying that Rich was en route to the FBI that fateful morning, apparently intending to speak to special agents about an  ongoing court case  possibly involving the Clinton family.More recently, Wikileaks s thousands of DNC emails and voice mails have piqued Reddit s interest, with Redditors combing through years of communications looking for any clue to Rich s murder.The theory is apparently based on Julian Assange s recent ITV appearance, where he scoffed at the idea that Russian hackers could be responsible for the data dump, and said that  anyone  within the Democrats  organization could easily have sent Wikileaks the offending messages.Given that Rich as a DNC staffer presumably would have had some access to its servers, Reddit is absolutely positive Rich paid the ultimate price for exposing Debbie Wasserman Schultz and the DNC s crusade against Bernie Sanders.  HeatstreetGo HERE for fascinating timeline of events leading up to the brutal murder of DNC staffer Seth Rich.\n",
            "With Lemmatization -      Rod Wheeler wa on Hannity last night with startling information on the Seth Rich murder mystery. He spoke about the mystery of why they can t locate the computer Rich used. They went on to discus clue in the case that point to collusion between the DC police and the DNC. The most shocking information come at the 4:20 mark when Wheeler say this:Rod Wheeler: Here s one other thing that is going to be startling I m just gonna say this right now. I reached out to the police department way back in March when the family first hired me right..to get involved. I didn t hear anything from the police department for 2-3 days.Guess what I learned yesterday from the family of Seth Rich? The police department did not call me back because someone, a high ranking official at the DNC check this out a high ranking official at the DNC when I called the police department, they got that information and called the Rich family wanting to know, why wa I snooping around? The plot thickens in this case. Will we finally find the murderer of this young man and who is behind it?IN CASE YOU HAVEN T SEEN UPDATES ON THIS CASE:CONFIRMED BOMBSHELL: SETH RICH Sent Over 44,000 DNC Emails To Journalist, Best Friend Of Wikileaks Founder DC Police Officer Claims They Were Told To Stand Down On Case [VIDEO]Wow! The private investigator hired by the Rich family to look into the death of 27-year old murdered DNC staffer Seth Rich just revealed some stunning evidence. It s been confirmed that over 44,000 email and over 17,000 attachment were sent to the now deceased investigative journalist and best friend of Wikileaks founder Julian Assange. Now that this new information ha been made available to the public, will the medium be asking Hillary or the DNC any question about their involvement in Rich s death? Will the DOJ be opening an investigation into his death in light of this new stunning evidence? What about the alleged Russian hack of the DNC email that the medium tried to tie to President Trump?Just two month shy of the one-year anniversary of Rich s death, FOX 5 ha learned there is new information that could prove these theorist right.Rod Wheeler, a private investigator hired by the Rich family, suggests there is tangible evidence on Rich s laptop that confirms he wa communicating with WikiLeaks prior to his death.Now, question have been raised on why D.C. police, the lead agency on this murder investigation for the past ten months, have insisted this wa a robbery gone bad when there appears to be no evidence to suggest that.Wheeler, a former D.C. police homicide detective, is running a parallel investigation into Rich s murder. He said he belief there is a cover-up and the police department ha been told to back down from the investigation. The police department nor the FBI have been forthcoming, said Wheeler. They haven t been cooperating at all. I believe that the answer to solving his death lie on that computer, which I believe is either at the police department or either at the FBI. I have been told both. When we asked Wheeler if his source have told him there is information that link Rich to Wikileaks, he said, Absolutely. Yeah. That s confirmed. Wheeler also told us, I have a source inside the police department that ha looked at me straight in the eye and said, Rod, we were told to stand down on this case and I can t share any information with you. Now, that is highly unusual for a murder investigation, especially from a police department. Again, I don t think it come from the chief s office, but I do believe there is a correlation between the mayor s office and the DNC and that is the information that will come out [Tuesday].The Democratic National Committee staffer who wa gunned down on July 10 on a Washington, D.C., street just step from his home had leaked thousand of internal email to WikiLeaks, law enforcement source told Fox News.A federal investigator who reviewed an FBI forensic report detailing the content of DNC staffer Seth Rich s computer generated within 96 hour after his murder, said Rich made contact with WikiLeaks through Gavin MacFadyen, a now-deceased American investigative reporter, documentary filmmaker, and director of WikiLeaks who wa living in London at the time. FOX5DCHere is the tweet announcing the death of Gavin MacFayden only week before the U.S. presidential election:Gavin Macfadyen wa mentor to Assange (and his closest friend in London), to WikiLeaks' Sarah Harrison, Joseph Farrell and many others. WikiLeaks (@wikileaks) October 23, 2016 I have seen and read the email between Seth Rich and Wikileaks, the federal investigator told Fox News, confirming the MacFadyen connection. He said the email are in possession of the FBI, while the stalled case is in the hand of the Washington Police Department.The revelation is consistent with the finding of Rod Wheeler, a former DC homicide detective and Fox News contributor and whose private investigation firm wa hired by Rich s family to probe the case. Rich wa shot from behind in the wee hours, but wa not robbed. My investigation up to this point show there wa some degree of email exchange between Seth Rich and Wikileaks, Wheeler said. I do believe that the answer to who murdered Seth Rich sits on his computer on a shelf at the DC police or FBI headquarters. The federal investigator, who requested anonymity, said 44,053 email and 17,761 attachment between Democratic National Committee leaders, spanning from January 2015 through late May 2016, were transferred from Rich to MacFadyen before May 21. FOX NewsWe reported on this story extensively. Here are some of our stunning finding over the past 10 months. It s pretty stunning that it took so long to find out about the e-mail on Rich s laptop: Conspiracy theory have been surrounding the murder of Seth Rich. They reached a new frenzy after the hacking of DNC e-mail led to the resignation of it chairwoman, Debbie Wasserman Schultz.Rich wa beaten, shot and killed early on the morning of July 8 while he wa walking home and talking on the phone to his girlfriend. Police have said they haven t determined if his murder wa a botched robbery or something else. The killer or killer appear to have taken nothing from their victim, leaving behind his wallet, watch and phone.Wikileaks just confirmed murdered DNC staffer Seth Rich wa the source of the DNC leak.Wikileaks released a series direct message from US alleged Russian spy Guccifer 2.0 to actress model Robbin Young (according to Young).In the stream of text the discussion lead to the DNC leaker.His name is Seth ** In November Julian Assange said Russia did not hack into the DNC servers. -h/t GP Here s the proof:Direct Messages from U.S. alleged Russian spy @GUCCIFER_2 to actress-model @robbin_young (according to the latter) https://t.co/uMsB9WgxRQ WikiLeaks (@wikileaks) April 8, 2017Actress Robbin Young claim she had given this information she received from Guccifer 2.0 to the authority but, no one cared :https://twitter.com/Robbin_Young/status/850743524953702404Actress Robbin Young state that Guccifer 2.0 told her, i m eager to find fact about seth, i m sure it wasn t just a robbery. seth wa assassinated. :Guccifer 2.0 said, \"i'm eager to find fact about seth, i'm sure it wasn't just a robbery. seth wa assassinated.\" #SethRich Robbin Young (@Robbin_Young) March 29, 2017In June 2016,the hacker Guccifer 2.0 claimed responsibility for breaking into the Democratic National Committee s servers, lifting opposition research the DNC had gathered, including a 200-page document focused on presumptive Republican presidential candidate Donald Trump.The hacker s moniker is an homage to Guccifer, the nom de guerre of Romanian hacker Marcel Lazar who claimed a previous hack into Hillary Clinton s private email server and is now awaiting prosecution for cybercrimes. RTWhile Wikileaks Julian Assange wa being interviewed by John Pilger, he brought up the death of Seth Rich. Watch Assange s strange and somewhat cagey reply.Here is part of the conversation:Julian Assange: Whistleblowers go to significant effort to get u material and often very significant risks. As a 27 year-old, work for the DNC, wa shot in the back, murdered just a few week ago for unknown reason a he wa walking down the street in Washington.Reporter: That wa just a robbery, I believe. Wasn t it?Julian Assange: No. There s no finding. So I m suggesting that our source take risks.Watch it again in slow motion below:Seth Rich s parent explain what happened only moment before his death. He wa the Voter Expansion Data Director for the DNC. His parent say he was, Making sure everyone who wanted to vote, had the opportunity :Shortly after the killing, Redditors and social medium user were pursuing a lead saying that Rich wa en route to the FBI that fateful morning, apparently intending to speak to special agent about an ongoing court case possibly involving the Clinton family.More recently, Wikileaks s thousand of DNC email and voice mail have piqued Reddit s interest, with Redditors combing through year of communication looking for any clue to Rich s murder.The theory is apparently based on Julian Assange s recent ITV appearance, where he scoffed at the idea that Russian hacker could be responsible for the data dump, and said that anyone within the Democrats organization could easily have sent Wikileaks the offending messages.Given that Rich a a DNC staffer presumably would have had some access to it servers, Reddit is absolutely positive Rich paid the ultimate price for exposing Debbie Wasserman Schultz and the DNC s crusade against Bernie Sanders. HeatstreetGo HERE for fascinating timeline of event leading up to the brutal murder of DNC staffer Seth Rich.\n"
          ]
        }
      ],
      "source": [
        "lemmatizer = WordNetLemmatizer()\n",
        "\n",
        "print('With out Lammetization - ', df['text'][2])\n",
        "\n",
        "Lemmatized = df['text'].apply(lambda x: \" \".join([Word(word).lemmatize() for word in x.split()]))\n",
        "print('With Lemmatization -     ',  Lemmatized[2])"
      ]
    },
    {
      "cell_type": "markdown",
      "metadata": {
        "id": "5QfHLISfO4xF"
      },
      "source": [
        "### <font color=\"blue\"> 1.Remove links from the dataset. <br> 2.Remove special characters or symbols from the dataset. <br> 3. Remove numbers or alphanumerical characters from the dataset.</font>"
      ]
    },
    {
      "cell_type": "code",
      "execution_count": 17,
      "metadata": {
        "colab": {
          "base_uri": "https://localhost:8080/"
        },
        "id": "ofoAYvjUN_iN",
        "outputId": "196677f5-d19b-4efd-868d-ee911cdbf319"
      },
      "outputs": [
        {
          "output_type": "stream",
          "name": "stderr",
          "text": [
            "<ipython-input-17-5e9aed541667>:1: FutureWarning: The default value of regex will change from True to False in a future version.\n",
            "  df['text'] = df['text'].str.replace(r'([\\w\\.-]+)@([\\w\\.-]+)',' ') #remove email addresses\n",
            "<ipython-input-17-5e9aed541667>:2: FutureWarning: The default value of regex will change from True to False in a future version.\n",
            "  df['text'] = df['text'].str.replace(r'[^\\w\\s]',' ') #remove punctuations and special chareters from dataset\n",
            "<ipython-input-17-5e9aed541667>:3: FutureWarning: The default value of regex will change from True to False in a future version.\n",
            "  df['text'] = df['text'].str.replace(r'(https|http)?:\\/\\/(\\w|\\.|\\_|\\/|\\?|\\=|\\&|\\%)*\\b', ' ') # Remove links from the dataset.\n",
            "<ipython-input-17-5e9aed541667>:4: FutureWarning: The default value of regex will change from True to False in a future version.\n",
            "  df['text'] = df['text'].str.replace(r'[^\\w]', ' ') #Remove not alphanumeric symbols white spaces\n"
          ]
        }
      ],
      "source": [
        "df['text'] = df['text'].str.replace(r'([\\w\\.-]+)@([\\w\\.-]+)',' ') #remove email addresses\n",
        "df['text'] = df['text'].str.replace(r'[^\\w\\s]',' ') #remove punctuations and special chareters from dataset\n",
        "df['text'] = df['text'].str.replace(r'(https|http)?:\\/\\/(\\w|\\.|\\_|\\/|\\?|\\=|\\&|\\%)*\\b', ' ') # Remove links from the dataset.\n",
        "df['text'] = df['text'].str.replace(r'[^\\w]', ' ') #Remove not alphanumeric symbols white spaces"
      ]
    },
    {
      "cell_type": "code",
      "execution_count": 22,
      "metadata": {
        "colab": {
          "base_uri": "https://localhost:8080/",
          "height": 206
        },
        "id": "r-68e-DdPD6n",
        "outputId": "392d1466-6ba7-4faf-86da-40f5cf142a20"
      },
      "outputs": [
        {
          "output_type": "execute_result",
          "data": {
            "text/plain": [
              "   level_0                                               text  class\n",
              "0        0  21st Century Wire asks   HAVE YOUR SHOUT  Whic...      1\n",
              "1        1  In addition to be a disgusting criminal and an...      1\n",
              "2        2  Rod Wheeler was on Hannity last night with sta...      1\n",
              "3        3  ZURICH  Reuters    Companies should not blame ...      0\n",
              "4        4  WILMINGTON  Del   Reuters    U S  President el...      0"
            ],
            "text/html": [
              "\n",
              "  <div id=\"df-de4b03ea-10d9-49dc-86d7-e5bff373f9e6\">\n",
              "    <div class=\"colab-df-container\">\n",
              "      <div>\n",
              "<style scoped>\n",
              "    .dataframe tbody tr th:only-of-type {\n",
              "        vertical-align: middle;\n",
              "    }\n",
              "\n",
              "    .dataframe tbody tr th {\n",
              "        vertical-align: top;\n",
              "    }\n",
              "\n",
              "    .dataframe thead th {\n",
              "        text-align: right;\n",
              "    }\n",
              "</style>\n",
              "<table border=\"1\" class=\"dataframe\">\n",
              "  <thead>\n",
              "    <tr style=\"text-align: right;\">\n",
              "      <th></th>\n",
              "      <th>level_0</th>\n",
              "      <th>text</th>\n",
              "      <th>class</th>\n",
              "    </tr>\n",
              "  </thead>\n",
              "  <tbody>\n",
              "    <tr>\n",
              "      <th>0</th>\n",
              "      <td>0</td>\n",
              "      <td>21st Century Wire asks   HAVE YOUR SHOUT  Whic...</td>\n",
              "      <td>1</td>\n",
              "    </tr>\n",
              "    <tr>\n",
              "      <th>1</th>\n",
              "      <td>1</td>\n",
              "      <td>In addition to be a disgusting criminal and an...</td>\n",
              "      <td>1</td>\n",
              "    </tr>\n",
              "    <tr>\n",
              "      <th>2</th>\n",
              "      <td>2</td>\n",
              "      <td>Rod Wheeler was on Hannity last night with sta...</td>\n",
              "      <td>1</td>\n",
              "    </tr>\n",
              "    <tr>\n",
              "      <th>3</th>\n",
              "      <td>3</td>\n",
              "      <td>ZURICH  Reuters    Companies should not blame ...</td>\n",
              "      <td>0</td>\n",
              "    </tr>\n",
              "    <tr>\n",
              "      <th>4</th>\n",
              "      <td>4</td>\n",
              "      <td>WILMINGTON  Del   Reuters    U S  President el...</td>\n",
              "      <td>0</td>\n",
              "    </tr>\n",
              "  </tbody>\n",
              "</table>\n",
              "</div>\n",
              "      <button class=\"colab-df-convert\" onclick=\"convertToInteractive('df-de4b03ea-10d9-49dc-86d7-e5bff373f9e6')\"\n",
              "              title=\"Convert this dataframe to an interactive table.\"\n",
              "              style=\"display:none;\">\n",
              "        \n",
              "  <svg xmlns=\"http://www.w3.org/2000/svg\" height=\"24px\"viewBox=\"0 0 24 24\"\n",
              "       width=\"24px\">\n",
              "    <path d=\"M0 0h24v24H0V0z\" fill=\"none\"/>\n",
              "    <path d=\"M18.56 5.44l.94 2.06.94-2.06 2.06-.94-2.06-.94-.94-2.06-.94 2.06-2.06.94zm-11 1L8.5 8.5l.94-2.06 2.06-.94-2.06-.94L8.5 2.5l-.94 2.06-2.06.94zm10 10l.94 2.06.94-2.06 2.06-.94-2.06-.94-.94-2.06-.94 2.06-2.06.94z\"/><path d=\"M17.41 7.96l-1.37-1.37c-.4-.4-.92-.59-1.43-.59-.52 0-1.04.2-1.43.59L10.3 9.45l-7.72 7.72c-.78.78-.78 2.05 0 2.83L4 21.41c.39.39.9.59 1.41.59.51 0 1.02-.2 1.41-.59l7.78-7.78 2.81-2.81c.8-.78.8-2.07 0-2.86zM5.41 20L4 18.59l7.72-7.72 1.47 1.35L5.41 20z\"/>\n",
              "  </svg>\n",
              "      </button>\n",
              "      \n",
              "  <style>\n",
              "    .colab-df-container {\n",
              "      display:flex;\n",
              "      flex-wrap:wrap;\n",
              "      gap: 12px;\n",
              "    }\n",
              "\n",
              "    .colab-df-convert {\n",
              "      background-color: #E8F0FE;\n",
              "      border: none;\n",
              "      border-radius: 50%;\n",
              "      cursor: pointer;\n",
              "      display: none;\n",
              "      fill: #1967D2;\n",
              "      height: 32px;\n",
              "      padding: 0 0 0 0;\n",
              "      width: 32px;\n",
              "    }\n",
              "\n",
              "    .colab-df-convert:hover {\n",
              "      background-color: #E2EBFA;\n",
              "      box-shadow: 0px 1px 2px rgba(60, 64, 67, 0.3), 0px 1px 3px 1px rgba(60, 64, 67, 0.15);\n",
              "      fill: #174EA6;\n",
              "    }\n",
              "\n",
              "    [theme=dark] .colab-df-convert {\n",
              "      background-color: #3B4455;\n",
              "      fill: #D2E3FC;\n",
              "    }\n",
              "\n",
              "    [theme=dark] .colab-df-convert:hover {\n",
              "      background-color: #434B5C;\n",
              "      box-shadow: 0px 1px 3px 1px rgba(0, 0, 0, 0.15);\n",
              "      filter: drop-shadow(0px 1px 2px rgba(0, 0, 0, 0.3));\n",
              "      fill: #FFFFFF;\n",
              "    }\n",
              "  </style>\n",
              "\n",
              "      <script>\n",
              "        const buttonEl =\n",
              "          document.querySelector('#df-de4b03ea-10d9-49dc-86d7-e5bff373f9e6 button.colab-df-convert');\n",
              "        buttonEl.style.display =\n",
              "          google.colab.kernel.accessAllowed ? 'block' : 'none';\n",
              "\n",
              "        async function convertToInteractive(key) {\n",
              "          const element = document.querySelector('#df-de4b03ea-10d9-49dc-86d7-e5bff373f9e6');\n",
              "          const dataTable =\n",
              "            await google.colab.kernel.invokeFunction('convertToInteractive',\n",
              "                                                     [key], {});\n",
              "          if (!dataTable) return;\n",
              "\n",
              "          const docLinkHtml = 'Like what you see? Visit the ' +\n",
              "            '<a target=\"_blank\" href=https://colab.research.google.com/notebooks/data_table.ipynb>data table notebook</a>'\n",
              "            + ' to learn more about interactive tables.';\n",
              "          element.innerHTML = '';\n",
              "          dataTable['output_type'] = 'display_data';\n",
              "          await google.colab.output.renderOutput(dataTable, element);\n",
              "          const docLink = document.createElement('div');\n",
              "          docLink.innerHTML = docLinkHtml;\n",
              "          element.appendChild(docLink);\n",
              "        }\n",
              "      </script>\n",
              "    </div>\n",
              "  </div>\n",
              "  "
            ]
          },
          "metadata": {},
          "execution_count": 22
        }
      ],
      "source": [
        "df.reset_index(inplace = True)"
      ]
    },
    {
      "cell_type": "code",
      "source": [
        "df.drop([\"level_0\"], axis = 1, inplace = True)\n",
        "df.head(5)"
      ],
      "metadata": {
        "colab": {
          "base_uri": "https://localhost:8080/",
          "height": 206
        },
        "id": "-vbIb49FzUNq",
        "outputId": "d8dff030-86b4-4a45-b5a0-cf4f7eef5852"
      },
      "execution_count": 23,
      "outputs": [
        {
          "output_type": "execute_result",
          "data": {
            "text/plain": [
              "                                                text  class\n",
              "0  21st Century Wire asks   HAVE YOUR SHOUT  Whic...      1\n",
              "1  In addition to be a disgusting criminal and an...      1\n",
              "2  Rod Wheeler was on Hannity last night with sta...      1\n",
              "3  ZURICH  Reuters    Companies should not blame ...      0\n",
              "4  WILMINGTON  Del   Reuters    U S  President el...      0"
            ],
            "text/html": [
              "\n",
              "  <div id=\"df-7e7b9eda-ceb6-4231-b9f3-bddeee1feef6\">\n",
              "    <div class=\"colab-df-container\">\n",
              "      <div>\n",
              "<style scoped>\n",
              "    .dataframe tbody tr th:only-of-type {\n",
              "        vertical-align: middle;\n",
              "    }\n",
              "\n",
              "    .dataframe tbody tr th {\n",
              "        vertical-align: top;\n",
              "    }\n",
              "\n",
              "    .dataframe thead th {\n",
              "        text-align: right;\n",
              "    }\n",
              "</style>\n",
              "<table border=\"1\" class=\"dataframe\">\n",
              "  <thead>\n",
              "    <tr style=\"text-align: right;\">\n",
              "      <th></th>\n",
              "      <th>text</th>\n",
              "      <th>class</th>\n",
              "    </tr>\n",
              "  </thead>\n",
              "  <tbody>\n",
              "    <tr>\n",
              "      <th>0</th>\n",
              "      <td>21st Century Wire asks   HAVE YOUR SHOUT  Whic...</td>\n",
              "      <td>1</td>\n",
              "    </tr>\n",
              "    <tr>\n",
              "      <th>1</th>\n",
              "      <td>In addition to be a disgusting criminal and an...</td>\n",
              "      <td>1</td>\n",
              "    </tr>\n",
              "    <tr>\n",
              "      <th>2</th>\n",
              "      <td>Rod Wheeler was on Hannity last night with sta...</td>\n",
              "      <td>1</td>\n",
              "    </tr>\n",
              "    <tr>\n",
              "      <th>3</th>\n",
              "      <td>ZURICH  Reuters    Companies should not blame ...</td>\n",
              "      <td>0</td>\n",
              "    </tr>\n",
              "    <tr>\n",
              "      <th>4</th>\n",
              "      <td>WILMINGTON  Del   Reuters    U S  President el...</td>\n",
              "      <td>0</td>\n",
              "    </tr>\n",
              "  </tbody>\n",
              "</table>\n",
              "</div>\n",
              "      <button class=\"colab-df-convert\" onclick=\"convertToInteractive('df-7e7b9eda-ceb6-4231-b9f3-bddeee1feef6')\"\n",
              "              title=\"Convert this dataframe to an interactive table.\"\n",
              "              style=\"display:none;\">\n",
              "        \n",
              "  <svg xmlns=\"http://www.w3.org/2000/svg\" height=\"24px\"viewBox=\"0 0 24 24\"\n",
              "       width=\"24px\">\n",
              "    <path d=\"M0 0h24v24H0V0z\" fill=\"none\"/>\n",
              "    <path d=\"M18.56 5.44l.94 2.06.94-2.06 2.06-.94-2.06-.94-.94-2.06-.94 2.06-2.06.94zm-11 1L8.5 8.5l.94-2.06 2.06-.94-2.06-.94L8.5 2.5l-.94 2.06-2.06.94zm10 10l.94 2.06.94-2.06 2.06-.94-2.06-.94-.94-2.06-.94 2.06-2.06.94z\"/><path d=\"M17.41 7.96l-1.37-1.37c-.4-.4-.92-.59-1.43-.59-.52 0-1.04.2-1.43.59L10.3 9.45l-7.72 7.72c-.78.78-.78 2.05 0 2.83L4 21.41c.39.39.9.59 1.41.59.51 0 1.02-.2 1.41-.59l7.78-7.78 2.81-2.81c.8-.78.8-2.07 0-2.86zM5.41 20L4 18.59l7.72-7.72 1.47 1.35L5.41 20z\"/>\n",
              "  </svg>\n",
              "      </button>\n",
              "      \n",
              "  <style>\n",
              "    .colab-df-container {\n",
              "      display:flex;\n",
              "      flex-wrap:wrap;\n",
              "      gap: 12px;\n",
              "    }\n",
              "\n",
              "    .colab-df-convert {\n",
              "      background-color: #E8F0FE;\n",
              "      border: none;\n",
              "      border-radius: 50%;\n",
              "      cursor: pointer;\n",
              "      display: none;\n",
              "      fill: #1967D2;\n",
              "      height: 32px;\n",
              "      padding: 0 0 0 0;\n",
              "      width: 32px;\n",
              "    }\n",
              "\n",
              "    .colab-df-convert:hover {\n",
              "      background-color: #E2EBFA;\n",
              "      box-shadow: 0px 1px 2px rgba(60, 64, 67, 0.3), 0px 1px 3px 1px rgba(60, 64, 67, 0.15);\n",
              "      fill: #174EA6;\n",
              "    }\n",
              "\n",
              "    [theme=dark] .colab-df-convert {\n",
              "      background-color: #3B4455;\n",
              "      fill: #D2E3FC;\n",
              "    }\n",
              "\n",
              "    [theme=dark] .colab-df-convert:hover {\n",
              "      background-color: #434B5C;\n",
              "      box-shadow: 0px 1px 3px 1px rgba(0, 0, 0, 0.15);\n",
              "      filter: drop-shadow(0px 1px 2px rgba(0, 0, 0, 0.3));\n",
              "      fill: #FFFFFF;\n",
              "    }\n",
              "  </style>\n",
              "\n",
              "      <script>\n",
              "        const buttonEl =\n",
              "          document.querySelector('#df-7e7b9eda-ceb6-4231-b9f3-bddeee1feef6 button.colab-df-convert');\n",
              "        buttonEl.style.display =\n",
              "          google.colab.kernel.accessAllowed ? 'block' : 'none';\n",
              "\n",
              "        async function convertToInteractive(key) {\n",
              "          const element = document.querySelector('#df-7e7b9eda-ceb6-4231-b9f3-bddeee1feef6');\n",
              "          const dataTable =\n",
              "            await google.colab.kernel.invokeFunction('convertToInteractive',\n",
              "                                                     [key], {});\n",
              "          if (!dataTable) return;\n",
              "\n",
              "          const docLinkHtml = 'Like what you see? Visit the ' +\n",
              "            '<a target=\"_blank\" href=https://colab.research.google.com/notebooks/data_table.ipynb>data table notebook</a>'\n",
              "            + ' to learn more about interactive tables.';\n",
              "          element.innerHTML = '';\n",
              "          dataTable['output_type'] = 'display_data';\n",
              "          await google.colab.output.renderOutput(dataTable, element);\n",
              "          const docLink = document.createElement('div');\n",
              "          docLink.innerHTML = docLinkHtml;\n",
              "          element.appendChild(docLink);\n",
              "        }\n",
              "      </script>\n",
              "    </div>\n",
              "  </div>\n",
              "  "
            ]
          },
          "metadata": {},
          "execution_count": 23
        }
      ]
    },
    {
      "cell_type": "markdown",
      "metadata": {
        "id": "OTT8C0CfPjPq"
      },
      "source": [
        "#<font color='brown'><b>Model creation and prediction</b></font><br>\n",
        "## <font color=\"blue\">Train-Test Split and perform the classification task using the Naive Bayes classification model. Count vectorizer features and TF-IDF features.</font>"
      ]
    },
    {
      "cell_type": "code",
      "execution_count": 24,
      "metadata": {
        "colab": {
          "base_uri": "https://localhost:8080/"
        },
        "id": "_ZBB1KQfPNxn",
        "outputId": "1f8232e5-653e-4638-b616-36d03a2a6b26"
      },
      "outputs": [
        {
          "output_type": "execute_result",
          "data": {
            "text/plain": [
              "(44898, 44898)"
            ]
          },
          "metadata": {},
          "execution_count": 24
        }
      ],
      "source": [
        "x = df['text']\n",
        "y = df['class']\n",
        "\n",
        "len(x), len(y)"
      ]
    },
    {
      "cell_type": "code",
      "execution_count": 25,
      "metadata": {
        "colab": {
          "base_uri": "https://localhost:8080/"
        },
        "id": "eMZY9ToiQVMm",
        "outputId": "20368c00-7adb-41d6-e519-14134dead09c"
      },
      "outputs": [
        {
          "output_type": "stream",
          "name": "stdout",
          "text": [
            "33673 33673\n",
            "11225 11225\n"
          ]
        }
      ],
      "source": [
        "from sklearn.model_selection import train_test_split\n",
        "\n",
        "x_train, x_test, y_train, y_test = train_test_split(x, y)\n",
        "print(len(x_train), len(y_train))\n",
        "print(len(x_test), len(y_test))"
      ]
    },
    {
      "cell_type": "code",
      "source": [
        "# TFIDF feature generation for a maximum of 5000 features\n",
        "encoder = preprocessing.LabelEncoder()\n",
        "train_y = encoder.fit_transform(y_train)\n",
        "valid_y = encoder.fit_transform(y_test)\n",
        "tfidf_vect = TfidfVectorizer(analyzer='word', token_pattern=r'\\w{1,}', max_features=5000)\n",
        "tfidf_vect.fit(df['text'])\n",
        "xtrain_tfidf = tfidf_vect.transform(x_train)\n",
        "xvalid_tfidf = tfidf_vect.transform(x_test)\n",
        "xtrain_tfidf.data"
      ],
      "metadata": {
        "colab": {
          "base_uri": "https://localhost:8080/"
        },
        "id": "74ZtmS6F7S3_",
        "outputId": "0f36b754-b00e-4f30-f27c-622b5b1485c3"
      },
      "execution_count": 28,
      "outputs": [
        {
          "output_type": "execute_result",
          "data": {
            "text/plain": [
              "TfidfVectorizer(max_features=5000, token_pattern='\\\\w{1,}')"
            ]
          },
          "metadata": {},
          "execution_count": 28
        },
        {
          "output_type": "execute_result",
          "data": {
            "text/plain": [
              "array([0.02597969, 0.06057918, 0.03628755, ..., 0.08754975, 0.06163358,\n",
              "       0.08688619])"
            ]
          },
          "metadata": {},
          "execution_count": 28
        }
      ]
    },
    {
      "cell_type": "code",
      "source": [
        "def train_model(classifier, feature_vector_train, label, feature_vector_valid, is_neural_net=False):\n",
        "  # fit the training dataset on the classifier\n",
        "  classifier.fit(feature_vector_train, label)\n",
        "  # predict the labels on validation dataset\n",
        "  predictions = classifier.predict(feature_vector_valid)\n",
        "  return metrics.accuracy_score(predictions, valid_y)"
      ],
      "metadata": {
        "id": "S4yGB7-1zy1D"
      },
      "execution_count": 29,
      "outputs": []
    },
    {
      "cell_type": "code",
      "source": [
        "# Naive Bayes trainig\n",
        "accuracy = train_model(naive_bayes.MultinomialNB(alpha=0.2),\n",
        "xtrain_tfidf, train_y, xvalid_tfidf)\n",
        "print (\"Accuracy: \", accuracy)"
      ],
      "metadata": {
        "colab": {
          "base_uri": "https://localhost:8080/",
          "height": 217
        },
        "id": "LYhr0BZzzzGA",
        "outputId": "f8b8e1f7-23f2-4349-cf4a-3aee3839404e"
      },
      "execution_count": 1,
      "outputs": [
        {
          "output_type": "error",
          "ename": "NameError",
          "evalue": "ignored",
          "traceback": [
            "\u001b[0;31m---------------------------------------------------------------------------\u001b[0m",
            "\u001b[0;31mNameError\u001b[0m                                 Traceback (most recent call last)",
            "\u001b[0;32m<ipython-input-1-d2164eb4fe51>\u001b[0m in \u001b[0;36m<module>\u001b[0;34m\u001b[0m\n\u001b[1;32m      1\u001b[0m \u001b[0;31m# Naive Bayes trainig\u001b[0m\u001b[0;34m\u001b[0m\u001b[0;34m\u001b[0m\u001b[0;34m\u001b[0m\u001b[0m\n\u001b[0;32m----> 2\u001b[0;31m accuracy = train_model(naive_bayes.MultinomialNB(alpha=0.2),\n\u001b[0m\u001b[1;32m      3\u001b[0m xtrain_tfidf, train_y, xvalid_tfidf)\n\u001b[1;32m      4\u001b[0m \u001b[0mprint\u001b[0m \u001b[0;34m(\u001b[0m\u001b[0;34m\"Accuracy: \"\u001b[0m\u001b[0;34m,\u001b[0m \u001b[0maccuracy\u001b[0m\u001b[0;34m)\u001b[0m\u001b[0;34m\u001b[0m\u001b[0;34m\u001b[0m\u001b[0m\n",
            "\u001b[0;31mNameError\u001b[0m: name 'train_model' is not defined"
          ]
        }
      ]
    },
    {
      "cell_type": "markdown",
      "source": [
        "## Accuracy using Naive Bayes model is 93.75%"
      ],
      "metadata": {
        "id": "qPgvLDRVAsmg"
      }
    },
    {
      "cell_type": "markdown",
      "source": [],
      "metadata": {
        "id": "CfVUJ9YwnTpb"
      }
    },
    {
      "cell_type": "code",
      "source": [
        "# Define the sequence lengths, max number of words and embedding dimensions\n",
        "# Sequence length of each sentence. If more, truncate. If less, pad with zeros\n",
        "MAX_SEQUENCE_LENGTH = 300\n",
        "# Top 20000 frequently occurring words\n",
        "MAX_NB_WORDS = 20000\n",
        "# Get the frequently occurring words\n",
        "tokenizer = Tokenizer(num_words=MAX_NB_WORDS)\n",
        "tokenizer.fit_on_texts(train.Email)\n",
        "train_sequences = tokenizer.texts_to_sequences(train.Email)\n",
        "test_sequences = tokenizer.texts_to_sequences(test.Email)\n",
        "\n",
        "# dictionary containing words and their index\n",
        "word_index = tokenizer.word_index\n",
        "\n",
        "# total words in the corpus\n",
        "print('Found %s unique tokens.' % len(word_index))\n",
        "# get only the top frequent words on train\n",
        "train_data = pad_sequences(train_sequences, maxlen=MAX_SEQUENCE_LENGTH)\n",
        "# get only the top frequent words on test\n",
        "test_data = pad_sequences(test_sequences, maxlen=MAX_SEQUENCE_LENGTH)\n",
        "print(train_data.shape)\n",
        "print(test_data.shape)"
      ],
      "metadata": {
        "id": "Ev4m3gzfzzL7"
      },
      "execution_count": 30,
      "outputs": []
    },
    {
      "cell_type": "code",
      "source": [
        "train_labels = train['Target']\n",
        "test_labels = test['Target'] \n",
        "\n",
        "#import library\n",
        "from sklearn.preprocessing import LabelEncoder\n",
        "# converts the character array to numeric array. Assigns levels to unique labels.\n",
        "le = LabelEncoder()\n",
        "le.fit(train_labels)\n",
        "train_labels = le.transform(train_labels)\n",
        "test_labels = le.transform(test_labels)\n",
        "print(le.classes_)\n",
        "print(np.unique(train_labels, return_counts=True))\n",
        "print(np.unique(test_labels, return_counts=True))"
      ],
      "metadata": {
        "id": "KtUVTetXzzOR"
      },
      "execution_count": null,
      "outputs": []
    },
    {
      "cell_type": "code",
      "source": [
        "# changing data types\n",
        "labels_train = to_categorical(np.asarray(train_labels))\n",
        "labels_test = to_categorical(np.asarray(test_labels))\n",
        "print('Shape of data tensor:', train_data.shape)\n",
        "print('Shape of label tensor:', labels_train.shape)\n",
        "print('Shape of label tensor:', labels_test.shape)\n",
        "\n",
        "EMBEDDING_DIM = 100\n",
        "print(MAX_SEQUENCE_LENGTH)"
      ],
      "metadata": {
        "id": "ckgZuny8zzQr"
      },
      "execution_count": null,
      "outputs": []
    },
    {
      "cell_type": "markdown",
      "source": [
        "### Define RNN model"
      ],
      "metadata": {
        "id": "-v7kg9OHqpyd"
      }
    },
    {
      "cell_type": "code",
      "source": [
        "#import library\n",
        "from keras.layers.recurrent import SimpleRNN\n",
        "#model training\n",
        "print('Training SIMPLERNN model.')\n",
        "model = Sequential()\n",
        "model.add(Embedding(MAX_NB_WORDS,\n",
        " EMBEDDING_DIM,\n",
        " input_length=MAX_SEQUENCE_LENGTH\n",
        " ))\n",
        "model.add(SimpleRNN(2, input_shape=(None,1)))\n",
        "model.add(Dense(2,activation='softmax'))\n",
        "model.compile(loss = 'binary_crossentropy', optimizer='adam',metrics = ['accuracy']) \n",
        "model.fit(train_data, labels_train,  batch_size=16,  epochs=5,  validation_data=(test_data, labels_test))"
      ],
      "metadata": {
        "id": "9mokKSmCzzTW"
      },
      "execution_count": null,
      "outputs": []
    },
    {
      "cell_type": "code",
      "source": [
        "# prediction on test data\n",
        "predicted_Srnn=model.predict(test_data)\n",
        "predicted_Srnn"
      ],
      "metadata": {
        "id": "_kY0pVY4qMnZ"
      },
      "execution_count": null,
      "outputs": []
    },
    {
      "cell_type": "code",
      "source": [
        "#model evaluation\n",
        "from sklearn.metrics import precision_recall_fscore_support as score\n",
        "precision, recall, fscore, support = score(labels_test, predicted_Srnn.round())\n",
        "print('precision: {}'.format(precision))\n",
        "print('recall: {}'.format(recall)) \n",
        "print('fscore: {}'.format(fscore))\n",
        "print('support: {}'.format(support))\n",
        "print(\"############################\")\n",
        "print(sklearn.metrics.classification_report(labels_test, predicted_Srnn.round()))"
      ],
      "metadata": {
        "id": "6pf6ckdNqMp8"
      },
      "execution_count": null,
      "outputs": []
    },
    {
      "cell_type": "markdown",
      "source": [
        "### Define LSTM Model"
      ],
      "metadata": {
        "id": "ONGDVJtor9VW"
      }
    },
    {
      "cell_type": "code",
      "source": [
        "#model training\n",
        "print('Training LSTM model.')\n",
        "model = Sequential()\n",
        "model.add(Embedding(MAX_NB_WORDS,\n",
        " EMBEDDING_DIM,\n",
        " input_length=MAX_SEQUENCE_LENGTH\n",
        " ))\n",
        "model.add(LSTM(output_dim=16, activation='relu', inner_activation='hard_sigmoid',return_sequences=True))\n",
        "model.add(Dropout(0.2))\n",
        "model.add(BatchNormalization())\n",
        "model.add(Flatten())\n",
        "model.add(Dense(2,activation='softmax'))\n",
        "model.compile(loss = 'binary_crossentropy', \n",
        "optimizer='adam',metrics = ['accuracy'])\n",
        "model.fit(train_data, labels_train,  batch_size=16,  epochs=5,  validation_data=(test_data, labels_test))"
      ],
      "metadata": {
        "id": "E5uHBJjxqMsj"
      },
      "execution_count": null,
      "outputs": []
    },
    {
      "cell_type": "code",
      "source": [
        "#prediction on text data\n",
        "predicted_lstm=model.predict(test_data)\n",
        "predicted_lstm"
      ],
      "metadata": {
        "id": "Wf-IvwgSqMu4"
      },
      "execution_count": null,
      "outputs": []
    },
    {
      "cell_type": "code",
      "source": [
        "#model evaluation\n",
        "from sklearn.metrics import precision_recall_fscore_support as score\n",
        "\n",
        "precision, recall, fscore, support = score(labels_test, predicted_lstm.round())\n",
        "\n",
        "print('precision: {}'.format(precision))\n",
        "print('recall: {}'.format(recall))\n",
        "print('fscore: {}'.format(fscore))\n",
        "print('support: {}'.format(support))\n",
        "print(\"############################\")\n",
        "print(sklearn.metrics.classification_report(labels_test, predicted_lstm.round()))"
      ],
      "metadata": {
        "id": "F9pTvZJCqMxW"
      },
      "execution_count": null,
      "outputs": []
    },
    {
      "cell_type": "markdown",
      "source": [
        "### Define Bidirectional LSTM"
      ],
      "metadata": {
        "id": "vpCVzJb7tMXi"
      }
    },
    {
      "cell_type": "code",
      "source": [
        "#model training\n",
        "print('Training Bidirectional LSTM model.') \n",
        "model = Sequential()\n",
        "model.add(Embedding(MAX_NB_WORDS,  EMBEDDING_DIM,  input_length=MAX_SEQUENCE_LENGTH))\n",
        "model.add(Bidirectional(LSTM(16, return_sequences=True, dropout=0.1, recurrent_dropout=0.1)))\n",
        "model.add(Conv1D(16, kernel_size = 3, padding = \"valid\", kernel_initializer = \"glorot_uniform\"))\n",
        "model.add(GlobalMaxPool1D())\n",
        "model.add(Dense(50, activation=\"relu\"))\n",
        "model.add(Dropout(0.1))\n",
        "model.add(Dense(2,activation='softmax'))\n",
        "model.compile(loss = 'binary_crossentropy', \n",
        "optimizer='adam',metrics = ['accuracy'])\n",
        "model.fit(train_data, labels_train,  batch_size=16,  epochs=3,  validation_data=(test_data, labels_test))"
      ],
      "metadata": {
        "id": "eqplalMuqM0q"
      },
      "execution_count": null,
      "outputs": []
    },
    {
      "cell_type": "code",
      "source": [
        "# prediction on test data\n",
        "predicted_blstm=model.predict(test_data) \n",
        "predicted_blstm"
      ],
      "metadata": {
        "id": "YO_XrUFwqNJx"
      },
      "execution_count": null,
      "outputs": []
    },
    {
      "cell_type": "code",
      "source": [
        "#model evaluation\n",
        "from sklearn.metrics import precision_recall_fscore_support as score\n",
        "\n",
        "precision, recall, fscore, support = score(labels_test, predicted_blstm.round())\n",
        "\n",
        "print('precision: {}'.format(precision))\n",
        "print('recall: {}'.format(recall))\n",
        "print('fscore: {}'.format(fscore))\n",
        "print('support: {}'.format(support))\n",
        "print(\"############################\")\n",
        "\n",
        "print(sklearn.metrics.classification_report(labels_test, predicted_blstm.round()))"
      ],
      "metadata": {
        "id": "JbHFmJ2lzzW2"
      },
      "execution_count": null,
      "outputs": []
    },
    {
      "cell_type": "code",
      "source": [],
      "metadata": {
        "id": "WZadVHcdtx5D"
      },
      "execution_count": null,
      "outputs": []
    },
    {
      "cell_type": "code",
      "source": [],
      "metadata": {
        "id": "hIWRItJmtx8J"
      },
      "execution_count": null,
      "outputs": []
    },
    {
      "cell_type": "code",
      "source": [],
      "metadata": {
        "id": "zcQnfMgItx_S"
      },
      "execution_count": null,
      "outputs": []
    },
    {
      "cell_type": "code",
      "source": [],
      "metadata": {
        "id": "qG6hSQ3_tyCP"
      },
      "execution_count": null,
      "outputs": []
    },
    {
      "cell_type": "code",
      "source": [],
      "metadata": {
        "id": "it6JAhQXtyFV"
      },
      "execution_count": null,
      "outputs": []
    },
    {
      "cell_type": "code",
      "source": [],
      "metadata": {
        "id": "C9WNBe_NtyIB"
      },
      "execution_count": null,
      "outputs": []
    },
    {
      "cell_type": "code",
      "source": [],
      "metadata": {
        "id": "zNEQXE4ftyLA"
      },
      "execution_count": null,
      "outputs": []
    },
    {
      "cell_type": "code",
      "source": [],
      "metadata": {
        "id": "eHlAAcLXtyNs"
      },
      "execution_count": null,
      "outputs": []
    },
    {
      "cell_type": "code",
      "source": [],
      "metadata": {
        "id": "3h0n3FPVtyRS"
      },
      "execution_count": null,
      "outputs": []
    },
    {
      "cell_type": "code",
      "execution_count": null,
      "metadata": {
        "id": "nAhrvcvcQYIw"
      },
      "outputs": [],
      "source": [
        "model = \"https://tfhub.dev/google/nnlm-en-dim50/2\"\n",
        "hub_layer = hub.KerasLayer(model, input_shape=[], dtype=tf.string, trainable=True)"
      ]
    },
    {
      "cell_type": "code",
      "execution_count": null,
      "metadata": {
        "colab": {
          "base_uri": "https://localhost:8080/"
        },
        "id": "_sm8TLmWQc7P",
        "outputId": "4943eeaa-af97-4527-e442-e6d65a600b73"
      },
      "outputs": [
        {
          "name": "stdout",
          "output_type": "stream",
          "text": [
            "Model: \"sequential\"\n",
            "_________________________________________________________________\n",
            " Layer (type)                Output Shape              Param #   \n",
            "=================================================================\n",
            " keras_layer (KerasLayer)    (None, 50)                48190600  \n",
            "                                                                 \n",
            " dense (Dense)               (None, 16)                816       \n",
            "                                                                 \n",
            " dense_1 (Dense)             (None, 1)                 17        \n",
            "                                                                 \n",
            "=================================================================\n",
            "Total params: 48,191,433\n",
            "Trainable params: 48,191,433\n",
            "Non-trainable params: 0\n",
            "_________________________________________________________________\n"
          ]
        }
      ],
      "source": [
        "model = tf.keras.Sequential()\n",
        "model.add(hub_layer)\n",
        "model.add(tf.keras.layers.Dense(16, activation='relu'))\n",
        "model.add(tf.keras.layers.Dense(1))\n",
        "\n",
        "model.summary()"
      ]
    },
    {
      "cell_type": "code",
      "execution_count": null,
      "metadata": {
        "id": "aRl7xY58QhAy"
      },
      "outputs": [],
      "source": [
        "model.compile(optimizer='adam',\n",
        "              loss=tf.losses.BinaryCrossentropy(from_logits=True),\n",
        "              metrics=[tf.metrics.BinaryAccuracy(threshold=0.0, name='accuracy')])"
      ]
    },
    {
      "cell_type": "code",
      "execution_count": null,
      "metadata": {
        "colab": {
          "base_uri": "https://localhost:8080/"
        },
        "id": "OZC9LeKtQmoj",
        "outputId": "da70e974-4e05-46a3-9cc5-a4e8d28cff16"
      },
      "outputs": [
        {
          "data": {
            "text/plain": [
              "15000"
            ]
          },
          "execution_count": 29,
          "metadata": {},
          "output_type": "execute_result"
        },
        {
          "name": "stdout",
          "output_type": "stream",
          "text": [
            "\n"
          ]
        },
        {
          "data": {
            "text/plain": [
              "18673"
            ]
          },
          "execution_count": 29,
          "metadata": {},
          "output_type": "execute_result"
        },
        {
          "name": "stdout",
          "output_type": "stream",
          "text": [
            "\n"
          ]
        },
        {
          "data": {
            "text/plain": [
              "15000"
            ]
          },
          "execution_count": 29,
          "metadata": {},
          "output_type": "execute_result"
        },
        {
          "name": "stdout",
          "output_type": "stream",
          "text": [
            "\n"
          ]
        },
        {
          "data": {
            "text/plain": [
              "18673"
            ]
          },
          "execution_count": 29,
          "metadata": {},
          "output_type": "execute_result"
        }
      ],
      "source": [
        "x_val = x_train[:15000]\n",
        "partial_x_train = x_train[15000:]\n",
        "\n",
        "y_val = y_train[:15000]\n",
        "partial_y_train = y_train[15000:]\n",
        "\n",
        "x_val.size\n",
        "print()\n",
        "partial_x_train.size\n",
        "print()\n",
        "y_val.size\n",
        "print()\n",
        "partial_y_train.size"
      ]
    },
    {
      "cell_type": "code",
      "execution_count": null,
      "metadata": {
        "colab": {
          "background_save": true,
          "base_uri": "https://localhost:8080/"
        },
        "id": "Y18h6iOwQ0Wl",
        "outputId": "dd4ab757-7061-489e-91e5-20e17359f169"
      },
      "outputs": [
        {
          "name": "stdout",
          "output_type": "stream",
          "text": [
            "Epoch 1/30\n",
            "38/38 [==============================] - 32s 787ms/step - loss: 0.4928 - accuracy: 0.8180 - val_loss: 0.3115 - val_accuracy: 0.9211\n",
            "Epoch 2/30\n",
            "38/38 [==============================] - 26s 677ms/step - loss: 0.2264 - accuracy: 0.9418 - val_loss: 0.1661 - val_accuracy: 0.9562\n",
            "Epoch 3/30\n",
            "38/38 [==============================] - 26s 687ms/step - loss: 0.1219 - accuracy: 0.9713 - val_loss: 0.1047 - val_accuracy: 0.9733\n",
            "Epoch 4/30\n",
            "38/38 [==============================] - 26s 687ms/step - loss: 0.0712 - accuracy: 0.9850 - val_loss: 0.0742 - val_accuracy: 0.9795\n",
            "Epoch 5/30\n",
            "38/38 [==============================] - 26s 690ms/step - loss: 0.0437 - accuracy: 0.9924 - val_loss: 0.0580 - val_accuracy: 0.9843\n",
            "Epoch 6/30\n",
            "38/38 [==============================] - 26s 691ms/step - loss: 0.0279 - accuracy: 0.9965 - val_loss: 0.0481 - val_accuracy: 0.9868\n",
            "Epoch 7/30\n",
            "38/38 [==============================] - 26s 692ms/step - loss: 0.0186 - accuracy: 0.9979 - val_loss: 0.0425 - val_accuracy: 0.9879\n",
            "Epoch 8/30\n",
            "38/38 [==============================] - 26s 694ms/step - loss: 0.0126 - accuracy: 0.9989 - val_loss: 0.0390 - val_accuracy: 0.9890\n",
            "Epoch 9/30\n",
            "38/38 [==============================] - 27s 701ms/step - loss: 0.0089 - accuracy: 0.9994 - val_loss: 0.0368 - val_accuracy: 0.9896\n",
            "Epoch 10/30\n",
            "38/38 [==============================] - 27s 705ms/step - loss: 0.0065 - accuracy: 0.9998 - val_loss: 0.0355 - val_accuracy: 0.9899\n",
            "Epoch 11/30\n",
            "38/38 [==============================] - 27s 710ms/step - loss: 0.0048 - accuracy: 0.9999 - val_loss: 0.0347 - val_accuracy: 0.9900\n",
            "Epoch 12/30\n",
            "38/38 [==============================] - 27s 709ms/step - loss: 0.0038 - accuracy: 0.9999 - val_loss: 0.0343 - val_accuracy: 0.9900\n",
            "Epoch 13/30\n",
            "38/38 [==============================] - 27s 701ms/step - loss: 0.0030 - accuracy: 1.0000 - val_loss: 0.0340 - val_accuracy: 0.9899\n",
            "Epoch 14/30\n",
            "38/38 [==============================] - 27s 701ms/step - loss: 0.0024 - accuracy: 1.0000 - val_loss: 0.0337 - val_accuracy: 0.9904\n",
            "Epoch 15/30\n",
            "38/38 [==============================] - 26s 699ms/step - loss: 0.0020 - accuracy: 1.0000 - val_loss: 0.0337 - val_accuracy: 0.9902\n",
            "Epoch 16/30\n",
            "38/38 [==============================] - 26s 698ms/step - loss: 0.0017 - accuracy: 1.0000 - val_loss: 0.0337 - val_accuracy: 0.9901\n",
            "Epoch 17/30\n",
            "38/38 [==============================] - 26s 695ms/step - loss: 0.0015 - accuracy: 1.0000 - val_loss: 0.0337 - val_accuracy: 0.9903\n",
            "Epoch 18/30\n",
            "38/38 [==============================] - 26s 686ms/step - loss: 0.0013 - accuracy: 1.0000 - val_loss: 0.0337 - val_accuracy: 0.9903\n",
            "Epoch 19/30\n",
            "38/38 [==============================] - 26s 689ms/step - loss: 0.0011 - accuracy: 1.0000 - val_loss: 0.0339 - val_accuracy: 0.9901\n",
            "Epoch 20/30\n",
            "38/38 [==============================] - 26s 677ms/step - loss: 9.8944e-04 - accuracy: 1.0000 - val_loss: 0.0338 - val_accuracy: 0.9903\n",
            "Epoch 21/30\n",
            "38/38 [==============================] - 26s 693ms/step - loss: 8.7787e-04 - accuracy: 1.0000 - val_loss: 0.0339 - val_accuracy: 0.9902\n",
            "Epoch 22/30\n",
            "38/38 [==============================] - 26s 690ms/step - loss: 7.8510e-04 - accuracy: 1.0000 - val_loss: 0.0341 - val_accuracy: 0.9903\n",
            "Epoch 23/30\n",
            "38/38 [==============================] - 26s 690ms/step - loss: 7.0508e-04 - accuracy: 1.0000 - val_loss: 0.0341 - val_accuracy: 0.9904\n",
            "Epoch 24/30\n",
            "38/38 [==============================] - 29s 760ms/step - loss: 6.3751e-04 - accuracy: 1.0000 - val_loss: 0.0342 - val_accuracy: 0.9905\n",
            "Epoch 25/30\n",
            "38/38 [==============================] - 26s 689ms/step - loss: 5.7872e-04 - accuracy: 1.0000 - val_loss: 0.0343 - val_accuracy: 0.9903\n",
            "Epoch 26/30\n",
            "38/38 [==============================] - 26s 682ms/step - loss: 5.2811e-04 - accuracy: 1.0000 - val_loss: 0.0344 - val_accuracy: 0.9903\n",
            "Epoch 27/30\n",
            "38/38 [==============================] - 26s 695ms/step - loss: 4.8284e-04 - accuracy: 1.0000 - val_loss: 0.0345 - val_accuracy: 0.9903\n",
            "Epoch 28/30\n",
            "38/38 [==============================] - 26s 699ms/step - loss: 4.4396e-04 - accuracy: 1.0000 - val_loss: 0.0346 - val_accuracy: 0.9904\n",
            "Epoch 29/30\n",
            "38/38 [==============================] - 26s 694ms/step - loss: 4.0878e-04 - accuracy: 1.0000 - val_loss: 0.0348 - val_accuracy: 0.9904\n",
            "Epoch 30/30\n",
            "38/38 [==============================] - 26s 691ms/step - loss: 3.7772e-04 - accuracy: 1.0000 - val_loss: 0.0349 - val_accuracy: 0.9904\n"
          ]
        }
      ],
      "source": [
        "history = model.fit(partial_x_train,\n",
        "                    partial_y_train,\n",
        "                    epochs=30,\n",
        "                    batch_size=500,\n",
        "                    validation_data=(x_val, y_val),\n",
        "                    verbose=1)"
      ]
    },
    {
      "cell_type": "code",
      "execution_count": null,
      "metadata": {
        "id": "8N08bw6BRE_9",
        "colab": {
          "base_uri": "https://localhost:8080/"
        },
        "outputId": "89ca8465-d56a-4bcd-b8f1-f675335dfc5a"
      },
      "outputs": [
        {
          "output_type": "stream",
          "name": "stdout",
          "text": [
            "351/351 [==============================] - 28s 80ms/step - loss: 0.0308 - accuracy: 0.9911\n",
            "[0.030804041773080826, 0.9910913109779358]\n"
          ]
        }
      ],
      "source": [
        "results = model.evaluate(x_test, y_test)\n",
        "\n",
        "print(results)"
      ]
    },
    {
      "cell_type": "markdown",
      "source": [
        "### <font color=\"blue\">**Model accuracy is - 99.1%**</font>"
      ],
      "metadata": {
        "id": "Ax1KwkMcVLJc"
      }
    },
    {
      "cell_type": "code",
      "source": [
        "history_dict = history.history\n",
        "history_dict.keys()"
      ],
      "metadata": {
        "colab": {
          "base_uri": "https://localhost:8080/"
        },
        "id": "YRSlsfHNUexK",
        "outputId": "4b9bc5e4-370a-41bf-ba1d-696d67d2807e"
      },
      "execution_count": null,
      "outputs": [
        {
          "output_type": "execute_result",
          "data": {
            "text/plain": [
              "dict_keys(['loss', 'accuracy', 'val_loss', 'val_accuracy'])"
            ]
          },
          "metadata": {},
          "execution_count": 32
        }
      ]
    },
    {
      "cell_type": "code",
      "source": [
        "acc = history_dict['accuracy']\n",
        "val_acc = history_dict['val_accuracy']\n",
        "loss = history_dict['loss']\n",
        "val_loss = history_dict['val_loss']\n",
        "\n",
        "epochs = range(1, len(acc) + 1)\n",
        "\n",
        "# \"bo\" is for \"blue dot\"\n",
        "plt.plot(epochs, loss, 'bo', label='Training loss')\n",
        "# b is for \"solid blue line\"\n",
        "plt.plot(epochs, val_loss, 'b', label='Validation loss')\n",
        "plt.title('Training and validation loss')\n",
        "plt.xlabel('Epochs')\n",
        "plt.ylabel('Loss')\n",
        "plt.legend()\n",
        "\n",
        "plt.show()"
      ],
      "metadata": {
        "colab": {
          "base_uri": "https://localhost:8080/",
          "height": 330
        },
        "id": "kt9IK-GcUyib",
        "outputId": "a021283b-4bd5-4988-c308-e0f7c9874ab5"
      },
      "execution_count": null,
      "outputs": [
        {
          "output_type": "execute_result",
          "data": {
            "text/plain": [
              "[<matplotlib.lines.Line2D at 0x7f0554a28110>]"
            ]
          },
          "metadata": {},
          "execution_count": 33
        },
        {
          "output_type": "execute_result",
          "data": {
            "text/plain": [
              "[<matplotlib.lines.Line2D at 0x7f0554a275d0>]"
            ]
          },
          "metadata": {},
          "execution_count": 33
        },
        {
          "output_type": "execute_result",
          "data": {
            "text/plain": [
              "Text(0.5, 1.0, 'Training and validation loss')"
            ]
          },
          "metadata": {},
          "execution_count": 33
        },
        {
          "output_type": "execute_result",
          "data": {
            "text/plain": [
              "Text(0.5, 0, 'Epochs')"
            ]
          },
          "metadata": {},
          "execution_count": 33
        },
        {
          "output_type": "execute_result",
          "data": {
            "text/plain": [
              "Text(0, 0.5, 'Loss')"
            ]
          },
          "metadata": {},
          "execution_count": 33
        },
        {
          "output_type": "execute_result",
          "data": {
            "text/plain": [
              "<matplotlib.legend.Legend at 0x7f0554a27850>"
            ]
          },
          "metadata": {},
          "execution_count": 33
        },
        {
          "output_type": "display_data",
          "data": {
            "text/plain": [
              "<Figure size 432x288 with 1 Axes>"
            ],
            "image/png": "[encoded data removed]"
          },
          "metadata": {
            "needs_background": "light"
          }
        }
      ]
    },
    {
      "cell_type": "code",
      "source": [
        "plt.clf()   # clear figure\n",
        "\n",
        "plt.plot(epochs, acc, 'bo', label='Training acc')\n",
        "plt.plot(epochs, val_acc, 'b', label='Validation acc')\n",
        "plt.title('Training and validation accuracy')\n",
        "plt.xlabel('Epochs')\n",
        "plt.ylabel('Accuracy')\n",
        "plt.legend()\n",
        "\n",
        "plt.show()"
      ],
      "metadata": {
        "colab": {
          "base_uri": "https://localhost:8080/",
          "height": 330
        },
        "id": "JRPvgglIU2Ja",
        "outputId": "3a904578-ce2b-481f-800c-2af725ffecee"
      },
      "execution_count": null,
      "outputs": [
        {
          "output_type": "execute_result",
          "data": {
            "text/plain": [
              "[<matplotlib.lines.Line2D at 0x7f0554b52750>]"
            ]
          },
          "metadata": {},
          "execution_count": 34
        },
        {
          "output_type": "execute_result",
          "data": {
            "text/plain": [
              "[<matplotlib.lines.Line2D at 0x7f0554b52c10>]"
            ]
          },
          "metadata": {},
          "execution_count": 34
        },
        {
          "output_type": "execute_result",
          "data": {
            "text/plain": [
              "Text(0.5, 1.0, 'Training and validation accuracy')"
            ]
          },
          "metadata": {},
          "execution_count": 34
        },
        {
          "output_type": "execute_result",
          "data": {
            "text/plain": [
              "Text(0.5, 0, 'Epochs')"
            ]
          },
          "metadata": {},
          "execution_count": 34
        },
        {
          "output_type": "execute_result",
          "data": {
            "text/plain": [
              "Text(0, 0.5, 'Accuracy')"
            ]
          },
          "metadata": {},
          "execution_count": 34
        },
        {
          "output_type": "execute_result",
          "data": {
            "text/plain": [
              "<matplotlib.legend.Legend at 0x7f0554a27b50>"
            ]
          },
          "metadata": {},
          "execution_count": 34
        },
        {
          "output_type": "display_data",
          "data": {
            "text/plain": [
              "<Figure size 432x288 with 1 Axes>"
            ],
            "image/png": "[encoded data removed]"
          },
          "metadata": {
            "needs_background": "light"
          }
        }
      ]
    },
    {
      "cell_type": "code",
      "source": [],
      "metadata": {
        "id": "HvDr6E5RU-rH"
      },
      "execution_count": null,
      "outputs": []
    }
  ],
  "metadata": {
    "colab": {
      "provenance": []
    },
    "kernelspec": {
      "display_name": "Python 3",
      "name": "python3"
    },
    "language_info": {
      "name": "python"
    },
    "accelerator": "GPU",
    "gpuClass": "standard"
  },
  "nbformat": 4,
  "nbformat_minor": 0
}