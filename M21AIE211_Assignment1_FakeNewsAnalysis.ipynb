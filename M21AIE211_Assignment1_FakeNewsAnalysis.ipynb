{
  "cells": [
    {
      "cell_type": "markdown",
      "source": [
        "#<font color='brown'>**Fake News Analysis**</font>\n",
        "\n",
        "\n",
        "<html><head><meta content=\"text/html; charset=UTF-8\" http-equiv=\"content-type\"><style type=\"text/css\">@import url('https://themes.googleusercontent.com/fonts/css?kit=fpjTOVmNbO4Lz34iLyptLUXza5VhXqVC6o75Eld_V98');ol.lst-kix_9a6ry7a1ii44-1.start{counter-reset:lst-ctn-kix_9a6ry7a1ii44-1 0}ol.lst-kix_jjdsisnnaeo4-7{list-style-type:none}ol.lst-kix_jjdsisnnaeo4-8{list-style-type:none}.lst-kix_mlr37z1jswq9-7>li{counter-increment:lst-ctn-kix_mlr37z1jswq9-7}ol.lst-kix_7rsp6vwkllwp-2.start{counter-reset:lst-ctn-kix_7rsp6vwkllwp-2 0}ol.lst-kix_jjdsisnnaeo4-5{list-style-type:none}ol.lst-kix_jjdsisnnaeo4-6{list-style-type:none}.lst-kix_dj1d9x2iyizn-7>li{counter-increment:lst-ctn-kix_dj1d9x2iyizn-7}ol.lst-kix_en7m7wfchoau-3.start{counter-reset:lst-ctn-kix_en7m7wfchoau-3 0}ol.lst-kix_bikt0ydiqedt-1.start{counter-reset:lst-ctn-kix_bikt0ydiqedt-1 0}.lst-kix_vjqinyiydwww-1>li{counter-increment:lst-ctn-kix_vjqinyiydwww-1}ol.lst-kix_jjdsisnnaeo4-3.start{counter-reset:lst-ctn-kix_jjdsisnnaeo4-3 0}ol.lst-kix_dj1d9x2iyizn-2.start{counter-reset:lst-ctn-kix_dj1d9x2iyizn-2 0}ol.lst-kix_7rsp6vwkllwp-7{list-style-type:none}ol.lst-kix_7rsp6vwkllwp-6{list-style-type:none}ol.lst-kix_7rsp6vwkllwp-8.start{counter-reset:lst-ctn-kix_7rsp6vwkllwp-8 0}.lst-kix_en7m7wfchoau-7>li{counter-increment:lst-ctn-kix_en7m7wfchoau-7}ol.lst-kix_f1g35hczp9ms-4.start{counter-reset:lst-ctn-kix_f1g35hczp9ms-4 0}ol.lst-kix_7rsp6vwkllwp-8{list-style-type:none}ol.lst-kix_7rsp6vwkllwp-3{list-style-type:none}ol.lst-kix_7rsp6vwkllwp-2{list-style-type:none}.lst-kix_f1g35hczp9ms-0>li{counter-increment:lst-ctn-kix_f1g35hczp9ms-0}ol.lst-kix_7rsp6vwkllwp-5{list-style-type:none}ol.lst-kix_vjqinyiydwww-5.start{counter-reset:lst-ctn-kix_vjqinyiydwww-5 0}ol.lst-kix_7rsp6vwkllwp-4{list-style-type:none}ol.lst-kix_dj1d9x2iyizn-2{list-style-type:none}ol.lst-kix_dj1d9x2iyizn-3{list-style-type:none}ol.lst-kix_dj1d9x2iyizn-0{list-style-type:none}ol.lst-kix_jlmg7gykri7u-7.start{counter-reset:lst-ctn-kix_jlmg7gykri7u-7 0}ol.lst-kix_dj1d9x2iyizn-1{list-style-type:none}ol.lst-kix_mlr37z1jswq9-3.start{counter-reset:lst-ctn-kix_mlr37z1jswq9-3 0}ol.lst-kix_jjdsisnnaeo4-0{list-style-type:none}ol.lst-kix_jjdsisnnaeo4-3{list-style-type:none}ol.lst-kix_jjdsisnnaeo4-4{list-style-type:none}ol.lst-kix_jjdsisnnaeo4-1{list-style-type:none}ol.lst-kix_jjdsisnnaeo4-2{list-style-type:none}.lst-kix_jlmg7gykri7u-5>li{counter-increment:lst-ctn-kix_jlmg7gykri7u-5}ol.lst-kix_dj1d9x2iyizn-6{list-style-type:none}ol.lst-kix_dj1d9x2iyizn-7{list-style-type:none}.lst-kix_bikt0ydiqedt-0>li{counter-increment:lst-ctn-kix_bikt0ydiqedt-0}ol.lst-kix_jlmg7gykri7u-1.start{counter-reset:lst-ctn-kix_jlmg7gykri7u-1 0}ol.lst-kix_dj1d9x2iyizn-4{list-style-type:none}ol.lst-kix_dj1d9x2iyizn-5{list-style-type:none}.lst-kix_7rsp6vwkllwp-4>li{counter-increment:lst-ctn-kix_7rsp6vwkllwp-4}ol.lst-kix_bikt0ydiqedt-7.start{counter-reset:lst-ctn-kix_bikt0ydiqedt-7 0}ol.lst-kix_dj1d9x2iyizn-8{list-style-type:none}.lst-kix_9a6ry7a1ii44-1>li{counter-increment:lst-ctn-kix_9a6ry7a1ii44-1}.lst-kix_jlmg7gykri7u-1>li{counter-increment:lst-ctn-kix_jlmg7gykri7u-1}ol.lst-kix_7rsp6vwkllwp-7.start{counter-reset:lst-ctn-kix_7rsp6vwkllwp-7 0}.lst-kix_9a6ry7a1ii44-3>li{counter-increment:lst-ctn-kix_9a6ry7a1ii44-3}ol.lst-kix_jjdsisnnaeo4-2.start{counter-reset:lst-ctn-kix_jjdsisnnaeo4-2 0}.lst-kix_vjqinyiydwww-3>li{counter-increment:lst-ctn-kix_vjqinyiydwww-3}.lst-kix_7rsp6vwkllwp-2>li{counter-increment:lst-ctn-kix_7rsp6vwkllwp-2}ol.lst-kix_bikt0ydiqedt-0.start{counter-reset:lst-ctn-kix_bikt0ydiqedt-0 0}ol.lst-kix_dj1d9x2iyizn-7.start{counter-reset:lst-ctn-kix_dj1d9x2iyizn-7 0}ol.lst-kix_bikt0ydiqedt-6.start{counter-reset:lst-ctn-kix_bikt0ydiqedt-6 0}ol.lst-kix_vjqinyiydwww-0.start{counter-reset:lst-ctn-kix_vjqinyiydwww-0 0}ol.lst-kix_jlmg7gykri7u-0.start{counter-reset:lst-ctn-kix_jlmg7gykri7u-0 0}ol.lst-kix_jjdsisnnaeo4-8.start{counter-reset:lst-ctn-kix_jjdsisnnaeo4-8 0}.lst-kix_jlmg7gykri7u-7>li{counter-increment:lst-ctn-kix_jlmg7gykri7u-7}.lst-kix_bikt0ydiqedt-2>li{counter-increment:lst-ctn-kix_bikt0ydiqedt-2}.lst-kix_dj1d9x2iyizn-3>li{counter-increment:lst-ctn-kix_dj1d9x2iyizn-3}.lst-kix_bikt0ydiqedt-5>li{counter-increment:lst-ctn-kix_bikt0ydiqedt-5}.lst-kix_f1g35hczp9ms-2>li{counter-increment:lst-ctn-kix_f1g35hczp9ms-2}ol.lst-kix_en7m7wfchoau-4.start{counter-reset:lst-ctn-kix_en7m7wfchoau-4 0}.lst-kix_dj1d9x2iyizn-0>li{counter-increment:lst-ctn-kix_dj1d9x2iyizn-0}.lst-kix_7rsp6vwkllwp-8>li{counter-increment:lst-ctn-kix_7rsp6vwkllwp-8}ol.lst-kix_dj1d9x2iyizn-1.start{counter-reset:lst-ctn-kix_dj1d9x2iyizn-1 0}ol.lst-kix_dj1d9x2iyizn-8.start{counter-reset:lst-ctn-kix_dj1d9x2iyizn-8 0}ol.lst-kix_f1g35hczp9ms-3.start{counter-reset:lst-ctn-kix_f1g35hczp9ms-3 0}.lst-kix_jjdsisnnaeo4-7>li{counter-increment:lst-ctn-kix_jjdsisnnaeo4-7}ol.lst-kix_bikt0ydiqedt-5{list-style-type:none}ol.lst-kix_bikt0ydiqedt-6{list-style-type:none}ol.lst-kix_bikt0ydiqedt-7{list-style-type:none}.lst-kix_mlr37z1jswq9-5>li{counter-increment:lst-ctn-kix_mlr37z1jswq9-5}ol.lst-kix_bikt0ydiqedt-8{list-style-type:none}ol.lst-kix_jlmg7gykri7u-6.start{counter-reset:lst-ctn-kix_jlmg7gykri7u-6 0}ol.lst-kix_bikt0ydiqedt-0{list-style-type:none}ol.lst-kix_bikt0ydiqedt-1{list-style-type:none}ol.lst-kix_mlr37z1jswq9-4.start{counter-reset:lst-ctn-kix_mlr37z1jswq9-4 0}.lst-kix_en7m7wfchoau-1>li{counter-increment:lst-ctn-kix_en7m7wfchoau-1}ol.lst-kix_bikt0ydiqedt-2{list-style-type:none}.lst-kix_7rsp6vwkllwp-8>li:before{content:\"\" counter(lst-ctn-kix_7rsp6vwkllwp-8,lower-roman) \". \"}ol.lst-kix_bikt0ydiqedt-3{list-style-type:none}ol.lst-kix_bikt0ydiqedt-4{list-style-type:none}.lst-kix_7rsp6vwkllwp-6>li:before{content:\"\" counter(lst-ctn-kix_7rsp6vwkllwp-6,decimal) \". \"}.lst-kix_jjdsisnnaeo4-2>li{counter-increment:lst-ctn-kix_jjdsisnnaeo4-2}ol.lst-kix_bikt0ydiqedt-5.start{counter-reset:lst-ctn-kix_bikt0ydiqedt-5 0}.lst-kix_dj1d9x2iyizn-2>li{counter-increment:lst-ctn-kix_dj1d9x2iyizn-2}ol.lst-kix_jlmg7gykri7u-5.start{counter-reset:lst-ctn-kix_jlmg7gykri7u-5 0}.lst-kix_7rsp6vwkllwp-2>li:before{content:\"\" counter(lst-ctn-kix_7rsp6vwkllwp-2,lower-roman) \". \"}.lst-kix_vjqinyiydwww-7>li{counter-increment:lst-ctn-kix_vjqinyiydwww-7}.lst-kix_bikt0ydiqedt-4>li{counter-increment:lst-ctn-kix_bikt0ydiqedt-4}.lst-kix_dj1d9x2iyizn-1>li{counter-increment:lst-ctn-kix_dj1d9x2iyizn-1}.lst-kix_7rsp6vwkllwp-0>li:before{content:\"\" counter(lst-ctn-kix_7rsp6vwkllwp-0,decimal) \". \"}.lst-kix_7rsp6vwkllwp-4>li:before{content:\"\" counter(lst-ctn-kix_7rsp6vwkllwp-4,lower-latin) \". \"}ol.lst-kix_9a6ry7a1ii44-0.start{counter-reset:lst-ctn-kix_9a6ry7a1ii44-0 0}ol.lst-kix_en7m7wfchoau-0{list-style-type:none}ol.lst-kix_en7m7wfchoau-1{list-style-type:none}.lst-kix_bikt0ydiqedt-4>li:before{content:\"\" counter(lst-ctn-kix_bikt0ydiqedt-4,lower-latin) \". \"}.lst-kix_bikt0ydiqedt-6>li:before{content:\"\" counter(lst-ctn-kix_bikt0ydiqedt-6,decimal) \". \"}ol.lst-kix_en7m7wfchoau-2{list-style-type:none}.lst-kix_dj1d9x2iyizn-8>li:before{content:\"\" counter(lst-ctn-kix_dj1d9x2iyizn-8,lower-roman) \". \"}ol.lst-kix_en7m7wfchoau-3{list-style-type:none}ol.lst-kix_en7m7wfchoau-4{list-style-type:none}ol.lst-kix_jjdsisnnaeo4-1.start{counter-reset:lst-ctn-kix_jjdsisnnaeo4-1 0}ol.lst-kix_en7m7wfchoau-5{list-style-type:none}ol.lst-kix_en7m7wfchoau-6{list-style-type:none}.lst-kix_jjdsisnnaeo4-3>li{counter-increment:lst-ctn-kix_jjdsisnnaeo4-3}ol.lst-kix_en7m7wfchoau-7{list-style-type:none}ol.lst-kix_en7m7wfchoau-8{list-style-type:none}.lst-kix_jlmg7gykri7u-8>li{counter-increment:lst-ctn-kix_jlmg7gykri7u-8}ol.lst-kix_9a6ry7a1ii44-2.start{counter-reset:lst-ctn-kix_9a6ry7a1ii44-2 0}.lst-kix_dj1d9x2iyizn-6>li:before{content:\"\" counter(lst-ctn-kix_dj1d9x2iyizn-6,decimal) \". \"}ol.lst-kix_7rsp6vwkllwp-1.start{counter-reset:lst-ctn-kix_7rsp6vwkllwp-1 0}ol.lst-kix_dj1d9x2iyizn-6.start{counter-reset:lst-ctn-kix_dj1d9x2iyizn-6 0}.lst-kix_en7m7wfchoau-3>li{counter-increment:lst-ctn-kix_en7m7wfchoau-3}ol.lst-kix_f1g35hczp9ms-8.start{counter-reset:lst-ctn-kix_f1g35hczp9ms-8 0}.lst-kix_mlr37z1jswq9-1>li{counter-increment:lst-ctn-kix_mlr37z1jswq9-1}ol.lst-kix_vjqinyiydwww-6.start{counter-reset:lst-ctn-kix_vjqinyiydwww-6 0}.lst-kix_9a6ry7a1ii44-7>li{counter-increment:lst-ctn-kix_9a6ry7a1ii44-7}.lst-kix_bikt0ydiqedt-3>li{counter-increment:lst-ctn-kix_bikt0ydiqedt-3}ol.lst-kix_dj1d9x2iyizn-3.start{counter-reset:lst-ctn-kix_dj1d9x2iyizn-3 0}.lst-kix_bikt0ydiqedt-0>li:before{content:\"\" counter(lst-ctn-kix_bikt0ydiqedt-0,decimal) \". \"}.lst-kix_bikt0ydiqedt-2>li:before{content:\"\" counter(lst-ctn-kix_bikt0ydiqedt-2,lower-roman) \". \"}ol.lst-kix_7rsp6vwkllwp-4.start{counter-reset:lst-ctn-kix_7rsp6vwkllwp-4 0}.lst-kix_7rsp6vwkllwp-1>li{counter-increment:lst-ctn-kix_7rsp6vwkllwp-1}ol.lst-kix_f1g35hczp9ms-5.start{counter-reset:lst-ctn-kix_f1g35hczp9ms-5 0}ol.lst-kix_jlmg7gykri7u-3.start{counter-reset:lst-ctn-kix_jlmg7gykri7u-3 0}ol.lst-kix_en7m7wfchoau-8.start{counter-reset:lst-ctn-kix_en7m7wfchoau-8 0}.lst-kix_jlmg7gykri7u-4>li:before{content:\"\" counter(lst-ctn-kix_jlmg7gykri7u-4,lower-roman) \". \"}.lst-kix_jlmg7gykri7u-8>li:before{content:\"\" counter(lst-ctn-kix_jlmg7gykri7u-8,decimal) \". \"}.lst-kix_mlr37z1jswq9-1>li:before{content:\"\" counter(lst-ctn-kix_mlr37z1jswq9-1,lower-latin) \". \"}ol.lst-kix_mlr37z1jswq9-2.start{counter-reset:lst-ctn-kix_mlr37z1jswq9-2 0}.lst-kix_7rsp6vwkllwp-7>li{counter-increment:lst-ctn-kix_7rsp6vwkllwp-7}.lst-kix_vjqinyiydwww-4>li:before{content:\"\" counter(lst-ctn-kix_vjqinyiydwww-4,lower-latin) \". \"}.lst-kix_vjqinyiydwww-8>li:before{content:\"\" counter(lst-ctn-kix_vjqinyiydwww-8,lower-roman) \". \"}ol.lst-kix_vjqinyiydwww-3.start{counter-reset:lst-ctn-kix_vjqinyiydwww-3 0}.lst-kix_jlmg7gykri7u-6>li:before{content:\"\" counter(lst-ctn-kix_jlmg7gykri7u-6,lower-latin) \". \"}.lst-kix_vjqinyiydwww-2>li:before{content:\"\" counter(lst-ctn-kix_vjqinyiydwww-2,lower-roman) \". \"}.lst-kix_f1g35hczp9ms-4>li{counter-increment:lst-ctn-kix_f1g35hczp9ms-4}ol.lst-kix_7rsp6vwkllwp-3.start{counter-reset:lst-ctn-kix_7rsp6vwkllwp-3 0}.lst-kix_dj1d9x2iyizn-0>li:before{content:\"\" counter(lst-ctn-kix_dj1d9x2iyizn-0,decimal) \". \"}.lst-kix_dj1d9x2iyizn-2>li:before{content:\"\" counter(lst-ctn-kix_dj1d9x2iyizn-2,lower-roman) \". \"}.lst-kix_f1g35hczp9ms-3>li{counter-increment:lst-ctn-kix_f1g35hczp9ms-3}.lst-kix_7rsp6vwkllwp-6>li{counter-increment:lst-ctn-kix_7rsp6vwkllwp-6}.lst-kix_bikt0ydiqedt-8>li:before{content:\"\" counter(lst-ctn-kix_bikt0ydiqedt-8,lower-roman) \". \"}.lst-kix_dj1d9x2iyizn-4>li:before{content:\"\" counter(lst-ctn-kix_dj1d9x2iyizn-4,lower-latin) \". \"}ol.lst-kix_bikt0ydiqedt-3.start{counter-reset:lst-ctn-kix_bikt0ydiqedt-3 0}.lst-kix_vjqinyiydwww-6>li:before{content:\"\" counter(lst-ctn-kix_vjqinyiydwww-6,decimal) \". \"}.lst-kix_mlr37z1jswq9-0>li{counter-increment:lst-ctn-kix_mlr37z1jswq9-0}ol.lst-kix_7rsp6vwkllwp-1{list-style-type:none}ol.lst-kix_jlmg7gykri7u-2.start{counter-reset:lst-ctn-kix_jlmg7gykri7u-2 0}ol.lst-kix_7rsp6vwkllwp-0{list-style-type:none}ol.lst-kix_dj1d9x2iyizn-4.start{counter-reset:lst-ctn-kix_dj1d9x2iyizn-4 0}ol.lst-kix_vjqinyiydwww-4.start{counter-reset:lst-ctn-kix_vjqinyiydwww-4 0}ol.lst-kix_en7m7wfchoau-7.start{counter-reset:lst-ctn-kix_en7m7wfchoau-7 0}.lst-kix_vjqinyiydwww-8>li{counter-increment:lst-ctn-kix_vjqinyiydwww-8}ol.lst-kix_f1g35hczp9ms-6.start{counter-reset:lst-ctn-kix_f1g35hczp9ms-6 0}.lst-kix_9a6ry7a1ii44-2>li{counter-increment:lst-ctn-kix_9a6ry7a1ii44-2}.lst-kix_jlmg7gykri7u-3>li{counter-increment:lst-ctn-kix_jlmg7gykri7u-3}.lst-kix_7rsp6vwkllwp-0>li{counter-increment:lst-ctn-kix_7rsp6vwkllwp-0}.lst-kix_en7m7wfchoau-8>li{counter-increment:lst-ctn-kix_en7m7wfchoau-8}.lst-kix_mlr37z1jswq9-7>li:before{content:\"\" counter(lst-ctn-kix_mlr37z1jswq9-7,lower-latin) \". \"}.lst-kix_9a6ry7a1ii44-8>li{counter-increment:lst-ctn-kix_9a6ry7a1ii44-8}.lst-kix_mlr37z1jswq9-5>li:before{content:\"\" counter(lst-ctn-kix_mlr37z1jswq9-5,lower-roman) \". \"}.lst-kix_vjqinyiydwww-0>li:before{content:\"\" counter(lst-ctn-kix_vjqinyiydwww-0,decimal) \". \"}ol.lst-kix_bikt0ydiqedt-2.start{counter-reset:lst-ctn-kix_bikt0ydiqedt-2 0}.lst-kix_en7m7wfchoau-2>li{counter-increment:lst-ctn-kix_en7m7wfchoau-2}.lst-kix_vjqinyiydwww-2>li{counter-increment:lst-ctn-kix_vjqinyiydwww-2}ol.lst-kix_mlr37z1jswq9-1.start{counter-reset:lst-ctn-kix_mlr37z1jswq9-1 0}.lst-kix_mlr37z1jswq9-3>li:before{content:\"\" counter(lst-ctn-kix_mlr37z1jswq9-3,decimal) \". \"}ol.lst-kix_9a6ry7a1ii44-5{list-style-type:none}ol.lst-kix_jjdsisnnaeo4-0.start{counter-reset:lst-ctn-kix_jjdsisnnaeo4-0 0}ol.lst-kix_9a6ry7a1ii44-6{list-style-type:none}ol.lst-kix_9a6ry7a1ii44-7{list-style-type:none}ol.lst-kix_dj1d9x2iyizn-5.start{counter-reset:lst-ctn-kix_dj1d9x2iyizn-5 0}.lst-kix_9a6ry7a1ii44-0>li{counter-increment:lst-ctn-kix_9a6ry7a1ii44-0}ol.lst-kix_9a6ry7a1ii44-8{list-style-type:none}.lst-kix_f1g35hczp9ms-1>li{counter-increment:lst-ctn-kix_f1g35hczp9ms-1}.lst-kix_jlmg7gykri7u-4>li{counter-increment:lst-ctn-kix_jlmg7gykri7u-4}ol.lst-kix_7rsp6vwkllwp-5.start{counter-reset:lst-ctn-kix_7rsp6vwkllwp-5 0}.lst-kix_9a6ry7a1ii44-6>li:before{content:\"\" counter(lst-ctn-kix_9a6ry7a1ii44-6,decimal) \". \"}.lst-kix_vjqinyiydwww-0>li{counter-increment:lst-ctn-kix_vjqinyiydwww-0}ol.lst-kix_f1g35hczp9ms-7.start{counter-reset:lst-ctn-kix_f1g35hczp9ms-7 0}.lst-kix_9a6ry7a1ii44-7>li:before{content:\"\" counter(lst-ctn-kix_9a6ry7a1ii44-7,lower-latin) \". \"}ol.lst-kix_vjqinyiydwww-8.start{counter-reset:lst-ctn-kix_vjqinyiydwww-8 0}ol.lst-kix_f1g35hczp9ms-8{list-style-type:none}.lst-kix_9a6ry7a1ii44-8>li:before{content:\"\" counter(lst-ctn-kix_9a6ry7a1ii44-8,lower-roman) \". \"}ol.lst-kix_f1g35hczp9ms-7{list-style-type:none}ol.lst-kix_f1g35hczp9ms-4{list-style-type:none}ol.lst-kix_mlr37z1jswq9-0.start{counter-reset:lst-ctn-kix_mlr37z1jswq9-0 0}ol.lst-kix_f1g35hczp9ms-3{list-style-type:none}ol.lst-kix_f1g35hczp9ms-6{list-style-type:none}ol.lst-kix_en7m7wfchoau-0.start{counter-reset:lst-ctn-kix_en7m7wfchoau-0 0}ol.lst-kix_f1g35hczp9ms-5{list-style-type:none}ol.lst-kix_f1g35hczp9ms-0{list-style-type:none}ol.lst-kix_vjqinyiydwww-8{list-style-type:none}ol.lst-kix_vjqinyiydwww-7{list-style-type:none}ol.lst-kix_f1g35hczp9ms-2{list-style-type:none}.lst-kix_dj1d9x2iyizn-8>li{counter-increment:lst-ctn-kix_dj1d9x2iyizn-8}ol.lst-kix_vjqinyiydwww-2.start{counter-reset:lst-ctn-kix_vjqinyiydwww-2 0}ol.lst-kix_vjqinyiydwww-6{list-style-type:none}ol.lst-kix_f1g35hczp9ms-1{list-style-type:none}ol.lst-kix_vjqinyiydwww-5{list-style-type:none}ol.lst-kix_vjqinyiydwww-4{list-style-type:none}ol.lst-kix_vjqinyiydwww-3{list-style-type:none}ol.lst-kix_vjqinyiydwww-2{list-style-type:none}.lst-kix_bikt0ydiqedt-8>li{counter-increment:lst-ctn-kix_bikt0ydiqedt-8}ol.lst-kix_9a6ry7a1ii44-0{list-style-type:none}ol.lst-kix_vjqinyiydwww-1{list-style-type:none}ol.lst-kix_9a6ry7a1ii44-1{list-style-type:none}ol.lst-kix_vjqinyiydwww-0{list-style-type:none}ol.lst-kix_9a6ry7a1ii44-2{list-style-type:none}ol.lst-kix_9a6ry7a1ii44-3{list-style-type:none}ol.lst-kix_9a6ry7a1ii44-4{list-style-type:none}.lst-kix_mlr37z1jswq9-6>li{counter-increment:lst-ctn-kix_mlr37z1jswq9-6}.lst-kix_jjdsisnnaeo4-6>li{counter-increment:lst-ctn-kix_jjdsisnnaeo4-6}.lst-kix_f1g35hczp9ms-0>li:before{content:\"\" counter(lst-ctn-kix_f1g35hczp9ms-0,decimal) \". \"}.lst-kix_f1g35hczp9ms-1>li:before{content:\"\" counter(lst-ctn-kix_f1g35hczp9ms-1,lower-latin) \". \"}ol.lst-kix_bikt0ydiqedt-4.start{counter-reset:lst-ctn-kix_bikt0ydiqedt-4 0}.lst-kix_f1g35hczp9ms-3>li:before{content:\"\" counter(lst-ctn-kix_f1g35hczp9ms-3,decimal) \". \"}ol.lst-kix_jlmg7gykri7u-4.start{counter-reset:lst-ctn-kix_jlmg7gykri7u-4 0}.lst-kix_f1g35hczp9ms-2>li:before{content:\"\" counter(lst-ctn-kix_f1g35hczp9ms-2,lower-roman) \". \"}.lst-kix_f1g35hczp9ms-4>li:before{content:\"\" counter(lst-ctn-kix_f1g35hczp9ms-4,lower-latin) \". \"}.lst-kix_9a6ry7a1ii44-0>li:before{content:\"\" counter(lst-ctn-kix_9a6ry7a1ii44-0,decimal) \". \"}ol.lst-kix_f1g35hczp9ms-2.start{counter-reset:lst-ctn-kix_f1g35hczp9ms-2 0}.lst-kix_9a6ry7a1ii44-2>li:before{content:\"\" counter(lst-ctn-kix_9a6ry7a1ii44-2,lower-roman) \". \"}ol.lst-kix_mlr37z1jswq9-6.start{counter-reset:lst-ctn-kix_mlr37z1jswq9-6 0}.lst-kix_en7m7wfchoau-6>li{counter-increment:lst-ctn-kix_en7m7wfchoau-6}.lst-kix_9a6ry7a1ii44-1>li:before{content:\"\" counter(lst-ctn-kix_9a6ry7a1ii44-1,lower-latin) \". \"}.lst-kix_9a6ry7a1ii44-3>li:before{content:\"\" counter(lst-ctn-kix_9a6ry7a1ii44-3,decimal) \". \"}.lst-kix_f1g35hczp9ms-6>li:before{content:\"\" counter(lst-ctn-kix_f1g35hczp9ms-6,decimal) \". \"}.lst-kix_f1g35hczp9ms-8>li:before{content:\"\" counter(lst-ctn-kix_f1g35hczp9ms-8,lower-roman) \". \"}.lst-kix_jjdsisnnaeo4-8>li{counter-increment:lst-ctn-kix_jjdsisnnaeo4-8}.lst-kix_jlmg7gykri7u-0>li:before{content:\"\" counter(lst-ctn-kix_jlmg7gykri7u-0,lower-latin) \". \"}ol.lst-kix_en7m7wfchoau-6.start{counter-reset:lst-ctn-kix_en7m7wfchoau-6 0}.lst-kix_f1g35hczp9ms-5>li:before{content:\"\" counter(lst-ctn-kix_f1g35hczp9ms-5,lower-roman) \". \"}.lst-kix_jlmg7gykri7u-3>li:before{content:\"\" counter(lst-ctn-kix_jlmg7gykri7u-3,lower-latin) \". \"}.lst-kix_9a6ry7a1ii44-5>li:before{content:\"\" counter(lst-ctn-kix_9a6ry7a1ii44-5,lower-roman) \". \"}.lst-kix_jlmg7gykri7u-1>li:before{content:\"\" counter(lst-ctn-kix_jlmg7gykri7u-1,lower-roman) \". \"}.lst-kix_9a6ry7a1ii44-4>li:before{content:\"\" counter(lst-ctn-kix_9a6ry7a1ii44-4,lower-latin) \". \"}.lst-kix_jlmg7gykri7u-2>li:before{content:\"\" counter(lst-ctn-kix_jlmg7gykri7u-2,decimal) \". \"}.lst-kix_jlmg7gykri7u-2>li{counter-increment:lst-ctn-kix_jlmg7gykri7u-2}.lst-kix_f1g35hczp9ms-7>li:before{content:\"\" counter(lst-ctn-kix_f1g35hczp9ms-7,lower-latin) \". \"}ol.lst-kix_7rsp6vwkllwp-0.start{counter-reset:lst-ctn-kix_7rsp6vwkllwp-0 0}ol.lst-kix_dj1d9x2iyizn-0.start{counter-reset:lst-ctn-kix_dj1d9x2iyizn-0 0}ol.lst-kix_9a6ry7a1ii44-3.start{counter-reset:lst-ctn-kix_9a6ry7a1ii44-3 0}.lst-kix_vjqinyiydwww-4>li{counter-increment:lst-ctn-kix_vjqinyiydwww-4}ol.lst-kix_vjqinyiydwww-7.start{counter-reset:lst-ctn-kix_vjqinyiydwww-7 0}ol.lst-kix_mlr37z1jswq9-0{list-style-type:none}ol.lst-kix_mlr37z1jswq9-1{list-style-type:none}ol.lst-kix_mlr37z1jswq9-2{list-style-type:none}ol.lst-kix_mlr37z1jswq9-3{list-style-type:none}ol.lst-kix_mlr37z1jswq9-4{list-style-type:none}ol.lst-kix_mlr37z1jswq9-5{list-style-type:none}ol.lst-kix_mlr37z1jswq9-6{list-style-type:none}.lst-kix_en7m7wfchoau-1>li:before{content:\"\" counter(lst-ctn-kix_en7m7wfchoau-1,lower-latin) \". \"}ol.lst-kix_mlr37z1jswq9-7{list-style-type:none}ol.lst-kix_mlr37z1jswq9-8{list-style-type:none}.lst-kix_en7m7wfchoau-4>li{counter-increment:lst-ctn-kix_en7m7wfchoau-4}.lst-kix_jjdsisnnaeo4-8>li:before{content:\"\" counter(lst-ctn-kix_jjdsisnnaeo4-8,lower-roman) \". \"}.lst-kix_en7m7wfchoau-0>li:before{content:\"\" counter(lst-ctn-kix_en7m7wfchoau-0,decimal) \". \"}ol.lst-kix_mlr37z1jswq9-5.start{counter-reset:lst-ctn-kix_mlr37z1jswq9-5 0}ol.lst-kix_en7m7wfchoau-5.start{counter-reset:lst-ctn-kix_en7m7wfchoau-5 0}.lst-kix_jjdsisnnaeo4-4>li:before{content:\"\" counter(lst-ctn-kix_jjdsisnnaeo4-4,lower-latin) \". \"}.lst-kix_jjdsisnnaeo4-6>li:before{content:\"\" counter(lst-ctn-kix_jjdsisnnaeo4-6,decimal) \". \"}.lst-kix_en7m7wfchoau-4>li:before{content:\"\" counter(lst-ctn-kix_en7m7wfchoau-4,lower-latin) \". \"}.lst-kix_en7m7wfchoau-6>li:before{content:\"\" counter(lst-ctn-kix_en7m7wfchoau-6,decimal) \". \"}.lst-kix_jjdsisnnaeo4-3>li:before{content:\"\" counter(lst-ctn-kix_jjdsisnnaeo4-3,decimal) \". \"}.lst-kix_jjdsisnnaeo4-7>li:before{content:\"\" counter(lst-ctn-kix_jjdsisnnaeo4-7,lower-latin) \". \"}.lst-kix_en7m7wfchoau-5>li:before{content:\"\" counter(lst-ctn-kix_en7m7wfchoau-5,lower-roman) \". \"}.lst-kix_en7m7wfchoau-2>li:before{content:\"\" counter(lst-ctn-kix_en7m7wfchoau-2,lower-roman) \". \"}.lst-kix_7rsp6vwkllwp-5>li{counter-increment:lst-ctn-kix_7rsp6vwkllwp-5}ol.lst-kix_7rsp6vwkllwp-6.start{counter-reset:lst-ctn-kix_7rsp6vwkllwp-6 0}.lst-kix_jjdsisnnaeo4-5>li:before{content:\"\" counter(lst-ctn-kix_jjdsisnnaeo4-5,lower-roman) \". \"}.lst-kix_en7m7wfchoau-3>li:before{content:\"\" counter(lst-ctn-kix_en7m7wfchoau-3,decimal) \". \"}ol.lst-kix_vjqinyiydwww-1.start{counter-reset:lst-ctn-kix_vjqinyiydwww-1 0}.lst-kix_mlr37z1jswq9-2>li{counter-increment:lst-ctn-kix_mlr37z1jswq9-2}.lst-kix_f1g35hczp9ms-5>li{counter-increment:lst-ctn-kix_f1g35hczp9ms-5}ol.lst-kix_9a6ry7a1ii44-4.start{counter-reset:lst-ctn-kix_9a6ry7a1ii44-4 0}.lst-kix_jjdsisnnaeo4-0>li:before{content:\"\" counter(lst-ctn-kix_jjdsisnnaeo4-0,decimal) \". \"}.lst-kix_jjdsisnnaeo4-2>li:before{content:\"\" counter(lst-ctn-kix_jjdsisnnaeo4-2,lower-roman) \". \"}.lst-kix_jjdsisnnaeo4-4>li{counter-increment:lst-ctn-kix_jjdsisnnaeo4-4}.lst-kix_en7m7wfchoau-8>li:before{content:\"\" counter(lst-ctn-kix_en7m7wfchoau-8,lower-roman) \". \"}.lst-kix_mlr37z1jswq9-8>li{counter-increment:lst-ctn-kix_mlr37z1jswq9-8}.lst-kix_f1g35hczp9ms-8>li{counter-increment:lst-ctn-kix_f1g35hczp9ms-8}.lst-kix_jjdsisnnaeo4-1>li:before{content:\"\" counter(lst-ctn-kix_jjdsisnnaeo4-1,lower-latin) \". \"}.lst-kix_jjdsisnnaeo4-1>li{counter-increment:lst-ctn-kix_jjdsisnnaeo4-1}.lst-kix_en7m7wfchoau-7>li:before{content:\"\" counter(lst-ctn-kix_en7m7wfchoau-7,lower-latin) \". \"}.lst-kix_dj1d9x2iyizn-6>li{counter-increment:lst-ctn-kix_dj1d9x2iyizn-6}.lst-kix_9a6ry7a1ii44-6>li{counter-increment:lst-ctn-kix_9a6ry7a1ii44-6}.lst-kix_7rsp6vwkllwp-7>li:before{content:\"\" counter(lst-ctn-kix_7rsp6vwkllwp-7,lower-latin) \". \"}.lst-kix_f1g35hczp9ms-7>li{counter-increment:lst-ctn-kix_f1g35hczp9ms-7}ol.lst-kix_mlr37z1jswq9-7.start{counter-reset:lst-ctn-kix_mlr37z1jswq9-7 0}ol.lst-kix_jjdsisnnaeo4-7.start{counter-reset:lst-ctn-kix_jjdsisnnaeo4-7 0}.lst-kix_vjqinyiydwww-6>li{counter-increment:lst-ctn-kix_vjqinyiydwww-6}ol.lst-kix_jlmg7gykri7u-8.start{counter-reset:lst-ctn-kix_jlmg7gykri7u-8 0}.lst-kix_7rsp6vwkllwp-3>li:before{content:\"\" counter(lst-ctn-kix_7rsp6vwkllwp-3,decimal) \". \"}.lst-kix_en7m7wfchoau-0>li{counter-increment:lst-ctn-kix_en7m7wfchoau-0}.lst-kix_7rsp6vwkllwp-1>li:before{content:\"\" counter(lst-ctn-kix_7rsp6vwkllwp-1,lower-latin) \". \"}.lst-kix_7rsp6vwkllwp-5>li:before{content:\"\" counter(lst-ctn-kix_7rsp6vwkllwp-5,lower-roman) \". \"}ol.lst-kix_9a6ry7a1ii44-8.start{counter-reset:lst-ctn-kix_9a6ry7a1ii44-8 0}.lst-kix_f1g35hczp9ms-6>li{counter-increment:lst-ctn-kix_f1g35hczp9ms-6}ol.lst-kix_bikt0ydiqedt-8.start{counter-reset:lst-ctn-kix_bikt0ydiqedt-8 0}ol.lst-kix_9a6ry7a1ii44-5.start{counter-reset:lst-ctn-kix_9a6ry7a1ii44-5 0}.lst-kix_bikt0ydiqedt-5>li:before{content:\"\" counter(lst-ctn-kix_bikt0ydiqedt-5,lower-roman) \". \"}.lst-kix_mlr37z1jswq9-3>li{counter-increment:lst-ctn-kix_mlr37z1jswq9-3}.lst-kix_jjdsisnnaeo4-0>li{counter-increment:lst-ctn-kix_jjdsisnnaeo4-0}.lst-kix_bikt0ydiqedt-3>li:before{content:\"\" counter(lst-ctn-kix_bikt0ydiqedt-3,decimal) \". \"}.lst-kix_bikt0ydiqedt-7>li:before{content:\"\" counter(lst-ctn-kix_bikt0ydiqedt-7,lower-latin) \". \"}ol.lst-kix_en7m7wfchoau-2.start{counter-reset:lst-ctn-kix_en7m7wfchoau-2 0}ol.lst-kix_jlmg7gykri7u-1{list-style-type:none}.lst-kix_dj1d9x2iyizn-5>li:before{content:\"\" counter(lst-ctn-kix_dj1d9x2iyizn-5,lower-roman) \". \"}ol.lst-kix_jlmg7gykri7u-0{list-style-type:none}ol.lst-kix_jlmg7gykri7u-3{list-style-type:none}ol.lst-kix_jlmg7gykri7u-2{list-style-type:none}.lst-kix_dj1d9x2iyizn-7>li:before{content:\"\" counter(lst-ctn-kix_dj1d9x2iyizn-7,lower-latin) \". \"}ol.lst-kix_jlmg7gykri7u-8{list-style-type:none}ol.lst-kix_jlmg7gykri7u-5{list-style-type:none}ol.lst-kix_jlmg7gykri7u-4{list-style-type:none}ol.lst-kix_jlmg7gykri7u-7{list-style-type:none}ol.lst-kix_jlmg7gykri7u-6{list-style-type:none}.lst-kix_bikt0ydiqedt-1>li:before{content:\"\" counter(lst-ctn-kix_bikt0ydiqedt-1,lower-latin) \". \"}.lst-kix_bikt0ydiqedt-6>li{counter-increment:lst-ctn-kix_bikt0ydiqedt-6}.lst-kix_9a6ry7a1ii44-4>li{counter-increment:lst-ctn-kix_9a6ry7a1ii44-4}ol.lst-kix_jjdsisnnaeo4-4.start{counter-reset:lst-ctn-kix_jjdsisnnaeo4-4 0}.lst-kix_jlmg7gykri7u-7>li:before{content:\"\" counter(lst-ctn-kix_jlmg7gykri7u-7,lower-roman) \". \"}.lst-kix_vjqinyiydwww-7>li:before{content:\"\" counter(lst-ctn-kix_vjqinyiydwww-7,lower-latin) \". \"}ol.lst-kix_9a6ry7a1ii44-6.start{counter-reset:lst-ctn-kix_9a6ry7a1ii44-6 0}.lst-kix_mlr37z1jswq9-0>li:before{content:\"\" counter(lst-ctn-kix_mlr37z1jswq9-0,decimal) \". \"}.lst-kix_vjqinyiydwww-5>li:before{content:\"\" counter(lst-ctn-kix_vjqinyiydwww-5,lower-roman) \". \"}.lst-kix_vjqinyiydwww-3>li:before{content:\"\" counter(lst-ctn-kix_vjqinyiydwww-3,decimal) \". \"}.lst-kix_dj1d9x2iyizn-5>li{counter-increment:lst-ctn-kix_dj1d9x2iyizn-5}.lst-kix_jlmg7gykri7u-5>li:before{content:\"\" counter(lst-ctn-kix_jlmg7gykri7u-5,decimal) \". \"}.lst-kix_mlr37z1jswq9-4>li{counter-increment:lst-ctn-kix_mlr37z1jswq9-4}.lst-kix_jjdsisnnaeo4-5>li{counter-increment:lst-ctn-kix_jjdsisnnaeo4-5}.lst-kix_bikt0ydiqedt-7>li{counter-increment:lst-ctn-kix_bikt0ydiqedt-7}.lst-kix_dj1d9x2iyizn-1>li:before{content:\"\" counter(lst-ctn-kix_dj1d9x2iyizn-1,lower-latin) \". \"}.lst-kix_bikt0ydiqedt-1>li{counter-increment:lst-ctn-kix_bikt0ydiqedt-1}.lst-kix_mlr37z1jswq9-8>li:before{content:\"\" counter(lst-ctn-kix_mlr37z1jswq9-8,lower-roman) \". \"}ol.lst-kix_f1g35hczp9ms-1.start{counter-reset:lst-ctn-kix_f1g35hczp9ms-1 0}.lst-kix_jlmg7gykri7u-0>li{counter-increment:lst-ctn-kix_jlmg7gykri7u-0}.lst-kix_dj1d9x2iyizn-4>li{counter-increment:lst-ctn-kix_dj1d9x2iyizn-4}ol.lst-kix_jjdsisnnaeo4-5.start{counter-reset:lst-ctn-kix_jjdsisnnaeo4-5 0}.lst-kix_dj1d9x2iyizn-3>li:before{content:\"\" counter(lst-ctn-kix_dj1d9x2iyizn-3,decimal) \". \"}ol.lst-kix_jjdsisnnaeo4-6.start{counter-reset:lst-ctn-kix_jjdsisnnaeo4-6 0}.lst-kix_en7m7wfchoau-5>li{counter-increment:lst-ctn-kix_en7m7wfchoau-5}.lst-kix_7rsp6vwkllwp-3>li{counter-increment:lst-ctn-kix_7rsp6vwkllwp-3}ol.lst-kix_mlr37z1jswq9-8.start{counter-reset:lst-ctn-kix_mlr37z1jswq9-8 0}ol.lst-kix_9a6ry7a1ii44-7.start{counter-reset:lst-ctn-kix_9a6ry7a1ii44-7 0}.lst-kix_jlmg7gykri7u-6>li{counter-increment:lst-ctn-kix_jlmg7gykri7u-6}li.li-bullet-0:before{margin-left:-18pt;white-space:nowrap;display:inline-block;min-width:18pt}.lst-kix_9a6ry7a1ii44-5>li{counter-increment:lst-ctn-kix_9a6ry7a1ii44-5}.lst-kix_mlr37z1jswq9-6>li:before{content:\"\" counter(lst-ctn-kix_mlr37z1jswq9-6,decimal) \". \"}.lst-kix_mlr37z1jswq9-4>li:before{content:\"\" counter(lst-ctn-kix_mlr37z1jswq9-4,lower-latin) \". \"}.lst-kix_vjqinyiydwww-1>li:before{content:\"\" counter(lst-ctn-kix_vjqinyiydwww-1,lower-latin) \". \"}.lst-kix_mlr37z1jswq9-2>li:before{content:\"\" counter(lst-ctn-kix_mlr37z1jswq9-2,lower-roman) \". \"}ol.lst-kix_en7m7wfchoau-1.start{counter-reset:lst-ctn-kix_en7m7wfchoau-1 0}.lst-kix_vjqinyiydwww-5>li{counter-increment:lst-ctn-kix_vjqinyiydwww-5}ol.lst-kix_f1g35hczp9ms-0.start{counter-reset:lst-ctn-kix_f1g35hczp9ms-0 0}ol{margin:0;padding:0}table td,table th{padding:0}.c4{-webkit-text-decoration-skip:none;color:#000000;font-weight:700;text-decoration:underline;vertical-align:baseline;text-decoration-skip-ink:none;font-size:12pt;font-family:\"Calibri\";font-style:normal}.c6{margin-left:72pt;padding-top:0pt;padding-left:0pt;padding-bottom:0pt;line-height:1.15;orphans:2;widows:2;text-align:justify}.c5{margin-left:36pt;padding-top:0pt;padding-left:0pt;padding-bottom:0pt;line-height:1.15;orphans:2;widows:2;text-align:justify}.c0{margin-left:36pt;padding-top:0pt;padding-left:0pt;padding-bottom:0pt;line-height:1.15;orphans:2;widows:2;text-align:left}.c9{color:#000000;font-weight:700;text-decoration:none;vertical-align:baseline;font-size:20pt;font-family:\"Calibri\";font-style:normal}.c1{color:#000000;font-weight:700;text-decoration:none;vertical-align:baseline;font-size:12pt;font-family:\"Calibri\";font-style:normal}.c2{color:#000000;font-weight:400;text-decoration:none;vertical-align:baseline;font-size:13pt;font-family:\"Calibri\";font-style:normal}.c23{color:#000000;font-weight:400;text-decoration:none;vertical-align:baseline;font-size:11pt;font-family:\"Calibri\";font-style:normal}.c13{color:#000000;font-weight:700;text-decoration:none;vertical-align:baseline;font-size:13pt;font-family:\"Calibri\";font-style:normal}.c16{color:#000000;font-weight:700;text-decoration:none;vertical-align:baseline;font-size:16pt;font-family:\"Calibri\";font-style:normal}.c3{color:#000000;font-weight:400;text-decoration:none;vertical-align:baseline;font-size:12pt;font-family:\"Calibri\";font-style:normal}.c18{-webkit-text-decoration-skip:none;font-weight:700;text-decoration:underline;text-decoration-skip-ink:none;font-size:12pt;font-family:\"Calibri\"}.c7{padding-top:0pt;padding-bottom:0pt;line-height:1.15;orphans:2;widows:2;text-align:justify}.c21{-webkit-text-decoration-skip:none;color:#000000;text-decoration:underline;vertical-align:baseline;text-decoration-skip-ink:none;font-style:normal}.c24{padding-top:0pt;padding-bottom:0pt;line-height:1.15;orphans:2;widows:2;text-align:center}.c11{background-color:#ffffff;font-size:12pt;font-family:\"Calibri\";color:#222222;font-weight:400}.c25{-webkit-text-decoration-skip:none;text-decoration:underline;text-decoration-skip-ink:none}.c15{font-size:12pt;font-family:\"Calibri\";font-weight:400}.c22{font-size:12pt;font-family:\"Calibri\";font-weight:700}.c10{background-color:#ffffff;max-width:468pt;padding:72pt 72pt 72pt 72pt}.c19{font-size:13pt;font-family:\"Calibri\";font-weight:700}.c8{font-size:13pt;font-family:\"Calibri\";font-weight:400}.c12{padding:0;margin:0}.c26{font-weight:400;font-family:\"Calibri\"}.c17{margin-left:108pt;padding-left:0pt}.c14{color:inherit;text-decoration:inherit}.c28{margin-left:36pt}.c20{height:11pt}.c27{color:#1155cc}.title{padding-top:0pt;color:#000000;font-size:26pt;padding-bottom:3pt;font-family:\"Arial\";line-height:1.15;page-break-after:avoid;orphans:2;widows:2;text-align:left}.subtitle{padding-top:0pt;color:#666666;font-size:15pt;padding-bottom:16pt;font-family:\"Arial\";line-height:1.15;page-break-after:avoid;orphans:2;widows:2;text-align:left}li{color:#000000;font-size:11pt;font-family:\"Arial\"}p{margin:0;color:#000000;font-size:11pt;font-family:\"Arial\"}h1{padding-top:20pt;color:#000000;font-size:20pt;padding-bottom:6pt;font-family:\"Arial\";line-height:1.15;page-break-after:avoid;orphans:2;widows:2;text-align:left}h2{padding-top:18pt;color:#000000;font-size:16pt;padding-bottom:6pt;font-family:\"Arial\";line-height:1.15;page-break-after:avoid;orphans:2;widows:2;text-align:left}h3{padding-top:16pt;color:#434343;font-size:14pt;padding-bottom:4pt;font-family:\"Arial\";line-height:1.15;page-break-after:avoid;orphans:2;widows:2;text-align:left}h4{padding-top:14pt;color:#666666;font-size:12pt;padding-bottom:4pt;font-family:\"Arial\";line-height:1.15;page-break-after:avoid;orphans:2;widows:2;text-align:left}h5{padding-top:12pt;color:#666666;font-size:11pt;padding-bottom:4pt;font-family:\"Arial\";line-height:1.15;page-break-after:avoid;orphans:2;widows:2;text-align:left}h6{padding-top:12pt;color:#666666;font-size:11pt;padding-bottom:4pt;font-family:\"Arial\";line-height:1.15;page-break-after:avoid;font-style:italic;orphans:2;widows:2;text-align:left}</style></head><body class=\"c10 doc-content\"><p class=\"c24\"><span class=\"c9\">Programming Assignment - 1 [13/02/2023]</span></p><p class=\"c24\"><span class=\"c9\">CSL7640</span></p><p class=\"c24\"><span class=\"c23\">&nbsp;&nbsp;&nbsp;&nbsp;&nbsp;&nbsp;&nbsp;&nbsp;</span></p><p class=\"c7\"><span class=\"c16\">Instructions:</span></p><ol class=\"c12 lst-kix_vjqinyiydwww-0 start\" start=\"1\"><li class=\"c0 li-bullet-0\"><span class=\"c1\">Total marks - 10 &nbsp; </span></li><li class=\"c0 li-bullet-0\"><span class=\"c1\">Deadline:- 01-03-2023 05:00 PM</span></li><li class=\"c0 li-bullet-0\"><span class=\"c3\">Separate submission links will be created accordingly.</span></li><li class=\"c0 li-bullet-0\"><span class=\"c4\">ANY ONE MEMBER OF THE GROUP CAN SUBMIT. No need for other people to submit.</span></li><li class=\"c0 li-bullet-0\"><span class=\"c18\">All libraries and tools are allowed. &nbsp;</span></li><li class=\"c5 li-bullet-0\"><span class=\"c15\">Submit a </span><span class=\"c22\">.zip</span><span class=\"c15\">&nbsp;file containing all the working codes (.py files and .pdf files). The zip file should be named in the format &lt;</span><span class=\"c26\">RollNo1_RollNo2_RollNo3_NLU_A1</span><span class=\"c3\">&gt;.zip. </span></li></ol><p class=\"c7 c28\"><span class=\"c19 c25\">[Do not include model weights and data in the zip file]</span></p><ol class=\"c12 lst-kix_vjqinyiydwww-0\" start=\"7\"><li class=\"c5 li-bullet-0\"><span class=\"c15\">Submit a </span><span class=\"c22\">.pdf </span><span class=\"c3\">report which should contain the following:</span></li></ol><ol class=\"c12 lst-kix_vjqinyiydwww-1 start\" start=\"1\"><li class=\"c6 li-bullet-0\"><span class=\"c3\">A detailed description of what you have done,</span></li><li class=\"c6 li-bullet-0\"><span class=\"c15\">A description of what else could be done to improve results - c</span><span class=\"c11\">hallenges</span><span class=\"c15\">&nbsp;faced</span></li><li class=\"c6 li-bullet-0\"><span class=\"c3\">Links to the Google-Colab files (if any),</span></li><li class=\"c6 li-bullet-0\"><span class=\"c3\">Clearly mention the contribution of each group member.</span></li></ol><ol class=\"c12 lst-kix_vjqinyiydwww-0\" start=\"8\"><li class=\"c5 li-bullet-0\"><span class=\"c4\">Copying from the Internet and/or your classmates is strictly prohibited. Any team found guilty will be awarded a suitable penalty as per IIT rules.</span></li></ol><p class=\"c7 c20\"><span class=\"c4\"></span></p><p class=\"c7\"><span class=\"c18\">Dataset:</span><span class=\"c1\">&nbsp;</span></p><ol class=\"c12 lst-kix_bikt0ydiqedt-0 start\" start=\"1\"><li class=\"c5 li-bullet-0\"><span class=\"c22\">Choose any one text dataset from </span><span class=\"c18 c27\"><a class=\"c14\" href=\"https://www.google.com/url?q=https://drive.google.com/file/d/1l32CBYni0ySAWY0vn_jjQRShpBsKUt0z/view?usp%3Dshare_link&amp;sa=D&amp;source=editors&amp;ust=1677610229295048&amp;usg=AOvVaw086QsNIFUZuAW4dI73YWRI\">here</a></span><span class=\"c1\">. </span></li><li class=\"c5 li-bullet-0\"><span class=\"c1\">Use accuracy, confusion matrix (class-wise) as a metric for multi-class classification.</span></li><li class=\"c5 li-bullet-0\"><span class=\"c1\">Use accuracy, Precision, Recall, F1 score and confusion matrix as a metric for binary classification.</span></li><li class=\"c5 li-bullet-0\"><span class=\"c1\">Report hyperparameters for all deep models, like learning rate, optimiser, number of epochs, and scheduler.</span></li><li class=\"c5 li-bullet-0\"><span class=\"c1\">Show train/val loss and accuracy plots for deep neural networks.</span></li><li class=\"c5 li-bullet-0\"><span class=\"c1\">Show some error examples where a wrong class is predicted by the best model in 4. </span></li></ol><p class=\"c7 c20\"><span class=\"c16\"></span></p><p class=\"c7\"><span class=\"c16\">Tasks:</span></p><p class=\"c7 c20\"><span class=\"c2\"></span></p><ol class=\"c12 lst-kix_dj1d9x2iyizn-0 start\" start=\"1\"><li class=\"c5 li-bullet-0\"><span class=\"c2\">Define your own train-val-test split. [Report the split chosen.]</span></li><li class=\"c5 li-bullet-0\"><span class=\"c2\">Define a text preprocessing pipeline, i.e., stopword removal, lower casing, punctuation removal etc. [Report your text preprocessing pipeline in the report.]</span></li><li class=\"c5 li-bullet-0\"><span class=\"c2\">Developing ML methods:</span></li></ol><ol class=\"c12 lst-kix_dj1d9x2iyizn-1 start\" start=\"1\"><li class=\"c6 li-bullet-0\"><span class=\"c8\">Model a </span><span class=\"c19\">Naive Bayes classifier</span><span class=\"c2\">.</span></li></ol><ol class=\"c12 lst-kix_dj1d9x2iyizn-2 start\" start=\"1\"><li class=\"c7 c17 li-bullet-0\"><span class=\"c2\">Count vectorizer features.</span></li><li class=\"c7 c17 li-bullet-0\"><span class=\"c2\">TF-IDF features.</span></li></ol><ol class=\"c12 lst-kix_dj1d9x2iyizn-1\" start=\"2\"><li class=\"c6 li-bullet-0\"><span class=\"c8\">Model a </span><span class=\"c19\">decision tree</span><span class=\"c2\">&nbsp;with TF-IDF features. [Compare with 3.a.ii]</span></li></ol><ol class=\"c12 lst-kix_dj1d9x2iyizn-0\" start=\"4\"><li class=\"c5 li-bullet-0\"><span class=\"c2\">Developing Deep neural networks:</span></li></ol><ol class=\"c12 lst-kix_dj1d9x2iyizn-1 start\" start=\"1\"><li class=\"c6 li-bullet-0\"><span class=\"c13\">RNN model.</span></li></ol><ol class=\"c12 lst-kix_dj1d9x2iyizn-2 start\" start=\"1\"><li class=\"c7 c17 li-bullet-0\"><span class=\"c2\">64 hidden-vector dimension.</span></li><li class=\"c7 c17 li-bullet-0\"><span class=\"c2\">256 hidden-vector dimension.</span></li></ol><ol class=\"c12 lst-kix_dj1d9x2iyizn-1\" start=\"2\"><li class=\"c6 li-bullet-0\"><span class=\"c19\">1-layer LSTM model.</span><span class=\"c2\">&nbsp;[choose 64 or 256 as hidden-vector representation based on the results from 4.a. Report the choice and its justification.]</span></li><li class=\"c6 li-bullet-0\"><span class=\"c19\">2-layer LSTM model.</span><span class=\"c2\">&nbsp;[use the same hidden-vector representation as 4.b.]</span></li><li class=\"c6 li-bullet-0\"><span class=\"c19\">1-layer Bi-LSTM model.</span><span class=\"c2\">&nbsp;[use same hidden-vector representation as 4.b. Report 4.b vs 4.d model performance.] </span></li><li class=\"c6 li-bullet-0\"><span class=\"c2\">Use Google word2vec embeddings as input embedding to model in 4.d. [Compare the performance 4.e vs 4.d]</span></li><li class=\"c6 li-bullet-0\"><span class=\"c2\">Use Glove embeddings as input embedding to model in 4.d. [Compare the performance 4.f vs 4.d]</span></li><li class=\"c6 li-bullet-0\"><span class=\"c8\">Compare 4.e vs 4.f</span></li></ol></body></html>\n",
        "\n"
      ],
      "metadata": {
        "id": "Aevvme52WZSz"
      }
    },
    {
      "cell_type": "code",
      "execution_count": 4,
      "metadata": {
        "colab": {
          "base_uri": "https://localhost:8080/"
        },
        "id": "exh8XglX806e",
        "outputId": "0b2801bb-5bac-4add-e369-adff57854cb8"
      },
      "outputs": [
        {
          "output_type": "stream",
          "name": "stdout",
          "text": [
            "Mounted at /content/gdrive\n"
          ]
        }
      ],
      "source": [
        "from google.colab import drive\n",
        "drive.mount('/content/gdrive')"
      ]
    },
    {
      "cell_type": "code",
      "execution_count": 5,
      "metadata": {
        "colab": {
          "base_uri": "https://localhost:8080/"
        },
        "id": "z_g3JX_W8v3w",
        "outputId": "4cbc9761-e4d7-4ca6-d9a2-832c9d4ffebc"
      },
      "outputs": [
        {
          "output_type": "stream",
          "name": "stdout",
          "text": [
            "/content/gdrive/My Drive/Colab Notebooks/semester3/NLP\n"
          ]
        }
      ],
      "source": [
        "%cd \"/content/gdrive/My Drive/Colab Notebooks/semester3/NLP\""
      ]
    },
    {
      "cell_type": "code",
      "source": [
        "# Install sumy\n",
        "!pip install sumy"
      ],
      "metadata": {
        "id": "6smv4ePZH4Gr",
        "outputId": "31ead239-fed6-4863-90c5-6cf69b0e4785",
        "colab": {
          "base_uri": "https://localhost:8080/"
        }
      },
      "execution_count": 1,
      "outputs": [
        {
          "output_type": "stream",
          "name": "stdout",
          "text": [
            "Looking in indexes: https://pypi.org/simple, https://us-python.pkg.dev/colab-wheels/public/simple/\n",
            "Collecting sumy\n",
            "  Downloading sumy-0.11.0-py2.py3-none-any.whl (97 kB)\n",
            "\u001b[2K     \u001b[90m━━━━━━━━━━━━━━━━━━━━━━━━━━━━━━━━━━━━━━━━\u001b[0m \u001b[32m97.3/97.3 KB\u001b[0m \u001b[31m3.2 MB/s\u001b[0m eta \u001b[36m0:00:00\u001b[0m\n",
            "\u001b[?25hRequirement already satisfied: requests>=2.7.0 in /usr/local/lib/python3.8/dist-packages (from sumy) (2.25.1)\n",
            "Collecting pycountry>=18.2.23\n",
            "  Downloading pycountry-22.3.5.tar.gz (10.1 MB)\n",
            "\u001b[2K     \u001b[90m━━━━━━━━━━━━━━━━━━━━━━━━━━━━━━━━━━━━━━━━\u001b[0m \u001b[32m10.1/10.1 MB\u001b[0m \u001b[31m62.3 MB/s\u001b[0m eta \u001b[36m0:00:00\u001b[0m\n",
            "\u001b[?25h  Installing build dependencies ... \u001b[?25l\u001b[?25hdone\n",
            "  Getting requirements to build wheel ... \u001b[?25l\u001b[?25hdone\n",
            "  Preparing metadata (pyproject.toml) ... \u001b[?25l\u001b[?25hdone\n",
            "Collecting breadability>=0.1.20\n",
            "  Downloading breadability-0.1.20.tar.gz (32 kB)\n",
            "  Preparing metadata (setup.py) ... \u001b[?25l\u001b[?25hdone\n",
            "Collecting docopt<0.7,>=0.6.1\n",
            "  Downloading docopt-0.6.2.tar.gz (25 kB)\n",
            "  Preparing metadata (setup.py) ... \u001b[?25l\u001b[?25hdone\n",
            "Requirement already satisfied: nltk>=3.0.2 in /usr/local/lib/python3.8/dist-packages (from sumy) (3.7)\n",
            "Requirement already satisfied: chardet in /usr/local/lib/python3.8/dist-packages (from breadability>=0.1.20->sumy) (4.0.0)\n",
            "Requirement already satisfied: lxml>=2.0 in /usr/local/lib/python3.8/dist-packages (from breadability>=0.1.20->sumy) (4.9.2)\n",
            "Requirement already satisfied: click in /usr/local/lib/python3.8/dist-packages (from nltk>=3.0.2->sumy) (8.1.3)\n",
            "Requirement already satisfied: tqdm in /usr/local/lib/python3.8/dist-packages (from nltk>=3.0.2->sumy) (4.64.1)\n",
            "Requirement already satisfied: regex>=2021.8.3 in /usr/local/lib/python3.8/dist-packages (from nltk>=3.0.2->sumy) (2022.6.2)\n",
            "Requirement already satisfied: joblib in /usr/local/lib/python3.8/dist-packages (from nltk>=3.0.2->sumy) (1.2.0)\n",
            "Requirement already satisfied: setuptools in /usr/local/lib/python3.8/dist-packages (from pycountry>=18.2.23->sumy) (57.4.0)\n",
            "Requirement already satisfied: certifi>=2017.4.17 in /usr/local/lib/python3.8/dist-packages (from requests>=2.7.0->sumy) (2022.12.7)\n",
            "Requirement already satisfied: urllib3<1.27,>=1.21.1 in /usr/local/lib/python3.8/dist-packages (from requests>=2.7.0->sumy) (1.26.14)\n",
            "Requirement already satisfied: idna<3,>=2.5 in /usr/local/lib/python3.8/dist-packages (from requests>=2.7.0->sumy) (2.10)\n",
            "Building wheels for collected packages: breadability, docopt, pycountry\n",
            "  Building wheel for breadability (setup.py) ... \u001b[?25l\u001b[?25hdone\n",
            "  Created wheel for breadability: filename=breadability-0.1.20-py2.py3-none-any.whl size=21714 sha256=103cfb804e151d5d9e04f07d99b1092b404d35b853eadff58e363ea667f4c33a\n",
            "  Stored in directory: /root/.cache/pip/wheels/5f/0d/0c/2062d8c1758b4b1a2e42b4a63e6660d9ec2ba9463cfee9eeab\n",
            "  Building wheel for docopt (setup.py) ... \u001b[?25l\u001b[?25hdone\n",
            "  Created wheel for docopt: filename=docopt-0.6.2-py2.py3-none-any.whl size=13723 sha256=f0f6affb730411c886d84a10fc2bafc16d9db5eaca3cb024b6f841d02c0a68ef\n",
            "  Stored in directory: /root/.cache/pip/wheels/56/ea/58/ead137b087d9e326852a851351d1debf4ada529b6ac0ec4e8c\n",
            "  Building wheel for pycountry (pyproject.toml) ... \u001b[?25l\u001b[?25hdone\n",
            "  Created wheel for pycountry: filename=pycountry-22.3.5-py2.py3-none-any.whl size=10681845 sha256=069af38c0e4a31b636d6975d9b5d3a3f4813e2784340ff1df0054a7a5289b596\n",
            "  Stored in directory: /root/.cache/pip/wheels/e2/aa/0f/c224e473b464387170b83ca7c66947b4a7e33e8d903a679748\n",
            "Successfully built breadability docopt pycountry\n",
            "Installing collected packages: docopt, pycountry, breadability, sumy\n",
            "Successfully installed breadability-0.1.20 docopt-0.6.2 pycountry-22.3.5 sumy-0.11.0\n"
          ]
        }
      ]
    },
    {
      "cell_type": "code",
      "execution_count": 42,
      "metadata": {
        "colab": {
          "base_uri": "https://localhost:8080/"
        },
        "id": "unNzVY72Bvtq",
        "outputId": "53a210a2-cefb-4457-e3d9-3949aae660e4"
      },
      "outputs": [
        {
          "output_type": "stream",
          "name": "stderr",
          "text": [
            "[nltk_data] Downloading package stopwords to /root/nltk_data...\n",
            "[nltk_data]   Package stopwords is already up-to-date!\n"
          ]
        },
        {
          "output_type": "execute_result",
          "data": {
            "text/plain": [
              "True"
            ]
          },
          "metadata": {},
          "execution_count": 42
        },
        {
          "output_type": "stream",
          "name": "stderr",
          "text": [
            "[nltk_data] Downloading package wordnet to /root/nltk_data...\n",
            "[nltk_data]   Package wordnet is already up-to-date!\n"
          ]
        },
        {
          "output_type": "execute_result",
          "data": {
            "text/plain": [
              "True"
            ]
          },
          "metadata": {},
          "execution_count": 42
        },
        {
          "output_type": "stream",
          "name": "stderr",
          "text": [
            "[nltk_data] Downloading package omw-1.4 to /root/nltk_data...\n",
            "[nltk_data]   Package omw-1.4 is already up-to-date!\n"
          ]
        },
        {
          "output_type": "execute_result",
          "data": {
            "text/plain": [
              "True"
            ]
          },
          "metadata": {},
          "execution_count": 42
        },
        {
          "output_type": "stream",
          "name": "stderr",
          "text": [
            "[nltk_data] Downloading package punkt to /root/nltk_data...\n",
            "[nltk_data]   Package punkt is already up-to-date!\n"
          ]
        },
        {
          "output_type": "execute_result",
          "data": {
            "text/plain": [
              "True"
            ]
          },
          "metadata": {},
          "execution_count": 42
        },
        {
          "output_type": "stream",
          "name": "stdout",
          "text": [
            "Version:  2.11.0\n",
            "Eager mode:  True\n",
            "Hub version:  0.12.0\n",
            "GPU is NOT AVAILABLE\n"
          ]
        }
      ],
      "source": [
        "import numpy as np\n",
        "import pandas as pd\n",
        "import string\n",
        "import re\n",
        "import sklearn\n",
        "\n",
        "#nltk\n",
        "import nltk\n",
        "from textblob import Word \n",
        "from nltk.corpus import stopwords\n",
        "from nltk.stem import WordNetLemmatizer\n",
        "\n",
        "nltk.download('stopwords')\n",
        "nltk.download('wordnet')\n",
        "nltk.download('omw-1.4')\n",
        "nltk.download('punkt')\n",
        "\n",
        "#Keras\n",
        "from keras.preprocessing.text import Tokenizer\n",
        "#from keras.preprocessing.sequence import pad_sequences\n",
        "from keras.utils import to_categorical\n",
        "from keras.models import Sequential\n",
        "from keras.layers import Dense,Embedding, SimpleRNN\n",
        "from keras.models import Sequential\n",
        "from keras.layers import LSTM, Dropout, Flatten, BatchNormalization\n",
        "\n",
        "#Tensorflow\n",
        "import tensorflow as tf\n",
        "import tensorflow_hub as hub\n",
        "import tensorflow_datasets as tfds\n",
        "\n",
        "import matplotlib.pyplot as plt\n",
        "\n",
        "#sklearn\n",
        "from sklearn.feature_extraction.text import CountVectorizer, TfidfVectorizer\n",
        "import sklearn.feature_extraction.text as text\n",
        "from sklearn import model_selection, preprocessing, linear_model, naive_bayes, metrics\n",
        "\n",
        "print(\"Version: \", tf.__version__)\n",
        "print(\"Eager mode: \", tf.executing_eagerly())\n",
        "print(\"Hub version: \", hub.__version__)\n",
        "print(\"GPU is\", \"available\" if tf.config.list_physical_devices('GPU') else \"NOT AVAILABLE\")\n",
        "\n",
        "from IPython.core.interactiveshell import InteractiveShell\n",
        "InteractiveShell.ast_node_interactivity = \"all\""
      ]
    },
    {
      "cell_type": "markdown",
      "source": [
        "#<font color='blue'><b>Data Pre-Procesing</b></font>"
      ],
      "metadata": {
        "id": "sevfrXiyWRM5"
      }
    },
    {
      "cell_type": "code",
      "execution_count": 6,
      "metadata": {
        "colab": {
          "base_uri": "https://localhost:8080/",
          "height": 206
        },
        "id": "s-XnKW3I8YFS",
        "outputId": "cf4ead66-a2d9-4fdc-f784-b070e75f5359"
      },
      "outputs": [
        {
          "output_type": "execute_result",
          "data": {
            "text/plain": [
              "                                               title  \\\n",
              "0   Donald Trump Sends Out Embarrassing New Year’...   \n",
              "1   Drunk Bragging Trump Staffer Started Russian ...   \n",
              "2   Sheriff David Clarke Becomes An Internet Joke...   \n",
              "3   Trump Is So Obsessed He Even Has Obama’s Name...   \n",
              "4   Pope Francis Just Called Out Donald Trump Dur...   \n",
              "\n",
              "                                                text subject  \\\n",
              "0  Donald Trump just couldn t wish all Americans ...    News   \n",
              "1  House Intelligence Committee Chairman Devin Nu...    News   \n",
              "2  On Friday, it was revealed that former Milwauk...    News   \n",
              "3  On Christmas day, Donald Trump announced that ...    News   \n",
              "4  Pope Francis used his annual Christmas Day mes...    News   \n",
              "\n",
              "                date  \n",
              "0  December 31, 2017  \n",
              "1  December 31, 2017  \n",
              "2  December 30, 2017  \n",
              "3  December 29, 2017  \n",
              "4  December 25, 2017  "
            ],
            "text/html": [
              "\n",
              "  <div id=\"df-3cb83ddb-1a60-461b-aa2d-4fd324c42c1c\">\n",
              "    <div class=\"colab-df-container\">\n",
              "      <div>\n",
              "<style scoped>\n",
              "    .dataframe tbody tr th:only-of-type {\n",
              "        vertical-align: middle;\n",
              "    }\n",
              "\n",
              "    .dataframe tbody tr th {\n",
              "        vertical-align: top;\n",
              "    }\n",
              "\n",
              "    .dataframe thead th {\n",
              "        text-align: right;\n",
              "    }\n",
              "</style>\n",
              "<table border=\"1\" class=\"dataframe\">\n",
              "  <thead>\n",
              "    <tr style=\"text-align: right;\">\n",
              "      <th></th>\n",
              "      <th>title</th>\n",
              "      <th>text</th>\n",
              "      <th>subject</th>\n",
              "      <th>date</th>\n",
              "    </tr>\n",
              "  </thead>\n",
              "  <tbody>\n",
              "    <tr>\n",
              "      <th>0</th>\n",
              "      <td>Donald Trump Sends Out Embarrassing New Year’...</td>\n",
              "      <td>Donald Trump just couldn t wish all Americans ...</td>\n",
              "      <td>News</td>\n",
              "      <td>December 31, 2017</td>\n",
              "    </tr>\n",
              "    <tr>\n",
              "      <th>1</th>\n",
              "      <td>Drunk Bragging Trump Staffer Started Russian ...</td>\n",
              "      <td>House Intelligence Committee Chairman Devin Nu...</td>\n",
              "      <td>News</td>\n",
              "      <td>December 31, 2017</td>\n",
              "    </tr>\n",
              "    <tr>\n",
              "      <th>2</th>\n",
              "      <td>Sheriff David Clarke Becomes An Internet Joke...</td>\n",
              "      <td>On Friday, it was revealed that former Milwauk...</td>\n",
              "      <td>News</td>\n",
              "      <td>December 30, 2017</td>\n",
              "    </tr>\n",
              "    <tr>\n",
              "      <th>3</th>\n",
              "      <td>Trump Is So Obsessed He Even Has Obama’s Name...</td>\n",
              "      <td>On Christmas day, Donald Trump announced that ...</td>\n",
              "      <td>News</td>\n",
              "      <td>December 29, 2017</td>\n",
              "    </tr>\n",
              "    <tr>\n",
              "      <th>4</th>\n",
              "      <td>Pope Francis Just Called Out Donald Trump Dur...</td>\n",
              "      <td>Pope Francis used his annual Christmas Day mes...</td>\n",
              "      <td>News</td>\n",
              "      <td>December 25, 2017</td>\n",
              "    </tr>\n",
              "  </tbody>\n",
              "</table>\n",
              "</div>\n",
              "      <button class=\"colab-df-convert\" onclick=\"convertToInteractive('df-3cb83ddb-1a60-461b-aa2d-4fd324c42c1c')\"\n",
              "              title=\"Convert this dataframe to an interactive table.\"\n",
              "              style=\"display:none;\">\n",
              "        \n",
              "  <svg xmlns=\"http://www.w3.org/2000/svg\" height=\"24px\"viewBox=\"0 0 24 24\"\n",
              "       width=\"24px\">\n",
              "    <path d=\"M0 0h24v24H0V0z\" fill=\"none\"/>\n",
              "    <path d=\"M18.56 5.44l.94 2.06.94-2.06 2.06-.94-2.06-.94-.94-2.06-.94 2.06-2.06.94zm-11 1L8.5 8.5l.94-2.06 2.06-.94-2.06-.94L8.5 2.5l-.94 2.06-2.06.94zm10 10l.94 2.06.94-2.06 2.06-.94-2.06-.94-.94-2.06-.94 2.06-2.06.94z\"/><path d=\"M17.41 7.96l-1.37-1.37c-.4-.4-.92-.59-1.43-.59-.52 0-1.04.2-1.43.59L10.3 9.45l-7.72 7.72c-.78.78-.78 2.05 0 2.83L4 21.41c.39.39.9.59 1.41.59.51 0 1.02-.2 1.41-.59l7.78-7.78 2.81-2.81c.8-.78.8-2.07 0-2.86zM5.41 20L4 18.59l7.72-7.72 1.47 1.35L5.41 20z\"/>\n",
              "  </svg>\n",
              "      </button>\n",
              "      \n",
              "  <style>\n",
              "    .colab-df-container {\n",
              "      display:flex;\n",
              "      flex-wrap:wrap;\n",
              "      gap: 12px;\n",
              "    }\n",
              "\n",
              "    .colab-df-convert {\n",
              "      background-color: #E8F0FE;\n",
              "      border: none;\n",
              "      border-radius: 50%;\n",
              "      cursor: pointer;\n",
              "      display: none;\n",
              "      fill: #1967D2;\n",
              "      height: 32px;\n",
              "      padding: 0 0 0 0;\n",
              "      width: 32px;\n",
              "    }\n",
              "\n",
              "    .colab-df-convert:hover {\n",
              "      background-color: #E2EBFA;\n",
              "      box-shadow: 0px 1px 2px rgba(60, 64, 67, 0.3), 0px 1px 3px 1px rgba(60, 64, 67, 0.15);\n",
              "      fill: #174EA6;\n",
              "    }\n",
              "\n",
              "    [theme=dark] .colab-df-convert {\n",
              "      background-color: #3B4455;\n",
              "      fill: #D2E3FC;\n",
              "    }\n",
              "\n",
              "    [theme=dark] .colab-df-convert:hover {\n",
              "      background-color: #434B5C;\n",
              "      box-shadow: 0px 1px 3px 1px rgba(0, 0, 0, 0.15);\n",
              "      filter: drop-shadow(0px 1px 2px rgba(0, 0, 0, 0.3));\n",
              "      fill: #FFFFFF;\n",
              "    }\n",
              "  </style>\n",
              "\n",
              "      <script>\n",
              "        const buttonEl =\n",
              "          document.querySelector('#df-3cb83ddb-1a60-461b-aa2d-4fd324c42c1c button.colab-df-convert');\n",
              "        buttonEl.style.display =\n",
              "          google.colab.kernel.accessAllowed ? 'block' : 'none';\n",
              "\n",
              "        async function convertToInteractive(key) {\n",
              "          const element = document.querySelector('#df-3cb83ddb-1a60-461b-aa2d-4fd324c42c1c');\n",
              "          const dataTable =\n",
              "            await google.colab.kernel.invokeFunction('convertToInteractive',\n",
              "                                                     [key], {});\n",
              "          if (!dataTable) return;\n",
              "\n",
              "          const docLinkHtml = 'Like what you see? Visit the ' +\n",
              "            '<a target=\"_blank\" href=https://colab.research.google.com/notebooks/data_table.ipynb>data table notebook</a>'\n",
              "            + ' to learn more about interactive tables.';\n",
              "          element.innerHTML = '';\n",
              "          dataTable['output_type'] = 'display_data';\n",
              "          await google.colab.output.renderOutput(dataTable, element);\n",
              "          const docLink = document.createElement('div');\n",
              "          docLink.innerHTML = docLinkHtml;\n",
              "          element.appendChild(docLink);\n",
              "        }\n",
              "      </script>\n",
              "    </div>\n",
              "  </div>\n",
              "  "
            ]
          },
          "metadata": {},
          "execution_count": 6
        }
      ],
      "source": [
        "df_fake = pd.read_csv('/content/gdrive/My Drive/Colab Notebooks/semester3/NLP/News/Fake.csv')\n",
        "#df_fake = pd.read_csv('Fake.csv')\n",
        "df_fake.head(5)"
      ]
    },
    {
      "cell_type": "code",
      "execution_count": 7,
      "metadata": {
        "colab": {
          "base_uri": "https://localhost:8080/",
          "height": 206
        },
        "id": "IgdTj_8T8sBS",
        "outputId": "d98dd943-207b-4029-a598-2897da41e19b"
      },
      "outputs": [
        {
          "output_type": "execute_result",
          "data": {
            "text/plain": [
              "                                               title  \\\n",
              "0  As U.S. budget fight looms, Republicans flip t...   \n",
              "1  U.S. military to accept transgender recruits o...   \n",
              "2  Senior U.S. Republican senator: 'Let Mr. Muell...   \n",
              "3  FBI Russia probe helped by Australian diplomat...   \n",
              "4  Trump wants Postal Service to charge 'much mor...   \n",
              "\n",
              "                                                text       subject  \\\n",
              "0  WASHINGTON (Reuters) - The head of a conservat...  politicsNews   \n",
              "1  WASHINGTON (Reuters) - Transgender people will...  politicsNews   \n",
              "2  WASHINGTON (Reuters) - The special counsel inv...  politicsNews   \n",
              "3  WASHINGTON (Reuters) - Trump campaign adviser ...  politicsNews   \n",
              "4  SEATTLE/WASHINGTON (Reuters) - President Donal...  politicsNews   \n",
              "\n",
              "                 date  \n",
              "0  December 31, 2017   \n",
              "1  December 29, 2017   \n",
              "2  December 31, 2017   \n",
              "3  December 30, 2017   \n",
              "4  December 29, 2017   "
            ],
            "text/html": [
              "\n",
              "  <div id=\"df-bcdfa049-0a84-43be-ab07-3dfb1b650b79\">\n",
              "    <div class=\"colab-df-container\">\n",
              "      <div>\n",
              "<style scoped>\n",
              "    .dataframe tbody tr th:only-of-type {\n",
              "        vertical-align: middle;\n",
              "    }\n",
              "\n",
              "    .dataframe tbody tr th {\n",
              "        vertical-align: top;\n",
              "    }\n",
              "\n",
              "    .dataframe thead th {\n",
              "        text-align: right;\n",
              "    }\n",
              "</style>\n",
              "<table border=\"1\" class=\"dataframe\">\n",
              "  <thead>\n",
              "    <tr style=\"text-align: right;\">\n",
              "      <th></th>\n",
              "      <th>title</th>\n",
              "      <th>text</th>\n",
              "      <th>subject</th>\n",
              "      <th>date</th>\n",
              "    </tr>\n",
              "  </thead>\n",
              "  <tbody>\n",
              "    <tr>\n",
              "      <th>0</th>\n",
              "      <td>As U.S. budget fight looms, Republicans flip t...</td>\n",
              "      <td>WASHINGTON (Reuters) - The head of a conservat...</td>\n",
              "      <td>politicsNews</td>\n",
              "      <td>December 31, 2017</td>\n",
              "    </tr>\n",
              "    <tr>\n",
              "      <th>1</th>\n",
              "      <td>U.S. military to accept transgender recruits o...</td>\n",
              "      <td>WASHINGTON (Reuters) - Transgender people will...</td>\n",
              "      <td>politicsNews</td>\n",
              "      <td>December 29, 2017</td>\n",
              "    </tr>\n",
              "    <tr>\n",
              "      <th>2</th>\n",
              "      <td>Senior U.S. Republican senator: 'Let Mr. Muell...</td>\n",
              "      <td>WASHINGTON (Reuters) - The special counsel inv...</td>\n",
              "      <td>politicsNews</td>\n",
              "      <td>December 31, 2017</td>\n",
              "    </tr>\n",
              "    <tr>\n",
              "      <th>3</th>\n",
              "      <td>FBI Russia probe helped by Australian diplomat...</td>\n",
              "      <td>WASHINGTON (Reuters) - Trump campaign adviser ...</td>\n",
              "      <td>politicsNews</td>\n",
              "      <td>December 30, 2017</td>\n",
              "    </tr>\n",
              "    <tr>\n",
              "      <th>4</th>\n",
              "      <td>Trump wants Postal Service to charge 'much mor...</td>\n",
              "      <td>SEATTLE/WASHINGTON (Reuters) - President Donal...</td>\n",
              "      <td>politicsNews</td>\n",
              "      <td>December 29, 2017</td>\n",
              "    </tr>\n",
              "  </tbody>\n",
              "</table>\n",
              "</div>\n",
              "      <button class=\"colab-df-convert\" onclick=\"convertToInteractive('df-bcdfa049-0a84-43be-ab07-3dfb1b650b79')\"\n",
              "              title=\"Convert this dataframe to an interactive table.\"\n",
              "              style=\"display:none;\">\n",
              "        \n",
              "  <svg xmlns=\"http://www.w3.org/2000/svg\" height=\"24px\"viewBox=\"0 0 24 24\"\n",
              "       width=\"24px\">\n",
              "    <path d=\"M0 0h24v24H0V0z\" fill=\"none\"/>\n",
              "    <path d=\"M18.56 5.44l.94 2.06.94-2.06 2.06-.94-2.06-.94-.94-2.06-.94 2.06-2.06.94zm-11 1L8.5 8.5l.94-2.06 2.06-.94-2.06-.94L8.5 2.5l-.94 2.06-2.06.94zm10 10l.94 2.06.94-2.06 2.06-.94-2.06-.94-.94-2.06-.94 2.06-2.06.94z\"/><path d=\"M17.41 7.96l-1.37-1.37c-.4-.4-.92-.59-1.43-.59-.52 0-1.04.2-1.43.59L10.3 9.45l-7.72 7.72c-.78.78-.78 2.05 0 2.83L4 21.41c.39.39.9.59 1.41.59.51 0 1.02-.2 1.41-.59l7.78-7.78 2.81-2.81c.8-.78.8-2.07 0-2.86zM5.41 20L4 18.59l7.72-7.72 1.47 1.35L5.41 20z\"/>\n",
              "  </svg>\n",
              "      </button>\n",
              "      \n",
              "  <style>\n",
              "    .colab-df-container {\n",
              "      display:flex;\n",
              "      flex-wrap:wrap;\n",
              "      gap: 12px;\n",
              "    }\n",
              "\n",
              "    .colab-df-convert {\n",
              "      background-color: #E8F0FE;\n",
              "      border: none;\n",
              "      border-radius: 50%;\n",
              "      cursor: pointer;\n",
              "      display: none;\n",
              "      fill: #1967D2;\n",
              "      height: 32px;\n",
              "      padding: 0 0 0 0;\n",
              "      width: 32px;\n",
              "    }\n",
              "\n",
              "    .colab-df-convert:hover {\n",
              "      background-color: #E2EBFA;\n",
              "      box-shadow: 0px 1px 2px rgba(60, 64, 67, 0.3), 0px 1px 3px 1px rgba(60, 64, 67, 0.15);\n",
              "      fill: #174EA6;\n",
              "    }\n",
              "\n",
              "    [theme=dark] .colab-df-convert {\n",
              "      background-color: #3B4455;\n",
              "      fill: #D2E3FC;\n",
              "    }\n",
              "\n",
              "    [theme=dark] .colab-df-convert:hover {\n",
              "      background-color: #434B5C;\n",
              "      box-shadow: 0px 1px 3px 1px rgba(0, 0, 0, 0.15);\n",
              "      filter: drop-shadow(0px 1px 2px rgba(0, 0, 0, 0.3));\n",
              "      fill: #FFFFFF;\n",
              "    }\n",
              "  </style>\n",
              "\n",
              "      <script>\n",
              "        const buttonEl =\n",
              "          document.querySelector('#df-bcdfa049-0a84-43be-ab07-3dfb1b650b79 button.colab-df-convert');\n",
              "        buttonEl.style.display =\n",
              "          google.colab.kernel.accessAllowed ? 'block' : 'none';\n",
              "\n",
              "        async function convertToInteractive(key) {\n",
              "          const element = document.querySelector('#df-bcdfa049-0a84-43be-ab07-3dfb1b650b79');\n",
              "          const dataTable =\n",
              "            await google.colab.kernel.invokeFunction('convertToInteractive',\n",
              "                                                     [key], {});\n",
              "          if (!dataTable) return;\n",
              "\n",
              "          const docLinkHtml = 'Like what you see? Visit the ' +\n",
              "            '<a target=\"_blank\" href=https://colab.research.google.com/notebooks/data_table.ipynb>data table notebook</a>'\n",
              "            + ' to learn more about interactive tables.';\n",
              "          element.innerHTML = '';\n",
              "          dataTable['output_type'] = 'display_data';\n",
              "          await google.colab.output.renderOutput(dataTable, element);\n",
              "          const docLink = document.createElement('div');\n",
              "          docLink.innerHTML = docLinkHtml;\n",
              "          element.appendChild(docLink);\n",
              "        }\n",
              "      </script>\n",
              "    </div>\n",
              "  </div>\n",
              "  "
            ]
          },
          "metadata": {},
          "execution_count": 7
        }
      ],
      "source": [
        "df_true = pd.read_csv('/content/gdrive/My Drive/Colab Notebooks/semester3/NLP/News/True.csv')\n",
        "#df_true = pd.read_csv('True.csv')\n",
        "df_true.head(5)"
      ]
    },
    {
      "cell_type": "code",
      "execution_count": 8,
      "metadata": {
        "colab": {
          "base_uri": "https://localhost:8080/",
          "height": 206
        },
        "id": "OS_MPVPD9A0U",
        "outputId": "22ebd0c0-43c4-473c-9517-8f0ea5d4d66b"
      },
      "outputs": [
        {
          "output_type": "execute_result",
          "data": {
            "text/plain": [
              "                                                   title  \\\n",
              "23476  McPain: John McCain Furious That Iran Treated ...   \n",
              "23477  JUSTICE? Yahoo Settles E-mail Privacy Class-ac...   \n",
              "23478  Sunnistan: US and Allied ‘Safe Zone’ Plan to T...   \n",
              "23479  How to Blow $700 Million: Al Jazeera America F...   \n",
              "23480  10 U.S. Navy Sailors Held by Iranian Military ...   \n",
              "\n",
              "                                                    text      subject  \\\n",
              "23476  21st Century Wire says As 21WIRE reported earl...  Middle-east   \n",
              "23477  21st Century Wire says It s a familiar theme. ...  Middle-east   \n",
              "23478  Patrick Henningsen  21st Century WireRemember ...  Middle-east   \n",
              "23479  21st Century Wire says Al Jazeera America will...  Middle-east   \n",
              "23480  21st Century Wire says As 21WIRE predicted in ...  Middle-east   \n",
              "\n",
              "                   date  class  \n",
              "23476  January 16, 2016      1  \n",
              "23477  January 16, 2016      1  \n",
              "23478  January 15, 2016      1  \n",
              "23479  January 14, 2016      1  \n",
              "23480  January 12, 2016      1  "
            ],
            "text/html": [
              "\n",
              "  <div id=\"df-b6a97b6f-450c-434e-a5e0-c5289961da0d\">\n",
              "    <div class=\"colab-df-container\">\n",
              "      <div>\n",
              "<style scoped>\n",
              "    .dataframe tbody tr th:only-of-type {\n",
              "        vertical-align: middle;\n",
              "    }\n",
              "\n",
              "    .dataframe tbody tr th {\n",
              "        vertical-align: top;\n",
              "    }\n",
              "\n",
              "    .dataframe thead th {\n",
              "        text-align: right;\n",
              "    }\n",
              "</style>\n",
              "<table border=\"1\" class=\"dataframe\">\n",
              "  <thead>\n",
              "    <tr style=\"text-align: right;\">\n",
              "      <th></th>\n",
              "      <th>title</th>\n",
              "      <th>text</th>\n",
              "      <th>subject</th>\n",
              "      <th>date</th>\n",
              "      <th>class</th>\n",
              "    </tr>\n",
              "  </thead>\n",
              "  <tbody>\n",
              "    <tr>\n",
              "      <th>23476</th>\n",
              "      <td>McPain: John McCain Furious That Iran Treated ...</td>\n",
              "      <td>21st Century Wire says As 21WIRE reported earl...</td>\n",
              "      <td>Middle-east</td>\n",
              "      <td>January 16, 2016</td>\n",
              "      <td>1</td>\n",
              "    </tr>\n",
              "    <tr>\n",
              "      <th>23477</th>\n",
              "      <td>JUSTICE? Yahoo Settles E-mail Privacy Class-ac...</td>\n",
              "      <td>21st Century Wire says It s a familiar theme. ...</td>\n",
              "      <td>Middle-east</td>\n",
              "      <td>January 16, 2016</td>\n",
              "      <td>1</td>\n",
              "    </tr>\n",
              "    <tr>\n",
              "      <th>23478</th>\n",
              "      <td>Sunnistan: US and Allied ‘Safe Zone’ Plan to T...</td>\n",
              "      <td>Patrick Henningsen  21st Century WireRemember ...</td>\n",
              "      <td>Middle-east</td>\n",
              "      <td>January 15, 2016</td>\n",
              "      <td>1</td>\n",
              "    </tr>\n",
              "    <tr>\n",
              "      <th>23479</th>\n",
              "      <td>How to Blow $700 Million: Al Jazeera America F...</td>\n",
              "      <td>21st Century Wire says Al Jazeera America will...</td>\n",
              "      <td>Middle-east</td>\n",
              "      <td>January 14, 2016</td>\n",
              "      <td>1</td>\n",
              "    </tr>\n",
              "    <tr>\n",
              "      <th>23480</th>\n",
              "      <td>10 U.S. Navy Sailors Held by Iranian Military ...</td>\n",
              "      <td>21st Century Wire says As 21WIRE predicted in ...</td>\n",
              "      <td>Middle-east</td>\n",
              "      <td>January 12, 2016</td>\n",
              "      <td>1</td>\n",
              "    </tr>\n",
              "  </tbody>\n",
              "</table>\n",
              "</div>\n",
              "      <button class=\"colab-df-convert\" onclick=\"convertToInteractive('df-b6a97b6f-450c-434e-a5e0-c5289961da0d')\"\n",
              "              title=\"Convert this dataframe to an interactive table.\"\n",
              "              style=\"display:none;\">\n",
              "        \n",
              "  <svg xmlns=\"http://www.w3.org/2000/svg\" height=\"24px\"viewBox=\"0 0 24 24\"\n",
              "       width=\"24px\">\n",
              "    <path d=\"M0 0h24v24H0V0z\" fill=\"none\"/>\n",
              "    <path d=\"M18.56 5.44l.94 2.06.94-2.06 2.06-.94-2.06-.94-.94-2.06-.94 2.06-2.06.94zm-11 1L8.5 8.5l.94-2.06 2.06-.94-2.06-.94L8.5 2.5l-.94 2.06-2.06.94zm10 10l.94 2.06.94-2.06 2.06-.94-2.06-.94-.94-2.06-.94 2.06-2.06.94z\"/><path d=\"M17.41 7.96l-1.37-1.37c-.4-.4-.92-.59-1.43-.59-.52 0-1.04.2-1.43.59L10.3 9.45l-7.72 7.72c-.78.78-.78 2.05 0 2.83L4 21.41c.39.39.9.59 1.41.59.51 0 1.02-.2 1.41-.59l7.78-7.78 2.81-2.81c.8-.78.8-2.07 0-2.86zM5.41 20L4 18.59l7.72-7.72 1.47 1.35L5.41 20z\"/>\n",
              "  </svg>\n",
              "      </button>\n",
              "      \n",
              "  <style>\n",
              "    .colab-df-container {\n",
              "      display:flex;\n",
              "      flex-wrap:wrap;\n",
              "      gap: 12px;\n",
              "    }\n",
              "\n",
              "    .colab-df-convert {\n",
              "      background-color: #E8F0FE;\n",
              "      border: none;\n",
              "      border-radius: 50%;\n",
              "      cursor: pointer;\n",
              "      display: none;\n",
              "      fill: #1967D2;\n",
              "      height: 32px;\n",
              "      padding: 0 0 0 0;\n",
              "      width: 32px;\n",
              "    }\n",
              "\n",
              "    .colab-df-convert:hover {\n",
              "      background-color: #E2EBFA;\n",
              "      box-shadow: 0px 1px 2px rgba(60, 64, 67, 0.3), 0px 1px 3px 1px rgba(60, 64, 67, 0.15);\n",
              "      fill: #174EA6;\n",
              "    }\n",
              "\n",
              "    [theme=dark] .colab-df-convert {\n",
              "      background-color: #3B4455;\n",
              "      fill: #D2E3FC;\n",
              "    }\n",
              "\n",
              "    [theme=dark] .colab-df-convert:hover {\n",
              "      background-color: #434B5C;\n",
              "      box-shadow: 0px 1px 3px 1px rgba(0, 0, 0, 0.15);\n",
              "      filter: drop-shadow(0px 1px 2px rgba(0, 0, 0, 0.3));\n",
              "      fill: #FFFFFF;\n",
              "    }\n",
              "  </style>\n",
              "\n",
              "      <script>\n",
              "        const buttonEl =\n",
              "          document.querySelector('#df-b6a97b6f-450c-434e-a5e0-c5289961da0d button.colab-df-convert');\n",
              "        buttonEl.style.display =\n",
              "          google.colab.kernel.accessAllowed ? 'block' : 'none';\n",
              "\n",
              "        async function convertToInteractive(key) {\n",
              "          const element = document.querySelector('#df-b6a97b6f-450c-434e-a5e0-c5289961da0d');\n",
              "          const dataTable =\n",
              "            await google.colab.kernel.invokeFunction('convertToInteractive',\n",
              "                                                     [key], {});\n",
              "          if (!dataTable) return;\n",
              "\n",
              "          const docLinkHtml = 'Like what you see? Visit the ' +\n",
              "            '<a target=\"_blank\" href=https://colab.research.google.com/notebooks/data_table.ipynb>data table notebook</a>'\n",
              "            + ' to learn more about interactive tables.';\n",
              "          element.innerHTML = '';\n",
              "          dataTable['output_type'] = 'display_data';\n",
              "          await google.colab.output.renderOutput(dataTable, element);\n",
              "          const docLink = document.createElement('div');\n",
              "          docLink.innerHTML = docLinkHtml;\n",
              "          element.appendChild(docLink);\n",
              "        }\n",
              "      </script>\n",
              "    </div>\n",
              "  </div>\n",
              "  "
            ]
          },
          "metadata": {},
          "execution_count": 8
        }
      ],
      "source": [
        "df_fake['class'] = 1\n",
        "df_fake.tail(5)"
      ]
    },
    {
      "cell_type": "code",
      "execution_count": 9,
      "metadata": {
        "colab": {
          "base_uri": "https://localhost:8080/",
          "height": 206
        },
        "id": "11TUfJ3H9Vpd",
        "outputId": "6187b74c-6592-422c-8059-d96da64f9a98"
      },
      "outputs": [
        {
          "output_type": "execute_result",
          "data": {
            "text/plain": [
              "                                                   title  \\\n",
              "21412  'Fully committed' NATO backs new U.S. approach...   \n",
              "21413  LexisNexis withdrew two products from Chinese ...   \n",
              "21414  Minsk cultural hub becomes haven from authorities   \n",
              "21415  Vatican upbeat on possibility of Pope Francis ...   \n",
              "21416  Indonesia to buy $1.14 billion worth of Russia...   \n",
              "\n",
              "                                                    text    subject  \\\n",
              "21412  BRUSSELS (Reuters) - NATO allies on Tuesday we...  worldnews   \n",
              "21413  LONDON (Reuters) - LexisNexis, a provider of l...  worldnews   \n",
              "21414  MINSK (Reuters) - In the shadow of disused Sov...  worldnews   \n",
              "21415  MOSCOW (Reuters) - Vatican Secretary of State ...  worldnews   \n",
              "21416  JAKARTA (Reuters) - Indonesia will buy 11 Sukh...  worldnews   \n",
              "\n",
              "                   date  class  \n",
              "21412  August 22, 2017       0  \n",
              "21413  August 22, 2017       0  \n",
              "21414  August 22, 2017       0  \n",
              "21415  August 22, 2017       0  \n",
              "21416  August 22, 2017       0  "
            ],
            "text/html": [
              "\n",
              "  <div id=\"df-1a430a48-bb25-4539-b276-88ab5eda5cd6\">\n",
              "    <div class=\"colab-df-container\">\n",
              "      <div>\n",
              "<style scoped>\n",
              "    .dataframe tbody tr th:only-of-type {\n",
              "        vertical-align: middle;\n",
              "    }\n",
              "\n",
              "    .dataframe tbody tr th {\n",
              "        vertical-align: top;\n",
              "    }\n",
              "\n",
              "    .dataframe thead th {\n",
              "        text-align: right;\n",
              "    }\n",
              "</style>\n",
              "<table border=\"1\" class=\"dataframe\">\n",
              "  <thead>\n",
              "    <tr style=\"text-align: right;\">\n",
              "      <th></th>\n",
              "      <th>title</th>\n",
              "      <th>text</th>\n",
              "      <th>subject</th>\n",
              "      <th>date</th>\n",
              "      <th>class</th>\n",
              "    </tr>\n",
              "  </thead>\n",
              "  <tbody>\n",
              "    <tr>\n",
              "      <th>21412</th>\n",
              "      <td>'Fully committed' NATO backs new U.S. approach...</td>\n",
              "      <td>BRUSSELS (Reuters) - NATO allies on Tuesday we...</td>\n",
              "      <td>worldnews</td>\n",
              "      <td>August 22, 2017</td>\n",
              "      <td>0</td>\n",
              "    </tr>\n",
              "    <tr>\n",
              "      <th>21413</th>\n",
              "      <td>LexisNexis withdrew two products from Chinese ...</td>\n",
              "      <td>LONDON (Reuters) - LexisNexis, a provider of l...</td>\n",
              "      <td>worldnews</td>\n",
              "      <td>August 22, 2017</td>\n",
              "      <td>0</td>\n",
              "    </tr>\n",
              "    <tr>\n",
              "      <th>21414</th>\n",
              "      <td>Minsk cultural hub becomes haven from authorities</td>\n",
              "      <td>MINSK (Reuters) - In the shadow of disused Sov...</td>\n",
              "      <td>worldnews</td>\n",
              "      <td>August 22, 2017</td>\n",
              "      <td>0</td>\n",
              "    </tr>\n",
              "    <tr>\n",
              "      <th>21415</th>\n",
              "      <td>Vatican upbeat on possibility of Pope Francis ...</td>\n",
              "      <td>MOSCOW (Reuters) - Vatican Secretary of State ...</td>\n",
              "      <td>worldnews</td>\n",
              "      <td>August 22, 2017</td>\n",
              "      <td>0</td>\n",
              "    </tr>\n",
              "    <tr>\n",
              "      <th>21416</th>\n",
              "      <td>Indonesia to buy $1.14 billion worth of Russia...</td>\n",
              "      <td>JAKARTA (Reuters) - Indonesia will buy 11 Sukh...</td>\n",
              "      <td>worldnews</td>\n",
              "      <td>August 22, 2017</td>\n",
              "      <td>0</td>\n",
              "    </tr>\n",
              "  </tbody>\n",
              "</table>\n",
              "</div>\n",
              "      <button class=\"colab-df-convert\" onclick=\"convertToInteractive('df-1a430a48-bb25-4539-b276-88ab5eda5cd6')\"\n",
              "              title=\"Convert this dataframe to an interactive table.\"\n",
              "              style=\"display:none;\">\n",
              "        \n",
              "  <svg xmlns=\"http://www.w3.org/2000/svg\" height=\"24px\"viewBox=\"0 0 24 24\"\n",
              "       width=\"24px\">\n",
              "    <path d=\"M0 0h24v24H0V0z\" fill=\"none\"/>\n",
              "    <path d=\"M18.56 5.44l.94 2.06.94-2.06 2.06-.94-2.06-.94-.94-2.06-.94 2.06-2.06.94zm-11 1L8.5 8.5l.94-2.06 2.06-.94-2.06-.94L8.5 2.5l-.94 2.06-2.06.94zm10 10l.94 2.06.94-2.06 2.06-.94-2.06-.94-.94-2.06-.94 2.06-2.06.94z\"/><path d=\"M17.41 7.96l-1.37-1.37c-.4-.4-.92-.59-1.43-.59-.52 0-1.04.2-1.43.59L10.3 9.45l-7.72 7.72c-.78.78-.78 2.05 0 2.83L4 21.41c.39.39.9.59 1.41.59.51 0 1.02-.2 1.41-.59l7.78-7.78 2.81-2.81c.8-.78.8-2.07 0-2.86zM5.41 20L4 18.59l7.72-7.72 1.47 1.35L5.41 20z\"/>\n",
              "  </svg>\n",
              "      </button>\n",
              "      \n",
              "  <style>\n",
              "    .colab-df-container {\n",
              "      display:flex;\n",
              "      flex-wrap:wrap;\n",
              "      gap: 12px;\n",
              "    }\n",
              "\n",
              "    .colab-df-convert {\n",
              "      background-color: #E8F0FE;\n",
              "      border: none;\n",
              "      border-radius: 50%;\n",
              "      cursor: pointer;\n",
              "      display: none;\n",
              "      fill: #1967D2;\n",
              "      height: 32px;\n",
              "      padding: 0 0 0 0;\n",
              "      width: 32px;\n",
              "    }\n",
              "\n",
              "    .colab-df-convert:hover {\n",
              "      background-color: #E2EBFA;\n",
              "      box-shadow: 0px 1px 2px rgba(60, 64, 67, 0.3), 0px 1px 3px 1px rgba(60, 64, 67, 0.15);\n",
              "      fill: #174EA6;\n",
              "    }\n",
              "\n",
              "    [theme=dark] .colab-df-convert {\n",
              "      background-color: #3B4455;\n",
              "      fill: #D2E3FC;\n",
              "    }\n",
              "\n",
              "    [theme=dark] .colab-df-convert:hover {\n",
              "      background-color: #434B5C;\n",
              "      box-shadow: 0px 1px 3px 1px rgba(0, 0, 0, 0.15);\n",
              "      filter: drop-shadow(0px 1px 2px rgba(0, 0, 0, 0.3));\n",
              "      fill: #FFFFFF;\n",
              "    }\n",
              "  </style>\n",
              "\n",
              "      <script>\n",
              "        const buttonEl =\n",
              "          document.querySelector('#df-1a430a48-bb25-4539-b276-88ab5eda5cd6 button.colab-df-convert');\n",
              "        buttonEl.style.display =\n",
              "          google.colab.kernel.accessAllowed ? 'block' : 'none';\n",
              "\n",
              "        async function convertToInteractive(key) {\n",
              "          const element = document.querySelector('#df-1a430a48-bb25-4539-b276-88ab5eda5cd6');\n",
              "          const dataTable =\n",
              "            await google.colab.kernel.invokeFunction('convertToInteractive',\n",
              "                                                     [key], {});\n",
              "          if (!dataTable) return;\n",
              "\n",
              "          const docLinkHtml = 'Like what you see? Visit the ' +\n",
              "            '<a target=\"_blank\" href=https://colab.research.google.com/notebooks/data_table.ipynb>data table notebook</a>'\n",
              "            + ' to learn more about interactive tables.';\n",
              "          element.innerHTML = '';\n",
              "          dataTable['output_type'] = 'display_data';\n",
              "          await google.colab.output.renderOutput(dataTable, element);\n",
              "          const docLink = document.createElement('div');\n",
              "          docLink.innerHTML = docLinkHtml;\n",
              "          element.appendChild(docLink);\n",
              "        }\n",
              "      </script>\n",
              "    </div>\n",
              "  </div>\n",
              "  "
            ]
          },
          "metadata": {},
          "execution_count": 9
        }
      ],
      "source": [
        "df_true['class'] = 0\n",
        "df_true.tail(5)"
      ]
    },
    {
      "cell_type": "code",
      "execution_count": 10,
      "metadata": {
        "colab": {
          "base_uri": "https://localhost:8080/",
          "height": 206
        },
        "id": "aw7AGxtE9Y-L",
        "outputId": "1775d37e-8623-4553-c577-24f4a2aa1545"
      },
      "outputs": [
        {
          "output_type": "execute_result",
          "data": {
            "text/plain": [
              "                                               title  \\\n",
              "0   Donald Trump Sends Out Embarrassing New Year’...   \n",
              "1   Drunk Bragging Trump Staffer Started Russian ...   \n",
              "2   Sheriff David Clarke Becomes An Internet Joke...   \n",
              "3   Trump Is So Obsessed He Even Has Obama’s Name...   \n",
              "4   Pope Francis Just Called Out Donald Trump Dur...   \n",
              "\n",
              "                                                text subject  \\\n",
              "0  Donald Trump just couldn t wish all Americans ...    News   \n",
              "1  House Intelligence Committee Chairman Devin Nu...    News   \n",
              "2  On Friday, it was revealed that former Milwauk...    News   \n",
              "3  On Christmas day, Donald Trump announced that ...    News   \n",
              "4  Pope Francis used his annual Christmas Day mes...    News   \n",
              "\n",
              "                date  class  \n",
              "0  December 31, 2017      1  \n",
              "1  December 31, 2017      1  \n",
              "2  December 30, 2017      1  \n",
              "3  December 29, 2017      1  \n",
              "4  December 25, 2017      1  "
            ],
            "text/html": [
              "\n",
              "  <div id=\"df-6c90fd3e-941c-4a6e-89e8-784d5f73b48c\">\n",
              "    <div class=\"colab-df-container\">\n",
              "      <div>\n",
              "<style scoped>\n",
              "    .dataframe tbody tr th:only-of-type {\n",
              "        vertical-align: middle;\n",
              "    }\n",
              "\n",
              "    .dataframe tbody tr th {\n",
              "        vertical-align: top;\n",
              "    }\n",
              "\n",
              "    .dataframe thead th {\n",
              "        text-align: right;\n",
              "    }\n",
              "</style>\n",
              "<table border=\"1\" class=\"dataframe\">\n",
              "  <thead>\n",
              "    <tr style=\"text-align: right;\">\n",
              "      <th></th>\n",
              "      <th>title</th>\n",
              "      <th>text</th>\n",
              "      <th>subject</th>\n",
              "      <th>date</th>\n",
              "      <th>class</th>\n",
              "    </tr>\n",
              "  </thead>\n",
              "  <tbody>\n",
              "    <tr>\n",
              "      <th>0</th>\n",
              "      <td>Donald Trump Sends Out Embarrassing New Year’...</td>\n",
              "      <td>Donald Trump just couldn t wish all Americans ...</td>\n",
              "      <td>News</td>\n",
              "      <td>December 31, 2017</td>\n",
              "      <td>1</td>\n",
              "    </tr>\n",
              "    <tr>\n",
              "      <th>1</th>\n",
              "      <td>Drunk Bragging Trump Staffer Started Russian ...</td>\n",
              "      <td>House Intelligence Committee Chairman Devin Nu...</td>\n",
              "      <td>News</td>\n",
              "      <td>December 31, 2017</td>\n",
              "      <td>1</td>\n",
              "    </tr>\n",
              "    <tr>\n",
              "      <th>2</th>\n",
              "      <td>Sheriff David Clarke Becomes An Internet Joke...</td>\n",
              "      <td>On Friday, it was revealed that former Milwauk...</td>\n",
              "      <td>News</td>\n",
              "      <td>December 30, 2017</td>\n",
              "      <td>1</td>\n",
              "    </tr>\n",
              "    <tr>\n",
              "      <th>3</th>\n",
              "      <td>Trump Is So Obsessed He Even Has Obama’s Name...</td>\n",
              "      <td>On Christmas day, Donald Trump announced that ...</td>\n",
              "      <td>News</td>\n",
              "      <td>December 29, 2017</td>\n",
              "      <td>1</td>\n",
              "    </tr>\n",
              "    <tr>\n",
              "      <th>4</th>\n",
              "      <td>Pope Francis Just Called Out Donald Trump Dur...</td>\n",
              "      <td>Pope Francis used his annual Christmas Day mes...</td>\n",
              "      <td>News</td>\n",
              "      <td>December 25, 2017</td>\n",
              "      <td>1</td>\n",
              "    </tr>\n",
              "  </tbody>\n",
              "</table>\n",
              "</div>\n",
              "      <button class=\"colab-df-convert\" onclick=\"convertToInteractive('df-6c90fd3e-941c-4a6e-89e8-784d5f73b48c')\"\n",
              "              title=\"Convert this dataframe to an interactive table.\"\n",
              "              style=\"display:none;\">\n",
              "        \n",
              "  <svg xmlns=\"http://www.w3.org/2000/svg\" height=\"24px\"viewBox=\"0 0 24 24\"\n",
              "       width=\"24px\">\n",
              "    <path d=\"M0 0h24v24H0V0z\" fill=\"none\"/>\n",
              "    <path d=\"M18.56 5.44l.94 2.06.94-2.06 2.06-.94-2.06-.94-.94-2.06-.94 2.06-2.06.94zm-11 1L8.5 8.5l.94-2.06 2.06-.94-2.06-.94L8.5 2.5l-.94 2.06-2.06.94zm10 10l.94 2.06.94-2.06 2.06-.94-2.06-.94-.94-2.06-.94 2.06-2.06.94z\"/><path d=\"M17.41 7.96l-1.37-1.37c-.4-.4-.92-.59-1.43-.59-.52 0-1.04.2-1.43.59L10.3 9.45l-7.72 7.72c-.78.78-.78 2.05 0 2.83L4 21.41c.39.39.9.59 1.41.59.51 0 1.02-.2 1.41-.59l7.78-7.78 2.81-2.81c.8-.78.8-2.07 0-2.86zM5.41 20L4 18.59l7.72-7.72 1.47 1.35L5.41 20z\"/>\n",
              "  </svg>\n",
              "      </button>\n",
              "      \n",
              "  <style>\n",
              "    .colab-df-container {\n",
              "      display:flex;\n",
              "      flex-wrap:wrap;\n",
              "      gap: 12px;\n",
              "    }\n",
              "\n",
              "    .colab-df-convert {\n",
              "      background-color: #E8F0FE;\n",
              "      border: none;\n",
              "      border-radius: 50%;\n",
              "      cursor: pointer;\n",
              "      display: none;\n",
              "      fill: #1967D2;\n",
              "      height: 32px;\n",
              "      padding: 0 0 0 0;\n",
              "      width: 32px;\n",
              "    }\n",
              "\n",
              "    .colab-df-convert:hover {\n",
              "      background-color: #E2EBFA;\n",
              "      box-shadow: 0px 1px 2px rgba(60, 64, 67, 0.3), 0px 1px 3px 1px rgba(60, 64, 67, 0.15);\n",
              "      fill: #174EA6;\n",
              "    }\n",
              "\n",
              "    [theme=dark] .colab-df-convert {\n",
              "      background-color: #3B4455;\n",
              "      fill: #D2E3FC;\n",
              "    }\n",
              "\n",
              "    [theme=dark] .colab-df-convert:hover {\n",
              "      background-color: #434B5C;\n",
              "      box-shadow: 0px 1px 3px 1px rgba(0, 0, 0, 0.15);\n",
              "      filter: drop-shadow(0px 1px 2px rgba(0, 0, 0, 0.3));\n",
              "      fill: #FFFFFF;\n",
              "    }\n",
              "  </style>\n",
              "\n",
              "      <script>\n",
              "        const buttonEl =\n",
              "          document.querySelector('#df-6c90fd3e-941c-4a6e-89e8-784d5f73b48c button.colab-df-convert');\n",
              "        buttonEl.style.display =\n",
              "          google.colab.kernel.accessAllowed ? 'block' : 'none';\n",
              "\n",
              "        async function convertToInteractive(key) {\n",
              "          const element = document.querySelector('#df-6c90fd3e-941c-4a6e-89e8-784d5f73b48c');\n",
              "          const dataTable =\n",
              "            await google.colab.kernel.invokeFunction('convertToInteractive',\n",
              "                                                     [key], {});\n",
              "          if (!dataTable) return;\n",
              "\n",
              "          const docLinkHtml = 'Like what you see? Visit the ' +\n",
              "            '<a target=\"_blank\" href=https://colab.research.google.com/notebooks/data_table.ipynb>data table notebook</a>'\n",
              "            + ' to learn more about interactive tables.';\n",
              "          element.innerHTML = '';\n",
              "          dataTable['output_type'] = 'display_data';\n",
              "          await google.colab.output.renderOutput(dataTable, element);\n",
              "          const docLink = document.createElement('div');\n",
              "          docLink.innerHTML = docLinkHtml;\n",
              "          element.appendChild(docLink);\n",
              "        }\n",
              "      </script>\n",
              "    </div>\n",
              "  </div>\n",
              "  "
            ]
          },
          "metadata": {},
          "execution_count": 10
        }
      ],
      "source": [
        "#Concat fake and true dataset and cretae a marged dataset\n",
        "df_marge = pd.concat([df_fake,df_true], axis = 0)\n",
        "df_marge.head(5)"
      ]
    },
    {
      "cell_type": "code",
      "execution_count": 11,
      "metadata": {
        "colab": {
          "base_uri": "https://localhost:8080/"
        },
        "id": "HQ7Hq5vQBT20",
        "outputId": "7c2c39d2-1a11-4839-9bbb-3139f4bd5019"
      },
      "outputs": [
        {
          "output_type": "execute_result",
          "data": {
            "text/plain": [
              "Index(['title', 'text', 'subject', 'date', 'class'], dtype='object')"
            ]
          },
          "metadata": {},
          "execution_count": 11
        }
      ],
      "source": [
        "#Show column in marged dataset\n",
        "df_marge.columns"
      ]
    },
    {
      "cell_type": "code",
      "execution_count": 12,
      "metadata": {
        "id": "Vt6uDT-wE2bq"
      },
      "outputs": [],
      "source": [
        "#Drop un-important columns from marged dataset\n",
        "df = df_marge.drop([\"title\", \"subject\",\"date\"], axis = 1)"
      ]
    },
    {
      "cell_type": "code",
      "execution_count": 13,
      "metadata": {
        "colab": {
          "base_uri": "https://localhost:8080/"
        },
        "id": "Z6_81HVJFVVP",
        "outputId": "fe1fbfa6-2747-4a71-9569-063023908736"
      },
      "outputs": [
        {
          "output_type": "execute_result",
          "data": {
            "text/plain": [
              "text     0\n",
              "class    0\n",
              "dtype: int64"
            ]
          },
          "metadata": {},
          "execution_count": 13
        }
      ],
      "source": [
        "#Look for Null data\n",
        "df.isnull().sum()"
      ]
    },
    {
      "cell_type": "code",
      "execution_count": 14,
      "metadata": {
        "colab": {
          "base_uri": "https://localhost:8080/",
          "height": 363
        },
        "id": "HY3NuxEIFnIQ",
        "outputId": "52d0bcc7-12b9-4fde-e5e2-af6d0b447537"
      },
      "outputs": [
        {
          "output_type": "execute_result",
          "data": {
            "text/plain": [
              "                                                    text  class\n",
              "5164   You know what scares Republicans more than bla...      1\n",
              "22937   J.R. Smith 21st Century WireFor the last two ...      1\n",
              "128    We are 308 days into 2017, and so far there ha...      1\n",
              "14987  MANILA (Reuters) - U.S. President Donald Trump...      0\n",
              "10174  ALBANY, N.Y. (Reuters) - A New York appeals co...      0\n",
              "8800   Rand Paul and Carly Fiorina have recently rece...      1\n",
              "21990  Robert Parry Consortium NewsMake no mistake ab...      1\n",
              "15586   We came,we saw, he died    HRCIn short, witho...      1\n",
              "11205  NEW YORK - Democrat Hillary Clinton plans to p...      0\n",
              "1424   The story of a slain DNC staffer complicates a...      1"
            ],
            "text/html": [
              "\n",
              "  <div id=\"df-7937cdf8-5fd9-4442-8f6a-062998f86d61\">\n",
              "    <div class=\"colab-df-container\">\n",
              "      <div>\n",
              "<style scoped>\n",
              "    .dataframe tbody tr th:only-of-type {\n",
              "        vertical-align: middle;\n",
              "    }\n",
              "\n",
              "    .dataframe tbody tr th {\n",
              "        vertical-align: top;\n",
              "    }\n",
              "\n",
              "    .dataframe thead th {\n",
              "        text-align: right;\n",
              "    }\n",
              "</style>\n",
              "<table border=\"1\" class=\"dataframe\">\n",
              "  <thead>\n",
              "    <tr style=\"text-align: right;\">\n",
              "      <th></th>\n",
              "      <th>text</th>\n",
              "      <th>class</th>\n",
              "    </tr>\n",
              "  </thead>\n",
              "  <tbody>\n",
              "    <tr>\n",
              "      <th>5164</th>\n",
              "      <td>You know what scares Republicans more than bla...</td>\n",
              "      <td>1</td>\n",
              "    </tr>\n",
              "    <tr>\n",
              "      <th>22937</th>\n",
              "      <td>J.R. Smith 21st Century WireFor the last two ...</td>\n",
              "      <td>1</td>\n",
              "    </tr>\n",
              "    <tr>\n",
              "      <th>128</th>\n",
              "      <td>We are 308 days into 2017, and so far there ha...</td>\n",
              "      <td>1</td>\n",
              "    </tr>\n",
              "    <tr>\n",
              "      <th>14987</th>\n",
              "      <td>MANILA (Reuters) - U.S. President Donald Trump...</td>\n",
              "      <td>0</td>\n",
              "    </tr>\n",
              "    <tr>\n",
              "      <th>10174</th>\n",
              "      <td>ALBANY, N.Y. (Reuters) - A New York appeals co...</td>\n",
              "      <td>0</td>\n",
              "    </tr>\n",
              "    <tr>\n",
              "      <th>8800</th>\n",
              "      <td>Rand Paul and Carly Fiorina have recently rece...</td>\n",
              "      <td>1</td>\n",
              "    </tr>\n",
              "    <tr>\n",
              "      <th>21990</th>\n",
              "      <td>Robert Parry Consortium NewsMake no mistake ab...</td>\n",
              "      <td>1</td>\n",
              "    </tr>\n",
              "    <tr>\n",
              "      <th>15586</th>\n",
              "      <td>We came,we saw, he died    HRCIn short, witho...</td>\n",
              "      <td>1</td>\n",
              "    </tr>\n",
              "    <tr>\n",
              "      <th>11205</th>\n",
              "      <td>NEW YORK - Democrat Hillary Clinton plans to p...</td>\n",
              "      <td>0</td>\n",
              "    </tr>\n",
              "    <tr>\n",
              "      <th>1424</th>\n",
              "      <td>The story of a slain DNC staffer complicates a...</td>\n",
              "      <td>1</td>\n",
              "    </tr>\n",
              "  </tbody>\n",
              "</table>\n",
              "</div>\n",
              "      <button class=\"colab-df-convert\" onclick=\"convertToInteractive('df-7937cdf8-5fd9-4442-8f6a-062998f86d61')\"\n",
              "              title=\"Convert this dataframe to an interactive table.\"\n",
              "              style=\"display:none;\">\n",
              "        \n",
              "  <svg xmlns=\"http://www.w3.org/2000/svg\" height=\"24px\"viewBox=\"0 0 24 24\"\n",
              "       width=\"24px\">\n",
              "    <path d=\"M0 0h24v24H0V0z\" fill=\"none\"/>\n",
              "    <path d=\"M18.56 5.44l.94 2.06.94-2.06 2.06-.94-2.06-.94-.94-2.06-.94 2.06-2.06.94zm-11 1L8.5 8.5l.94-2.06 2.06-.94-2.06-.94L8.5 2.5l-.94 2.06-2.06.94zm10 10l.94 2.06.94-2.06 2.06-.94-2.06-.94-.94-2.06-.94 2.06-2.06.94z\"/><path d=\"M17.41 7.96l-1.37-1.37c-.4-.4-.92-.59-1.43-.59-.52 0-1.04.2-1.43.59L10.3 9.45l-7.72 7.72c-.78.78-.78 2.05 0 2.83L4 21.41c.39.39.9.59 1.41.59.51 0 1.02-.2 1.41-.59l7.78-7.78 2.81-2.81c.8-.78.8-2.07 0-2.86zM5.41 20L4 18.59l7.72-7.72 1.47 1.35L5.41 20z\"/>\n",
              "  </svg>\n",
              "      </button>\n",
              "      \n",
              "  <style>\n",
              "    .colab-df-container {\n",
              "      display:flex;\n",
              "      flex-wrap:wrap;\n",
              "      gap: 12px;\n",
              "    }\n",
              "\n",
              "    .colab-df-convert {\n",
              "      background-color: #E8F0FE;\n",
              "      border: none;\n",
              "      border-radius: 50%;\n",
              "      cursor: pointer;\n",
              "      display: none;\n",
              "      fill: #1967D2;\n",
              "      height: 32px;\n",
              "      padding: 0 0 0 0;\n",
              "      width: 32px;\n",
              "    }\n",
              "\n",
              "    .colab-df-convert:hover {\n",
              "      background-color: #E2EBFA;\n",
              "      box-shadow: 0px 1px 2px rgba(60, 64, 67, 0.3), 0px 1px 3px 1px rgba(60, 64, 67, 0.15);\n",
              "      fill: #174EA6;\n",
              "    }\n",
              "\n",
              "    [theme=dark] .colab-df-convert {\n",
              "      background-color: #3B4455;\n",
              "      fill: #D2E3FC;\n",
              "    }\n",
              "\n",
              "    [theme=dark] .colab-df-convert:hover {\n",
              "      background-color: #434B5C;\n",
              "      box-shadow: 0px 1px 3px 1px rgba(0, 0, 0, 0.15);\n",
              "      filter: drop-shadow(0px 1px 2px rgba(0, 0, 0, 0.3));\n",
              "      fill: #FFFFFF;\n",
              "    }\n",
              "  </style>\n",
              "\n",
              "      <script>\n",
              "        const buttonEl =\n",
              "          document.querySelector('#df-7937cdf8-5fd9-4442-8f6a-062998f86d61 button.colab-df-convert');\n",
              "        buttonEl.style.display =\n",
              "          google.colab.kernel.accessAllowed ? 'block' : 'none';\n",
              "\n",
              "        async function convertToInteractive(key) {\n",
              "          const element = document.querySelector('#df-7937cdf8-5fd9-4442-8f6a-062998f86d61');\n",
              "          const dataTable =\n",
              "            await google.colab.kernel.invokeFunction('convertToInteractive',\n",
              "                                                     [key], {});\n",
              "          if (!dataTable) return;\n",
              "\n",
              "          const docLinkHtml = 'Like what you see? Visit the ' +\n",
              "            '<a target=\"_blank\" href=https://colab.research.google.com/notebooks/data_table.ipynb>data table notebook</a>'\n",
              "            + ' to learn more about interactive tables.';\n",
              "          element.innerHTML = '';\n",
              "          dataTable['output_type'] = 'display_data';\n",
              "          await google.colab.output.renderOutput(dataTable, element);\n",
              "          const docLink = document.createElement('div');\n",
              "          docLink.innerHTML = docLinkHtml;\n",
              "          element.appendChild(docLink);\n",
              "        }\n",
              "      </script>\n",
              "    </div>\n",
              "  </div>\n",
              "  "
            ]
          },
          "metadata": {},
          "execution_count": 14
        }
      ],
      "source": [
        "#Shuffle data in dataset\n",
        "df = df.sample(frac = 1)\n",
        "df.head(10)"
      ]
    },
    {
      "cell_type": "code",
      "source": [
        "df.shape"
      ],
      "metadata": {
        "id": "0ot7j39sYdx1",
        "outputId": "fc26baf6-2eb1-4829-ebcc-04864beedefa",
        "colab": {
          "base_uri": "https://localhost:8080/"
        }
      },
      "execution_count": 33,
      "outputs": [
        {
          "output_type": "execute_result",
          "data": {
            "text/plain": [
              "(44898, 2)"
            ]
          },
          "metadata": {},
          "execution_count": 33
        }
      ]
    },
    {
      "cell_type": "code",
      "execution_count": 15,
      "metadata": {
        "colab": {
          "base_uri": "https://localhost:8080/",
          "height": 206
        },
        "id": "yWbPy5GoGWWh",
        "outputId": "7960962f-8a8c-4cdf-f5e8-0e7edb53ee48"
      },
      "outputs": [
        {
          "output_type": "execute_result",
          "data": {
            "text/plain": [
              "                                                text  class\n",
              "0  You know what scares Republicans more than bla...      1\n",
              "1   J.R. Smith 21st Century WireFor the last two ...      1\n",
              "2  We are 308 days into 2017, and so far there ha...      1\n",
              "3  MANILA (Reuters) - U.S. President Donald Trump...      0\n",
              "4  ALBANY, N.Y. (Reuters) - A New York appeals co...      0"
            ],
            "text/html": [
              "\n",
              "  <div id=\"df-70fcc1db-7812-420a-b0c3-7643577d16ac\">\n",
              "    <div class=\"colab-df-container\">\n",
              "      <div>\n",
              "<style scoped>\n",
              "    .dataframe tbody tr th:only-of-type {\n",
              "        vertical-align: middle;\n",
              "    }\n",
              "\n",
              "    .dataframe tbody tr th {\n",
              "        vertical-align: top;\n",
              "    }\n",
              "\n",
              "    .dataframe thead th {\n",
              "        text-align: right;\n",
              "    }\n",
              "</style>\n",
              "<table border=\"1\" class=\"dataframe\">\n",
              "  <thead>\n",
              "    <tr style=\"text-align: right;\">\n",
              "      <th></th>\n",
              "      <th>text</th>\n",
              "      <th>class</th>\n",
              "    </tr>\n",
              "  </thead>\n",
              "  <tbody>\n",
              "    <tr>\n",
              "      <th>0</th>\n",
              "      <td>You know what scares Republicans more than bla...</td>\n",
              "      <td>1</td>\n",
              "    </tr>\n",
              "    <tr>\n",
              "      <th>1</th>\n",
              "      <td>J.R. Smith 21st Century WireFor the last two ...</td>\n",
              "      <td>1</td>\n",
              "    </tr>\n",
              "    <tr>\n",
              "      <th>2</th>\n",
              "      <td>We are 308 days into 2017, and so far there ha...</td>\n",
              "      <td>1</td>\n",
              "    </tr>\n",
              "    <tr>\n",
              "      <th>3</th>\n",
              "      <td>MANILA (Reuters) - U.S. President Donald Trump...</td>\n",
              "      <td>0</td>\n",
              "    </tr>\n",
              "    <tr>\n",
              "      <th>4</th>\n",
              "      <td>ALBANY, N.Y. (Reuters) - A New York appeals co...</td>\n",
              "      <td>0</td>\n",
              "    </tr>\n",
              "  </tbody>\n",
              "</table>\n",
              "</div>\n",
              "      <button class=\"colab-df-convert\" onclick=\"convertToInteractive('df-70fcc1db-7812-420a-b0c3-7643577d16ac')\"\n",
              "              title=\"Convert this dataframe to an interactive table.\"\n",
              "              style=\"display:none;\">\n",
              "        \n",
              "  <svg xmlns=\"http://www.w3.org/2000/svg\" height=\"24px\"viewBox=\"0 0 24 24\"\n",
              "       width=\"24px\">\n",
              "    <path d=\"M0 0h24v24H0V0z\" fill=\"none\"/>\n",
              "    <path d=\"M18.56 5.44l.94 2.06.94-2.06 2.06-.94-2.06-.94-.94-2.06-.94 2.06-2.06.94zm-11 1L8.5 8.5l.94-2.06 2.06-.94-2.06-.94L8.5 2.5l-.94 2.06-2.06.94zm10 10l.94 2.06.94-2.06 2.06-.94-2.06-.94-.94-2.06-.94 2.06-2.06.94z\"/><path d=\"M17.41 7.96l-1.37-1.37c-.4-.4-.92-.59-1.43-.59-.52 0-1.04.2-1.43.59L10.3 9.45l-7.72 7.72c-.78.78-.78 2.05 0 2.83L4 21.41c.39.39.9.59 1.41.59.51 0 1.02-.2 1.41-.59l7.78-7.78 2.81-2.81c.8-.78.8-2.07 0-2.86zM5.41 20L4 18.59l7.72-7.72 1.47 1.35L5.41 20z\"/>\n",
              "  </svg>\n",
              "      </button>\n",
              "      \n",
              "  <style>\n",
              "    .colab-df-container {\n",
              "      display:flex;\n",
              "      flex-wrap:wrap;\n",
              "      gap: 12px;\n",
              "    }\n",
              "\n",
              "    .colab-df-convert {\n",
              "      background-color: #E8F0FE;\n",
              "      border: none;\n",
              "      border-radius: 50%;\n",
              "      cursor: pointer;\n",
              "      display: none;\n",
              "      fill: #1967D2;\n",
              "      height: 32px;\n",
              "      padding: 0 0 0 0;\n",
              "      width: 32px;\n",
              "    }\n",
              "\n",
              "    .colab-df-convert:hover {\n",
              "      background-color: #E2EBFA;\n",
              "      box-shadow: 0px 1px 2px rgba(60, 64, 67, 0.3), 0px 1px 3px 1px rgba(60, 64, 67, 0.15);\n",
              "      fill: #174EA6;\n",
              "    }\n",
              "\n",
              "    [theme=dark] .colab-df-convert {\n",
              "      background-color: #3B4455;\n",
              "      fill: #D2E3FC;\n",
              "    }\n",
              "\n",
              "    [theme=dark] .colab-df-convert:hover {\n",
              "      background-color: #434B5C;\n",
              "      box-shadow: 0px 1px 3px 1px rgba(0, 0, 0, 0.15);\n",
              "      filter: drop-shadow(0px 1px 2px rgba(0, 0, 0, 0.3));\n",
              "      fill: #FFFFFF;\n",
              "    }\n",
              "  </style>\n",
              "\n",
              "      <script>\n",
              "        const buttonEl =\n",
              "          document.querySelector('#df-70fcc1db-7812-420a-b0c3-7643577d16ac button.colab-df-convert');\n",
              "        buttonEl.style.display =\n",
              "          google.colab.kernel.accessAllowed ? 'block' : 'none';\n",
              "\n",
              "        async function convertToInteractive(key) {\n",
              "          const element = document.querySelector('#df-70fcc1db-7812-420a-b0c3-7643577d16ac');\n",
              "          const dataTable =\n",
              "            await google.colab.kernel.invokeFunction('convertToInteractive',\n",
              "                                                     [key], {});\n",
              "          if (!dataTable) return;\n",
              "\n",
              "          const docLinkHtml = 'Like what you see? Visit the ' +\n",
              "            '<a target=\"_blank\" href=https://colab.research.google.com/notebooks/data_table.ipynb>data table notebook</a>'\n",
              "            + ' to learn more about interactive tables.';\n",
              "          element.innerHTML = '';\n",
              "          dataTable['output_type'] = 'display_data';\n",
              "          await google.colab.output.renderOutput(dataTable, element);\n",
              "          const docLink = document.createElement('div');\n",
              "          docLink.innerHTML = docLinkHtml;\n",
              "          element.appendChild(docLink);\n",
              "        }\n",
              "      </script>\n",
              "    </div>\n",
              "  </div>\n",
              "  "
            ]
          },
          "metadata": {},
          "execution_count": 15
        }
      ],
      "source": [
        "#Handle index numbers\n",
        "df.reset_index(inplace = True)\n",
        "df.drop([\"index\"], axis = 1, inplace = True)\n",
        "df.head(5)"
      ]
    },
    {
      "cell_type": "code",
      "execution_count": 16,
      "metadata": {
        "colab": {
          "base_uri": "https://localhost:8080/"
        },
        "id": "wiOU_WqfGr1Q",
        "outputId": "f10d1428-4062-4131-ca3b-6ff26390acdb"
      },
      "outputs": [
        {
          "output_type": "execute_result",
          "data": {
            "text/plain": [
              "1    0.522985\n",
              "0    0.477015\n",
              "Name: class, dtype: float64"
            ]
          },
          "metadata": {},
          "execution_count": 16
        }
      ],
      "source": [
        "# 52% of news are fake and 47.7% news is true\n",
        "df['class'].value_counts(normalize=True)"
      ]
    },
    {
      "cell_type": "markdown",
      "metadata": {
        "id": "J5oEBY1GEw4z"
      },
      "source": [
        "### <font color=\"blue\">**Remove Stopwords and Delimeter**</font>"
      ]
    },
    {
      "cell_type": "code",
      "execution_count": 17,
      "metadata": {
        "id": "m3zhstWREdYi",
        "outputId": "8a0c539b-601e-452a-d719-58b07ae864a8",
        "colab": {
          "base_uri": "https://localhost:8080/",
          "height": 414
        }
      },
      "outputs": [
        {
          "data": {
            "text/plain": [
              "0        [know, scares, Republicans, black, people, vot...\n",
              "1        [JR, Smith, 21st, Century, WireFor, last, two,...\n",
              "2        [308, days, 2017, far, 378, mass, shootings, d...\n",
              "3        [MANILA, Reuters, US, President, Donald, Trump...\n",
              "4        [ALBANY, NY, Reuters, New, York, appeals, cour...\n",
              "                               ...                        \n",
              "44893    [imagine, many, brilliant, young, American, mi...\n",
              "44894    [Obama, run, use, every, dirty, political, Chi...\n",
              "44895    [WASHINGTON, Reuters, US, presidential, candid...\n",
              "44896    [Nothing, says, respect, America, elected, off...\n",
              "44897    [BALTIMORE, prospect, running, reelection, Don...\n",
              "Name: text, Length: 44898, dtype: object"
            ]
          },
          "execution_count": 17,
          "metadata": {},
          "output_type": "execute_result"
        },
        {
          "data": {
            "text/html": [
              "\n",
              "  <div id=\"df-9a842d96-35d9-4215-b2d8-5c3a91c3de11\">\n",
              "    <div class=\"colab-df-container\">\n",
              "      <div>\n",
              "<style scoped>\n",
              "    .dataframe tbody tr th:only-of-type {\n",
              "        vertical-align: middle;\n",
              "    }\n",
              "\n",
              "    .dataframe tbody tr th {\n",
              "        vertical-align: top;\n",
              "    }\n",
              "\n",
              "    .dataframe thead th {\n",
              "        text-align: right;\n",
              "    }\n",
              "</style>\n",
              "<table border=\"1\" class=\"dataframe\">\n",
              "  <thead>\n",
              "    <tr style=\"text-align: right;\">\n",
              "      <th></th>\n",
              "      <th>text</th>\n",
              "      <th>class</th>\n",
              "    </tr>\n",
              "  </thead>\n",
              "  <tbody>\n",
              "    <tr>\n",
              "      <th>0</th>\n",
              "      <td>You know what scares Republicans more than bla...</td>\n",
              "      <td>1</td>\n",
              "    </tr>\n",
              "    <tr>\n",
              "      <th>1</th>\n",
              "      <td>J.R. Smith 21st Century WireFor the last two ...</td>\n",
              "      <td>1</td>\n",
              "    </tr>\n",
              "    <tr>\n",
              "      <th>2</th>\n",
              "      <td>We are 308 days into 2017, and so far there ha...</td>\n",
              "      <td>1</td>\n",
              "    </tr>\n",
              "    <tr>\n",
              "      <th>3</th>\n",
              "      <td>MANILA (Reuters) - U.S. President Donald Trump...</td>\n",
              "      <td>0</td>\n",
              "    </tr>\n",
              "    <tr>\n",
              "      <th>4</th>\n",
              "      <td>ALBANY, N.Y. (Reuters) - A New York appeals co...</td>\n",
              "      <td>0</td>\n",
              "    </tr>\n",
              "  </tbody>\n",
              "</table>\n",
              "</div>\n",
              "      <button class=\"colab-df-convert\" onclick=\"convertToInteractive('df-9a842d96-35d9-4215-b2d8-5c3a91c3de11')\"\n",
              "              title=\"Convert this dataframe to an interactive table.\"\n",
              "              style=\"display:none;\">\n",
              "        \n",
              "  <svg xmlns=\"http://www.w3.org/2000/svg\" height=\"24px\"viewBox=\"0 0 24 24\"\n",
              "       width=\"24px\">\n",
              "    <path d=\"M0 0h24v24H0V0z\" fill=\"none\"/>\n",
              "    <path d=\"M18.56 5.44l.94 2.06.94-2.06 2.06-.94-2.06-.94-.94-2.06-.94 2.06-2.06.94zm-11 1L8.5 8.5l.94-2.06 2.06-.94-2.06-.94L8.5 2.5l-.94 2.06-2.06.94zm10 10l.94 2.06.94-2.06 2.06-.94-2.06-.94-.94-2.06-.94 2.06-2.06.94z\"/><path d=\"M17.41 7.96l-1.37-1.37c-.4-.4-.92-.59-1.43-.59-.52 0-1.04.2-1.43.59L10.3 9.45l-7.72 7.72c-.78.78-.78 2.05 0 2.83L4 21.41c.39.39.9.59 1.41.59.51 0 1.02-.2 1.41-.59l7.78-7.78 2.81-2.81c.8-.78.8-2.07 0-2.86zM5.41 20L4 18.59l7.72-7.72 1.47 1.35L5.41 20z\"/>\n",
              "  </svg>\n",
              "      </button>\n",
              "      \n",
              "  <style>\n",
              "    .colab-df-container {\n",
              "      display:flex;\n",
              "      flex-wrap:wrap;\n",
              "      gap: 12px;\n",
              "    }\n",
              "\n",
              "    .colab-df-convert {\n",
              "      background-color: #E8F0FE;\n",
              "      border: none;\n",
              "      border-radius: 50%;\n",
              "      cursor: pointer;\n",
              "      display: none;\n",
              "      fill: #1967D2;\n",
              "      height: 32px;\n",
              "      padding: 0 0 0 0;\n",
              "      width: 32px;\n",
              "    }\n",
              "\n",
              "    .colab-df-convert:hover {\n",
              "      background-color: #E2EBFA;\n",
              "      box-shadow: 0px 1px 2px rgba(60, 64, 67, 0.3), 0px 1px 3px 1px rgba(60, 64, 67, 0.15);\n",
              "      fill: #174EA6;\n",
              "    }\n",
              "\n",
              "    [theme=dark] .colab-df-convert {\n",
              "      background-color: #3B4455;\n",
              "      fill: #D2E3FC;\n",
              "    }\n",
              "\n",
              "    [theme=dark] .colab-df-convert:hover {\n",
              "      background-color: #434B5C;\n",
              "      box-shadow: 0px 1px 3px 1px rgba(0, 0, 0, 0.15);\n",
              "      filter: drop-shadow(0px 1px 2px rgba(0, 0, 0, 0.3));\n",
              "      fill: #FFFFFF;\n",
              "    }\n",
              "  </style>\n",
              "\n",
              "      <script>\n",
              "        const buttonEl =\n",
              "          document.querySelector('#df-9a842d96-35d9-4215-b2d8-5c3a91c3de11 button.colab-df-convert');\n",
              "        buttonEl.style.display =\n",
              "          google.colab.kernel.accessAllowed ? 'block' : 'none';\n",
              "\n",
              "        async function convertToInteractive(key) {\n",
              "          const element = document.querySelector('#df-9a842d96-35d9-4215-b2d8-5c3a91c3de11');\n",
              "          const dataTable =\n",
              "            await google.colab.kernel.invokeFunction('convertToInteractive',\n",
              "                                                     [key], {});\n",
              "          if (!dataTable) return;\n",
              "\n",
              "          const docLinkHtml = 'Like what you see? Visit the ' +\n",
              "            '<a target=\"_blank\" href=https://colab.research.google.com/notebooks/data_table.ipynb>data table notebook</a>'\n",
              "            + ' to learn more about interactive tables.';\n",
              "          element.innerHTML = '';\n",
              "          dataTable['output_type'] = 'display_data';\n",
              "          await google.colab.output.renderOutput(dataTable, element);\n",
              "          const docLink = document.createElement('div');\n",
              "          docLink.innerHTML = docLinkHtml;\n",
              "          element.appendChild(docLink);\n",
              "        }\n",
              "      </script>\n",
              "    </div>\n",
              "  </div>\n",
              "  "
            ],
            "text/plain": [
              "                                                text  class\n",
              "0  You know what scares Republicans more than bla...      1\n",
              "1   J.R. Smith 21st Century WireFor the last two ...      1\n",
              "2  We are 308 days into 2017, and so far there ha...      1\n",
              "3  MANILA (Reuters) - U.S. President Donald Trump...      0\n",
              "4  ALBANY, N.Y. (Reuters) - A New York appeals co...      0"
            ]
          },
          "execution_count": 17,
          "metadata": {},
          "output_type": "execute_result"
        }
      ],
      "source": [
        "def text_process(mess):\n",
        "    nopunc =[char for char in mess if char not in string.punctuation]\n",
        "    nopunc=''.join(nopunc)\n",
        "    return [word for word in nopunc.split() if word.lower() not in stopwords.words('english')]\n",
        "\n",
        "\n",
        "df['text'].apply(text_process)\n",
        "df.head(5)"
      ]
    },
    {
      "cell_type": "markdown",
      "metadata": {
        "id": "NUYEuQKwN1Ia"
      },
      "source": [
        "### <font color=\"blue\">**Lemmatization**</font>"
      ]
    },
    {
      "cell_type": "code",
      "execution_count": 18,
      "metadata": {
        "id": "1VAzxDvaFQv3",
        "outputId": "3d48c32c-6301-47be-fd8c-52760c6aad38",
        "colab": {
          "base_uri": "https://localhost:8080/"
        }
      },
      "outputs": [
        {
          "output_type": "stream",
          "name": "stdout",
          "text": [
            "With out Lammetization -  We are 308 days into 2017, and so far there have been 378 mass shootings   most done by angry white men with too many guns and with domestic violence issues. It s difficult to spin that fact in any way that doesn t spit in the face of our nation s gun lust, but conservatives try. One even says it s a good thing.Donald Trump called it a mental health issue, one that has no proposed solutions, just days after he called for a complete policy change after an ISIS connected terrorist plowed into people in New York.Even Trump s tone-deaf reaction seemed compassionate compared to a conservative blogger and Lutheran pastor who says that God was answering the victims  prayers by taking them to heaven.Hans Fiene wrote his column in The Federalist in response to liberals who say that thoughts and prayers are not enough to quell the mass shooting epidemic. God wanted them dead, he said, and that s what prayer is all about.When we pray these words, we are certainly praying that God would deliver us from evil temporally that is, in this earthly life. Through these words, we are asking God to send his holy angels to guard us from those who would seek to destroy us with knives and bombs and bullets. It may seem, on the surface, that God was refusing to give such protection to his Texan children. But we are also praying that God would deliver us from evil eternally. Through these same words, we are asking God to deliver us out of this evil world and into his heavenly glory, where no violence, persecution, cruelty, or hatred will ever afflict us again. Just like those who put Christ to death, and just like those who have brought violence to believers in every generation, this man only succeeded in being the means through which God delivered his children from this evil world into an eternity of righteousness and peace. Perhaps instead of eternal damnation, the shooter who murdered 26 parishioners should receive sainthood.Featured image via Facebook.\n",
            "With Lemmatization -      We are 308 day into 2017, and so far there have been 378 mass shooting most done by angry white men with too many gun and with domestic violence issues. It s difficult to spin that fact in any way that doesn t spit in the face of our nation s gun lust, but conservative try. One even say it s a good thing.Donald Trump called it a mental health issue, one that ha no proposed solutions, just day after he called for a complete policy change after an ISIS connected terrorist plowed into people in New York.Even Trump s tone-deaf reaction seemed compassionate compared to a conservative blogger and Lutheran pastor who say that God wa answering the victim prayer by taking them to heaven.Hans Fiene wrote his column in The Federalist in response to liberal who say that thought and prayer are not enough to quell the mass shooting epidemic. God wanted them dead, he said, and that s what prayer is all about.When we pray these words, we are certainly praying that God would deliver u from evil temporally that is, in this earthly life. Through these words, we are asking God to send his holy angel to guard u from those who would seek to destroy u with knife and bomb and bullets. It may seem, on the surface, that God wa refusing to give such protection to his Texan children. But we are also praying that God would deliver u from evil eternally. Through these same words, we are asking God to deliver u out of this evil world and into his heavenly glory, where no violence, persecution, cruelty, or hatred will ever afflict u again. Just like those who put Christ to death, and just like those who have brought violence to believer in every generation, this man only succeeded in being the mean through which God delivered his child from this evil world into an eternity of righteousness and peace. Perhaps instead of eternal damnation, the shooter who murdered 26 parishioner should receive sainthood.Featured image via Facebook.\n"
          ]
        }
      ],
      "source": [
        "lemmatizer = WordNetLemmatizer()\n",
        "\n",
        "print('With out Lammetization - ', df['text'][2])\n",
        "\n",
        "Lemmatized = df['text'].apply(lambda x: \" \".join([Word(word).lemmatize() for word in x.split()]))\n",
        "print('With Lemmatization -     ',  Lemmatized[2])"
      ]
    },
    {
      "cell_type": "markdown",
      "metadata": {
        "id": "5QfHLISfO4xF"
      },
      "source": [
        "### <font color=\"blue\"> 1.Remove links from the dataset. <br> 2.Remove special characters or symbols from the dataset. <br> 3. Remove numbers or alphanumerical characters from the dataset.</font>"
      ]
    },
    {
      "cell_type": "code",
      "execution_count": 19,
      "metadata": {
        "id": "ofoAYvjUN_iN",
        "outputId": "b0d93c9c-0224-496b-8b8f-bae26eccdbc2",
        "colab": {
          "base_uri": "https://localhost:8080/"
        }
      },
      "outputs": [
        {
          "output_type": "stream",
          "name": "stderr",
          "text": [
            "<ipython-input-19-5e9aed541667>:1: FutureWarning: The default value of regex will change from True to False in a future version.\n",
            "  df['text'] = df['text'].str.replace(r'([\\w\\.-]+)@([\\w\\.-]+)',' ') #remove email addresses\n",
            "<ipython-input-19-5e9aed541667>:2: FutureWarning: The default value of regex will change from True to False in a future version.\n",
            "  df['text'] = df['text'].str.replace(r'[^\\w\\s]',' ') #remove punctuations and special chareters from dataset\n",
            "<ipython-input-19-5e9aed541667>:3: FutureWarning: The default value of regex will change from True to False in a future version.\n",
            "  df['text'] = df['text'].str.replace(r'(https|http)?:\\/\\/(\\w|\\.|\\_|\\/|\\?|\\=|\\&|\\%)*\\b', ' ') # Remove links from the dataset.\n",
            "<ipython-input-19-5e9aed541667>:4: FutureWarning: The default value of regex will change from True to False in a future version.\n",
            "  df['text'] = df['text'].str.replace(r'[^\\w]', ' ') #Remove not alphanumeric symbols white spaces\n"
          ]
        }
      ],
      "source": [
        "df['text'] = df['text'].str.replace(r'([\\w\\.-]+)@([\\w\\.-]+)',' ') #remove email addresses\n",
        "df['text'] = df['text'].str.replace(r'[^\\w\\s]',' ') #remove punctuations and special chareters from dataset\n",
        "df['text'] = df['text'].str.replace(r'(https|http)?:\\/\\/(\\w|\\.|\\_|\\/|\\?|\\=|\\&|\\%)*\\b', ' ') # Remove links from the dataset.\n",
        "df['text'] = df['text'].str.replace(r'[^\\w]', ' ') #Remove not alphanumeric symbols white spaces"
      ]
    },
    {
      "cell_type": "code",
      "execution_count": 20,
      "metadata": {
        "id": "r-68e-DdPD6n"
      },
      "outputs": [],
      "source": [
        "df.reset_index(inplace = True)"
      ]
    },
    {
      "cell_type": "code",
      "source": [
        "df.drop([\"index\"], axis = 1, inplace = True)\n",
        "df.head(5)"
      ],
      "metadata": {
        "id": "-vbIb49FzUNq",
        "outputId": "c2487a01-75be-4975-b4f4-5f7d5bcff402",
        "colab": {
          "base_uri": "https://localhost:8080/",
          "height": 206
        }
      },
      "execution_count": 21,
      "outputs": [
        {
          "output_type": "execute_result",
          "data": {
            "text/plain": [
              "                                                text  class\n",
              "0  You know what scares Republicans more than bla...      1\n",
              "1   J R  Smith 21st Century WireFor the last two ...      1\n",
              "2  We are 308 days into 2017  and so far there ha...      1\n",
              "3  MANILA  Reuters    U S  President Donald Trump...      0\n",
              "4  ALBANY  N Y   Reuters    A New York appeals co...      0"
            ],
            "text/html": [
              "\n",
              "  <div id=\"df-6d2ee4b4-9b10-487d-a58f-f5bc4414a3e3\">\n",
              "    <div class=\"colab-df-container\">\n",
              "      <div>\n",
              "<style scoped>\n",
              "    .dataframe tbody tr th:only-of-type {\n",
              "        vertical-align: middle;\n",
              "    }\n",
              "\n",
              "    .dataframe tbody tr th {\n",
              "        vertical-align: top;\n",
              "    }\n",
              "\n",
              "    .dataframe thead th {\n",
              "        text-align: right;\n",
              "    }\n",
              "</style>\n",
              "<table border=\"1\" class=\"dataframe\">\n",
              "  <thead>\n",
              "    <tr style=\"text-align: right;\">\n",
              "      <th></th>\n",
              "      <th>text</th>\n",
              "      <th>class</th>\n",
              "    </tr>\n",
              "  </thead>\n",
              "  <tbody>\n",
              "    <tr>\n",
              "      <th>0</th>\n",
              "      <td>You know what scares Republicans more than bla...</td>\n",
              "      <td>1</td>\n",
              "    </tr>\n",
              "    <tr>\n",
              "      <th>1</th>\n",
              "      <td>J R  Smith 21st Century WireFor the last two ...</td>\n",
              "      <td>1</td>\n",
              "    </tr>\n",
              "    <tr>\n",
              "      <th>2</th>\n",
              "      <td>We are 308 days into 2017  and so far there ha...</td>\n",
              "      <td>1</td>\n",
              "    </tr>\n",
              "    <tr>\n",
              "      <th>3</th>\n",
              "      <td>MANILA  Reuters    U S  President Donald Trump...</td>\n",
              "      <td>0</td>\n",
              "    </tr>\n",
              "    <tr>\n",
              "      <th>4</th>\n",
              "      <td>ALBANY  N Y   Reuters    A New York appeals co...</td>\n",
              "      <td>0</td>\n",
              "    </tr>\n",
              "  </tbody>\n",
              "</table>\n",
              "</div>\n",
              "      <button class=\"colab-df-convert\" onclick=\"convertToInteractive('df-6d2ee4b4-9b10-487d-a58f-f5bc4414a3e3')\"\n",
              "              title=\"Convert this dataframe to an interactive table.\"\n",
              "              style=\"display:none;\">\n",
              "        \n",
              "  <svg xmlns=\"http://www.w3.org/2000/svg\" height=\"24px\"viewBox=\"0 0 24 24\"\n",
              "       width=\"24px\">\n",
              "    <path d=\"M0 0h24v24H0V0z\" fill=\"none\"/>\n",
              "    <path d=\"M18.56 5.44l.94 2.06.94-2.06 2.06-.94-2.06-.94-.94-2.06-.94 2.06-2.06.94zm-11 1L8.5 8.5l.94-2.06 2.06-.94-2.06-.94L8.5 2.5l-.94 2.06-2.06.94zm10 10l.94 2.06.94-2.06 2.06-.94-2.06-.94-.94-2.06-.94 2.06-2.06.94z\"/><path d=\"M17.41 7.96l-1.37-1.37c-.4-.4-.92-.59-1.43-.59-.52 0-1.04.2-1.43.59L10.3 9.45l-7.72 7.72c-.78.78-.78 2.05 0 2.83L4 21.41c.39.39.9.59 1.41.59.51 0 1.02-.2 1.41-.59l7.78-7.78 2.81-2.81c.8-.78.8-2.07 0-2.86zM5.41 20L4 18.59l7.72-7.72 1.47 1.35L5.41 20z\"/>\n",
              "  </svg>\n",
              "      </button>\n",
              "      \n",
              "  <style>\n",
              "    .colab-df-container {\n",
              "      display:flex;\n",
              "      flex-wrap:wrap;\n",
              "      gap: 12px;\n",
              "    }\n",
              "\n",
              "    .colab-df-convert {\n",
              "      background-color: #E8F0FE;\n",
              "      border: none;\n",
              "      border-radius: 50%;\n",
              "      cursor: pointer;\n",
              "      display: none;\n",
              "      fill: #1967D2;\n",
              "      height: 32px;\n",
              "      padding: 0 0 0 0;\n",
              "      width: 32px;\n",
              "    }\n",
              "\n",
              "    .colab-df-convert:hover {\n",
              "      background-color: #E2EBFA;\n",
              "      box-shadow: 0px 1px 2px rgba(60, 64, 67, 0.3), 0px 1px 3px 1px rgba(60, 64, 67, 0.15);\n",
              "      fill: #174EA6;\n",
              "    }\n",
              "\n",
              "    [theme=dark] .colab-df-convert {\n",
              "      background-color: #3B4455;\n",
              "      fill: #D2E3FC;\n",
              "    }\n",
              "\n",
              "    [theme=dark] .colab-df-convert:hover {\n",
              "      background-color: #434B5C;\n",
              "      box-shadow: 0px 1px 3px 1px rgba(0, 0, 0, 0.15);\n",
              "      filter: drop-shadow(0px 1px 2px rgba(0, 0, 0, 0.3));\n",
              "      fill: #FFFFFF;\n",
              "    }\n",
              "  </style>\n",
              "\n",
              "      <script>\n",
              "        const buttonEl =\n",
              "          document.querySelector('#df-6d2ee4b4-9b10-487d-a58f-f5bc4414a3e3 button.colab-df-convert');\n",
              "        buttonEl.style.display =\n",
              "          google.colab.kernel.accessAllowed ? 'block' : 'none';\n",
              "\n",
              "        async function convertToInteractive(key) {\n",
              "          const element = document.querySelector('#df-6d2ee4b4-9b10-487d-a58f-f5bc4414a3e3');\n",
              "          const dataTable =\n",
              "            await google.colab.kernel.invokeFunction('convertToInteractive',\n",
              "                                                     [key], {});\n",
              "          if (!dataTable) return;\n",
              "\n",
              "          const docLinkHtml = 'Like what you see? Visit the ' +\n",
              "            '<a target=\"_blank\" href=https://colab.research.google.com/notebooks/data_table.ipynb>data table notebook</a>'\n",
              "            + ' to learn more about interactive tables.';\n",
              "          element.innerHTML = '';\n",
              "          dataTable['output_type'] = 'display_data';\n",
              "          await google.colab.output.renderOutput(dataTable, element);\n",
              "          const docLink = document.createElement('div');\n",
              "          docLink.innerHTML = docLinkHtml;\n",
              "          element.appendChild(docLink);\n",
              "        }\n",
              "      </script>\n",
              "    </div>\n",
              "  </div>\n",
              "  "
            ]
          },
          "metadata": {},
          "execution_count": 21
        }
      ]
    },
    {
      "cell_type": "markdown",
      "metadata": {
        "id": "OTT8C0CfPjPq"
      },
      "source": [
        "#<font color='brown'><b>Model creation and prediction</b></font><br>\n",
        "## <font color=\"blue\">Train-Test Split and perform the classification task using the Naive Bayes classification model. Count vectorizer features and TF-IDF features.</font>"
      ]
    },
    {
      "cell_type": "code",
      "execution_count": 22,
      "metadata": {
        "id": "_ZBB1KQfPNxn",
        "outputId": "84a22a98-29be-477a-e8df-c1a991abc91d",
        "colab": {
          "base_uri": "https://localhost:8080/"
        }
      },
      "outputs": [
        {
          "output_type": "execute_result",
          "data": {
            "text/plain": [
              "(44898, 44898)"
            ]
          },
          "metadata": {},
          "execution_count": 22
        }
      ],
      "source": [
        "x = df['text']\n",
        "y = df['class']\n",
        "\n",
        "len(x), len(y)"
      ]
    },
    {
      "cell_type": "code",
      "execution_count": 23,
      "metadata": {
        "id": "eMZY9ToiQVMm",
        "outputId": "e1df389d-9dec-4083-b7b0-9e132069fb33",
        "colab": {
          "base_uri": "https://localhost:8080/"
        }
      },
      "outputs": [
        {
          "output_type": "stream",
          "name": "stdout",
          "text": [
            "33673 33673\n",
            "11225 11225\n"
          ]
        }
      ],
      "source": [
        "from sklearn.model_selection import train_test_split\n",
        "\n",
        "x_train, x_test, y_train, y_test = train_test_split(x, y)\n",
        "print(len(x_train), len(y_train))\n",
        "print(len(x_test), len(y_test))"
      ]
    },
    {
      "cell_type": "code",
      "source": [
        "# TFIDF feature generation for a maximum of 5000 features\n",
        "encoder = preprocessing.LabelEncoder()\n",
        "train_y = encoder.fit_transform(y_train)\n",
        "valid_y = encoder.fit_transform(y_test)\n",
        "tfidf_vect = TfidfVectorizer(analyzer='word', token_pattern=r'\\w{1,}', max_features=5000)\n",
        "tfidf_vect.fit(df['text'])\n",
        "xtrain_tfidf = tfidf_vect.transform(x_train)\n",
        "xvalid_tfidf = tfidf_vect.transform(x_test)\n",
        "xtrain_tfidf.data"
      ],
      "metadata": {
        "id": "74ZtmS6F7S3_",
        "outputId": "d90eae53-0a08-4078-fd19-c314d49ced91",
        "colab": {
          "base_uri": "https://localhost:8080/",
          "height": 109
        }
      },
      "execution_count": 24,
      "outputs": [
        {
          "output_type": "execute_result",
          "data": {
            "text/plain": [
              "TfidfVectorizer(max_features=5000, token_pattern='\\\\w{1,}')"
            ],
            "text/html": [
              "<style>#sk-container-id-1 {color: black;background-color: white;}#sk-container-id-1 pre{padding: 0;}#sk-container-id-1 div.sk-toggleable {background-color: white;}#sk-container-id-1 label.sk-toggleable__label {cursor: pointer;display: block;width: 100%;margin-bottom: 0;padding: 0.3em;box-sizing: border-box;text-align: center;}#sk-container-id-1 label.sk-toggleable__label-arrow:before {content: \"▸\";float: left;margin-right: 0.25em;color: #696969;}#sk-container-id-1 label.sk-toggleable__label-arrow:hover:before {color: black;}#sk-container-id-1 div.sk-estimator:hover label.sk-toggleable__label-arrow:before {color: black;}#sk-container-id-1 div.sk-toggleable__content {max-height: 0;max-width: 0;overflow: hidden;text-align: left;background-color: #f0f8ff;}#sk-container-id-1 div.sk-toggleable__content pre {margin: 0.2em;color: black;border-radius: 0.25em;background-color: #f0f8ff;}#sk-container-id-1 input.sk-toggleable__control:checked~div.sk-toggleable__content {max-height: 200px;max-width: 100%;overflow: auto;}#sk-container-id-1 input.sk-toggleable__control:checked~label.sk-toggleable__label-arrow:before {content: \"▾\";}#sk-container-id-1 div.sk-estimator input.sk-toggleable__control:checked~label.sk-toggleable__label {background-color: #d4ebff;}#sk-container-id-1 div.sk-label input.sk-toggleable__control:checked~label.sk-toggleable__label {background-color: #d4ebff;}#sk-container-id-1 input.sk-hidden--visually {border: 0;clip: rect(1px 1px 1px 1px);clip: rect(1px, 1px, 1px, 1px);height: 1px;margin: -1px;overflow: hidden;padding: 0;position: absolute;width: 1px;}#sk-container-id-1 div.sk-estimator {font-family: monospace;background-color: #f0f8ff;border: 1px dotted black;border-radius: 0.25em;box-sizing: border-box;margin-bottom: 0.5em;}#sk-container-id-1 div.sk-estimator:hover {background-color: #d4ebff;}#sk-container-id-1 div.sk-parallel-item::after {content: \"\";width: 100%;border-bottom: 1px solid gray;flex-grow: 1;}#sk-container-id-1 div.sk-label:hover label.sk-toggleable__label {background-color: #d4ebff;}#sk-container-id-1 div.sk-serial::before {content: \"\";position: absolute;border-left: 1px solid gray;box-sizing: border-box;top: 0;bottom: 0;left: 50%;z-index: 0;}#sk-container-id-1 div.sk-serial {display: flex;flex-direction: column;align-items: center;background-color: white;padding-right: 0.2em;padding-left: 0.2em;position: relative;}#sk-container-id-1 div.sk-item {position: relative;z-index: 1;}#sk-container-id-1 div.sk-parallel {display: flex;align-items: stretch;justify-content: center;background-color: white;position: relative;}#sk-container-id-1 div.sk-item::before, #sk-container-id-1 div.sk-parallel-item::before {content: \"\";position: absolute;border-left: 1px solid gray;box-sizing: border-box;top: 0;bottom: 0;left: 50%;z-index: -1;}#sk-container-id-1 div.sk-parallel-item {display: flex;flex-direction: column;z-index: 1;position: relative;background-color: white;}#sk-container-id-1 div.sk-parallel-item:first-child::after {align-self: flex-end;width: 50%;}#sk-container-id-1 div.sk-parallel-item:last-child::after {align-self: flex-start;width: 50%;}#sk-container-id-1 div.sk-parallel-item:only-child::after {width: 0;}#sk-container-id-1 div.sk-dashed-wrapped {border: 1px dashed gray;margin: 0 0.4em 0.5em 0.4em;box-sizing: border-box;padding-bottom: 0.4em;background-color: white;}#sk-container-id-1 div.sk-label label {font-family: monospace;font-weight: bold;display: inline-block;line-height: 1.2em;}#sk-container-id-1 div.sk-label-container {text-align: center;}#sk-container-id-1 div.sk-container {/* jupyter's `normalize.less` sets `[hidden] { display: none; }` but bootstrap.min.css set `[hidden] { display: none !important; }` so we also need the `!important` here to be able to override the default hidden behavior on the sphinx rendered scikit-learn.org. See: https://github.com/scikit-learn/scikit-learn/issues/21755 */display: inline-block !important;position: relative;}#sk-container-id-1 div.sk-text-repr-fallback {display: none;}</style><div id=\"sk-container-id-1\" class=\"sk-top-container\"><div class=\"sk-text-repr-fallback\"><pre>TfidfVectorizer(max_features=5000, token_pattern=&#x27;\\\\w{1,}&#x27;)</pre><b>In a Jupyter environment, please rerun this cell to show the HTML representation or trust the notebook. <br />On GitHub, the HTML representation is unable to render, please try loading this page with nbviewer.org.</b></div><div class=\"sk-container\" hidden><div class=\"sk-item\"><div class=\"sk-estimator sk-toggleable\"><input class=\"sk-toggleable__control sk-hidden--visually\" id=\"sk-estimator-id-1\" type=\"checkbox\" checked><label for=\"sk-estimator-id-1\" class=\"sk-toggleable__label sk-toggleable__label-arrow\">TfidfVectorizer</label><div class=\"sk-toggleable__content\"><pre>TfidfVectorizer(max_features=5000, token_pattern=&#x27;\\\\w{1,}&#x27;)</pre></div></div></div></div></div>"
            ]
          },
          "metadata": {},
          "execution_count": 24
        },
        {
          "output_type": "execute_result",
          "data": {
            "text/plain": [
              "array([0.2453984 , 0.12122175, 0.06276279, ..., 0.05294395, 0.04695796,\n",
              "       0.03975284])"
            ]
          },
          "metadata": {},
          "execution_count": 24
        }
      ]
    },
    {
      "cell_type": "code",
      "source": [
        "def train_model(classifier, feature_vector_train, label, feature_vector_valid, is_neural_net=False):\n",
        "  # fit the training dataset on the classifier\n",
        "  classifier.fit(feature_vector_train, label)\n",
        "  # predict the labels on validation dataset\n",
        "  predictions = classifier.predict(feature_vector_valid)\n",
        "  return metrics.accuracy_score(predictions, valid_y)"
      ],
      "metadata": {
        "id": "S4yGB7-1zy1D"
      },
      "execution_count": 25,
      "outputs": []
    },
    {
      "cell_type": "code",
      "source": [
        "# Naive Bayes trainig\n",
        "accuracy = train_model(naive_bayes.MultinomialNB(alpha=0.2),\n",
        "xtrain_tfidf, train_y, xvalid_tfidf)\n",
        "print (\"Accuracy: \", accuracy)"
      ],
      "metadata": {
        "id": "LYhr0BZzzzGA",
        "outputId": "003507c8-9549-4509-9575-1fbbb14084d6",
        "colab": {
          "base_uri": "https://localhost:8080/"
        }
      },
      "execution_count": 26,
      "outputs": [
        {
          "output_type": "stream",
          "name": "stdout",
          "text": [
            "Accuracy:  0.9393318485523385\n"
          ]
        }
      ]
    },
    {
      "cell_type": "markdown",
      "source": [
        "## Accuracy using Naive Bayes model is 93.58%"
      ],
      "metadata": {
        "id": "qPgvLDRVAsmg"
      }
    },
    {
      "cell_type": "markdown",
      "source": [
        "## Developing Deep neural networks:\n",
        "RNN model.\n",
        "64 hidden-vector dimension.256 hidden-vector dimension.<br>\n",
        "1-layer LSTM model. [choose 64 or 256 as hidden-vector representation based on the results from 4.a. Report the choice and its justification.]<br>\n",
        "2-layer LSTM model. [use the same hidden-vector representation as 4.b.]<br>\n",
        "1-layer Bi-LSTM model. [use same hidden-vector representation as 4.b. Report 4.b vs 4.d model performance.]"
      ],
      "metadata": {
        "id": "647xdMDtE_Sw"
      }
    },
    {
      "cell_type": "code",
      "source": [
        "# Define the sequence lengths, max number of words and embedding dimensions\n",
        "# Sequence length of each sentence. If more, truncate. If less, pad with zeros\n",
        "MAX_SEQUENCE_LENGTH = 300\n",
        "# Top 20000 frequently occurring words\n",
        "MAX_NB_WORDS = 20000\n",
        "\n",
        "# Get the frequently occurring words\n",
        "tokenizer = Tokenizer(num_words=MAX_NB_WORDS)\n",
        "tokenizer.fit_on_texts(df.text)\n",
        "train_sequences = tokenizer.texts_to_sequences(x_train)\n",
        "test_sequences = tokenizer.texts_to_sequences(x_test)\n",
        "\n",
        "# dictionary containing words and their index\n",
        "word_index = tokenizer.word_index\n",
        "\n",
        "# total words in the corpus\n",
        "print('Found %s unique tokens.' % len(word_index))\n",
        "# get only the top frequent words on train\n",
        "train_data = tf.keras.preprocessing.sequence.pad_sequences(train_sequences, maxlen=MAX_SEQUENCE_LENGTH)\n",
        "# get only the top frequent words on test\n",
        "test_data = tf.keras.preprocessing.sequence.pad_sequences(test_sequences, maxlen=MAX_SEQUENCE_LENGTH)\n",
        "print(train_data.shape)\n",
        "print(test_data.shape)"
      ],
      "metadata": {
        "id": "Ev4m3gzfzzL7",
        "outputId": "9caa5d59-d74b-43d3-a75c-32da83a530ca",
        "colab": {
          "base_uri": "https://localhost:8080/"
        }
      },
      "execution_count": 34,
      "outputs": [
        {
          "output_type": "stream",
          "name": "stdout",
          "text": [
            "Found 121248 unique tokens.\n",
            "(33673, 300)\n",
            "(11225, 300)\n"
          ]
        }
      ]
    },
    {
      "cell_type": "code",
      "source": [
        "x_test.head(5)"
      ],
      "metadata": {
        "id": "CcfD5h9eSP5u",
        "outputId": "68a84af5-e2d1-41f9-c02d-b93bf48b9457",
        "colab": {
          "base_uri": "https://localhost:8080/"
        }
      },
      "execution_count": 35,
      "outputs": [
        {
          "output_type": "execute_result",
          "data": {
            "text/plain": [
              "39177    Donald Trump is known for his controversial an...\n",
              "14344    Here we go again  folks  Yet another video has...\n",
              "33182    Meanwhile  police officers were outside the wa...\n",
              "9495     Remember back in May when Donald Trump said he...\n",
              "24674                                                     \n",
              "Name: text, dtype: object"
            ]
          },
          "metadata": {},
          "execution_count": 35
        }
      ]
    },
    {
      "cell_type": "code",
      "source": [
        "y_train.shape"
      ],
      "metadata": {
        "id": "Cba5-_9FOFYE",
        "outputId": "4abf770c-54b9-4423-cc40-6a8d40ff288d",
        "colab": {
          "base_uri": "https://localhost:8080/"
        }
      },
      "execution_count": 36,
      "outputs": [
        {
          "output_type": "execute_result",
          "data": {
            "text/plain": [
              "(33673,)"
            ]
          },
          "metadata": {},
          "execution_count": 36
        }
      ]
    },
    {
      "cell_type": "code",
      "source": [
        "train_labels = y_train\n",
        "test_labels = y_test\n",
        "\n",
        "#import library\n",
        "from sklearn.preprocessing import LabelEncoder\n",
        "# converts the character array to numeric array. Assigns levels to unique labels.\n",
        "le = LabelEncoder()\n",
        "le.fit(train_labels)\n",
        "train_labels = le.transform(train_labels)\n",
        "test_labels = le.transform(test_labels)\n",
        "print(le.classes_)\n",
        "print(np.unique(train_labels, return_counts=True))\n",
        "print(np.unique(test_labels, return_counts=True))"
      ],
      "metadata": {
        "id": "KtUVTetXzzOR",
        "outputId": "11747322-74a4-43a2-8db2-fd6c99d9a174",
        "colab": {
          "base_uri": "https://localhost:8080/",
          "height": 127
        }
      },
      "execution_count": 37,
      "outputs": [
        {
          "output_type": "execute_result",
          "data": {
            "text/plain": [
              "LabelEncoder()"
            ],
            "text/html": [
              "<style>#sk-container-id-3 {color: black;background-color: white;}#sk-container-id-3 pre{padding: 0;}#sk-container-id-3 div.sk-toggleable {background-color: white;}#sk-container-id-3 label.sk-toggleable__label {cursor: pointer;display: block;width: 100%;margin-bottom: 0;padding: 0.3em;box-sizing: border-box;text-align: center;}#sk-container-id-3 label.sk-toggleable__label-arrow:before {content: \"▸\";float: left;margin-right: 0.25em;color: #696969;}#sk-container-id-3 label.sk-toggleable__label-arrow:hover:before {color: black;}#sk-container-id-3 div.sk-estimator:hover label.sk-toggleable__label-arrow:before {color: black;}#sk-container-id-3 div.sk-toggleable__content {max-height: 0;max-width: 0;overflow: hidden;text-align: left;background-color: #f0f8ff;}#sk-container-id-3 div.sk-toggleable__content pre {margin: 0.2em;color: black;border-radius: 0.25em;background-color: #f0f8ff;}#sk-container-id-3 input.sk-toggleable__control:checked~div.sk-toggleable__content {max-height: 200px;max-width: 100%;overflow: auto;}#sk-container-id-3 input.sk-toggleable__control:checked~label.sk-toggleable__label-arrow:before {content: \"▾\";}#sk-container-id-3 div.sk-estimator input.sk-toggleable__control:checked~label.sk-toggleable__label {background-color: #d4ebff;}#sk-container-id-3 div.sk-label input.sk-toggleable__control:checked~label.sk-toggleable__label {background-color: #d4ebff;}#sk-container-id-3 input.sk-hidden--visually {border: 0;clip: rect(1px 1px 1px 1px);clip: rect(1px, 1px, 1px, 1px);height: 1px;margin: -1px;overflow: hidden;padding: 0;position: absolute;width: 1px;}#sk-container-id-3 div.sk-estimator {font-family: monospace;background-color: #f0f8ff;border: 1px dotted black;border-radius: 0.25em;box-sizing: border-box;margin-bottom: 0.5em;}#sk-container-id-3 div.sk-estimator:hover {background-color: #d4ebff;}#sk-container-id-3 div.sk-parallel-item::after {content: \"\";width: 100%;border-bottom: 1px solid gray;flex-grow: 1;}#sk-container-id-3 div.sk-label:hover label.sk-toggleable__label {background-color: #d4ebff;}#sk-container-id-3 div.sk-serial::before {content: \"\";position: absolute;border-left: 1px solid gray;box-sizing: border-box;top: 0;bottom: 0;left: 50%;z-index: 0;}#sk-container-id-3 div.sk-serial {display: flex;flex-direction: column;align-items: center;background-color: white;padding-right: 0.2em;padding-left: 0.2em;position: relative;}#sk-container-id-3 div.sk-item {position: relative;z-index: 1;}#sk-container-id-3 div.sk-parallel {display: flex;align-items: stretch;justify-content: center;background-color: white;position: relative;}#sk-container-id-3 div.sk-item::before, #sk-container-id-3 div.sk-parallel-item::before {content: \"\";position: absolute;border-left: 1px solid gray;box-sizing: border-box;top: 0;bottom: 0;left: 50%;z-index: -1;}#sk-container-id-3 div.sk-parallel-item {display: flex;flex-direction: column;z-index: 1;position: relative;background-color: white;}#sk-container-id-3 div.sk-parallel-item:first-child::after {align-self: flex-end;width: 50%;}#sk-container-id-3 div.sk-parallel-item:last-child::after {align-self: flex-start;width: 50%;}#sk-container-id-3 div.sk-parallel-item:only-child::after {width: 0;}#sk-container-id-3 div.sk-dashed-wrapped {border: 1px dashed gray;margin: 0 0.4em 0.5em 0.4em;box-sizing: border-box;padding-bottom: 0.4em;background-color: white;}#sk-container-id-3 div.sk-label label {font-family: monospace;font-weight: bold;display: inline-block;line-height: 1.2em;}#sk-container-id-3 div.sk-label-container {text-align: center;}#sk-container-id-3 div.sk-container {/* jupyter's `normalize.less` sets `[hidden] { display: none; }` but bootstrap.min.css set `[hidden] { display: none !important; }` so we also need the `!important` here to be able to override the default hidden behavior on the sphinx rendered scikit-learn.org. See: https://github.com/scikit-learn/scikit-learn/issues/21755 */display: inline-block !important;position: relative;}#sk-container-id-3 div.sk-text-repr-fallback {display: none;}</style><div id=\"sk-container-id-3\" class=\"sk-top-container\"><div class=\"sk-text-repr-fallback\"><pre>LabelEncoder()</pre><b>In a Jupyter environment, please rerun this cell to show the HTML representation or trust the notebook. <br />On GitHub, the HTML representation is unable to render, please try loading this page with nbviewer.org.</b></div><div class=\"sk-container\" hidden><div class=\"sk-item\"><div class=\"sk-estimator sk-toggleable\"><input class=\"sk-toggleable__control sk-hidden--visually\" id=\"sk-estimator-id-3\" type=\"checkbox\" checked><label for=\"sk-estimator-id-3\" class=\"sk-toggleable__label sk-toggleable__label-arrow\">LabelEncoder</label><div class=\"sk-toggleable__content\"><pre>LabelEncoder()</pre></div></div></div></div></div>"
            ]
          },
          "metadata": {},
          "execution_count": 37
        },
        {
          "output_type": "stream",
          "name": "stdout",
          "text": [
            "[0 1]\n",
            "(array([0, 1]), array([16100, 17573]))\n",
            "(array([0, 1]), array([5317, 5908]))\n"
          ]
        }
      ]
    },
    {
      "cell_type": "code",
      "source": [
        "# changing data types\n",
        "labels_train = to_categorical(np.asarray(train_labels))\n",
        "labels_test = to_categorical(np.asarray(test_labels))\n",
        "print('Shape of data tensor:', train_data.shape)\n",
        "print('Shape of label tensor:', labels_train.shape)\n",
        "print('Shape of label tensor:', labels_test.shape)\n",
        "\n",
        "EMBEDDING_DIM = 100\n",
        "print(MAX_SEQUENCE_LENGTH)"
      ],
      "metadata": {
        "id": "ckgZuny8zzQr",
        "outputId": "0a0bc36f-f113-489a-a913-650ad71e14fb",
        "colab": {
          "base_uri": "https://localhost:8080/"
        }
      },
      "execution_count": 38,
      "outputs": [
        {
          "output_type": "stream",
          "name": "stdout",
          "text": [
            "Shape of data tensor: (33673, 300)\n",
            "Shape of label tensor: (33673, 2)\n",
            "Shape of label tensor: (11225, 2)\n",
            "300\n"
          ]
        }
      ]
    },
    {
      "cell_type": "markdown",
      "source": [
        "### <font color=\"blue\">**Implementing RNN model**</font>"
      ],
      "metadata": {
        "id": "-v7kg9OHqpyd"
      }
    },
    {
      "cell_type": "code",
      "source": [
        "#model training\n",
        "print('Training SIMPLERNN model.')\n",
        "model = Sequential()\n",
        "model.add(Embedding(MAX_NB_WORDS, EMBEDDING_DIM,  input_length=MAX_SEQUENCE_LENGTH))\n",
        "model.add(SimpleRNN(2, input_shape=(None,1)))\n",
        "model.add(Dense(2,activation='softmax'))\n",
        "model.compile(loss = 'binary_crossentropy', optimizer='adam',metrics = ['accuracy']) \n",
        "model.fit(train_data, labels_train,  batch_size=16,  epochs=5,  validation_data=(test_data, labels_test))"
      ],
      "metadata": {
        "id": "9mokKSmCzzTW",
        "outputId": "ad8f37e6-52a4-4b25-ead6-b3cd87b3dc93",
        "colab": {
          "base_uri": "https://localhost:8080/"
        }
      },
      "execution_count": 39,
      "outputs": [
        {
          "output_type": "stream",
          "name": "stdout",
          "text": [
            "Training SIMPLERNN model.\n",
            "Epoch 1/5\n",
            "2105/2105 [==============================] - 222s 104ms/step - loss: 0.2254 - accuracy: 0.9515 - val_loss: 0.1326 - val_accuracy: 0.9615\n",
            "Epoch 2/5\n",
            "2105/2105 [==============================] - 213s 101ms/step - loss: 0.1063 - accuracy: 0.9680 - val_loss: 0.1305 - val_accuracy: 0.9571\n",
            "Epoch 3/5\n",
            "2105/2105 [==============================] - 219s 104ms/step - loss: 0.0964 - accuracy: 0.9686 - val_loss: 0.1333 - val_accuracy: 0.9547\n",
            "Epoch 4/5\n",
            "2105/2105 [==============================] - 221s 105ms/step - loss: 0.0726 - accuracy: 0.9776 - val_loss: 0.1342 - val_accuracy: 0.9535\n",
            "Epoch 5/5\n",
            "2105/2105 [==============================] - 210s 100ms/step - loss: 0.0579 - accuracy: 0.9829 - val_loss: 0.1374 - val_accuracy: 0.9531\n"
          ]
        },
        {
          "output_type": "execute_result",
          "data": {
            "text/plain": [
              "<keras.callbacks.History at 0x7fee5849c730>"
            ]
          },
          "metadata": {},
          "execution_count": 39
        }
      ]
    },
    {
      "cell_type": "code",
      "source": [
        "# prediction on test data\n",
        "predicted_Srnn=model.predict(test_data)\n",
        "predicted_Srnn"
      ],
      "metadata": {
        "id": "_kY0pVY4qMnZ",
        "outputId": "e724ddd5-1f80-4e6a-f810-be5a72ec62e9",
        "colab": {
          "base_uri": "https://localhost:8080/"
        }
      },
      "execution_count": 40,
      "outputs": [
        {
          "output_type": "stream",
          "name": "stdout",
          "text": [
            "351/351 [==============================] - 8s 21ms/step\n"
          ]
        },
        {
          "output_type": "execute_result",
          "data": {
            "text/plain": [
              "array([[1.3810668e-06, 9.9999851e-01],\n",
              "       [8.0405996e-04, 9.9919599e-01],\n",
              "       [7.0148008e-06, 9.9999291e-01],\n",
              "       ...,\n",
              "       [7.8320127e-06, 9.9999207e-01],\n",
              "       [9.9997622e-01, 2.3705397e-05],\n",
              "       [9.9998498e-01, 1.5048897e-05]], dtype=float32)"
            ]
          },
          "metadata": {},
          "execution_count": 40
        }
      ]
    },
    {
      "cell_type": "code",
      "source": [
        "#model evaluation\n",
        "from sklearn.metrics import precision_recall_fscore_support as score\n",
        "precision, recall, fscore, support = score(labels_test, predicted_Srnn.round())\n",
        "print('precision: {}'.format(precision))\n",
        "print('recall: {}'.format(recall)) \n",
        "print('fscore: {}'.format(fscore))\n",
        "print('support: {}'.format(support))\n",
        "print(\"############################\")\n",
        "print(sklearn.metrics.classification_report(labels_test, predicted_Srnn.round()))"
      ],
      "metadata": {
        "id": "6pf6ckdNqMp8",
        "outputId": "654aff8f-2bb7-4940-879a-f142c47e27b4",
        "colab": {
          "base_uri": "https://localhost:8080/"
        }
      },
      "execution_count": 41,
      "outputs": [
        {
          "output_type": "stream",
          "name": "stdout",
          "text": [
            "precision: [0.94784072 0.9579646 ]\n",
            "recall: [0.95354523 0.9527759 ]\n",
            "fscore: [0.95068442 0.9553632 ]\n",
            "support: [5317 5908]\n",
            "############################\n",
            "              precision    recall  f1-score   support\n",
            "\n",
            "           0       0.95      0.95      0.95      5317\n",
            "           1       0.96      0.95      0.96      5908\n",
            "\n",
            "   micro avg       0.95      0.95      0.95     11225\n",
            "   macro avg       0.95      0.95      0.95     11225\n",
            "weighted avg       0.95      0.95      0.95     11225\n",
            " samples avg       0.95      0.95      0.95     11225\n",
            "\n"
          ]
        }
      ]
    },
    {
      "cell_type": "markdown",
      "source": [
        "### <font color=\"blue\">**Define LSTM**</font>"
      ],
      "metadata": {
        "id": "ONGDVJtor9VW"
      }
    },
    {
      "cell_type": "code",
      "source": [
        "#model training\n",
        "print('Training LSTM model.')\n",
        "model = Sequential()\n",
        "model.add(Embedding(MAX_NB_WORDS, EMBEDDING_DIM, input_length=MAX_SEQUENCE_LENGTH))\n",
        "model.add(LSTM(16, activation='relu', return_sequences=True))\n",
        "model.add(Dropout(0.2))\n",
        "model.add(BatchNormalization())\n",
        "model.add(Flatten())\n",
        "model.add(Dense(2,activation='softmax'))\n",
        "model.compile(loss = 'binary_crossentropy', optimizer='adam',metrics = ['accuracy'])\n",
        "model.fit(train_data, labels_train,  batch_size=16,  epochs=5,  validation_data=(test_data, labels_test))"
      ],
      "metadata": {
        "id": "E5uHBJjxqMsj",
        "outputId": "055c37c6-c87a-4e82-b21c-738dd3e35366",
        "colab": {
          "base_uri": "https://localhost:8080/",
          "height": 252
        }
      },
      "execution_count": 1,
      "outputs": [
        {
          "output_type": "stream",
          "name": "stdout",
          "text": [
            "Training LSTM model.\n"
          ]
        },
        {
          "output_type": "error",
          "ename": "NameError",
          "evalue": "ignored",
          "traceback": [
            "\u001b[0;31m---------------------------------------------------------------------------\u001b[0m",
            "\u001b[0;31mNameError\u001b[0m                                 Traceback (most recent call last)",
            "\u001b[0;32m<ipython-input-1-c38e7569e468>\u001b[0m in \u001b[0;36m<module>\u001b[0;34m\u001b[0m\n\u001b[1;32m      1\u001b[0m \u001b[0;31m#model training\u001b[0m\u001b[0;34m\u001b[0m\u001b[0;34m\u001b[0m\u001b[0;34m\u001b[0m\u001b[0m\n\u001b[1;32m      2\u001b[0m \u001b[0mprint\u001b[0m\u001b[0;34m(\u001b[0m\u001b[0;34m'Training LSTM model.'\u001b[0m\u001b[0;34m)\u001b[0m\u001b[0;34m\u001b[0m\u001b[0;34m\u001b[0m\u001b[0m\n\u001b[0;32m----> 3\u001b[0;31m \u001b[0mmodel\u001b[0m \u001b[0;34m=\u001b[0m \u001b[0mSequential\u001b[0m\u001b[0;34m(\u001b[0m\u001b[0;34m)\u001b[0m\u001b[0;34m\u001b[0m\u001b[0;34m\u001b[0m\u001b[0m\n\u001b[0m\u001b[1;32m      4\u001b[0m \u001b[0mmodel\u001b[0m\u001b[0;34m.\u001b[0m\u001b[0madd\u001b[0m\u001b[0;34m(\u001b[0m\u001b[0mEmbedding\u001b[0m\u001b[0;34m(\u001b[0m\u001b[0mMAX_NB_WORDS\u001b[0m\u001b[0;34m,\u001b[0m \u001b[0mEMBEDDING_DIM\u001b[0m\u001b[0;34m,\u001b[0m \u001b[0minput_length\u001b[0m\u001b[0;34m=\u001b[0m\u001b[0mMAX_SEQUENCE_LENGTH\u001b[0m\u001b[0;34m)\u001b[0m\u001b[0;34m)\u001b[0m\u001b[0;34m\u001b[0m\u001b[0;34m\u001b[0m\u001b[0m\n\u001b[1;32m      5\u001b[0m \u001b[0mmodel\u001b[0m\u001b[0;34m.\u001b[0m\u001b[0madd\u001b[0m\u001b[0;34m(\u001b[0m\u001b[0mLSTM\u001b[0m\u001b[0;34m(\u001b[0m\u001b[0;36m16\u001b[0m\u001b[0;34m,\u001b[0m \u001b[0mactivation\u001b[0m\u001b[0;34m=\u001b[0m\u001b[0;34m'relu'\u001b[0m\u001b[0;34m,\u001b[0m \u001b[0mreturn_sequences\u001b[0m\u001b[0;34m=\u001b[0m\u001b[0;32mTrue\u001b[0m\u001b[0;34m)\u001b[0m\u001b[0;34m)\u001b[0m\u001b[0;34m\u001b[0m\u001b[0;34m\u001b[0m\u001b[0m\n",
            "\u001b[0;31mNameError\u001b[0m: name 'Sequential' is not defined"
          ]
        }
      ]
    },
    {
      "cell_type": "code",
      "source": [
        "#prediction on text data\n",
        "predicted_lstm=model.predict(test_data)\n",
        "predicted_lstm"
      ],
      "metadata": {
        "id": "Wf-IvwgSqMu4"
      },
      "execution_count": null,
      "outputs": []
    },
    {
      "cell_type": "code",
      "source": [
        "#model evaluation\n",
        "from sklearn.metrics import precision_recall_fscore_support as score\n",
        "\n",
        "precision, recall, fscore, support = score(labels_test, predicted_lstm.round())\n",
        "\n",
        "print('precision: {}'.format(precision))\n",
        "print('recall: {}'.format(recall))\n",
        "print('fscore: {}'.format(fscore))\n",
        "print('support: {}'.format(support))\n",
        "print(\"############################\")\n",
        "print(sklearn.metrics.classification_report(labels_test, predicted_lstm.round()))"
      ],
      "metadata": {
        "id": "F9pTvZJCqMxW"
      },
      "execution_count": null,
      "outputs": []
    },
    {
      "cell_type": "markdown",
      "source": [
        "### <font color=\"blue\">**Define Bidirectional LSTM**</font>"
      ],
      "metadata": {
        "id": "vpCVzJb7tMXi"
      }
    },
    {
      "cell_type": "code",
      "source": [
        "#model training\n",
        "print('Training Bidirectional LSTM model.') \n",
        "model = Sequential()\n",
        "model.add(Embedding(MAX_NB_WORDS,  EMBEDDING_DIM,  input_length=MAX_SEQUENCE_LENGTH))\n",
        "model.add(Bidirectional(LSTM(16, return_sequences=True, dropout=0.1, recurrent_dropout=0.1)))\n",
        "model.add(Conv1D(16, kernel_size = 3, padding = \"valid\", kernel_initializer = \"glorot_uniform\"))\n",
        "model.add(GlobalMaxPool1D())\n",
        "model.add(Dense(50, activation=\"relu\"))\n",
        "model.add(Dropout(0.1))\n",
        "model.add(Dense(2,activation='softmax'))\n",
        "model.compile(loss = 'binary_crossentropy', \n",
        "optimizer='adam',metrics = ['accuracy'])\n",
        "model.fit(train_data, labels_train,  batch_size=16,  epochs=3,  validation_data=(test_data, labels_test))"
      ],
      "metadata": {
        "id": "eqplalMuqM0q"
      },
      "execution_count": null,
      "outputs": []
    },
    {
      "cell_type": "code",
      "source": [
        "# prediction on test data\n",
        "predicted_blstm=model.predict(test_data) \n",
        "predicted_blstm"
      ],
      "metadata": {
        "id": "YO_XrUFwqNJx"
      },
      "execution_count": null,
      "outputs": []
    },
    {
      "cell_type": "code",
      "source": [
        "#model evaluation\n",
        "from sklearn.metrics import precision_recall_fscore_support as score\n",
        "\n",
        "precision, recall, fscore, support = score(labels_test, predicted_blstm.round())\n",
        "\n",
        "print('precision: {}'.format(precision))\n",
        "print('recall: {}'.format(recall))\n",
        "print('fscore: {}'.format(fscore))\n",
        "print('support: {}'.format(support))\n",
        "print(\"############################\")\n",
        "\n",
        "print(sklearn.metrics.classification_report(labels_test, predicted_blstm.round()))"
      ],
      "metadata": {
        "id": "JbHFmJ2lzzW2"
      },
      "execution_count": null,
      "outputs": []
    },
    {
      "cell_type": "code",
      "source": [],
      "metadata": {
        "id": "WZadVHcdtx5D"
      },
      "execution_count": null,
      "outputs": []
    },
    {
      "cell_type": "code",
      "source": [],
      "metadata": {
        "id": "hIWRItJmtx8J"
      },
      "execution_count": null,
      "outputs": []
    },
    {
      "cell_type": "code",
      "source": [],
      "metadata": {
        "id": "zcQnfMgItx_S"
      },
      "execution_count": null,
      "outputs": []
    },
    {
      "cell_type": "code",
      "source": [],
      "metadata": {
        "id": "qG6hSQ3_tyCP"
      },
      "execution_count": null,
      "outputs": []
    },
    {
      "cell_type": "code",
      "source": [],
      "metadata": {
        "id": "it6JAhQXtyFV"
      },
      "execution_count": null,
      "outputs": []
    },
    {
      "cell_type": "code",
      "source": [],
      "metadata": {
        "id": "C9WNBe_NtyIB"
      },
      "execution_count": null,
      "outputs": []
    },
    {
      "cell_type": "code",
      "source": [],
      "metadata": {
        "id": "zNEQXE4ftyLA"
      },
      "execution_count": null,
      "outputs": []
    },
    {
      "cell_type": "code",
      "source": [],
      "metadata": {
        "id": "eHlAAcLXtyNs"
      },
      "execution_count": null,
      "outputs": []
    },
    {
      "cell_type": "code",
      "source": [],
      "metadata": {
        "id": "3h0n3FPVtyRS"
      },
      "execution_count": null,
      "outputs": []
    },
    {
      "cell_type": "code",
      "execution_count": null,
      "metadata": {
        "id": "nAhrvcvcQYIw"
      },
      "outputs": [],
      "source": [
        "model = \"https://tfhub.dev/google/nnlm-en-dim50/2\"\n",
        "hub_layer = hub.KerasLayer(model, input_shape=[], dtype=tf.string, trainable=True)"
      ]
    },
    {
      "cell_type": "code",
      "execution_count": null,
      "metadata": {
        "colab": {
          "base_uri": "https://localhost:8080/"
        },
        "id": "_sm8TLmWQc7P",
        "outputId": "4943eeaa-af97-4527-e442-e6d65a600b73"
      },
      "outputs": [
        {
          "name": "stdout",
          "output_type": "stream",
          "text": [
            "Model: \"sequential\"\n",
            "_________________________________________________________________\n",
            " Layer (type)                Output Shape              Param #   \n",
            "=================================================================\n",
            " keras_layer (KerasLayer)    (None, 50)                48190600  \n",
            "                                                                 \n",
            " dense (Dense)               (None, 16)                816       \n",
            "                                                                 \n",
            " dense_1 (Dense)             (None, 1)                 17        \n",
            "                                                                 \n",
            "=================================================================\n",
            "Total params: 48,191,433\n",
            "Trainable params: 48,191,433\n",
            "Non-trainable params: 0\n",
            "_________________________________________________________________\n"
          ]
        }
      ],
      "source": [
        "model = tf.keras.Sequential()\n",
        "model.add(hub_layer)\n",
        "model.add(tf.keras.layers.Dense(16, activation='relu'))\n",
        "model.add(tf.keras.layers.Dense(1))\n",
        "\n",
        "model.summary()"
      ]
    },
    {
      "cell_type": "code",
      "execution_count": null,
      "metadata": {
        "id": "aRl7xY58QhAy"
      },
      "outputs": [],
      "source": [
        "model.compile(optimizer='adam',\n",
        "              loss=tf.losses.BinaryCrossentropy(from_logits=True),\n",
        "              metrics=[tf.metrics.BinaryAccuracy(threshold=0.0, name='accuracy')])"
      ]
    },
    {
      "cell_type": "code",
      "execution_count": null,
      "metadata": {
        "colab": {
          "base_uri": "https://localhost:8080/"
        },
        "id": "OZC9LeKtQmoj",
        "outputId": "da70e974-4e05-46a3-9cc5-a4e8d28cff16"
      },
      "outputs": [
        {
          "data": {
            "text/plain": [
              "15000"
            ]
          },
          "execution_count": 29,
          "metadata": {},
          "output_type": "execute_result"
        },
        {
          "name": "stdout",
          "output_type": "stream",
          "text": [
            "\n"
          ]
        },
        {
          "data": {
            "text/plain": [
              "18673"
            ]
          },
          "execution_count": 29,
          "metadata": {},
          "output_type": "execute_result"
        },
        {
          "name": "stdout",
          "output_type": "stream",
          "text": [
            "\n"
          ]
        },
        {
          "data": {
            "text/plain": [
              "15000"
            ]
          },
          "execution_count": 29,
          "metadata": {},
          "output_type": "execute_result"
        },
        {
          "name": "stdout",
          "output_type": "stream",
          "text": [
            "\n"
          ]
        },
        {
          "data": {
            "text/plain": [
              "18673"
            ]
          },
          "execution_count": 29,
          "metadata": {},
          "output_type": "execute_result"
        }
      ],
      "source": [
        "x_val = x_train[:15000]\n",
        "partial_x_train = x_train[15000:]\n",
        "\n",
        "y_val = y_train[:15000]\n",
        "partial_y_train = y_train[15000:]\n",
        "\n",
        "x_val.size\n",
        "print()\n",
        "partial_x_train.size\n",
        "print()\n",
        "y_val.size\n",
        "print()\n",
        "partial_y_train.size"
      ]
    },
    {
      "cell_type": "code",
      "execution_count": null,
      "metadata": {
        "colab": {
          "background_save": true,
          "base_uri": "https://localhost:8080/"
        },
        "id": "Y18h6iOwQ0Wl",
        "outputId": "dd4ab757-7061-489e-91e5-20e17359f169"
      },
      "outputs": [
        {
          "name": "stdout",
          "output_type": "stream",
          "text": [
            "Epoch 1/30\n",
            "38/38 [==============================] - 32s 787ms/step - loss: 0.4928 - accuracy: 0.8180 - val_loss: 0.3115 - val_accuracy: 0.9211\n",
            "Epoch 2/30\n",
            "38/38 [==============================] - 26s 677ms/step - loss: 0.2264 - accuracy: 0.9418 - val_loss: 0.1661 - val_accuracy: 0.9562\n",
            "Epoch 3/30\n",
            "38/38 [==============================] - 26s 687ms/step - loss: 0.1219 - accuracy: 0.9713 - val_loss: 0.1047 - val_accuracy: 0.9733\n",
            "Epoch 4/30\n",
            "38/38 [==============================] - 26s 687ms/step - loss: 0.0712 - accuracy: 0.9850 - val_loss: 0.0742 - val_accuracy: 0.9795\n",
            "Epoch 5/30\n",
            "38/38 [==============================] - 26s 690ms/step - loss: 0.0437 - accuracy: 0.9924 - val_loss: 0.0580 - val_accuracy: 0.9843\n",
            "Epoch 6/30\n",
            "38/38 [==============================] - 26s 691ms/step - loss: 0.0279 - accuracy: 0.9965 - val_loss: 0.0481 - val_accuracy: 0.9868\n",
            "Epoch 7/30\n",
            "38/38 [==============================] - 26s 692ms/step - loss: 0.0186 - accuracy: 0.9979 - val_loss: 0.0425 - val_accuracy: 0.9879\n",
            "Epoch 8/30\n",
            "38/38 [==============================] - 26s 694ms/step - loss: 0.0126 - accuracy: 0.9989 - val_loss: 0.0390 - val_accuracy: 0.9890\n",
            "Epoch 9/30\n",
            "38/38 [==============================] - 27s 701ms/step - loss: 0.0089 - accuracy: 0.9994 - val_loss: 0.0368 - val_accuracy: 0.9896\n",
            "Epoch 10/30\n",
            "38/38 [==============================] - 27s 705ms/step - loss: 0.0065 - accuracy: 0.9998 - val_loss: 0.0355 - val_accuracy: 0.9899\n",
            "Epoch 11/30\n",
            "38/38 [==============================] - 27s 710ms/step - loss: 0.0048 - accuracy: 0.9999 - val_loss: 0.0347 - val_accuracy: 0.9900\n",
            "Epoch 12/30\n",
            "38/38 [==============================] - 27s 709ms/step - loss: 0.0038 - accuracy: 0.9999 - val_loss: 0.0343 - val_accuracy: 0.9900\n",
            "Epoch 13/30\n",
            "38/38 [==============================] - 27s 701ms/step - loss: 0.0030 - accuracy: 1.0000 - val_loss: 0.0340 - val_accuracy: 0.9899\n",
            "Epoch 14/30\n",
            "38/38 [==============================] - 27s 701ms/step - loss: 0.0024 - accuracy: 1.0000 - val_loss: 0.0337 - val_accuracy: 0.9904\n",
            "Epoch 15/30\n",
            "38/38 [==============================] - 26s 699ms/step - loss: 0.0020 - accuracy: 1.0000 - val_loss: 0.0337 - val_accuracy: 0.9902\n",
            "Epoch 16/30\n",
            "38/38 [==============================] - 26s 698ms/step - loss: 0.0017 - accuracy: 1.0000 - val_loss: 0.0337 - val_accuracy: 0.9901\n",
            "Epoch 17/30\n",
            "38/38 [==============================] - 26s 695ms/step - loss: 0.0015 - accuracy: 1.0000 - val_loss: 0.0337 - val_accuracy: 0.9903\n",
            "Epoch 18/30\n",
            "38/38 [==============================] - 26s 686ms/step - loss: 0.0013 - accuracy: 1.0000 - val_loss: 0.0337 - val_accuracy: 0.9903\n",
            "Epoch 19/30\n",
            "38/38 [==============================] - 26s 689ms/step - loss: 0.0011 - accuracy: 1.0000 - val_loss: 0.0339 - val_accuracy: 0.9901\n",
            "Epoch 20/30\n",
            "38/38 [==============================] - 26s 677ms/step - loss: 9.8944e-04 - accuracy: 1.0000 - val_loss: 0.0338 - val_accuracy: 0.9903\n",
            "Epoch 21/30\n",
            "38/38 [==============================] - 26s 693ms/step - loss: 8.7787e-04 - accuracy: 1.0000 - val_loss: 0.0339 - val_accuracy: 0.9902\n",
            "Epoch 22/30\n",
            "38/38 [==============================] - 26s 690ms/step - loss: 7.8510e-04 - accuracy: 1.0000 - val_loss: 0.0341 - val_accuracy: 0.9903\n",
            "Epoch 23/30\n",
            "38/38 [==============================] - 26s 690ms/step - loss: 7.0508e-04 - accuracy: 1.0000 - val_loss: 0.0341 - val_accuracy: 0.9904\n",
            "Epoch 24/30\n",
            "38/38 [==============================] - 29s 760ms/step - loss: 6.3751e-04 - accuracy: 1.0000 - val_loss: 0.0342 - val_accuracy: 0.9905\n",
            "Epoch 25/30\n",
            "38/38 [==============================] - 26s 689ms/step - loss: 5.7872e-04 - accuracy: 1.0000 - val_loss: 0.0343 - val_accuracy: 0.9903\n",
            "Epoch 26/30\n",
            "38/38 [==============================] - 26s 682ms/step - loss: 5.2811e-04 - accuracy: 1.0000 - val_loss: 0.0344 - val_accuracy: 0.9903\n",
            "Epoch 27/30\n",
            "38/38 [==============================] - 26s 695ms/step - loss: 4.8284e-04 - accuracy: 1.0000 - val_loss: 0.0345 - val_accuracy: 0.9903\n",
            "Epoch 28/30\n",
            "38/38 [==============================] - 26s 699ms/step - loss: 4.4396e-04 - accuracy: 1.0000 - val_loss: 0.0346 - val_accuracy: 0.9904\n",
            "Epoch 29/30\n",
            "38/38 [==============================] - 26s 694ms/step - loss: 4.0878e-04 - accuracy: 1.0000 - val_loss: 0.0348 - val_accuracy: 0.9904\n",
            "Epoch 30/30\n",
            "38/38 [==============================] - 26s 691ms/step - loss: 3.7772e-04 - accuracy: 1.0000 - val_loss: 0.0349 - val_accuracy: 0.9904\n"
          ]
        }
      ],
      "source": [
        "history = model.fit(partial_x_train,\n",
        "                    partial_y_train,\n",
        "                    epochs=30,\n",
        "                    batch_size=500,\n",
        "                    validation_data=(x_val, y_val),\n",
        "                    verbose=1)"
      ]
    },
    {
      "cell_type": "code",
      "execution_count": null,
      "metadata": {
        "id": "8N08bw6BRE_9",
        "colab": {
          "base_uri": "https://localhost:8080/"
        },
        "outputId": "89ca8465-d56a-4bcd-b8f1-f675335dfc5a"
      },
      "outputs": [
        {
          "output_type": "stream",
          "name": "stdout",
          "text": [
            "351/351 [==============================] - 28s 80ms/step - loss: 0.0308 - accuracy: 0.9911\n",
            "[0.030804041773080826, 0.9910913109779358]\n"
          ]
        }
      ],
      "source": [
        "results = model.evaluate(x_test, y_test)\n",
        "\n",
        "print(results)"
      ]
    },
    {
      "cell_type": "markdown",
      "source": [
        "### <font color=\"blue\">**Model accuracy is - 99.1%**</font>"
      ],
      "metadata": {
        "id": "Ax1KwkMcVLJc"
      }
    },
    {
      "cell_type": "code",
      "source": [
        "history_dict = history.history\n",
        "history_dict.keys()"
      ],
      "metadata": {
        "colab": {
          "base_uri": "https://localhost:8080/"
        },
        "id": "YRSlsfHNUexK",
        "outputId": "4b9bc5e4-370a-41bf-ba1d-696d67d2807e"
      },
      "execution_count": null,
      "outputs": [
        {
          "output_type": "execute_result",
          "data": {
            "text/plain": [
              "dict_keys(['loss', 'accuracy', 'val_loss', 'val_accuracy'])"
            ]
          },
          "metadata": {},
          "execution_count": 32
        }
      ]
    },
    {
      "cell_type": "code",
      "source": [
        "acc = history_dict['accuracy']\n",
        "val_acc = history_dict['val_accuracy']\n",
        "loss = history_dict['loss']\n",
        "val_loss = history_dict['val_loss']\n",
        "\n",
        "epochs = range(1, len(acc) + 1)\n",
        "\n",
        "# \"bo\" is for \"blue dot\"\n",
        "plt.plot(epochs, loss, 'bo', label='Training loss')\n",
        "# b is for \"solid blue line\"\n",
        "plt.plot(epochs, val_loss, 'b', label='Validation loss')\n",
        "plt.title('Training and validation loss')\n",
        "plt.xlabel('Epochs')\n",
        "plt.ylabel('Loss')\n",
        "plt.legend()\n",
        "\n",
        "plt.show()"
      ],
      "metadata": {
        "colab": {
          "base_uri": "https://localhost:8080/",
          "height": 330
        },
        "id": "kt9IK-GcUyib",
        "outputId": "a021283b-4bd5-4988-c308-e0f7c9874ab5"
      },
      "execution_count": null,
      "outputs": [
        {
          "output_type": "execute_result",
          "data": {
            "text/plain": [
              "[<matplotlib.lines.Line2D at 0x7f0554a28110>]"
            ]
          },
          "metadata": {},
          "execution_count": 33
        },
        {
          "output_type": "execute_result",
          "data": {
            "text/plain": [
              "[<matplotlib.lines.Line2D at 0x7f0554a275d0>]"
            ]
          },
          "metadata": {},
          "execution_count": 33
        },
        {
          "output_type": "execute_result",
          "data": {
            "text/plain": [
              "Text(0.5, 1.0, 'Training and validation loss')"
            ]
          },
          "metadata": {},
          "execution_count": 33
        },
        {
          "output_type": "execute_result",
          "data": {
            "text/plain": [
              "Text(0.5, 0, 'Epochs')"
            ]
          },
          "metadata": {},
          "execution_count": 33
        },
        {
          "output_type": "execute_result",
          "data": {
            "text/plain": [
              "Text(0, 0.5, 'Loss')"
            ]
          },
          "metadata": {},
          "execution_count": 33
        },
        {
          "output_type": "execute_result",
          "data": {
            "text/plain": [
              "<matplotlib.legend.Legend at 0x7f0554a27850>"
            ]
          },
          "metadata": {},
          "execution_count": 33
        },
        {
          "output_type": "display_data",
          "data": {
            "text/plain": [
              "<Figure size 432x288 with 1 Axes>"
            ],
            "image/png": "[encoded data removed]"
          },
          "metadata": {
            "needs_background": "light"
          }
        }
      ]
    },
    {
      "cell_type": "code",
      "source": [
        "plt.clf()   # clear figure\n",
        "\n",
        "plt.plot(epochs, acc, 'bo', label='Training acc')\n",
        "plt.plot(epochs, val_acc, 'b', label='Validation acc')\n",
        "plt.title('Training and validation accuracy')\n",
        "plt.xlabel('Epochs')\n",
        "plt.ylabel('Accuracy')\n",
        "plt.legend()\n",
        "\n",
        "plt.show()"
      ],
      "metadata": {
        "colab": {
          "base_uri": "https://localhost:8080/",
          "height": 330
        },
        "id": "JRPvgglIU2Ja",
        "outputId": "3a904578-ce2b-481f-800c-2af725ffecee"
      },
      "execution_count": null,
      "outputs": [
        {
          "output_type": "execute_result",
          "data": {
            "text/plain": [
              "[<matplotlib.lines.Line2D at 0x7f0554b52750>]"
            ]
          },
          "metadata": {},
          "execution_count": 34
        },
        {
          "output_type": "execute_result",
          "data": {
            "text/plain": [
              "[<matplotlib.lines.Line2D at 0x7f0554b52c10>]"
            ]
          },
          "metadata": {},
          "execution_count": 34
        },
        {
          "output_type": "execute_result",
          "data": {
            "text/plain": [
              "Text(0.5, 1.0, 'Training and validation accuracy')"
            ]
          },
          "metadata": {},
          "execution_count": 34
        },
        {
          "output_type": "execute_result",
          "data": {
            "text/plain": [
              "Text(0.5, 0, 'Epochs')"
            ]
          },
          "metadata": {},
          "execution_count": 34
        },
        {
          "output_type": "execute_result",
          "data": {
            "text/plain": [
              "Text(0, 0.5, 'Accuracy')"
            ]
          },
          "metadata": {},
          "execution_count": 34
        },
        {
          "output_type": "execute_result",
          "data": {
            "text/plain": [
              "<matplotlib.legend.Legend at 0x7f0554a27b50>"
            ]
          },
          "metadata": {},
          "execution_count": 34
        },
        {
          "output_type": "display_data",
          "data": {
            "text/plain": [
              "<Figure size 432x288 with 1 Axes>"
            ],
            "image/png": "[encoded data removed]"
          },
          "metadata": {
            "needs_background": "light"
          }
        }
      ]
    },
    {
      "cell_type": "code",
      "source": [],
      "metadata": {
        "id": "HvDr6E5RU-rH"
      },
      "execution_count": null,
      "outputs": []
    }
  ],
  "metadata": {
    "colab": {
      "provenance": []
    },
    "kernelspec": {
      "display_name": "Python 3",
      "name": "python3"
    },
    "language_info": {
      "name": "python"
    },
    "accelerator": "GPU",
    "gpuClass": "standard"
  },
  "nbformat": 4,
  "nbformat_minor": 0
}